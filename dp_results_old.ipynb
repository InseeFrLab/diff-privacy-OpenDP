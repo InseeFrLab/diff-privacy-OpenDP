{
 "cells": [
  {
   "cell_type": "markdown",
   "metadata": {},
   "source": [
    "# Mes premières requêtes solo"
   ]
  },
  {
   "cell_type": "code",
   "execution_count": 1,
   "metadata": {},
   "outputs": [
    {
     "name": "stdout",
     "output_type": "stream",
     "text": [
      "Collecting opendp\n",
      "  Downloading opendp-0.13.0-cp39-abi3-manylinux_2_17_x86_64.manylinux2014_x86_64.whl.metadata (6.1 kB)\n",
      "Requirement already satisfied: deprecated in /usr/local/lib/python3.12/site-packages (from opendp) (1.2.18)\n",
      "Requirement already satisfied: wrapt<2,>=1.10 in /usr/local/lib/python3.12/site-packages (from deprecated->opendp) (1.17.2)\n",
      "Downloading opendp-0.13.0-cp39-abi3-manylinux_2_17_x86_64.manylinux2014_x86_64.whl (25.7 MB)\n",
      "\u001b[2K   \u001b[90m━━━━━━━━━━━━━━━━━━━━━━━━━━━━━━━━━━━━━━━━\u001b[0m \u001b[32m25.7/25.7 MB\u001b[0m \u001b[31m23.4 MB/s\u001b[0m eta \u001b[36m0:00:00\u001b[0m00:01\u001b[0m00:01\u001b[0m\n",
      "\u001b[?25hInstalling collected packages: opendp\n",
      "Successfully installed opendp-0.13.0\n",
      "Note: you may need to restart the kernel to use updated packages.\n",
      "Requirement already satisfied: opendp[polars] in /usr/local/lib/python3.12/site-packages (0.13.0)\n",
      "Requirement already satisfied: deprecated in /usr/local/lib/python3.12/site-packages (from opendp[polars]) (1.2.18)\n",
      "Collecting polars==1.12.0 (from opendp[polars])\n",
      "  Downloading polars-1.12.0-cp39-abi3-manylinux_2_17_x86_64.manylinux2014_x86_64.whl.metadata (14 kB)\n",
      "Requirement already satisfied: pyarrow in /usr/local/lib/python3.12/site-packages (from opendp[polars]) (19.0.1)\n",
      "Requirement already satisfied: scikit-learn in /usr/local/lib/python3.12/site-packages (from opendp[polars]) (1.6.1)\n",
      "Requirement already satisfied: numpy in /usr/local/lib/python3.12/site-packages (from opendp[polars]) (2.2.5)\n",
      "Collecting randomgen>=2.0.0 (from opendp[polars])\n",
      "  Downloading randomgen-2.1.1-cp312-cp312-manylinux_2_17_x86_64.manylinux2014_x86_64.whl.metadata (8.0 kB)\n",
      "Requirement already satisfied: wrapt<2,>=1.10 in /usr/local/lib/python3.12/site-packages (from deprecated->opendp[polars]) (1.17.2)\n",
      "Requirement already satisfied: scipy>=1.6.0 in /usr/local/lib/python3.12/site-packages (from scikit-learn->opendp[polars]) (1.15.2)\n",
      "Requirement already satisfied: joblib>=1.2.0 in /usr/local/lib/python3.12/site-packages (from scikit-learn->opendp[polars]) (1.4.2)\n",
      "Requirement already satisfied: threadpoolctl>=3.1.0 in /usr/local/lib/python3.12/site-packages (from scikit-learn->opendp[polars]) (3.6.0)\n",
      "Downloading polars-1.12.0-cp39-abi3-manylinux_2_17_x86_64.manylinux2014_x86_64.whl (34.1 MB)\n",
      "\u001b[2K   \u001b[90m━━━━━━━━━━━━━━━━━━━━━━━━━━━━━━━━━━━━━━━━\u001b[0m \u001b[32m34.1/34.1 MB\u001b[0m \u001b[31m38.7 MB/s\u001b[0m eta \u001b[36m0:00:00\u001b[0m00:01\u001b[0m00:01\u001b[0m\n",
      "\u001b[?25hDownloading randomgen-2.1.1-cp312-cp312-manylinux_2_17_x86_64.manylinux2014_x86_64.whl (3.7 MB)\n",
      "\u001b[2K   \u001b[90m━━━━━━━━━━━━━━━━━━━━━━━━━━━━━━━━━━━━━━━━\u001b[0m \u001b[32m3.7/3.7 MB\u001b[0m \u001b[31m54.7 MB/s\u001b[0m eta \u001b[36m0:00:00\u001b[0m\n",
      "\u001b[?25hInstalling collected packages: randomgen, polars\n",
      "\u001b[2K  Attempting uninstall: polars━━━━━━━━━━━━━━━━━━\u001b[0m \u001b[32m0/2\u001b[0m [randomgen]\n",
      "\u001b[2K    Found existing installation: polars 1.28.10m \u001b[32m0/2\u001b[0m [randomgen]\n",
      "\u001b[2K    Uninstalling polars-1.28.1:━━━━━━━━━━━━━\u001b[0m \u001b[32m0/2\u001b[0m [randomgen]\n",
      "\u001b[2K      Successfully uninstalled polars-1.28.190m━━━━━━━━━━━━━━━━━━━\u001b[0m \u001b[32m1/2\u001b[0m [polars]\n",
      "\u001b[2K   \u001b[90m━━━━━━━━━━━━━━━━━━━━━━━━━━━━━━━━━━━━━━━━\u001b[0m \u001b[32m2/2\u001b[0m [polars]2m1/2\u001b[0m [polars]\n",
      "\u001b[1A\u001b[2KSuccessfully installed polars-1.12.0 randomgen-2.1.1\n",
      "Note: you may need to restart the kernel to use updated packages.\n",
      "Collecting hvplot\n",
      "  Downloading hvplot-0.11.2-py3-none-any.whl.metadata (15 kB)\n",
      "Collecting bokeh>=3.1 (from hvplot)\n",
      "  Downloading bokeh-3.7.2-py3-none-any.whl.metadata (12 kB)\n",
      "Collecting colorcet>=2 (from hvplot)\n",
      "  Downloading colorcet-3.1.0-py3-none-any.whl.metadata (6.3 kB)\n",
      "Collecting holoviews>=1.19.0 (from hvplot)\n",
      "  Downloading holoviews-1.20.2-py3-none-any.whl.metadata (9.9 kB)\n",
      "Requirement already satisfied: numpy>=1.21 in /usr/local/lib/python3.12/site-packages (from hvplot) (2.2.5)\n",
      "Requirement already satisfied: packaging in /usr/local/lib/python3.12/site-packages (from hvplot) (24.2)\n",
      "Requirement already satisfied: pandas>=1.3 in /usr/local/lib/python3.12/site-packages (from hvplot) (2.2.3)\n",
      "Collecting panel>=1.0 (from hvplot)\n",
      "  Downloading panel-1.6.3-py3-none-any.whl.metadata (15 kB)\n",
      "Collecting param<3.0,>=1.12.0 (from hvplot)\n",
      "  Downloading param-2.2.0-py3-none-any.whl.metadata (6.6 kB)\n",
      "Requirement already satisfied: Jinja2>=2.9 in /usr/local/lib/python3.12/site-packages (from bokeh>=3.1->hvplot) (3.1.6)\n",
      "Requirement already satisfied: contourpy>=1.2 in /usr/local/lib/python3.12/site-packages (from bokeh>=3.1->hvplot) (1.3.2)\n",
      "Requirement already satisfied: narwhals>=1.13 in /usr/local/lib/python3.12/site-packages (from bokeh>=3.1->hvplot) (1.36.0)\n",
      "Requirement already satisfied: pillow>=7.1.0 in /usr/local/lib/python3.12/site-packages (from bokeh>=3.1->hvplot) (11.2.1)\n",
      "Requirement already satisfied: PyYAML>=3.10 in /usr/local/lib/python3.12/site-packages (from bokeh>=3.1->hvplot) (6.0.2)\n",
      "Requirement already satisfied: tornado>=6.2 in /usr/local/lib/python3.12/site-packages (from bokeh>=3.1->hvplot) (6.4.2)\n",
      "Collecting xyzservices>=2021.09.1 (from bokeh>=3.1->hvplot)\n",
      "  Downloading xyzservices-2025.4.0-py3-none-any.whl.metadata (4.3 kB)\n",
      "Collecting pyviz-comms>=2.1 (from holoviews>=1.19.0->hvplot)\n",
      "  Downloading pyviz_comms-3.0.4-py3-none-any.whl.metadata (7.7 kB)\n",
      "Requirement already satisfied: MarkupSafe>=2.0 in /usr/local/lib/python3.12/site-packages (from Jinja2>=2.9->bokeh>=3.1->hvplot) (3.0.2)\n",
      "Requirement already satisfied: python-dateutil>=2.8.2 in /usr/local/lib/python3.12/site-packages (from pandas>=1.3->hvplot) (2.9.0.post0)\n",
      "Requirement already satisfied: pytz>=2020.1 in /usr/local/lib/python3.12/site-packages (from pandas>=1.3->hvplot) (2025.2)\n",
      "Requirement already satisfied: tzdata>=2022.7 in /usr/local/lib/python3.12/site-packages (from pandas>=1.3->hvplot) (2025.2)\n",
      "Collecting bleach (from panel>=1.0->hvplot)\n",
      "  Downloading bleach-6.2.0-py3-none-any.whl.metadata (30 kB)\n",
      "Collecting linkify-it-py (from panel>=1.0->hvplot)\n",
      "  Downloading linkify_it_py-2.0.3-py3-none-any.whl.metadata (8.5 kB)\n",
      "Requirement already satisfied: markdown in /usr/local/lib/python3.12/site-packages (from panel>=1.0->hvplot) (3.8)\n",
      "Collecting markdown-it-py (from panel>=1.0->hvplot)\n",
      "  Downloading markdown_it_py-3.0.0-py3-none-any.whl.metadata (6.9 kB)\n",
      "Collecting mdit-py-plugins (from panel>=1.0->hvplot)\n",
      "  Downloading mdit_py_plugins-0.4.2-py3-none-any.whl.metadata (2.8 kB)\n",
      "Requirement already satisfied: requests in /usr/local/lib/python3.12/site-packages (from panel>=1.0->hvplot) (2.32.3)\n",
      "Requirement already satisfied: tqdm in /usr/local/lib/python3.12/site-packages (from panel>=1.0->hvplot) (4.67.1)\n",
      "Requirement already satisfied: typing-extensions in /usr/local/lib/python3.12/site-packages (from panel>=1.0->hvplot) (4.13.2)\n",
      "Requirement already satisfied: six>=1.5 in /usr/local/lib/python3.12/site-packages (from python-dateutil>=2.8.2->pandas>=1.3->hvplot) (1.17.0)\n",
      "Collecting webencodings (from bleach->panel>=1.0->hvplot)\n",
      "  Downloading webencodings-0.5.1-py2.py3-none-any.whl.metadata (2.1 kB)\n",
      "Collecting uc-micro-py (from linkify-it-py->panel>=1.0->hvplot)\n",
      "  Downloading uc_micro_py-1.0.3-py3-none-any.whl.metadata (2.0 kB)\n",
      "Collecting mdurl~=0.1 (from markdown-it-py->panel>=1.0->hvplot)\n",
      "  Downloading mdurl-0.1.2-py3-none-any.whl.metadata (1.6 kB)\n",
      "Requirement already satisfied: charset-normalizer<4,>=2 in /usr/local/lib/python3.12/site-packages (from requests->panel>=1.0->hvplot) (3.4.1)\n",
      "Requirement already satisfied: idna<4,>=2.5 in /usr/local/lib/python3.12/site-packages (from requests->panel>=1.0->hvplot) (3.10)\n",
      "Requirement already satisfied: urllib3<3,>=1.21.1 in /usr/local/lib/python3.12/site-packages (from requests->panel>=1.0->hvplot) (2.4.0)\n",
      "Requirement already satisfied: certifi>=2017.4.17 in /usr/local/lib/python3.12/site-packages (from requests->panel>=1.0->hvplot) (2025.4.26)\n",
      "Downloading hvplot-0.11.2-py3-none-any.whl (161 kB)\n",
      "Downloading param-2.2.0-py3-none-any.whl (119 kB)\n",
      "Downloading bokeh-3.7.2-py3-none-any.whl (7.0 MB)\n",
      "\u001b[2K   \u001b[90m━━━━━━━━━━━━━━━━━━━━━━━━━━━━━━━━━━━━━━━━\u001b[0m \u001b[32m7.0/7.0 MB\u001b[0m \u001b[31m23.2 MB/s\u001b[0m eta \u001b[36m0:00:00\u001b[0ma \u001b[36m0:00:01\u001b[0m\n",
      "\u001b[?25hDownloading colorcet-3.1.0-py3-none-any.whl (260 kB)\n",
      "Downloading holoviews-1.20.2-py3-none-any.whl (5.0 MB)\n",
      "\u001b[2K   \u001b[90m━━━━━━━━━━━━━━━━━━━━━━━━━━━━━━━━━━━━━━━━\u001b[0m \u001b[32m5.0/5.0 MB\u001b[0m \u001b[31m21.3 MB/s\u001b[0m eta \u001b[36m0:00:00\u001b[0m00:01\u001b[0m\n",
      "\u001b[?25hDownloading panel-1.6.3-py3-none-any.whl (28.2 MB)\n",
      "\u001b[2K   \u001b[90m━━━━━━━━━━━━━━━━━━━━━━━━━━━━━━━━━━━━━━━━\u001b[0m \u001b[32m28.2/28.2 MB\u001b[0m \u001b[31m30.2 MB/s\u001b[0m eta \u001b[36m0:00:00\u001b[0m00:01\u001b[0m00:01\u001b[0m\n",
      "\u001b[?25hDownloading pyviz_comms-3.0.4-py3-none-any.whl (83 kB)\n",
      "Downloading xyzservices-2025.4.0-py3-none-any.whl (90 kB)\n",
      "Downloading bleach-6.2.0-py3-none-any.whl (163 kB)\n",
      "Downloading linkify_it_py-2.0.3-py3-none-any.whl (19 kB)\n",
      "Downloading markdown_it_py-3.0.0-py3-none-any.whl (87 kB)\n",
      "Downloading mdurl-0.1.2-py3-none-any.whl (10.0 kB)\n",
      "Downloading mdit_py_plugins-0.4.2-py3-none-any.whl (55 kB)\n",
      "Downloading uc_micro_py-1.0.3-py3-none-any.whl (6.2 kB)\n",
      "Downloading webencodings-0.5.1-py2.py3-none-any.whl (11 kB)\n",
      "Installing collected packages: webencodings, xyzservices, uc-micro-py, param, mdurl, colorcet, bleach, pyviz-comms, markdown-it-py, linkify-it-py, mdit-py-plugins, bokeh, panel, holoviews, hvplot\n",
      "\u001b[2K   \u001b[90m━━━━━━━━━━━━━━━━━━━━━━━━━━━━━━━━━━━━━━━━\u001b[0m \u001b[32m15/15\u001b[0m [hvplot]14/15\u001b[0m [hvplot]ws]ugins]\n",
      "\u001b[1A\u001b[2KSuccessfully installed bleach-6.2.0 bokeh-3.7.2 colorcet-3.1.0 holoviews-1.20.2 hvplot-0.11.2 linkify-it-py-2.0.3 markdown-it-py-3.0.0 mdit-py-plugins-0.4.2 mdurl-0.1.2 panel-1.6.3 param-2.2.0 pyviz-comms-3.0.4 uc-micro-py-1.0.3 webencodings-0.5.1 xyzservices-2025.4.0\n",
      "Note: you may need to restart the kernel to use updated packages.\n"
     ]
    }
   ],
   "source": [
    "%pip install opendp\n",
    "%pip install 'opendp[polars]'\n",
    "%pip install hvplot"
   ]
  },
  {
   "cell_type": "code",
   "execution_count": null,
   "metadata": {},
   "outputs": [
    {
     "ename": "AttributeError",
     "evalue": "module 'opendp.prelude' has no attribute 'extras'",
     "output_type": "error",
     "traceback": [
      "\u001b[31m---------------------------------------------------------------------------\u001b[39m",
      "\u001b[31mAttributeError\u001b[39m                            Traceback (most recent call last)",
      "\u001b[36mCell\u001b[39m\u001b[36m \u001b[39m\u001b[32mIn[8]\u001b[39m\u001b[32m, line 6\u001b[39m\n\u001b[32m      2\u001b[39m \u001b[38;5;28;01mimport\u001b[39;00m\u001b[38;5;250m \u001b[39m\u001b[34;01mpolars\u001b[39;00m\u001b[38;5;250m \u001b[39m\u001b[38;5;28;01mas\u001b[39;00m\u001b[38;5;250m \u001b[39m\u001b[34;01mpl\u001b[39;00m\n\u001b[32m      4\u001b[39m dp.enable_features(\u001b[33m\"\u001b[39m\u001b[33mcontrib\u001b[39m\u001b[33m\"\u001b[39m)\n\u001b[32m----> \u001b[39m\u001b[32m6\u001b[39m df = pl.scan_csv(\u001b[43mdp\u001b[49m\u001b[43m.\u001b[49m\u001b[43mextras\u001b[49m.examples.get_california_pums_path(), has_header=\u001b[38;5;28;01mFalse\u001b[39;00m, ignore_errors=\u001b[38;5;28;01mTrue\u001b[39;00m)\n",
      "\u001b[31mAttributeError\u001b[39m: module 'opendp.prelude' has no attribute 'extras'"
     ]
    }
   ],
   "source": [
    "import opendp.prelude as dp\n",
    "import polars as pl\n",
    "\n",
    "dp.enable_features(\"contrib\")\n",
    "\n",
    "df = pl.scan_csv(dp.examples.get_california_pums_path(), has_header=False, ignore_errors=True)"
   ]
  },
  {
   "cell_type": "code",
   "execution_count": null,
   "metadata": {},
   "outputs": [],
   "source": [
    "# the greatest number of records that any one individual can influence in the dataset\n",
    "max_influence = 1\n",
    "# establish public information\n",
    "col_names = [\"age\", \"sex\", \"educ\", \"race\", \"income\", \"married\"]\n",
    "# we can also reasonably intuit that age and income will be numeric,\n",
    "#     as well as bounds for them, without looking at the data\n",
    "age_bounds = (0, 100)\n",
    "income_bounds = (0, 150_000)"
   ]
  },
  {
   "cell_type": "code",
   "execution_count": null,
   "metadata": {},
   "outputs": [],
   "source": [
    "df = df.collect()\n",
    "\n",
    "# Renommer les colonnes\n",
    "df = df.rename({old: new for old, new in zip(df.columns, col_names)}).lazy()\n",
    "\n",
    "df.collect_schema()"
   ]
  },
  {
   "cell_type": "code",
   "execution_count": null,
   "metadata": {},
   "outputs": [],
   "source": [
    "df.collect().shape\n",
    "df.head().collect()"
   ]
  },
  {
   "cell_type": "markdown",
   "metadata": {},
   "source": [
    "# OpenDP"
   ]
  },
  {
   "cell_type": "code",
   "execution_count": null,
   "metadata": {},
   "outputs": [],
   "source": [
    "# Nécessite un LazyDataframe\n",
    "context = dp.Context.compositor(\n",
    "    data=df,\n",
    "    privacy_unit=dp.unit_of(contributions=1),\n",
    "    privacy_loss=dp.loss_of(epsilon=10.0, delta=1e-7),\n",
    "    split_evenly_over=10,\n",
    "    margins={\n",
    "        # when data is not grouped (empty tuple)...\n",
    "        (): dp.polars.Margin(\n",
    "            # ...the biggest (and only) partition is no larger than\n",
    "            #    France population * number of quarters\n",
    "            max_partition_length= 1_0000\n",
    "        ),\n",
    "         # partition keys when grouped by \"race\" are invariant\n",
    "        (\"race\",): dp.polars.Margin(\n",
    "            public_info=\"keys\",\n",
    "        )\n",
    "    },\n",
    ")\n"
   ]
  },
  {
   "cell_type": "code",
   "execution_count": null,
   "metadata": {},
   "outputs": [],
   "source": [
    "query = (\n",
    "    context.query()\n",
    "    .select(\n",
    "        pl.col(\"age\")\n",
    "        .cast(int)\n",
    "        .fill_null(0)\n",
    "        .dp.sum(bounds=(0, 100))\n",
    "        .alias(\"Somme des ages\"),\n",
    "\n",
    "        dp.len()\n",
    "        .alias(\"Taille dataset\")\n",
    "    )\n",
    ")\n",
    "# C'est compté comme une seule query en terme d'epsilon\n",
    "\n",
    "#query = context.query().group_by(\"sex\", \"race\", \"married\", \"educ\").agg(dp.len())\n",
    "query.summarize(alpha=0.05)"
   ]
  },
  {
   "cell_type": "code",
   "execution_count": null,
   "metadata": {},
   "outputs": [],
   "source": [
    "print(\"ages bruitées :\",query.release().collect().with_columns(Moyenne=pl.col(\"Somme des ages\") / pl.col(\"Taille dataset\")))\n",
    "print(\"ages :\",df.select(pl.col(\"age\").sum(), pl.len()).collect())"
   ]
  },
  {
   "cell_type": "code",
   "execution_count": null,
   "metadata": {},
   "outputs": [],
   "source": [
    "candidates = list(range(20, 60))\n",
    "\n",
    "query = (\n",
    "    context.query()\n",
    "    .select(\n",
    "        pl.col.age\n",
    "        .fill_null(0)\n",
    "        .dp.quantile(p, candidates)\n",
    "        .alias(f\"{p}-Quantile\")\n",
    "        for p in [0.25, 0.5, 0.75]\n",
    "    )\n",
    ")\n",
    "\n",
    "query.summarize(alpha=0.05)"
   ]
  },
  {
   "cell_type": "code",
   "execution_count": null,
   "metadata": {},
   "outputs": [],
   "source": [
    "query.release().collect()"
   ]
  },
  {
   "cell_type": "code",
   "execution_count": null,
   "metadata": {},
   "outputs": [],
   "source": [
    "query = (\n",
    "    context.query()\n",
    "    .group_by(\"race\")\n",
    "    .agg(dp.len())\n",
    ")\n",
    "\n",
    "print(query.summarize(alpha=0.05))\n",
    "result = query.release().collect()"
   ]
  },
  {
   "cell_type": "code",
   "execution_count": null,
   "metadata": {},
   "outputs": [],
   "source": [
    "import matplotlib.pyplot as plt\n",
    "import seaborn as sns\n",
    "\n",
    "# Exemples de données\n",
    "import polars as pl\n",
    "import pandas as pd\n",
    "\n",
    "\n",
    "# Convertir Polars DataFrame en Pandas pour utiliser Seaborn\n",
    "df_pandas = result.to_pandas()\n",
    "\n",
    "# Créer une liste pour stocker les valeurs répétées\n",
    "repeated_values = []\n",
    "\n",
    "# Répéter chaque 'age' selon la valeur de 'len'\n",
    "for index, row in df_pandas.iterrows():\n",
    "    repeated_values.extend([row['race']] * row['len'])\n",
    "\n",
    "# Créer un DataFrame Pandas avec les valeurs répétées\n",
    "df_pandas_repeated = pd.DataFrame(repeated_values, columns=['race'])\n",
    "\n",
    "# Créer la figure et les axes\n",
    "fig, axes = plt.subplots(2, 1, figsize=(10, 8))\n",
    "\n",
    "# Histogramme du DataFrame Polars (avec la colonne len)\n",
    "sns.countplot(x='race', data=df_pandas_repeated, ax=axes[0])\n",
    "axes[0].set_title('Barplot - race (valeurs répétées)')\n",
    "\n",
    "# Barplot pour la colonne 'race' directement dans le DataFrame collecté\n",
    "sns.countplot(x='race', data=df.collect().to_pandas(), ax=axes[1])\n",
    "axes[1].set_title('Barplot - race (original)')\n",
    "\n",
    "# Afficher le graphique\n",
    "plt.tight_layout()\n",
    "plt.show()\n"
   ]
  },
  {
   "cell_type": "code",
   "execution_count": null,
   "metadata": {},
   "outputs": [],
   "source": [
    "query = (\n",
    "    context.query()\n",
    "    .group_by(\"race\")\n",
    "    .agg(dp.len())\n",
    ")\n",
    "\n",
    "print(query.summarize(alpha=0.05))\n",
    "query.release().collect()"
   ]
  },
  {
   "cell_type": "code",
   "execution_count": null,
   "metadata": {},
   "outputs": [],
   "source": [
    "import matplotlib.pyplot as plt\n",
    "import seaborn as sns\n",
    "\n",
    "# Exemples de données\n",
    "import polars as pl\n",
    "import pandas as pd\n",
    "\n",
    "\n",
    "# Convertir Polars DataFrame en Pandas pour utiliser Seaborn\n",
    "df_pandas = query.release().collect().to_pandas()\n",
    "\n",
    "# Créer une liste pour stocker les valeurs répétées\n",
    "repeated_values = []\n",
    "\n",
    "# Répéter chaque 'age' selon la valeur de 'len'\n",
    "for index, row in df_pandas.iterrows():\n",
    "    repeated_values.extend([row['race']] * row['len'])\n",
    "\n",
    "# Créer un DataFrame Pandas avec les valeurs répétées\n",
    "df_pandas_repeated = pd.DataFrame(repeated_values, columns=['race'])\n",
    "\n",
    "# Créer la figure et les axes\n",
    "fig, axes = plt.subplots(2, 1, figsize=(10, 8))\n",
    "\n",
    "# Histogramme du DataFrame Polars (avec la colonne len)\n",
    "sns.countplot(x='race', data=df_pandas_repeated, ax=axes[0])\n",
    "axes[0].set_title('Barplot - race (valeurs répétées)')\n",
    "\n",
    "# Barplot pour la colonne 'race' directement dans le DataFrame collecté\n",
    "sns.countplot(x='race', data=df.collect().to_pandas(), ax=axes[1])\n",
    "axes[1].set_title('Barplot - race (original)')\n",
    "\n",
    "# Afficher le graphique\n",
    "plt.tight_layout()\n",
    "plt.show()"
   ]
  },
  {
   "cell_type": "markdown",
   "metadata": {},
   "source": [
    "dp.loss_of(epsilon=1.0) → dp.loss_of(rho=0.1) pour passer du laplace à Gauss"
   ]
  },
  {
   "cell_type": "code",
   "execution_count": null,
   "metadata": {},
   "outputs": [],
   "source": []
  }
 ],
 "metadata": {
  "kernelspec": {
   "display_name": "Python 3",
   "language": "python",
   "name": "python3"
  },
  "language_info": {
   "codemirror_mode": {
    "name": "ipython",
    "version": 3
   },
   "file_extension": ".py",
   "mimetype": "text/x-python",
   "name": "python",
   "nbconvert_exporter": "python",
   "pygments_lexer": "ipython3",
   "version": "3.12.9"
  }
 },
 "nbformat": 4,
 "nbformat_minor": 2
}
