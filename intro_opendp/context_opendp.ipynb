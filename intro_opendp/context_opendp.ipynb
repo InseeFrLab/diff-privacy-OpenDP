{
 "cells": [
  {
   "cell_type": "markdown",
   "id": "c2df11a8",
   "metadata": {},
   "source": [
    "# Ce notebook a pour but de montrer l'éventail des possibilités qu'offre OpenDP via la couche Context API"
   ]
  },
  {
   "cell_type": "markdown",
   "id": "875b4b2d",
   "metadata": {},
   "source": [
    "## Packages nécessaires"
   ]
  },
  {
   "cell_type": "code",
   "execution_count": 2,
   "id": "bf0f3606",
   "metadata": {},
   "outputs": [
    {
     "name": "stdout",
     "output_type": "stream",
     "text": [
      "Requirement already satisfied: opendp in /usr/local/lib/python3.12/site-packages (0.13.0)\n",
      "Requirement already satisfied: deprecated in /usr/local/lib/python3.12/site-packages (from opendp) (1.2.18)\n",
      "Requirement already satisfied: wrapt<2,>=1.10 in /usr/local/lib/python3.12/site-packages (from deprecated->opendp) (1.17.2)\n",
      "Note: you may need to restart the kernel to use updated packages.\n",
      "Requirement already satisfied: opendp[polars] in /usr/local/lib/python3.12/site-packages (0.13.0)\n",
      "Requirement already satisfied: deprecated in /usr/local/lib/python3.12/site-packages (from opendp[polars]) (1.2.18)\n",
      "Requirement already satisfied: polars==1.12.0 in /usr/local/lib/python3.12/site-packages (from opendp[polars]) (1.12.0)\n",
      "Requirement already satisfied: pyarrow in /usr/local/lib/python3.12/site-packages (from opendp[polars]) (19.0.1)\n",
      "Requirement already satisfied: scikit-learn in /usr/local/lib/python3.12/site-packages (from opendp[polars]) (1.6.1)\n",
      "Requirement already satisfied: numpy in /usr/local/lib/python3.12/site-packages (from opendp[polars]) (2.2.5)\n",
      "Requirement already satisfied: randomgen>=2.0.0 in /usr/local/lib/python3.12/site-packages (from opendp[polars]) (2.1.1)\n",
      "Requirement already satisfied: wrapt<2,>=1.10 in /usr/local/lib/python3.12/site-packages (from deprecated->opendp[polars]) (1.17.2)\n",
      "Requirement already satisfied: scipy>=1.6.0 in /usr/local/lib/python3.12/site-packages (from scikit-learn->opendp[polars]) (1.15.2)\n",
      "Requirement already satisfied: joblib>=1.2.0 in /usr/local/lib/python3.12/site-packages (from scikit-learn->opendp[polars]) (1.5.0)\n",
      "Requirement already satisfied: threadpoolctl>=3.1.0 in /usr/local/lib/python3.12/site-packages (from scikit-learn->opendp[polars]) (3.6.0)\n",
      "Note: you may need to restart the kernel to use updated packages.\n",
      "Requirement already satisfied: hvplot in /usr/local/lib/python3.12/site-packages (0.11.3)\n",
      "Requirement already satisfied: bokeh>=3.1 in /usr/local/lib/python3.12/site-packages (from hvplot) (3.7.2)\n",
      "Requirement already satisfied: colorcet>=2 in /usr/local/lib/python3.12/site-packages (from hvplot) (3.1.0)\n",
      "Requirement already satisfied: holoviews>=1.19.0 in /usr/local/lib/python3.12/site-packages (from hvplot) (1.20.2)\n",
      "Requirement already satisfied: numpy>=1.21 in /usr/local/lib/python3.12/site-packages (from hvplot) (2.2.5)\n",
      "Requirement already satisfied: packaging in /usr/local/lib/python3.12/site-packages (from hvplot) (24.2)\n",
      "Requirement already satisfied: pandas>=1.3 in /usr/local/lib/python3.12/site-packages (from hvplot) (2.2.3)\n",
      "Requirement already satisfied: panel>=1.0 in /usr/local/lib/python3.12/site-packages (from hvplot) (1.6.3)\n",
      "Requirement already satisfied: param<3.0,>=1.12.0 in /usr/local/lib/python3.12/site-packages (from hvplot) (2.2.0)\n",
      "Requirement already satisfied: Jinja2>=2.9 in /usr/local/lib/python3.12/site-packages (from bokeh>=3.1->hvplot) (3.1.6)\n",
      "Requirement already satisfied: contourpy>=1.2 in /usr/local/lib/python3.12/site-packages (from bokeh>=3.1->hvplot) (1.3.2)\n",
      "Requirement already satisfied: narwhals>=1.13 in /usr/local/lib/python3.12/site-packages (from bokeh>=3.1->hvplot) (1.37.1)\n",
      "Requirement already satisfied: pillow>=7.1.0 in /usr/local/lib/python3.12/site-packages (from bokeh>=3.1->hvplot) (11.2.1)\n",
      "Requirement already satisfied: PyYAML>=3.10 in /usr/local/lib/python3.12/site-packages (from bokeh>=3.1->hvplot) (6.0.2)\n",
      "Requirement already satisfied: tornado>=6.2 in /usr/local/lib/python3.12/site-packages (from bokeh>=3.1->hvplot) (6.4.2)\n",
      "Requirement already satisfied: xyzservices>=2021.09.1 in /usr/local/lib/python3.12/site-packages (from bokeh>=3.1->hvplot) (2025.4.0)\n",
      "Requirement already satisfied: pyviz-comms>=2.1 in /usr/local/lib/python3.12/site-packages (from holoviews>=1.19.0->hvplot) (3.0.4)\n",
      "Requirement already satisfied: MarkupSafe>=2.0 in /usr/local/lib/python3.12/site-packages (from Jinja2>=2.9->bokeh>=3.1->hvplot) (3.0.2)\n",
      "Requirement already satisfied: python-dateutil>=2.8.2 in /usr/local/lib/python3.12/site-packages (from pandas>=1.3->hvplot) (2.9.0.post0)\n",
      "Requirement already satisfied: pytz>=2020.1 in /usr/local/lib/python3.12/site-packages (from pandas>=1.3->hvplot) (2025.2)\n",
      "Requirement already satisfied: tzdata>=2022.7 in /usr/local/lib/python3.12/site-packages (from pandas>=1.3->hvplot) (2025.2)\n",
      "Requirement already satisfied: bleach in /usr/local/lib/python3.12/site-packages (from panel>=1.0->hvplot) (6.2.0)\n",
      "Requirement already satisfied: linkify-it-py in /usr/local/lib/python3.12/site-packages (from panel>=1.0->hvplot) (2.0.3)\n",
      "Requirement already satisfied: markdown in /usr/local/lib/python3.12/site-packages (from panel>=1.0->hvplot) (3.8)\n",
      "Requirement already satisfied: markdown-it-py in /usr/local/lib/python3.12/site-packages (from panel>=1.0->hvplot) (3.0.0)\n",
      "Requirement already satisfied: mdit-py-plugins in /usr/local/lib/python3.12/site-packages (from panel>=1.0->hvplot) (0.4.2)\n",
      "Requirement already satisfied: requests in /usr/local/lib/python3.12/site-packages (from panel>=1.0->hvplot) (2.32.3)\n",
      "Requirement already satisfied: tqdm in /usr/local/lib/python3.12/site-packages (from panel>=1.0->hvplot) (4.67.1)\n",
      "Requirement already satisfied: typing-extensions in /usr/local/lib/python3.12/site-packages (from panel>=1.0->hvplot) (4.13.2)\n",
      "Requirement already satisfied: six>=1.5 in /usr/local/lib/python3.12/site-packages (from python-dateutil>=2.8.2->pandas>=1.3->hvplot) (1.17.0)\n",
      "Requirement already satisfied: webencodings in /usr/local/lib/python3.12/site-packages (from bleach->panel>=1.0->hvplot) (0.5.1)\n",
      "Requirement already satisfied: uc-micro-py in /usr/local/lib/python3.12/site-packages (from linkify-it-py->panel>=1.0->hvplot) (1.0.3)\n",
      "Requirement already satisfied: mdurl~=0.1 in /usr/local/lib/python3.12/site-packages (from markdown-it-py->panel>=1.0->hvplot) (0.1.2)\n",
      "Requirement already satisfied: charset-normalizer<4,>=2 in /usr/local/lib/python3.12/site-packages (from requests->panel>=1.0->hvplot) (3.4.2)\n",
      "Requirement already satisfied: idna<4,>=2.5 in /usr/local/lib/python3.12/site-packages (from requests->panel>=1.0->hvplot) (3.10)\n",
      "Requirement already satisfied: urllib3<3,>=1.21.1 in /usr/local/lib/python3.12/site-packages (from requests->panel>=1.0->hvplot) (2.4.0)\n",
      "Requirement already satisfied: certifi>=2017.4.17 in /usr/local/lib/python3.12/site-packages (from requests->panel>=1.0->hvplot) (2025.4.26)\n",
      "Note: you may need to restart the kernel to use updated packages.\n"
     ]
    }
   ],
   "source": [
    "%pip install opendp\n",
    "%pip install 'opendp[polars]'\n",
    "%pip install hvplot"
   ]
  },
  {
   "cell_type": "markdown",
   "id": "5e4e7265",
   "metadata": {},
   "source": [
    "## Information au préalable sur le vecteur en entrée"
   ]
  },
  {
   "cell_type": "code",
   "execution_count": 3,
   "id": "ef9f0445",
   "metadata": {},
   "outputs": [
    {
     "name": "stdout",
     "output_type": "stream",
     "text": [
      "Privacy unit :  (SymmetricDistance(), 1)\n",
      "Privacy loss : (MaxDivergence, 1.0)\n"
     ]
    }
   ],
   "source": [
    "import opendp.prelude as dp\n",
    "from random import randint\n",
    "\n",
    "dp.enable_features('contrib')\n",
    "\n",
    "\n",
    "privacy_unit = dp.unit_of(contributions=1)\n",
    "print(\"Privacy unit : \", privacy_unit)\n",
    "# (SymmetricDistance(), 1)\n",
    "\n",
    "privacy_loss = dp.loss_of(epsilon=1.)\n",
    "print(\"Privacy loss :\", privacy_loss)\n",
    "# (MaxDivergence, 1.0)\n",
    "\n",
    "# Informations publiques\n",
    "bounds = (0.0, 100.0)\n",
    "imputed_value = 50.0\n",
    "\n",
    "data = [float(randint(0, 100)) for _ in range(100)]\n",
    "\n",
    "context = dp.Context.compositor(\n",
    "    data=data,\n",
    "    privacy_unit=privacy_unit,\n",
    "    privacy_loss=privacy_loss,\n",
    "    split_evenly_over=3\n",
    ")"
   ]
  },
  {
   "cell_type": "markdown",
   "id": "1934d853",
   "metadata": {},
   "source": [
    "## Requête 1 : Comptage"
   ]
  },
  {
   "cell_type": "code",
   "execution_count": 4,
   "id": "e38f0f98",
   "metadata": {},
   "outputs": [
    {
     "name": "stdout",
     "output_type": "stream",
     "text": [
      "Scale (count laplace) : 3.0000000000000004\n",
      "Avec une proba de 95%, ecart avec la vrai valeur d'au plus : 9.445721638273584\n",
      "Comptage bruité 104\n",
      "Intervalle de confiance : (94.55427836172642, 113.44572163827358)\n"
     ]
    }
   ],
   "source": [
    "count_query = (\n",
    "    context.query()\n",
    "    .count()\n",
    "    .laplace()\n",
    ")\n",
    "\n",
    "scale = count_query.param()\n",
    "print(\"Scale (count laplace) :\", scale)\n",
    "# 3.0000000000000004\n",
    "\n",
    "accuracy = dp.discrete_laplacian_scale_to_accuracy(scale=scale, alpha=0.05)\n",
    "print(\"Avec une proba de 95%, ecart avec la vrai valeur d'au plus :\", accuracy)\n",
    "# 9.445721638273584\n",
    "\n",
    "dp_count = count_query.release()\n",
    "print(\"Comptage bruité\", dp_count)\n",
    "confidence_interval = (dp_count - accuracy, dp_count + accuracy)\n",
    "print(\"Intervalle de confiance :\", confidence_interval)"
   ]
  },
  {
   "cell_type": "markdown",
   "id": "d7509c5f",
   "metadata": {},
   "source": [
    "## Requête 2 : Moyenne"
   ]
  },
  {
   "cell_type": "code",
   "execution_count": 5,
   "id": "73f93fe2",
   "metadata": {},
   "outputs": [],
   "source": [
    "mean_query = (\n",
    "    context.query()\n",
    "    .impute_constant(imputed_value)\n",
    "    .clamp(bounds)\n",
    "    .resize(size=dp_count, constant=imputed_value)\n",
    "    .mean()\n",
    "    .laplace()\n",
    ")\n",
    "\n",
    "dp_mean = mean_query.release()"
   ]
  },
  {
   "cell_type": "markdown",
   "id": "172ec130",
   "metadata": {},
   "source": [
    "# Polars"
   ]
  },
  {
   "cell_type": "code",
   "execution_count": 6,
   "id": "79cb6f0a",
   "metadata": {},
   "outputs": [],
   "source": [
    "import polars as pl\n",
    "import opendp.prelude as dp\n",
    "\n",
    "dp.enable_features(\"contrib\")\n",
    "\n",
    "context = dp.Context.compositor(\n",
    "    # Many columns contain mixtures of strings and numbers and cannot be parsed as floats,\n",
    "    # so we'll set `ignore_errors` to true to avoid conversion errors.\n",
    "    data=pl.scan_csv(dp.examples.get_france_lfs_path(), ignore_errors=True),\n",
    "    privacy_unit=dp.unit_of(contributions=36),\n",
    "    privacy_loss=dp.loss_of(epsilon=1.0),\n",
    "    split_evenly_over=10,\n",
    "    margins=[\n",
    "        dp.polars.Margin(\n",
    "            # the biggest (and only) partition is no larger than\n",
    "            #    France population * number of quarters\n",
    "            max_partition_length=60_000_000 * 36,\n",
    "            public_info=\"lengths\",# make partition size public (bounded-DP)\n",
    "        ),\n",
    "        dp.polars.Margin(by=[\"YEAR\", \"QUARTER\"], public_info=\"keys\"),\n",
    "    ],\n",
    ")"
   ]
  },
  {
   "cell_type": "markdown",
   "id": "4c0193e3",
   "metadata": {},
   "source": [
    "## Comptage"
   ]
  },
  {
   "cell_type": "code",
   "execution_count": null,
   "id": "d34dc78c",
   "metadata": {},
   "outputs": [
    {
     "ename": "AttributeError",
     "evalue": "Unrecognized constructor: 'select'",
     "output_type": "error",
     "traceback": [
      "\u001b[31m---------------------------------------------------------------------------\u001b[39m",
      "\u001b[31mAttributeError\u001b[39m                            Traceback (most recent call last)",
      "\u001b[36mCell\u001b[39m\u001b[36m \u001b[39m\u001b[32mIn[15]\u001b[39m\u001b[32m, line 15\u001b[39m\n\u001b[32m      1\u001b[39m context_sans_marge = dp.Context.compositor(\n\u001b[32m      2\u001b[39m     \u001b[38;5;66;03m# Many columns contain mixtures of strings and numbers and cannot be parsed as floats,\u001b[39;00m\n\u001b[32m      3\u001b[39m     \u001b[38;5;66;03m# so we'll set `ignore_errors` to true to avoid conversion errors.\u001b[39;00m\n\u001b[32m   (...)\u001b[39m\u001b[32m      7\u001b[39m     split_evenly_over=\u001b[32m10\u001b[39m,\n\u001b[32m      8\u001b[39m )\n\u001b[32m     10\u001b[39m context_sans_marge = context_sans_marge.query().compositor(\n\u001b[32m     11\u001b[39m     split_evenly_over=\u001b[32m1\u001b[39m,\n\u001b[32m     12\u001b[39m     output_measure=dp.zero_concentrated_divergence()\n\u001b[32m     13\u001b[39m     ).release()\n\u001b[32m---> \u001b[39m\u001b[32m15\u001b[39m query_num_responses = \u001b[43mcontext_sans_marge\u001b[49m\u001b[43m.\u001b[49m\u001b[43mquery\u001b[49m\u001b[43m(\u001b[49m\u001b[43m)\u001b[49m\u001b[43m.\u001b[49m\u001b[43mselect\u001b[49m(dp.len())\n\u001b[32m     17\u001b[39m \u001b[38;5;28mprint\u001b[39m(query_num_responses.release().collect().item())\n\u001b[32m     18\u001b[39m query_num_responses.summarize(alpha=\u001b[32m0.05\u001b[39m)\n",
      "\u001b[36mFile \u001b[39m\u001b[32m/usr/local/lib/python3.12/site-packages/opendp/context.py:623\u001b[39m, in \u001b[36mQuery.__getattr__\u001b[39m\u001b[34m(self, name)\u001b[39m\n\u001b[32m    621\u001b[39m \u001b[38;5;250m\u001b[39m\u001b[33;03m\"\"\"Creates a new query by applying a transformation or measurement to the current chain.\"\"\"\u001b[39;00m\n\u001b[32m    622\u001b[39m \u001b[38;5;28;01mif\u001b[39;00m name \u001b[38;5;129;01mnot\u001b[39;00m \u001b[38;5;129;01min\u001b[39;00m constructors:\n\u001b[32m--> \u001b[39m\u001b[32m623\u001b[39m     \u001b[38;5;28;01mraise\u001b[39;00m \u001b[38;5;167;01mAttributeError\u001b[39;00m(\n\u001b[32m    624\u001b[39m         \u001b[33mf\u001b[39m\u001b[33m\"\u001b[39m\u001b[33mUnrecognized constructor: \u001b[39m\u001b[33m'\u001b[39m\u001b[38;5;132;01m{\u001b[39;00mname\u001b[38;5;132;01m}\u001b[39;00m\u001b[33m'\u001b[39m\u001b[33m\"\u001b[39m\n\u001b[32m    625\u001b[39m     )  \u001b[38;5;66;03m# pragma: no cover\u001b[39;00m\n\u001b[32m    627\u001b[39m \u001b[38;5;28;01mdef\u001b[39;00m\u001b[38;5;250m \u001b[39m\u001b[34mmake\u001b[39m(*args, **kwargs) -> \u001b[33m\"\u001b[39m\u001b[33mQuery\u001b[39m\u001b[33m\"\u001b[39m:\n\u001b[32m    628\u001b[39m \u001b[38;5;250m    \u001b[39m\u001b[33;03m\"\"\"Wraps the ``make_{name}`` constructor to allow one optional parameter and chains it to the current query.\u001b[39;00m\n\u001b[32m    629\u001b[39m \n\u001b[32m    630\u001b[39m \u001b[33;03m    This function will be called when the user calls ``query.{name}(...)``.\u001b[39;00m\n\u001b[32m   (...)\u001b[39m\u001b[32m    633\u001b[39m \u001b[33;03m    :param kwargs: keyword arguments for the constructor function\u001b[39;00m\n\u001b[32m    634\u001b[39m \u001b[33;03m    \"\"\"\u001b[39;00m\n",
      "\u001b[31mAttributeError\u001b[39m: Unrecognized constructor: 'select'"
     ]
    }
   ],
   "source": [
    "context_sans_marge = dp.Context.compositor(\n",
    "    # Many columns contain mixtures of strings and numbers and cannot be parsed as floats,\n",
    "    # so we'll set `ignore_errors` to true to avoid conversion errors.\n",
    "    data=pl.scan_csv(dp.examples.get_france_lfs_path(), ignore_errors=True),\n",
    "    privacy_unit=dp.unit_of(contributions=36),\n",
    "    privacy_loss=dp.loss_of(epsilon=1.0, delta=1e-6),\n",
    "    split_evenly_over=10,\n",
    ")\n",
    "\n",
    "context_sans_marge = context_sans_marge.query().compositor(\n",
    "    split_evenly_over=1,\n",
    "    output_measure=dp.zero_concentrated_divergence()\n",
    "    ).release()\n",
    "\n",
    "query_num_responses = context_sans_marge.query().select(dp.len())\n",
    "\n",
    "print(query_num_responses.release().collect().item())\n",
    "query_num_responses.summarize(alpha=0.05)"
   ]
  },
  {
   "cell_type": "markdown",
   "id": "faa5885b",
   "metadata": {},
   "source": [
    "## Somme"
   ]
  },
  {
   "cell_type": "code",
   "execution_count": 7,
   "id": "6726dd7e",
   "metadata": {},
   "outputs": [
    {
     "name": "stdout",
     "output_type": "stream",
     "text": [
      "shape: (1, 1)\n",
      "┌─────────┐\n",
      "│ HWUSUAL │\n",
      "│ ---     │\n",
      "│ i64     │\n",
      "╞═════════╡\n",
      "│ 2933237 │\n",
      "└─────────┘\n"
     ]
    },
    {
     "data": {
      "text/html": [
       "<div><style>\n",
       ".dataframe > thead > tr,\n",
       ".dataframe > tbody > tr {\n",
       "  text-align: right;\n",
       "  white-space: pre-wrap;\n",
       "}\n",
       "</style>\n",
       "<small>shape: (1, 5)</small><table border=\"1\" class=\"dataframe\"><thead><tr><th>column</th><th>aggregate</th><th>distribution</th><th>scale</th><th>accuracy</th></tr><tr><td>str</td><td>str</td><td>str</td><td>f64</td><td>f64</td></tr></thead><tbody><tr><td>&quot;HWUSUAL&quot;</td><td>&quot;Sum&quot;</td><td>&quot;Integer Laplace&quot;</td><td>28800.0</td><td>86277.589474</td></tr></tbody></table></div>"
      ],
      "text/plain": [
       "shape: (1, 5)\n",
       "┌─────────┬───────────┬─────────────────┬─────────┬──────────────┐\n",
       "│ column  ┆ aggregate ┆ distribution    ┆ scale   ┆ accuracy     │\n",
       "│ ---     ┆ ---       ┆ ---             ┆ ---     ┆ ---          │\n",
       "│ str     ┆ str       ┆ str             ┆ f64     ┆ f64          │\n",
       "╞═════════╪═══════════╪═════════════════╪═════════╪══════════════╡\n",
       "│ HWUSUAL ┆ Sum       ┆ Integer Laplace ┆ 28800.0 ┆ 86277.589474 │\n",
       "└─────────┴───────────┴─────────────────┴─────────┴──────────────┘"
      ]
     },
     "execution_count": 7,
     "metadata": {},
     "output_type": "execute_result"
    }
   ],
   "source": [
    "query_work_hours = (\n",
    "    # 99 represents \"Not applicable\"\n",
    "    context.query()\n",
    "    .filter(pl.col(\"HWUSUAL\") != 99.0)\n",
    "    # compute the DP sum\n",
    "    .select(\n",
    "        pl.col.HWUSUAL\n",
    "        .cast(int)\n",
    "        .fill_null(35)\n",
    "        .dp.sum(bounds=(0, 80)))\n",
    ")\n",
    "\n",
    "print(query_work_hours.release().collect())\n",
    "query_work_hours.summarize(alpha=0.05)"
   ]
  },
  {
   "cell_type": "markdown",
   "id": "f316a2d7",
   "metadata": {},
   "source": [
    "## Moyenne"
   ]
  },
  {
   "cell_type": "code",
   "execution_count": 8,
   "id": "8b55d1ad",
   "metadata": {},
   "outputs": [
    {
     "name": "stdout",
     "output_type": "stream",
     "text": [
      "shape: (1, 3)\n",
      "┌─────────┬───────┬───────────┐\n",
      "│ HWUSUAL ┆ len   ┆ mean      │\n",
      "│ ---     ┆ ---   ┆ ---       │\n",
      "│ i64     ┆ u32   ┆ f64       │\n",
      "╞═════════╪═══════╪═══════════╡\n",
      "│ 3011227 ┆ 78865 ┆ 38.182045 │\n",
      "└─────────┴───────┴───────────┘\n"
     ]
    },
    {
     "data": {
      "text/html": [
       "<div><style>\n",
       ".dataframe > thead > tr,\n",
       ".dataframe > tbody > tr {\n",
       "  text-align: right;\n",
       "  white-space: pre-wrap;\n",
       "}\n",
       "</style>\n",
       "<small>shape: (2, 5)</small><table border=\"1\" class=\"dataframe\"><thead><tr><th>column</th><th>aggregate</th><th>distribution</th><th>scale</th><th>accuracy</th></tr><tr><td>str</td><td>str</td><td>str</td><td>f64</td><td>f64</td></tr></thead><tbody><tr><td>&quot;HWUSUAL&quot;</td><td>&quot;Sum&quot;</td><td>&quot;Integer Laplace&quot;</td><td>57600.0</td><td>172554.678955</td></tr><tr><td>&quot;len&quot;</td><td>&quot;Frame Length&quot;</td><td>&quot;Integer Laplace&quot;</td><td>720.0</td><td>2157.427063</td></tr></tbody></table></div>"
      ],
      "text/plain": [
       "shape: (2, 5)\n",
       "┌─────────┬──────────────┬─────────────────┬─────────┬───────────────┐\n",
       "│ column  ┆ aggregate    ┆ distribution    ┆ scale   ┆ accuracy      │\n",
       "│ ---     ┆ ---          ┆ ---             ┆ ---     ┆ ---           │\n",
       "│ str     ┆ str          ┆ str             ┆ f64     ┆ f64           │\n",
       "╞═════════╪══════════════╪═════════════════╪═════════╪═══════════════╡\n",
       "│ HWUSUAL ┆ Sum          ┆ Integer Laplace ┆ 57600.0 ┆ 172554.678955 │\n",
       "│ len     ┆ Frame Length ┆ Integer Laplace ┆ 720.0   ┆ 2157.427063   │\n",
       "└─────────┴──────────────┴─────────────────┴─────────┴───────────────┘"
      ]
     },
     "execution_count": 8,
     "metadata": {},
     "output_type": "execute_result"
    }
   ],
   "source": [
    "query_work_hours = (\n",
    "    context.query()\n",
    "    .filter(pl.col.HWUSUAL != 99.0)\n",
    "    # release both the sum and length in one query\n",
    "    .select(\n",
    "        pl.col.HWUSUAL\n",
    "        .cast(int)\n",
    "        .fill_null(35)\n",
    "        .dp.sum(bounds=(0, 80)), \n",
    "        \n",
    "        dp.len())\n",
    ")\n",
    "\n",
    "print(query_work_hours.release().collect().with_columns(mean=pl.col.HWUSUAL / pl.col.len))\n",
    "query_work_hours.summarize(alpha=0.05)"
   ]
  },
  {
   "cell_type": "code",
   "execution_count": 9,
   "id": "b32c0d39",
   "metadata": {},
   "outputs": [
    {
     "name": "stdout",
     "output_type": "stream",
     "text": [
      "shape: (1, 1)\n",
      "┌──────────┐\n",
      "│ HWUSUAL  │\n",
      "│ ---      │\n",
      "│ f64      │\n",
      "╞══════════╡\n",
      "│ 63.10075 │\n",
      "└──────────┘\n"
     ]
    },
    {
     "data": {
      "text/html": [
       "<div><style>\n",
       ".dataframe > thead > tr,\n",
       ".dataframe > tbody > tr {\n",
       "  text-align: right;\n",
       "  white-space: pre-wrap;\n",
       "}\n",
       "</style>\n",
       "<small>shape: (2, 5)</small><table border=\"1\" class=\"dataframe\"><thead><tr><th>column</th><th>aggregate</th><th>distribution</th><th>scale</th><th>accuracy</th></tr><tr><td>str</td><td>str</td><td>str</td><td>f64</td><td>f64</td></tr></thead><tbody><tr><td>&quot;HWUSUAL&quot;</td><td>&quot;Sum&quot;</td><td>&quot;Integer Laplace&quot;</td><td>14400.0</td><td>43139.04473</td></tr><tr><td>&quot;HWUSUAL&quot;</td><td>&quot;Length&quot;</td><td>&quot;Integer Laplace&quot;</td><td>0.0</td><td>NaN</td></tr></tbody></table></div>"
      ],
      "text/plain": [
       "shape: (2, 5)\n",
       "┌─────────┬───────────┬─────────────────┬─────────┬─────────────┐\n",
       "│ column  ┆ aggregate ┆ distribution    ┆ scale   ┆ accuracy    │\n",
       "│ ---     ┆ ---       ┆ ---             ┆ ---     ┆ ---         │\n",
       "│ str     ┆ str       ┆ str             ┆ f64     ┆ f64         │\n",
       "╞═════════╪═══════════╪═════════════════╪═════════╪═════════════╡\n",
       "│ HWUSUAL ┆ Sum       ┆ Integer Laplace ┆ 14400.0 ┆ 43139.04473 │\n",
       "│ HWUSUAL ┆ Length    ┆ Integer Laplace ┆ 0.0     ┆ NaN         │\n",
       "└─────────┴───────────┴─────────────────┴─────────┴─────────────┘"
      ]
     },
     "execution_count": 9,
     "metadata": {},
     "output_type": "execute_result"
    }
   ],
   "source": [
    "# En utilisant l'information publique de la taille du dataset (len)\n",
    "query_mean_work_hours = context.query().select(\n",
    "    pl.col.HWUSUAL\n",
    "    .cast(int)\n",
    "    .fill_null(35)\n",
    "    .dp.mean(bounds=(0, 80))\n",
    ")\n",
    "\n",
    "print(query_mean_work_hours.release().collect())\n",
    "query_mean_work_hours.summarize(alpha=0.05)"
   ]
  },
  {
   "cell_type": "markdown",
   "id": "1b067c92",
   "metadata": {},
   "source": [
    "## Quantile"
   ]
  },
  {
   "cell_type": "code",
   "execution_count": 14,
   "id": "dd67b0ee",
   "metadata": {},
   "outputs": [
    {
     "ename": "OpenDPException",
     "evalue": "\n  MakeMeasurement(\"Expr is not recognized at this time: col(\"HWUSUAL\").fill_null([dyn int: 35])./usr/local/lib/python3.12/site-packages/opendp/lib/opendp.abi3.so:discrete_quantile_score([dyn float: 0.25, Series])./usr/local/lib/python3.12/site-packages/opendp/lib/opendp.abi3.so:report_noisy_max([String(min), null]). If you would like to see this supported, please file an issue.\")",
     "output_type": "error",
     "traceback": [
      "\u001b[31m---------------------------------------------------------------------------\u001b[39m",
      "\u001b[31mOpenDPException\u001b[39m                           Traceback (most recent call last)",
      "\u001b[36mCell\u001b[39m\u001b[36m \u001b[39m\u001b[32mIn[14]\u001b[39m\u001b[32m, line 15\u001b[39m\n\u001b[32m      1\u001b[39m candidates = \u001b[38;5;28mlist\u001b[39m(\u001b[38;5;28mrange\u001b[39m(\u001b[32m20\u001b[39m, \u001b[32m60\u001b[39m))\n\u001b[32m      3\u001b[39m query_multi_quantiles = (\n\u001b[32m      4\u001b[39m     context.query()\n\u001b[32m      5\u001b[39m     .filter(pl.col.HWUSUAL != \u001b[32m99.0\u001b[39m)\n\u001b[32m   (...)\u001b[39m\u001b[32m     12\u001b[39m     )\n\u001b[32m     13\u001b[39m )\n\u001b[32m---> \u001b[39m\u001b[32m15\u001b[39m \u001b[38;5;28mprint\u001b[39m(\u001b[43mquery_multi_quantiles\u001b[49m\u001b[43m.\u001b[49m\u001b[43mrelease\u001b[49m\u001b[43m(\u001b[49m\u001b[43m)\u001b[49m.collect())\n\u001b[32m     16\u001b[39m query_multi_quantiles.summarize()\n",
      "\u001b[36mFile \u001b[39m\u001b[32m/usr/local/lib/python3.12/site-packages/opendp/extras/polars/__init__.py:903\u001b[39m, in \u001b[36mLazyFrameQuery.release\u001b[39m\u001b[34m(self)\u001b[39m\n\u001b[32m    901\u001b[39m query = \u001b[38;5;28mobject\u001b[39m.\u001b[34m__getattribute__\u001b[39m(\u001b[38;5;28mself\u001b[39m, \u001b[33m\"\u001b[39m\u001b[33m_query\u001b[39m\u001b[33m\"\u001b[39m)\n\u001b[32m    902\u001b[39m resolve = \u001b[38;5;28mobject\u001b[39m.\u001b[34m__getattribute__\u001b[39m(\u001b[38;5;28mself\u001b[39m, \u001b[33m\"\u001b[39m\u001b[33mresolve\u001b[39m\u001b[33m\"\u001b[39m)\n\u001b[32m--> \u001b[39m\u001b[32m903\u001b[39m \u001b[38;5;28;01mreturn\u001b[39;00m query._context(\u001b[43mresolve\u001b[49m\u001b[43m(\u001b[49m\u001b[43m)\u001b[49m)\n",
      "\u001b[36mFile \u001b[39m\u001b[32m/usr/local/lib/python3.12/site-packages/opendp/extras/polars/__init__.py:897\u001b[39m, in \u001b[36mLazyFrameQuery.resolve\u001b[39m\u001b[34m(self)\u001b[39m\n\u001b[32m    893\u001b[39m     \u001b[38;5;28;01mreturn\u001b[39;00m _make(scale, threshold)\n\u001b[32m    895\u001b[39m \u001b[38;5;66;03m# when no delta parameter is involved,\u001b[39;00m\n\u001b[32m    896\u001b[39m \u001b[38;5;66;03m# finding a suitable measurement just comes down to finding scale\u001b[39;00m\n\u001b[32m--> \u001b[39m\u001b[32m897\u001b[39m \u001b[38;5;28;01mreturn\u001b[39;00m \u001b[43mbinary_search_chain\u001b[49m\u001b[43m(\u001b[49m\u001b[43m_make\u001b[49m\u001b[43m,\u001b[49m\u001b[43m \u001b[49m\u001b[43md_in\u001b[49m\u001b[43m,\u001b[49m\u001b[43m \u001b[49m\u001b[43md_out\u001b[49m\u001b[43m,\u001b[49m\u001b[43m \u001b[49m\u001b[43mT\u001b[49m\u001b[43m=\u001b[49m\u001b[38;5;28;43mfloat\u001b[39;49m\u001b[43m)\u001b[49m\n",
      "\u001b[36mFile \u001b[39m\u001b[32m/usr/local/lib/python3.12/site-packages/opendp/mod.py:1075\u001b[39m, in \u001b[36mbinary_search_chain\u001b[39m\u001b[34m(make_chain, d_in, d_out, bounds, T)\u001b[39m\n\u001b[32m   1013\u001b[39m \u001b[38;5;28;01mdef\u001b[39;00m\u001b[38;5;250m \u001b[39m\u001b[34mbinary_search_chain\u001b[39m(\n\u001b[32m   1014\u001b[39m         make_chain: Callable[[\u001b[38;5;28mfloat\u001b[39m], M],\n\u001b[32m   1015\u001b[39m         d_in: Any, d_out: Any,\n\u001b[32m   1016\u001b[39m         bounds: \u001b[38;5;28mtuple\u001b[39m[\u001b[38;5;28mfloat\u001b[39m, \u001b[38;5;28mfloat\u001b[39m] | \u001b[38;5;28;01mNone\u001b[39;00m = \u001b[38;5;28;01mNone\u001b[39;00m,\n\u001b[32m   1017\u001b[39m         T=\u001b[38;5;28;01mNone\u001b[39;00m) -> M:\n\u001b[32m   1018\u001b[39m \u001b[38;5;250m    \u001b[39m\u001b[33;03m\"\"\"Find the highest-utility (`d_in`, `d_out`)-close Transformation or Measurement.\u001b[39;00m\n\u001b[32m   1019\u001b[39m \u001b[33;03m    \u001b[39;00m\n\u001b[32m   1020\u001b[39m \u001b[33;03m    Searches for the numeric parameter to `make_chain` that results in a computation\u001b[39;00m\n\u001b[32m   (...)\u001b[39m\u001b[32m   1073\u001b[39m \u001b[33;03m    >>> # If you want the discovered clamping bound, use `binary_search_param` instead.\u001b[39;00m\n\u001b[32m   1074\u001b[39m \u001b[33;03m    \"\"\"\u001b[39;00m\n\u001b[32m-> \u001b[39m\u001b[32m1075\u001b[39m     \u001b[38;5;28;01mreturn\u001b[39;00m make_chain(\u001b[43mbinary_search_param\u001b[49m\u001b[43m(\u001b[49m\u001b[43mmake_chain\u001b[49m\u001b[43m,\u001b[49m\u001b[43m \u001b[49m\u001b[43md_in\u001b[49m\u001b[43m,\u001b[49m\u001b[43m \u001b[49m\u001b[43md_out\u001b[49m\u001b[43m,\u001b[49m\u001b[43m \u001b[49m\u001b[43mbounds\u001b[49m\u001b[43m,\u001b[49m\u001b[43m \u001b[49m\u001b[43mT\u001b[49m\u001b[43m)\u001b[49m)\n",
      "\u001b[36mFile \u001b[39m\u001b[32m/usr/local/lib/python3.12/site-packages/opendp/mod.py:1143\u001b[39m, in \u001b[36mbinary_search_param\u001b[39m\u001b[34m(make_chain, d_in, d_out, bounds, T)\u001b[39m\n\u001b[32m   1083\u001b[39m \u001b[38;5;250m\u001b[39m\u001b[33;03m\"\"\"Solve for the ideal constructor argument to `make_chain`.\u001b[39;00m\n\u001b[32m   1084\u001b[39m \u001b[33;03m\u001b[39;00m\n\u001b[32m   1085\u001b[39m \u001b[33;03mOptimizes a parameterized chain `make_chain` within float or integer `bounds`,\u001b[39;00m\n\u001b[32m   (...)\u001b[39m\u001b[32m   1136\u001b[39m \u001b[33;03m1498\u001b[39;00m\n\u001b[32m   1137\u001b[39m \u001b[33;03m\"\"\"\u001b[39;00m\n\u001b[32m   1139\u001b[39m \u001b[38;5;66;03m# one might think running scipy.optimize.brent* would be better, but \u001b[39;00m\n\u001b[32m   1140\u001b[39m \u001b[38;5;66;03m# 1. benchmarking showed no difference or minor regressions\u001b[39;00m\n\u001b[32m   1141\u001b[39m \u001b[38;5;66;03m# 2. brentq is more complicated\u001b[39;00m\n\u001b[32m-> \u001b[39m\u001b[32m1143\u001b[39m \u001b[38;5;28;01mreturn\u001b[39;00m \u001b[43mbinary_search\u001b[49m\u001b[43m(\u001b[49m\u001b[38;5;28;43;01mlambda\u001b[39;49;00m\u001b[43m \u001b[49m\u001b[43mparam\u001b[49m\u001b[43m:\u001b[49m\u001b[43m \u001b[49m\u001b[43mmake_chain\u001b[49m\u001b[43m(\u001b[49m\u001b[43mparam\u001b[49m\u001b[43m)\u001b[49m\u001b[43m.\u001b[49m\u001b[43mcheck\u001b[49m\u001b[43m(\u001b[49m\u001b[43md_in\u001b[49m\u001b[43m,\u001b[49m\u001b[43m \u001b[49m\u001b[43md_out\u001b[49m\u001b[43m)\u001b[49m\u001b[43m,\u001b[49m\u001b[43m \u001b[49m\u001b[43mbounds\u001b[49m\u001b[43m,\u001b[49m\u001b[43m \u001b[49m\u001b[43mT\u001b[49m\u001b[43m)\u001b[49m\n",
      "\u001b[36mFile \u001b[39m\u001b[32m/usr/local/lib/python3.12/site-packages/opendp/mod.py:1232\u001b[39m, in \u001b[36mbinary_search\u001b[39m\u001b[34m(predicate, bounds, T, return_sign)\u001b[39m\n\u001b[32m   1180\u001b[39m \u001b[38;5;250m\u001b[39m\u001b[33;03m\"\"\"Find the closest passing value to the decision boundary of `predicate`.\u001b[39;00m\n\u001b[32m   1181\u001b[39m \n\u001b[32m   1182\u001b[39m \u001b[33;03mIf bounds are not passed, conducts an exponential search.\u001b[39;00m\n\u001b[32m   (...)\u001b[39m\u001b[32m   1229\u001b[39m \u001b[33;03m3\u001b[39;00m\n\u001b[32m   1230\u001b[39m \u001b[33;03m\"\"\"\u001b[39;00m\n\u001b[32m   1231\u001b[39m \u001b[38;5;28;01mif\u001b[39;00m bounds \u001b[38;5;129;01mis\u001b[39;00m \u001b[38;5;28;01mNone\u001b[39;00m:\n\u001b[32m-> \u001b[39m\u001b[32m1232\u001b[39m     bounds = \u001b[43mexponential_bounds_search\u001b[49m\u001b[43m(\u001b[49m\u001b[43mpredicate\u001b[49m\u001b[43m,\u001b[49m\u001b[43m \u001b[49m\u001b[43mT\u001b[49m\u001b[43m)\u001b[49m \u001b[38;5;66;03m# type: ignore\u001b[39;00m\n\u001b[32m   1234\u001b[39m \u001b[38;5;28;01mif\u001b[39;00m bounds \u001b[38;5;129;01mis\u001b[39;00m \u001b[38;5;28;01mNone\u001b[39;00m:\n\u001b[32m   1235\u001b[39m     \u001b[38;5;28;01mraise\u001b[39;00m \u001b[38;5;167;01mValueError\u001b[39;00m(\u001b[33m\"\u001b[39m\u001b[33munable to infer bounds\u001b[39m\u001b[33m\"\u001b[39m)  \u001b[38;5;66;03m# pragma: no cover\u001b[39;00m\n",
      "\u001b[36mFile \u001b[39m\u001b[32m/usr/local/lib/python3.12/site-packages/opendp/mod.py:1351\u001b[39m, in \u001b[36mexponential_bounds_search\u001b[39m\u001b[34m(predicate, T)\u001b[39m\n\u001b[32m   1349\u001b[39m \u001b[38;5;28;01mif\u001b[39;00m exception_bounds \u001b[38;5;129;01mis\u001b[39;00m \u001b[38;5;28;01mNone\u001b[39;00m:\n\u001b[32m   1350\u001b[39m     \u001b[38;5;28;01mtry\u001b[39;00m:\n\u001b[32m-> \u001b[39m\u001b[32m1351\u001b[39m         \u001b[43mpredicate\u001b[49m\u001b[43m(\u001b[49m\u001b[43mcenter\u001b[49m\u001b[43m)\u001b[49m\n\u001b[32m   1352\u001b[39m     \u001b[38;5;28;01mexcept\u001b[39;00m \u001b[38;5;167;01mException\u001b[39;00m \u001b[38;5;28;01mas\u001b[39;00m e:\n\u001b[32m   1353\u001b[39m         \u001b[38;5;66;03m# enrich the error message if in Python 3.11+.\u001b[39;00m\n\u001b[32m   1354\u001b[39m         \u001b[38;5;28;01mif\u001b[39;00m \u001b[38;5;28mhasattr\u001b[39m(e, \u001b[33m\"\u001b[39m\u001b[33madd_note\u001b[39m\u001b[33m\"\u001b[39m):\n",
      "\u001b[36mFile \u001b[39m\u001b[32m/usr/local/lib/python3.12/site-packages/opendp/mod.py:1143\u001b[39m, in \u001b[36mbinary_search_param.<locals>.<lambda>\u001b[39m\u001b[34m(param)\u001b[39m\n\u001b[32m   1083\u001b[39m \u001b[38;5;250m\u001b[39m\u001b[33;03m\"\"\"Solve for the ideal constructor argument to `make_chain`.\u001b[39;00m\n\u001b[32m   1084\u001b[39m \u001b[33;03m\u001b[39;00m\n\u001b[32m   1085\u001b[39m \u001b[33;03mOptimizes a parameterized chain `make_chain` within float or integer `bounds`,\u001b[39;00m\n\u001b[32m   (...)\u001b[39m\u001b[32m   1136\u001b[39m \u001b[33;03m1498\u001b[39;00m\n\u001b[32m   1137\u001b[39m \u001b[33;03m\"\"\"\u001b[39;00m\n\u001b[32m   1139\u001b[39m \u001b[38;5;66;03m# one might think running scipy.optimize.brent* would be better, but \u001b[39;00m\n\u001b[32m   1140\u001b[39m \u001b[38;5;66;03m# 1. benchmarking showed no difference or minor regressions\u001b[39;00m\n\u001b[32m   1141\u001b[39m \u001b[38;5;66;03m# 2. brentq is more complicated\u001b[39;00m\n\u001b[32m-> \u001b[39m\u001b[32m1143\u001b[39m \u001b[38;5;28;01mreturn\u001b[39;00m binary_search(\u001b[38;5;28;01mlambda\u001b[39;00m param: \u001b[43mmake_chain\u001b[49m\u001b[43m(\u001b[49m\u001b[43mparam\u001b[49m\u001b[43m)\u001b[49m.check(d_in, d_out), bounds, T)\n",
      "\u001b[36mFile \u001b[39m\u001b[32m/usr/local/lib/python3.12/site-packages/opendp/extras/polars/__init__.py:861\u001b[39m, in \u001b[36mLazyFrameQuery.resolve.<locals>._make\u001b[39m\u001b[34m(scale, threshold)\u001b[39m\n\u001b[32m    860\u001b[39m \u001b[38;5;28;01mdef\u001b[39;00m\u001b[38;5;250m \u001b[39m\u001b[34m_make\u001b[39m(scale, threshold=\u001b[38;5;28;01mNone\u001b[39;00m):\n\u001b[32m--> \u001b[39m\u001b[32m861\u001b[39m     \u001b[38;5;28;01mreturn\u001b[39;00m \u001b[43mmake_private_lazyframe\u001b[49m\u001b[43m(\u001b[49m\n\u001b[32m    862\u001b[39m \u001b[43m        \u001b[49m\u001b[43minput_domain\u001b[49m\u001b[43m=\u001b[49m\u001b[43minput_domain\u001b[49m\u001b[43m,\u001b[49m\n\u001b[32m    863\u001b[39m \u001b[43m        \u001b[49m\u001b[43minput_metric\u001b[49m\u001b[43m=\u001b[49m\u001b[43minput_metric\u001b[49m\u001b[43m,\u001b[49m\n\u001b[32m    864\u001b[39m \u001b[43m        \u001b[49m\u001b[43moutput_measure\u001b[49m\u001b[43m=\u001b[49m\u001b[43mquery\u001b[49m\u001b[43m.\u001b[49m\u001b[43m_output_measure\u001b[49m\u001b[43m,\u001b[49m\n\u001b[32m    865\u001b[39m \u001b[43m        \u001b[49m\u001b[43mlazyframe\u001b[49m\u001b[43m=\u001b[49m\u001b[43mpolars_plan\u001b[49m\u001b[43m,\u001b[49m\n\u001b[32m    866\u001b[39m \u001b[43m        \u001b[49m\u001b[43mglobal_scale\u001b[49m\u001b[43m=\u001b[49m\u001b[43mscale\u001b[49m\u001b[43m,\u001b[49m\n\u001b[32m    867\u001b[39m \u001b[43m        \u001b[49m\u001b[43mthreshold\u001b[49m\u001b[43m=\u001b[49m\u001b[43mthreshold\u001b[49m\u001b[43m,\u001b[49m\n\u001b[32m    868\u001b[39m \u001b[43m    \u001b[49m\u001b[43m)\u001b[49m\n",
      "\u001b[36mFile \u001b[39m\u001b[32m/usr/local/lib/python3.12/site-packages/opendp/measurements.py:931\u001b[39m, in \u001b[36mmake_private_lazyframe\u001b[39m\u001b[34m(input_domain, input_metric, output_measure, lazyframe, global_scale, threshold)\u001b[39m\n\u001b[32m    928\u001b[39m lib_function.argtypes = [Domain, Metric, Measure, AnyObjectPtr, AnyObjectPtr, AnyObjectPtr]\n\u001b[32m    929\u001b[39m lib_function.restype = FfiResult\n\u001b[32m--> \u001b[39m\u001b[32m931\u001b[39m output = c_to_py(\u001b[43munwrap\u001b[49m\u001b[43m(\u001b[49m\u001b[43mlib_function\u001b[49m\u001b[43m(\u001b[49m\u001b[43mc_input_domain\u001b[49m\u001b[43m,\u001b[49m\u001b[43m \u001b[49m\u001b[43mc_input_metric\u001b[49m\u001b[43m,\u001b[49m\u001b[43m \u001b[49m\u001b[43mc_output_measure\u001b[49m\u001b[43m,\u001b[49m\u001b[43m \u001b[49m\u001b[43mc_lazyframe\u001b[49m\u001b[43m,\u001b[49m\u001b[43m \u001b[49m\u001b[43mc_global_scale\u001b[49m\u001b[43m,\u001b[49m\u001b[43m \u001b[49m\u001b[43mc_threshold\u001b[49m\u001b[43m)\u001b[49m\u001b[43m,\u001b[49m\u001b[43m \u001b[49m\u001b[43mMeasurement\u001b[49m\u001b[43m)\u001b[49m)\n\u001b[32m    932\u001b[39m \u001b[38;5;28;01mtry\u001b[39;00m:\n\u001b[32m    933\u001b[39m     output.__opendp_dict__ = {\n\u001b[32m    934\u001b[39m         \u001b[33m'\u001b[39m\u001b[33m__function__\u001b[39m\u001b[33m'\u001b[39m: \u001b[33m'\u001b[39m\u001b[33mmake_private_lazyframe\u001b[39m\u001b[33m'\u001b[39m,\n\u001b[32m    935\u001b[39m         \u001b[33m'\u001b[39m\u001b[33m__module__\u001b[39m\u001b[33m'\u001b[39m: \u001b[33m'\u001b[39m\u001b[33mmeasurements\u001b[39m\u001b[33m'\u001b[39m,\n\u001b[32m   (...)\u001b[39m\u001b[32m    938\u001b[39m         },\n\u001b[32m    939\u001b[39m     }\n",
      "\u001b[36mFile \u001b[39m\u001b[32m/usr/local/lib/python3.12/site-packages/opendp/_lib.py:282\u001b[39m, in \u001b[36munwrap\u001b[39m\u001b[34m(result, type_)\u001b[39m\n\u001b[32m    280\u001b[39m     \u001b[38;5;28;01mif\u001b[39;00m \u001b[33m'\u001b[39m\u001b[33mpolars\u001b[39m\u001b[33m'\u001b[39m \u001b[38;5;129;01min\u001b[39;00m \u001b[38;5;28mstr\u001b[39m(message).lower() \u001b[38;5;129;01mand\u001b[39;00m pl.__version__ != _EXPECTED_POLARS_VERSION:\n\u001b[32m    281\u001b[39m         message = \u001b[33mf\u001b[39m\u001b[33m'\u001b[39m\u001b[33mInstalled python polars version (\u001b[39m\u001b[38;5;132;01m{\u001b[39;00mpl.__version__\u001b[38;5;132;01m}\u001b[39;00m\u001b[33m) != expected version (\u001b[39m\u001b[38;5;132;01m{\u001b[39;00m_EXPECTED_POLARS_VERSION\u001b[38;5;132;01m}\u001b[39;00m\u001b[33m). \u001b[39m\u001b[38;5;132;01m{\u001b[39;00mmessage\u001b[38;5;132;01m}\u001b[39;00m\u001b[33m'\u001b[39m \u001b[38;5;66;03m# pragma: no cover\u001b[39;00m\n\u001b[32m--> \u001b[39m\u001b[32m282\u001b[39m \u001b[38;5;28;01mraise\u001b[39;00m OpenDPException(variant, message, backtrace)\n",
      "\u001b[31mOpenDPException\u001b[39m: \n  MakeMeasurement(\"Expr is not recognized at this time: col(\"HWUSUAL\").fill_null([dyn int: 35])./usr/local/lib/python3.12/site-packages/opendp/lib/opendp.abi3.so:discrete_quantile_score([dyn float: 0.25, Series])./usr/local/lib/python3.12/site-packages/opendp/lib/opendp.abi3.so:report_noisy_max([String(min), null]). If you would like to see this supported, please file an issue.\")",
      "Predicate in binary search always raises an exception. This exception is raised when the predicate is evaluated at 0.0."
     ]
    }
   ],
   "source": [
    "candidates = list(range(20, 60))\n",
    "\n",
    "query_multi_quantiles = (\n",
    "    context.query()\n",
    "    .filter(pl.col.HWUSUAL != 99.0)\n",
    "    .select(\n",
    "        pl.col.HWUSUAL\n",
    "        .fill_null(35)\n",
    "        .dp.quantile(a, candidates)\n",
    "        .alias(f\"{a}-Quantile\")\n",
    "        for a in [0.25, 0.5, 0.75]\n",
    "    )\n",
    ")\n",
    "\n",
    "print(query_multi_quantiles.release().collect())\n",
    "query_multi_quantiles.summarize()"
   ]
  },
  {
   "cell_type": "markdown",
   "id": "da880831",
   "metadata": {},
   "source": [
    "## Grouper "
   ]
  },
  {
   "cell_type": "markdown",
   "id": "762b69a6",
   "metadata": {},
   "source": [
    "### Pas d'info sur les classes ? -> On ne publie qu'à partir d'un certain seuil"
   ]
  },
  {
   "cell_type": "code",
   "execution_count": 37,
   "id": "a344dbc2",
   "metadata": {},
   "outputs": [
    {
     "data": {
      "text/html": [
       "<div><style>\n",
       ".dataframe > thead > tr,\n",
       ".dataframe > tbody > tr {\n",
       "  text-align: right;\n",
       "  white-space: pre-wrap;\n",
       "}\n",
       "</style>\n",
       "<small>shape: (1, 6)</small><table border=\"1\" class=\"dataframe\"><thead><tr><th>column</th><th>aggregate</th><th>distribution</th><th>scale</th><th>accuracy</th><th>threshold</th></tr><tr><td>str</td><td>str</td><td>str</td><td>f64</td><td>f64</td><td>u32</td></tr></thead><tbody><tr><td>&quot;len&quot;</td><td>&quot;Frame Length&quot;</td><td>&quot;Integer Laplace&quot;</td><td>144.0</td><td>431.884579</td><td>2773</td></tr></tbody></table></div>"
      ],
      "text/plain": [
       "shape: (1, 6)\n",
       "┌────────┬──────────────┬─────────────────┬───────┬────────────┬───────────┐\n",
       "│ column ┆ aggregate    ┆ distribution    ┆ scale ┆ accuracy   ┆ threshold │\n",
       "│ ---    ┆ ---          ┆ ---             ┆ ---   ┆ ---        ┆ ---       │\n",
       "│ str    ┆ str          ┆ str             ┆ f64   ┆ f64        ┆ u32       │\n",
       "╞════════╪══════════════╪═════════════════╪═══════╪════════════╪═══════════╡\n",
       "│ len    ┆ Frame Length ┆ Integer Laplace ┆ 144.0 ┆ 431.884579 ┆ 2773      │\n",
       "└────────┴──────────────┴─────────────────┴───────┴────────────┴───────────┘"
      ]
     },
     "execution_count": 37,
     "metadata": {},
     "output_type": "execute_result"
    }
   ],
   "source": [
    "context = dp.Context.compositor(\n",
    "    # Many columns contain mixtures of strings and numbers and cannot be parsed as floats,\n",
    "    # so we'll set `ignore_errors` to true to avoid conversion errors.\n",
    "    data=pl.scan_csv(dp.examples.get_france_lfs_path(), ignore_errors=True),\n",
    "    privacy_unit=dp.unit_of(contributions=36),\n",
    "    privacy_loss=dp.loss_of(epsilon=1.0 / 4, delta=1e-7),\n",
    "    # allow for one query\n",
    "    split_evenly_over=1,\n",
    ")\n",
    "\n",
    "query_age_ilostat = (\n",
    "    context.query()\n",
    "    .group_by(\"AGE\", \"ILOSTAT\")\n",
    "    .agg(dp.len())\n",
    ")\n",
    "\n",
    "query_age_ilostat.summarize(alpha=.05)"
   ]
  },
  {
   "cell_type": "code",
   "execution_count": 38,
   "id": "a0bf317c",
   "metadata": {},
   "outputs": [
    {
     "data": {
      "text/html": [
       "<script type=\"esms-options\">{\"shimMode\": true}</script><style>*[data-root-id],\n",
       "*[data-root-id] > * {\n",
       "  box-sizing: border-box;\n",
       "  font-family: var(--jp-ui-font-family);\n",
       "  font-size: var(--jp-ui-font-size1);\n",
       "  color: var(--vscode-editor-foreground, var(--jp-ui-font-color1));\n",
       "}\n",
       "\n",
       "/* Override VSCode background color */\n",
       ".cell-output-ipywidget-background:has(\n",
       "    > .cell-output-ipywidget-background > .lm-Widget > *[data-root-id]\n",
       "  ),\n",
       ".cell-output-ipywidget-background:has(> .lm-Widget > *[data-root-id]) {\n",
       "  background-color: transparent !important;\n",
       "}\n",
       "</style>"
      ]
     },
     "metadata": {},
     "output_type": "display_data"
    },
    {
     "data": {
      "application/javascript": "(function(root) {\n  function now() {\n    return new Date();\n  }\n\n  const force = true;\n  const py_version = '3.7.2'.replace('rc', '-rc.').replace('.dev', '-dev.');\n  const reloading = false;\n  const Bokeh = root.Bokeh;\n\n  // Set a timeout for this load but only if we are not already initializing\n  if (typeof (root._bokeh_timeout) === \"undefined\" || (force || !root._bokeh_is_initializing)) {\n    root._bokeh_timeout = Date.now() + 5000;\n    root._bokeh_failed_load = false;\n  }\n\n  function run_callbacks() {\n    try {\n      root._bokeh_onload_callbacks.forEach(function(callback) {\n        if (callback != null)\n          callback();\n      });\n    } finally {\n      delete root._bokeh_onload_callbacks;\n    }\n    console.debug(\"Bokeh: all callbacks have finished\");\n  }\n\n  function load_libs(css_urls, js_urls, js_modules, js_exports, callback) {\n    if (css_urls == null) css_urls = [];\n    if (js_urls == null) js_urls = [];\n    if (js_modules == null) js_modules = [];\n    if (js_exports == null) js_exports = {};\n\n    root._bokeh_onload_callbacks.push(callback);\n\n    if (root._bokeh_is_loading > 0) {\n      // Don't load bokeh if it is still initializing\n      console.debug(\"Bokeh: BokehJS is being loaded, scheduling callback at\", now());\n      return null;\n    } else if (js_urls.length === 0 && js_modules.length === 0 && Object.keys(js_exports).length === 0) {\n      // There is nothing to load\n      run_callbacks();\n      return null;\n    }\n\n    function on_load() {\n      root._bokeh_is_loading--;\n      if (root._bokeh_is_loading === 0) {\n        console.debug(\"Bokeh: all BokehJS libraries/stylesheets loaded\");\n        run_callbacks()\n      }\n    }\n    window._bokeh_on_load = on_load\n\n    function on_error(e) {\n      const src_el = e.srcElement\n      console.error(\"failed to load \" + (src_el.href || src_el.src));\n    }\n\n    const skip = [];\n    if (window.requirejs) {\n      window.requirejs.config({'packages': {}, 'paths': {}, 'shim': {}});\n      root._bokeh_is_loading = css_urls.length + 0;\n    } else {\n      root._bokeh_is_loading = css_urls.length + js_urls.length + js_modules.length + Object.keys(js_exports).length;\n    }\n\n    const existing_stylesheets = []\n    const links = document.getElementsByTagName('link')\n    for (let i = 0; i < links.length; i++) {\n      const link = links[i]\n      if (link.href != null) {\n        existing_stylesheets.push(link.href)\n      }\n    }\n    for (let i = 0; i < css_urls.length; i++) {\n      const url = css_urls[i];\n      const escaped = encodeURI(url)\n      if (existing_stylesheets.indexOf(escaped) !== -1) {\n        on_load()\n        continue;\n      }\n      const element = document.createElement(\"link\");\n      element.onload = on_load;\n      element.onerror = on_error;\n      element.rel = \"stylesheet\";\n      element.type = \"text/css\";\n      element.href = url;\n      console.debug(\"Bokeh: injecting link tag for BokehJS stylesheet: \", url);\n      document.body.appendChild(element);\n    }    var existing_scripts = []\n    const scripts = document.getElementsByTagName('script')\n    for (let i = 0; i < scripts.length; i++) {\n      var script = scripts[i]\n      if (script.src != null) {\n        existing_scripts.push(script.src)\n      }\n    }\n    for (let i = 0; i < js_urls.length; i++) {\n      const url = js_urls[i];\n      const escaped = encodeURI(url)\n      if (skip.indexOf(escaped) !== -1 || existing_scripts.indexOf(escaped) !== -1) {\n        if (!window.requirejs) {\n          on_load();\n        }\n        continue;\n      }\n      const element = document.createElement('script');\n      element.onload = on_load;\n      element.onerror = on_error;\n      element.async = false;\n      element.src = url;\n      console.debug(\"Bokeh: injecting script tag for BokehJS library: \", url);\n      document.head.appendChild(element);\n    }\n    for (let i = 0; i < js_modules.length; i++) {\n      const url = js_modules[i];\n      const escaped = encodeURI(url)\n      if (skip.indexOf(escaped) !== -1 || existing_scripts.indexOf(escaped) !== -1) {\n        if (!window.requirejs) {\n          on_load();\n        }\n        continue;\n      }\n      var element = document.createElement('script');\n      element.onload = on_load;\n      element.onerror = on_error;\n      element.async = false;\n      element.src = url;\n      element.type = \"module\";\n      console.debug(\"Bokeh: injecting script tag for BokehJS library: \", url);\n      document.head.appendChild(element);\n    }\n    for (const name in js_exports) {\n      const url = js_exports[name];\n      const escaped = encodeURI(url)\n      if (skip.indexOf(escaped) >= 0 || root[name] != null) {\n        if (!window.requirejs) {\n          on_load();\n        }\n        continue;\n      }\n      var element = document.createElement('script');\n      element.onerror = on_error;\n      element.async = false;\n      element.type = \"module\";\n      console.debug(\"Bokeh: injecting script tag for BokehJS library: \", url);\n      element.textContent = `\n      import ${name} from \"${url}\"\n      window.${name} = ${name}\n      window._bokeh_on_load()\n      `\n      document.head.appendChild(element);\n    }\n    if (!js_urls.length && !js_modules.length) {\n      on_load()\n    }\n  };\n\n  function inject_raw_css(css) {\n    const element = document.createElement(\"style\");\n    element.appendChild(document.createTextNode(css));\n    document.body.appendChild(element);\n  }\n\n  const js_urls = [\"https://cdn.holoviz.org/panel/1.6.3/dist/bundled/reactiveesm/es-module-shims@^1.10.0/dist/es-module-shims.min.js\", \"https://cdn.bokeh.org/bokeh/release/bokeh-3.7.2.min.js\", \"https://cdn.bokeh.org/bokeh/release/bokeh-gl-3.7.2.min.js\", \"https://cdn.bokeh.org/bokeh/release/bokeh-widgets-3.7.2.min.js\", \"https://cdn.bokeh.org/bokeh/release/bokeh-tables-3.7.2.min.js\", \"https://cdn.holoviz.org/panel/1.6.3/dist/panel.min.js\"];\n  const js_modules = [];\n  const js_exports = {};\n  const css_urls = [];\n  const inline_js = [    function(Bokeh) {\n      Bokeh.set_log_level(\"info\");\n    },\nfunction(Bokeh) {} // ensure no trailing comma for IE\n  ];\n\n  function run_inline_js() {\n    if ((root.Bokeh !== undefined) || (force === true)) {\n      for (let i = 0; i < inline_js.length; i++) {\n        try {\n          inline_js[i].call(root, root.Bokeh);\n        } catch(e) {\n          if (!reloading) {\n            throw e;\n          }\n        }\n      }\n      // Cache old bokeh versions\n      if (Bokeh != undefined && !reloading) {\n        var NewBokeh = root.Bokeh;\n        if (Bokeh.versions === undefined) {\n          Bokeh.versions = new Map();\n        }\n        if (NewBokeh.version !== Bokeh.version) {\n          Bokeh.versions.set(NewBokeh.version, NewBokeh)\n        }\n        root.Bokeh = Bokeh;\n      }\n    } else if (Date.now() < root._bokeh_timeout) {\n      setTimeout(run_inline_js, 100);\n    } else if (!root._bokeh_failed_load) {\n      console.log(\"Bokeh: BokehJS failed to load within specified timeout.\");\n      root._bokeh_failed_load = true;\n    }\n    root._bokeh_is_initializing = false\n  }\n\n  function load_or_wait() {\n    // Implement a backoff loop that tries to ensure we do not load multiple\n    // versions of Bokeh and its dependencies at the same time.\n    // In recent versions we use the root._bokeh_is_initializing flag\n    // to determine whether there is an ongoing attempt to initialize\n    // bokeh, however for backward compatibility we also try to ensure\n    // that we do not start loading a newer (Panel>=1.0 and Bokeh>3) version\n    // before older versions are fully initialized.\n    if (root._bokeh_is_initializing && Date.now() > root._bokeh_timeout) {\n      // If the timeout and bokeh was not successfully loaded we reset\n      // everything and try loading again\n      root._bokeh_timeout = Date.now() + 5000;\n      root._bokeh_is_initializing = false;\n      root._bokeh_onload_callbacks = undefined;\n      root._bokeh_is_loading = 0\n      console.log(\"Bokeh: BokehJS was loaded multiple times but one version failed to initialize.\");\n      load_or_wait();\n    } else if (root._bokeh_is_initializing || (typeof root._bokeh_is_initializing === \"undefined\" && root._bokeh_onload_callbacks !== undefined)) {\n      setTimeout(load_or_wait, 100);\n    } else {\n      root._bokeh_is_initializing = true\n      root._bokeh_onload_callbacks = []\n      const bokeh_loaded = root.Bokeh != null && (root.Bokeh.version === py_version || (root.Bokeh.versions !== undefined && root.Bokeh.versions.has(py_version)));\n      if (!reloading && !bokeh_loaded) {\n        if (root.Bokeh) {\n          root.Bokeh = undefined;\n        }\n        console.debug(\"Bokeh: BokehJS not loaded, scheduling load and callback at\", now());\n      }\n      load_libs(css_urls, js_urls, js_modules, js_exports, function() {\n        console.debug(\"Bokeh: BokehJS plotting callback run at\", now());\n        run_inline_js();\n      });\n    }\n  }\n  // Give older versions of the autoload script a head-start to ensure\n  // they initialize before we start loading newer version.\n  setTimeout(load_or_wait, 100)\n}(window));",
      "application/vnd.holoviews_load.v0+json": ""
     },
     "metadata": {},
     "output_type": "display_data"
    },
    {
     "data": {
      "application/javascript": "\nif ((window.PyViz === undefined) || (window.PyViz instanceof HTMLElement)) {\n  window.PyViz = {comms: {}, comm_status:{}, kernels:{}, receivers: {}, plot_index: []}\n}\n\n\n    function JupyterCommManager() {\n    }\n\n    JupyterCommManager.prototype.register_target = function(plot_id, comm_id, msg_handler) {\n      if (window.comm_manager || ((window.Jupyter !== undefined) && (Jupyter.notebook.kernel != null))) {\n        var comm_manager = window.comm_manager || Jupyter.notebook.kernel.comm_manager;\n        comm_manager.register_target(comm_id, function(comm) {\n          comm.on_msg(msg_handler);\n        });\n      } else if ((plot_id in window.PyViz.kernels) && (window.PyViz.kernels[plot_id])) {\n        window.PyViz.kernels[plot_id].registerCommTarget(comm_id, function(comm) {\n          comm.onMsg = msg_handler;\n        });\n      } else if (typeof google != 'undefined' && google.colab.kernel != null) {\n        google.colab.kernel.comms.registerTarget(comm_id, (comm) => {\n          var messages = comm.messages[Symbol.asyncIterator]();\n          function processIteratorResult(result) {\n            var message = result.value;\n            console.log(message)\n            var content = {data: message.data, comm_id};\n            var buffers = []\n            for (var buffer of message.buffers || []) {\n              buffers.push(new DataView(buffer))\n            }\n            var metadata = message.metadata || {};\n            var msg = {content, buffers, metadata}\n            msg_handler(msg);\n            return messages.next().then(processIteratorResult);\n          }\n          return messages.next().then(processIteratorResult);\n        })\n      }\n    }\n\n    JupyterCommManager.prototype.get_client_comm = function(plot_id, comm_id, msg_handler) {\n      if (comm_id in window.PyViz.comms) {\n        return window.PyViz.comms[comm_id];\n      } else if (window.comm_manager || ((window.Jupyter !== undefined) && (Jupyter.notebook.kernel != null))) {\n        var comm_manager = window.comm_manager || Jupyter.notebook.kernel.comm_manager;\n        var comm = comm_manager.new_comm(comm_id, {}, {}, {}, comm_id);\n        if (msg_handler) {\n          comm.on_msg(msg_handler);\n        }\n      } else if ((plot_id in window.PyViz.kernels) && (window.PyViz.kernels[plot_id])) {\n        var comm = window.PyViz.kernels[plot_id].connectToComm(comm_id);\n        comm.open();\n        if (msg_handler) {\n          comm.onMsg = msg_handler;\n        }\n      } else if (typeof google != 'undefined' && google.colab.kernel != null) {\n        var comm_promise = google.colab.kernel.comms.open(comm_id)\n        comm_promise.then((comm) => {\n          window.PyViz.comms[comm_id] = comm;\n          if (msg_handler) {\n            var messages = comm.messages[Symbol.asyncIterator]();\n            function processIteratorResult(result) {\n              var message = result.value;\n              var content = {data: message.data};\n              var metadata = message.metadata || {comm_id};\n              var msg = {content, metadata}\n              msg_handler(msg);\n              return messages.next().then(processIteratorResult);\n            }\n            return messages.next().then(processIteratorResult);\n          }\n        })\n        var sendClosure = (data, metadata, buffers, disposeOnDone) => {\n          return comm_promise.then((comm) => {\n            comm.send(data, metadata, buffers, disposeOnDone);\n          });\n        };\n        var comm = {\n          send: sendClosure\n        };\n      }\n      window.PyViz.comms[comm_id] = comm;\n      return comm;\n    }\n    window.PyViz.comm_manager = new JupyterCommManager();\n    \n\n\nvar JS_MIME_TYPE = 'application/javascript';\nvar HTML_MIME_TYPE = 'text/html';\nvar EXEC_MIME_TYPE = 'application/vnd.holoviews_exec.v0+json';\nvar CLASS_NAME = 'output';\n\n/**\n * Render data to the DOM node\n */\nfunction render(props, node) {\n  var div = document.createElement(\"div\");\n  var script = document.createElement(\"script\");\n  node.appendChild(div);\n  node.appendChild(script);\n}\n\n/**\n * Handle when a new output is added\n */\nfunction handle_add_output(event, handle) {\n  var output_area = handle.output_area;\n  var output = handle.output;\n  if ((output.data == undefined) || (!output.data.hasOwnProperty(EXEC_MIME_TYPE))) {\n    return\n  }\n  var id = output.metadata[EXEC_MIME_TYPE][\"id\"];\n  var toinsert = output_area.element.find(\".\" + CLASS_NAME.split(' ')[0]);\n  if (id !== undefined) {\n    var nchildren = toinsert.length;\n    var html_node = toinsert[nchildren-1].children[0];\n    html_node.innerHTML = output.data[HTML_MIME_TYPE];\n    var scripts = [];\n    var nodelist = html_node.querySelectorAll(\"script\");\n    for (var i in nodelist) {\n      if (nodelist.hasOwnProperty(i)) {\n        scripts.push(nodelist[i])\n      }\n    }\n\n    scripts.forEach( function (oldScript) {\n      var newScript = document.createElement(\"script\");\n      var attrs = [];\n      var nodemap = oldScript.attributes;\n      for (var j in nodemap) {\n        if (nodemap.hasOwnProperty(j)) {\n          attrs.push(nodemap[j])\n        }\n      }\n      attrs.forEach(function(attr) { newScript.setAttribute(attr.name, attr.value) });\n      newScript.appendChild(document.createTextNode(oldScript.innerHTML));\n      oldScript.parentNode.replaceChild(newScript, oldScript);\n    });\n    if (JS_MIME_TYPE in output.data) {\n      toinsert[nchildren-1].children[1].textContent = output.data[JS_MIME_TYPE];\n    }\n    output_area._hv_plot_id = id;\n    if ((window.Bokeh !== undefined) && (id in Bokeh.index)) {\n      window.PyViz.plot_index[id] = Bokeh.index[id];\n    } else {\n      window.PyViz.plot_index[id] = null;\n    }\n  } else if (output.metadata[EXEC_MIME_TYPE][\"server_id\"] !== undefined) {\n    var bk_div = document.createElement(\"div\");\n    bk_div.innerHTML = output.data[HTML_MIME_TYPE];\n    var script_attrs = bk_div.children[0].attributes;\n    for (var i = 0; i < script_attrs.length; i++) {\n      toinsert[toinsert.length - 1].childNodes[1].setAttribute(script_attrs[i].name, script_attrs[i].value);\n    }\n    // store reference to server id on output_area\n    output_area._bokeh_server_id = output.metadata[EXEC_MIME_TYPE][\"server_id\"];\n  }\n}\n\n/**\n * Handle when an output is cleared or removed\n */\nfunction handle_clear_output(event, handle) {\n  var id = handle.cell.output_area._hv_plot_id;\n  var server_id = handle.cell.output_area._bokeh_server_id;\n  if (((id === undefined) || !(id in PyViz.plot_index)) && (server_id !== undefined)) { return; }\n  var comm = window.PyViz.comm_manager.get_client_comm(\"hv-extension-comm\", \"hv-extension-comm\", function () {});\n  if (server_id !== null) {\n    comm.send({event_type: 'server_delete', 'id': server_id});\n    return;\n  } else if (comm !== null) {\n    comm.send({event_type: 'delete', 'id': id});\n  }\n  delete PyViz.plot_index[id];\n  if ((window.Bokeh !== undefined) & (id in window.Bokeh.index)) {\n    var doc = window.Bokeh.index[id].model.document\n    doc.clear();\n    const i = window.Bokeh.documents.indexOf(doc);\n    if (i > -1) {\n      window.Bokeh.documents.splice(i, 1);\n    }\n  }\n}\n\n/**\n * Handle kernel restart event\n */\nfunction handle_kernel_cleanup(event, handle) {\n  delete PyViz.comms[\"hv-extension-comm\"];\n  window.PyViz.plot_index = {}\n}\n\n/**\n * Handle update_display_data messages\n */\nfunction handle_update_output(event, handle) {\n  handle_clear_output(event, {cell: {output_area: handle.output_area}})\n  handle_add_output(event, handle)\n}\n\nfunction register_renderer(events, OutputArea) {\n  function append_mime(data, metadata, element) {\n    // create a DOM node to render to\n    var toinsert = this.create_output_subarea(\n    metadata,\n    CLASS_NAME,\n    EXEC_MIME_TYPE\n    );\n    this.keyboard_manager.register_events(toinsert);\n    // Render to node\n    var props = {data: data, metadata: metadata[EXEC_MIME_TYPE]};\n    render(props, toinsert[0]);\n    element.append(toinsert);\n    return toinsert\n  }\n\n  events.on('output_added.OutputArea', handle_add_output);\n  events.on('output_updated.OutputArea', handle_update_output);\n  events.on('clear_output.CodeCell', handle_clear_output);\n  events.on('delete.Cell', handle_clear_output);\n  events.on('kernel_ready.Kernel', handle_kernel_cleanup);\n\n  OutputArea.prototype.register_mime_type(EXEC_MIME_TYPE, append_mime, {\n    safe: true,\n    index: 0\n  });\n}\n\nif (window.Jupyter !== undefined) {\n  try {\n    var events = require('base/js/events');\n    var OutputArea = require('notebook/js/outputarea').OutputArea;\n    if (OutputArea.prototype.mime_types().indexOf(EXEC_MIME_TYPE) == -1) {\n      register_renderer(events, OutputArea);\n    }\n  } catch(err) {\n  }\n}\n",
      "application/vnd.holoviews_load.v0+json": ""
     },
     "metadata": {},
     "output_type": "display_data"
    },
    {
     "data": {
      "application/vnd.holoviews_exec.v0+json": "",
      "text/html": [
       "<div id='67d5b07a-5748-4bd4-a7c3-26b35935a64d'>\n",
       "  <div id=\"bfcad9fa-7f9f-4c5d-ba46-9795b35c6203\" data-root-id=\"67d5b07a-5748-4bd4-a7c3-26b35935a64d\" style=\"display: contents;\"></div>\n",
       "</div>\n",
       "<script type=\"application/javascript\">(function(root) {\n",
       "  var docs_json = {\"a14e6312-0354-4a02-8465-5c06a3cb77ce\":{\"version\":\"3.7.2\",\"title\":\"Bokeh Application\",\"roots\":[{\"type\":\"object\",\"name\":\"panel.models.browser.BrowserInfo\",\"id\":\"67d5b07a-5748-4bd4-a7c3-26b35935a64d\"},{\"type\":\"object\",\"name\":\"panel.models.comm_manager.CommManager\",\"id\":\"6bb27f2f-20db-426c-9de4-25c202422f35\",\"attributes\":{\"plot_id\":\"67d5b07a-5748-4bd4-a7c3-26b35935a64d\",\"comm_id\":\"09624b779f8d4661a139c56b87880e99\",\"client_comm_id\":\"adbe64f106514eabb64374b7b6da6928\"}}],\"defs\":[{\"type\":\"model\",\"name\":\"ReactiveHTML1\"},{\"type\":\"model\",\"name\":\"FlexBox1\",\"properties\":[{\"name\":\"align_content\",\"kind\":\"Any\",\"default\":\"flex-start\"},{\"name\":\"align_items\",\"kind\":\"Any\",\"default\":\"flex-start\"},{\"name\":\"flex_direction\",\"kind\":\"Any\",\"default\":\"row\"},{\"name\":\"flex_wrap\",\"kind\":\"Any\",\"default\":\"wrap\"},{\"name\":\"gap\",\"kind\":\"Any\",\"default\":\"\"},{\"name\":\"justify_content\",\"kind\":\"Any\",\"default\":\"flex-start\"}]},{\"type\":\"model\",\"name\":\"FloatPanel1\",\"properties\":[{\"name\":\"config\",\"kind\":\"Any\",\"default\":{\"type\":\"map\"}},{\"name\":\"contained\",\"kind\":\"Any\",\"default\":true},{\"name\":\"position\",\"kind\":\"Any\",\"default\":\"right-top\"},{\"name\":\"offsetx\",\"kind\":\"Any\",\"default\":null},{\"name\":\"offsety\",\"kind\":\"Any\",\"default\":null},{\"name\":\"theme\",\"kind\":\"Any\",\"default\":\"primary\"},{\"name\":\"status\",\"kind\":\"Any\",\"default\":\"normalized\"}]},{\"type\":\"model\",\"name\":\"GridStack1\",\"properties\":[{\"name\":\"ncols\",\"kind\":\"Any\",\"default\":null},{\"name\":\"nrows\",\"kind\":\"Any\",\"default\":null},{\"name\":\"allow_resize\",\"kind\":\"Any\",\"default\":true},{\"name\":\"allow_drag\",\"kind\":\"Any\",\"default\":true},{\"name\":\"state\",\"kind\":\"Any\",\"default\":[]}]},{\"type\":\"model\",\"name\":\"drag1\",\"properties\":[{\"name\":\"slider_width\",\"kind\":\"Any\",\"default\":5},{\"name\":\"slider_color\",\"kind\":\"Any\",\"default\":\"black\"},{\"name\":\"value\",\"kind\":\"Any\",\"default\":50}]},{\"type\":\"model\",\"name\":\"click1\",\"properties\":[{\"name\":\"terminal_output\",\"kind\":\"Any\",\"default\":\"\"},{\"name\":\"debug_name\",\"kind\":\"Any\",\"default\":\"\"},{\"name\":\"clears\",\"kind\":\"Any\",\"default\":0}]},{\"type\":\"model\",\"name\":\"FastWrapper1\",\"properties\":[{\"name\":\"object\",\"kind\":\"Any\",\"default\":null},{\"name\":\"style\",\"kind\":\"Any\",\"default\":null}]},{\"type\":\"model\",\"name\":\"NotificationArea1\",\"properties\":[{\"name\":\"js_events\",\"kind\":\"Any\",\"default\":{\"type\":\"map\"}},{\"name\":\"max_notifications\",\"kind\":\"Any\",\"default\":5},{\"name\":\"notifications\",\"kind\":\"Any\",\"default\":[]},{\"name\":\"position\",\"kind\":\"Any\",\"default\":\"bottom-right\"},{\"name\":\"_clear\",\"kind\":\"Any\",\"default\":0},{\"name\":\"types\",\"kind\":\"Any\",\"default\":[{\"type\":\"map\",\"entries\":[[\"type\",\"warning\"],[\"background\",\"#ffc107\"],[\"icon\",{\"type\":\"map\",\"entries\":[[\"className\",\"fas fa-exclamation-triangle\"],[\"tagName\",\"i\"],[\"color\",\"white\"]]}]]},{\"type\":\"map\",\"entries\":[[\"type\",\"info\"],[\"background\",\"#007bff\"],[\"icon\",{\"type\":\"map\",\"entries\":[[\"className\",\"fas fa-info-circle\"],[\"tagName\",\"i\"],[\"color\",\"white\"]]}]]}]}]},{\"type\":\"model\",\"name\":\"Notification\",\"properties\":[{\"name\":\"background\",\"kind\":\"Any\",\"default\":null},{\"name\":\"duration\",\"kind\":\"Any\",\"default\":3000},{\"name\":\"icon\",\"kind\":\"Any\",\"default\":null},{\"name\":\"message\",\"kind\":\"Any\",\"default\":\"\"},{\"name\":\"notification_type\",\"kind\":\"Any\",\"default\":null},{\"name\":\"_rendered\",\"kind\":\"Any\",\"default\":false},{\"name\":\"_destroyed\",\"kind\":\"Any\",\"default\":false}]},{\"type\":\"model\",\"name\":\"TemplateActions1\",\"properties\":[{\"name\":\"open_modal\",\"kind\":\"Any\",\"default\":0},{\"name\":\"close_modal\",\"kind\":\"Any\",\"default\":0}]},{\"type\":\"model\",\"name\":\"BootstrapTemplateActions1\",\"properties\":[{\"name\":\"open_modal\",\"kind\":\"Any\",\"default\":0},{\"name\":\"close_modal\",\"kind\":\"Any\",\"default\":0}]},{\"type\":\"model\",\"name\":\"TemplateEditor1\",\"properties\":[{\"name\":\"layout\",\"kind\":\"Any\",\"default\":[]}]},{\"type\":\"model\",\"name\":\"MaterialTemplateActions1\",\"properties\":[{\"name\":\"open_modal\",\"kind\":\"Any\",\"default\":0},{\"name\":\"close_modal\",\"kind\":\"Any\",\"default\":0}]},{\"type\":\"model\",\"name\":\"ReactiveESM1\",\"properties\":[{\"name\":\"esm_constants\",\"kind\":\"Any\",\"default\":{\"type\":\"map\"}}]},{\"type\":\"model\",\"name\":\"JSComponent1\",\"properties\":[{\"name\":\"esm_constants\",\"kind\":\"Any\",\"default\":{\"type\":\"map\"}}]},{\"type\":\"model\",\"name\":\"ReactComponent1\",\"properties\":[{\"name\":\"esm_constants\",\"kind\":\"Any\",\"default\":{\"type\":\"map\"}}]},{\"type\":\"model\",\"name\":\"AnyWidgetComponent1\",\"properties\":[{\"name\":\"esm_constants\",\"kind\":\"Any\",\"default\":{\"type\":\"map\"}}]},{\"type\":\"model\",\"name\":\"request_value1\",\"properties\":[{\"name\":\"fill\",\"kind\":\"Any\",\"default\":\"none\"},{\"name\":\"_synced\",\"kind\":\"Any\",\"default\":null},{\"name\":\"_request_sync\",\"kind\":\"Any\",\"default\":0}]}]}};\n",
       "  var render_items = [{\"docid\":\"a14e6312-0354-4a02-8465-5c06a3cb77ce\",\"roots\":{\"67d5b07a-5748-4bd4-a7c3-26b35935a64d\":\"bfcad9fa-7f9f-4c5d-ba46-9795b35c6203\"},\"root_ids\":[\"67d5b07a-5748-4bd4-a7c3-26b35935a64d\"]}];\n",
       "  var docs = Object.values(docs_json)\n",
       "  if (!docs) {\n",
       "    return\n",
       "  }\n",
       "  const py_version = docs[0].version.replace('rc', '-rc.').replace('.dev', '-dev.')\n",
       "  async function embed_document(root) {\n",
       "    var Bokeh = get_bokeh(root)\n",
       "    await Bokeh.embed.embed_items_notebook(docs_json, render_items);\n",
       "    for (const render_item of render_items) {\n",
       "      for (const root_id of render_item.root_ids) {\n",
       "\tconst id_el = document.getElementById(root_id)\n",
       "\tif (id_el.children.length && id_el.children[0].hasAttribute('data-root-id')) {\n",
       "\t  const root_el = id_el.children[0]\n",
       "\t  root_el.id = root_el.id + '-rendered'\n",
       "\t  for (const child of root_el.children) {\n",
       "            // Ensure JupyterLab does not capture keyboard shortcuts\n",
       "            // see: https://jupyterlab.readthedocs.io/en/4.1.x/extension/notebook.html#keyboard-interaction-model\n",
       "\t    child.setAttribute('data-lm-suppress-shortcuts', 'true')\n",
       "\t  }\n",
       "\t}\n",
       "      }\n",
       "    }\n",
       "  }\n",
       "  function get_bokeh(root) {\n",
       "    if (root.Bokeh === undefined) {\n",
       "      return null\n",
       "    } else if (root.Bokeh.version !== py_version) {\n",
       "      if (root.Bokeh.versions === undefined || !root.Bokeh.versions.has(py_version)) {\n",
       "\treturn null\n",
       "      }\n",
       "      return root.Bokeh.versions.get(py_version);\n",
       "    } else if (root.Bokeh.version === py_version) {\n",
       "      return root.Bokeh\n",
       "    }\n",
       "    return null\n",
       "  }\n",
       "  function is_loaded(root) {\n",
       "    var Bokeh = get_bokeh(root)\n",
       "    return (Bokeh != null && Bokeh.Panel !== undefined)\n",
       "  }\n",
       "  if (is_loaded(root)) {\n",
       "    embed_document(root);\n",
       "  } else {\n",
       "    var attempts = 0;\n",
       "    var timer = setInterval(function(root) {\n",
       "      if (is_loaded(root)) {\n",
       "        clearInterval(timer);\n",
       "        embed_document(root);\n",
       "      } else if (document.readyState == \"complete\") {\n",
       "        attempts++;\n",
       "        if (attempts > 200) {\n",
       "          clearInterval(timer);\n",
       "\t  var Bokeh = get_bokeh(root)\n",
       "\t  if (Bokeh == null || Bokeh.Panel == null) {\n",
       "            console.warn(\"Panel: ERROR: Unable to run Panel code because Bokeh or Panel library is missing\");\n",
       "\t  } else {\n",
       "\t    console.warn(\"Panel: WARNING: Attempting to render but not all required libraries could be resolved.\")\n",
       "\t    embed_document(root)\n",
       "\t  }\n",
       "        }\n",
       "      }\n",
       "    }, 25, root)\n",
       "  }\n",
       "})(window);</script>"
      ]
     },
     "metadata": {
      "application/vnd.holoviews_exec.v0+json": {
       "id": "67d5b07a-5748-4bd4-a7c3-26b35935a64d"
      }
     },
     "output_type": "display_data"
    },
    {
     "data": {},
     "metadata": {},
     "output_type": "display_data"
    },
    {
     "data": {
      "application/vnd.holoviews_exec.v0+json": "",
      "text/html": [
       "<div id='8d2b769e-22de-4fda-b4b4-844a3cd84f40'>\n",
       "  <div id=\"bb3267a4-3cbd-4ca5-8c54-2583178a5800\" data-root-id=\"8d2b769e-22de-4fda-b4b4-844a3cd84f40\" style=\"display: contents;\"></div>\n",
       "</div>\n",
       "<script type=\"application/javascript\">(function(root) {\n",
       "  var docs_json = {\"d264eecf-d6ab-49d6-b645-6851f645c16a\":{\"version\":\"3.7.2\",\"title\":\"Bokeh Application\",\"roots\":[{\"type\":\"object\",\"name\":\"Row\",\"id\":\"8d2b769e-22de-4fda-b4b4-844a3cd84f40\",\"attributes\":{\"name\":\"Row00703\",\"tags\":[\"embedded\"],\"stylesheets\":[\"\\n:host(.pn-loading):before, .pn-loading:before {\\n  background-color: #c3c3c3;\\n  mask-size: auto calc(min(50%, 400px));\\n  -webkit-mask-size: auto calc(min(50%, 400px));\\n}\",{\"type\":\"object\",\"name\":\"ImportedStyleSheet\",\"id\":\"72c3aa1c-3553-4736-9c29-51c4b93e7f83\",\"attributes\":{\"url\":\"https://cdn.holoviz.org/panel/1.6.3/dist/css/loading.css\"}},{\"type\":\"object\",\"name\":\"ImportedStyleSheet\",\"id\":\"8541e372-bdd5-456f-8d93-c6828c1ba9dc\",\"attributes\":{\"url\":\"https://cdn.holoviz.org/panel/1.6.3/dist/css/listpanel.css\"}},{\"type\":\"object\",\"name\":\"ImportedStyleSheet\",\"id\":\"653a4f5d-17a9-4312-899f-f728e1eb0d0c\",\"attributes\":{\"url\":\"https://cdn.holoviz.org/panel/1.6.3/dist/bundled/theme/default.css\"}},{\"type\":\"object\",\"name\":\"ImportedStyleSheet\",\"id\":\"4cab0b4a-37a2-4da9-b857-fce64924ac44\",\"attributes\":{\"url\":\"https://cdn.holoviz.org/panel/1.6.3/dist/bundled/theme/native.css\"}}],\"min_width\":700,\"margin\":0,\"sizing_mode\":\"stretch_width\",\"align\":\"start\",\"children\":[{\"type\":\"object\",\"name\":\"Spacer\",\"id\":\"e2dd0095-c9f0-4124-9ee0-3fdff6316d91\",\"attributes\":{\"name\":\"HSpacer00707\",\"stylesheets\":[\"\\n:host(.pn-loading):before, .pn-loading:before {\\n  background-color: #c3c3c3;\\n  mask-size: auto calc(min(50%, 400px));\\n  -webkit-mask-size: auto calc(min(50%, 400px));\\n}\",{\"id\":\"72c3aa1c-3553-4736-9c29-51c4b93e7f83\"},{\"id\":\"653a4f5d-17a9-4312-899f-f728e1eb0d0c\"},{\"id\":\"4cab0b4a-37a2-4da9-b857-fce64924ac44\"}],\"margin\":0,\"sizing_mode\":\"stretch_width\",\"align\":\"start\"}},{\"type\":\"object\",\"name\":\"Figure\",\"id\":\"14b3b0fb-a738-4dd8-b580-83114d0f2dc1\",\"attributes\":{\"width\":700,\"height\":300,\"margin\":[5,10],\"sizing_mode\":\"fixed\",\"align\":\"start\",\"x_range\":{\"type\":\"object\",\"name\":\"Range1d\",\"id\":\"fab40f6b-231c-41c7-8138-f827a5aa444d\",\"attributes\":{\"name\":\"AGE\",\"tags\":[[[\"AGE\",null]],[]],\"start\":7.0,\"end\":75.0,\"reset_start\":7.0,\"reset_end\":75.0}},\"y_range\":{\"type\":\"object\",\"name\":\"Range1d\",\"id\":\"0583b9cd-7320-468d-b105-49fda0d919b0\",\"attributes\":{\"name\":\"len\",\"tags\":[[[\"len\",null]],{\"type\":\"map\",\"entries\":[[\"invert_yaxis\",false],[\"autorange\",false]]}],\"start\":-207.70000000000027,\"end\":39460.7,\"reset_start\":-207.70000000000027,\"reset_end\":39460.7}},\"x_scale\":{\"type\":\"object\",\"name\":\"LinearScale\",\"id\":\"c3768f97-c254-4f20-88e1-6865b2cd9890\"},\"y_scale\":{\"type\":\"object\",\"name\":\"LinearScale\",\"id\":\"27a97916-7daa-4c7f-8d78-9174cbcfe5f6\"},\"title\":{\"type\":\"object\",\"name\":\"Title\",\"id\":\"0b069eb0-6035-4291-b244-6a4e577551d3\",\"attributes\":{\"text_color\":\"black\",\"text_font_size\":\"12pt\"}},\"renderers\":[{\"type\":\"object\",\"name\":\"GlyphRenderer\",\"id\":\"0f776552-d735-4c00-8fe3-b2adef22781f\",\"attributes\":{\"name\":\"9\",\"data_source\":{\"type\":\"object\",\"name\":\"ColumnDataSource\",\"id\":\"c1960f43-e88c-407d-a1e3-97c09107646e\",\"attributes\":{\"selected\":{\"type\":\"object\",\"name\":\"Selection\",\"id\":\"f6919107-e16d-430a-84fe-a610ee6ae3dc\",\"attributes\":{\"indices\":[],\"line_indices\":[]}},\"selection_policy\":{\"type\":\"object\",\"name\":\"UnionRenderers\",\"id\":\"b1e97e04-d253-4014-8fd8-f7a13f778c93\"},\"data\":{\"type\":\"map\",\"entries\":[[\"AGE\",{\"type\":\"ndarray\",\"array\":{\"type\":\"bytes\",\"data\":\"AAAAAAAAHEA=\"},\"shape\":[1],\"dtype\":\"float64\",\"order\":\"little\"}],[\"len\",{\"type\":\"ndarray\",\"array\":{\"type\":\"bytes\",\"data\":\"O40AAA==\"},\"shape\":[1],\"dtype\":\"uint32\",\"order\":\"little\"}],[\"ILOSTAT\",[9]]]}}},\"view\":{\"type\":\"object\",\"name\":\"CDSView\",\"id\":\"20e371f5-b1f7-4ba0-89ed-704d04967203\",\"attributes\":{\"filter\":{\"type\":\"object\",\"name\":\"AllIndices\",\"id\":\"90a3ccc0-2393-472f-aed5-bc247c7e5172\"}}},\"glyph\":{\"type\":\"object\",\"name\":\"Line\",\"id\":\"6933d0a9-16cd-42e7-889d-8251f0a2fa6d\",\"attributes\":{\"tags\":[\"apply_ranges\"],\"x\":{\"type\":\"field\",\"field\":\"AGE\"},\"y\":{\"type\":\"field\",\"field\":\"len\"},\"line_color\":\"#30a2da\",\"line_width\":2}},\"selection_glyph\":{\"type\":\"object\",\"name\":\"Line\",\"id\":\"58bbd92e-f0eb-468b-8496-b37fcd8ab41e\",\"attributes\":{\"tags\":[\"apply_ranges\"],\"x\":{\"type\":\"field\",\"field\":\"AGE\"},\"y\":{\"type\":\"field\",\"field\":\"len\"},\"line_color\":\"#30a2da\",\"line_width\":2}},\"nonselection_glyph\":{\"type\":\"object\",\"name\":\"Line\",\"id\":\"9ffb1b05-d50d-4395-b8aa-608c3eff6e62\",\"attributes\":{\"tags\":[\"apply_ranges\"],\"x\":{\"type\":\"field\",\"field\":\"AGE\"},\"y\":{\"type\":\"field\",\"field\":\"len\"},\"line_color\":\"#30a2da\",\"line_alpha\":0.1,\"line_width\":2}},\"muted_glyph\":{\"type\":\"object\",\"name\":\"Line\",\"id\":\"9714a505-0fde-4bc1-8222-16f89fece5fd\",\"attributes\":{\"tags\":[\"apply_ranges\"],\"x\":{\"type\":\"field\",\"field\":\"AGE\"},\"y\":{\"type\":\"field\",\"field\":\"len\"},\"line_color\":\"#30a2da\",\"line_alpha\":0.2,\"line_width\":2}}}},{\"type\":\"object\",\"name\":\"GlyphRenderer\",\"id\":\"cd7833c7-4171-467b-9859-6ccd93c1e31b\",\"attributes\":{\"name\":\"1\",\"data_source\":{\"type\":\"object\",\"name\":\"ColumnDataSource\",\"id\":\"4fe1f984-30cf-4a3b-b31d-d428fddf97e3\",\"attributes\":{\"selected\":{\"type\":\"object\",\"name\":\"Selection\",\"id\":\"be707445-fd25-42b4-9b7b-c01857aca9c0\",\"attributes\":{\"indices\":[],\"line_indices\":[]}},\"selection_policy\":{\"type\":\"object\",\"name\":\"UnionRenderers\",\"id\":\"08c51b2c-147c-4e27-b31d-6709161784a8\"},\"data\":{\"type\":\"map\",\"entries\":[[\"AGE\",{\"type\":\"ndarray\",\"array\":{\"type\":\"bytes\",\"data\":\"AAAAAAAANEAAAAAAAABAQAAAAAAAgEdAAAAAAABAUEA=\"},\"shape\":[4],\"dtype\":\"float64\",\"order\":\"little\"}],[\"len\",{\"type\":\"ndarray\",\"array\":{\"type\":\"bytes\",\"data\":\"xBsAAI5tAADPhAAAoCkAAA==\"},\"shape\":[4],\"dtype\":\"uint32\",\"order\":\"little\"}],[\"ILOSTAT\",[1,1,1,1]]]}}},\"view\":{\"type\":\"object\",\"name\":\"CDSView\",\"id\":\"11110461-f9ae-42a2-ad05-d969166a5171\",\"attributes\":{\"filter\":{\"type\":\"object\",\"name\":\"AllIndices\",\"id\":\"1743c4ca-e792-4ccf-a0cb-d3005fbb315d\"}}},\"glyph\":{\"type\":\"object\",\"name\":\"Line\",\"id\":\"93d7ec46-ef39-4c75-a6ad-662ae5d7d2b5\",\"attributes\":{\"tags\":[\"apply_ranges\"],\"x\":{\"type\":\"field\",\"field\":\"AGE\"},\"y\":{\"type\":\"field\",\"field\":\"len\"},\"line_color\":\"#fc4f30\",\"line_width\":2}},\"selection_glyph\":{\"type\":\"object\",\"name\":\"Line\",\"id\":\"200e7be4-0d73-4a32-ae3a-26f48a2e986e\",\"attributes\":{\"tags\":[\"apply_ranges\"],\"x\":{\"type\":\"field\",\"field\":\"AGE\"},\"y\":{\"type\":\"field\",\"field\":\"len\"},\"line_color\":\"#fc4f30\",\"line_width\":2}},\"nonselection_glyph\":{\"type\":\"object\",\"name\":\"Line\",\"id\":\"18d31beb-eef5-433e-ba50-c52b119ae90d\",\"attributes\":{\"tags\":[\"apply_ranges\"],\"x\":{\"type\":\"field\",\"field\":\"AGE\"},\"y\":{\"type\":\"field\",\"field\":\"len\"},\"line_color\":\"#fc4f30\",\"line_alpha\":0.1,\"line_width\":2}},\"muted_glyph\":{\"type\":\"object\",\"name\":\"Line\",\"id\":\"eeb171ff-2f2a-4418-8e70-3407175f7442\",\"attributes\":{\"tags\":[\"apply_ranges\"],\"x\":{\"type\":\"field\",\"field\":\"AGE\"},\"y\":{\"type\":\"field\",\"field\":\"len\"},\"line_color\":\"#fc4f30\",\"line_alpha\":0.2,\"line_width\":2}}}},{\"type\":\"object\",\"name\":\"GlyphRenderer\",\"id\":\"987217ae-baa8-469b-a749-e6bbf7ab48e6\",\"attributes\":{\"name\":\"3\",\"data_source\":{\"type\":\"object\",\"name\":\"ColumnDataSource\",\"id\":\"7c766ba7-595c-4ad9-a270-6ee56c5dc4fd\",\"attributes\":{\"selected\":{\"type\":\"object\",\"name\":\"Selection\",\"id\":\"dbf3f4fe-2f12-47cb-a656-c3aab407a60b\",\"attributes\":{\"indices\":[],\"line_indices\":[]}},\"selection_policy\":{\"type\":\"object\",\"name\":\"UnionRenderers\",\"id\":\"4e274850-ef42-49f8-ac7b-7d14235bb9fb\"},\"data\":{\"type\":\"map\",\"entries\":[[\"AGE\",{\"type\":\"ndarray\",\"array\":{\"type\":\"bytes\",\"data\":\"AAAAAAAANEAAAAAAAABAQAAAAAAAgEdAAAAAAABAUEAAAAAAAMBSQA==\"},\"shape\":[5],\"dtype\":\"float64\",\"order\":\"little\"}],[\"len\",{\"type\":\"ndarray\",\"array\":{\"type\":\"bytes\",\"data\":\"0j0AACYRAAClEwAAd30AAM9FAAA=\"},\"shape\":[5],\"dtype\":\"uint32\",\"order\":\"little\"}],[\"ILOSTAT\",[3,3,3,3,3]]]}}},\"view\":{\"type\":\"object\",\"name\":\"CDSView\",\"id\":\"231291a0-2d8f-4984-8457-d482939856b7\",\"attributes\":{\"filter\":{\"type\":\"object\",\"name\":\"AllIndices\",\"id\":\"611999d4-f32b-40ad-b6e1-5e6e2fe576ff\"}}},\"glyph\":{\"type\":\"object\",\"name\":\"Line\",\"id\":\"201788f4-2841-4f48-927c-98d794e5bf01\",\"attributes\":{\"tags\":[\"apply_ranges\"],\"x\":{\"type\":\"field\",\"field\":\"AGE\"},\"y\":{\"type\":\"field\",\"field\":\"len\"},\"line_color\":\"#e5ae38\",\"line_width\":2}},\"selection_glyph\":{\"type\":\"object\",\"name\":\"Line\",\"id\":\"578f51ad-742e-4aa6-9906-cd688153a32c\",\"attributes\":{\"tags\":[\"apply_ranges\"],\"x\":{\"type\":\"field\",\"field\":\"AGE\"},\"y\":{\"type\":\"field\",\"field\":\"len\"},\"line_color\":\"#e5ae38\",\"line_width\":2}},\"nonselection_glyph\":{\"type\":\"object\",\"name\":\"Line\",\"id\":\"ddf9bcbc-96f5-48da-8e0b-7293bdc1848f\",\"attributes\":{\"tags\":[\"apply_ranges\"],\"x\":{\"type\":\"field\",\"field\":\"AGE\"},\"y\":{\"type\":\"field\",\"field\":\"len\"},\"line_color\":\"#e5ae38\",\"line_alpha\":0.1,\"line_width\":2}},\"muted_glyph\":{\"type\":\"object\",\"name\":\"Line\",\"id\":\"6fd17634-b012-4366-a872-5685f0163c3d\",\"attributes\":{\"tags\":[\"apply_ranges\"],\"x\":{\"type\":\"field\",\"field\":\"AGE\"},\"y\":{\"type\":\"field\",\"field\":\"len\"},\"line_color\":\"#e5ae38\",\"line_alpha\":0.2,\"line_width\":2}}}},{\"type\":\"object\",\"name\":\"GlyphRenderer\",\"id\":\"7c420979-f577-4e2a-8e43-a17c0e3907db\",\"attributes\":{\"name\":\"2\",\"data_source\":{\"type\":\"object\",\"name\":\"ColumnDataSource\",\"id\":\"b8610f3c-104d-492d-9a02-af10110d5e26\",\"attributes\":{\"selected\":{\"type\":\"object\",\"name\":\"Selection\",\"id\":\"f528ecfc-e837-4e6f-b3d3-7937466b7f53\",\"attributes\":{\"indices\":[],\"line_indices\":[]}},\"selection_policy\":{\"type\":\"object\",\"name\":\"UnionRenderers\",\"id\":\"8e4d55ef-44c9-4af4-85d4-d85aac9bc6b7\"},\"data\":{\"type\":\"map\",\"entries\":[[\"AGE\",{\"type\":\"ndarray\",\"array\":{\"type\":\"bytes\",\"data\":\"AAAAAAAAQEA=\"},\"shape\":[1],\"dtype\":\"float64\",\"order\":\"little\"}],[\"len\",{\"type\":\"ndarray\",\"array\":{\"type\":\"bytes\",\"data\":\"GgwAAA==\"},\"shape\":[1],\"dtype\":\"uint32\",\"order\":\"little\"}],[\"ILOSTAT\",[2]]]}}},\"view\":{\"type\":\"object\",\"name\":\"CDSView\",\"id\":\"4923a58b-a2db-48d8-88b2-9d47e098b705\",\"attributes\":{\"filter\":{\"type\":\"object\",\"name\":\"AllIndices\",\"id\":\"c533bc34-398c-45de-8fff-88bfe5b50bc5\"}}},\"glyph\":{\"type\":\"object\",\"name\":\"Line\",\"id\":\"33010f65-ee35-418c-9afe-86ed7aa55629\",\"attributes\":{\"tags\":[\"apply_ranges\"],\"x\":{\"type\":\"field\",\"field\":\"AGE\"},\"y\":{\"type\":\"field\",\"field\":\"len\"},\"line_color\":\"#6d904f\",\"line_width\":2}},\"selection_glyph\":{\"type\":\"object\",\"name\":\"Line\",\"id\":\"d0d61801-c608-4411-b066-a38609db2ef2\",\"attributes\":{\"tags\":[\"apply_ranges\"],\"x\":{\"type\":\"field\",\"field\":\"AGE\"},\"y\":{\"type\":\"field\",\"field\":\"len\"},\"line_color\":\"#6d904f\",\"line_width\":2}},\"nonselection_glyph\":{\"type\":\"object\",\"name\":\"Line\",\"id\":\"7fe57cf5-a638-46b3-bfc2-1630c81b57db\",\"attributes\":{\"tags\":[\"apply_ranges\"],\"x\":{\"type\":\"field\",\"field\":\"AGE\"},\"y\":{\"type\":\"field\",\"field\":\"len\"},\"line_color\":\"#6d904f\",\"line_alpha\":0.1,\"line_width\":2}},\"muted_glyph\":{\"type\":\"object\",\"name\":\"Line\",\"id\":\"9b191c1c-7bf1-418c-9692-dfa0c8d43dec\",\"attributes\":{\"tags\":[\"apply_ranges\"],\"x\":{\"type\":\"field\",\"field\":\"AGE\"},\"y\":{\"type\":\"field\",\"field\":\"len\"},\"line_color\":\"#6d904f\",\"line_alpha\":0.2,\"line_width\":2}}}},{\"type\":\"object\",\"name\":\"GlyphRenderer\",\"id\":\"dafa978d-25d0-4877-81a1-0bcbc2b095f4\",\"attributes\":{\"name\":\"9\",\"data_source\":{\"type\":\"object\",\"name\":\"ColumnDataSource\",\"id\":\"8a0e31c2-4fa7-4ba7-a492-6f013215d7cd\",\"attributes\":{\"selected\":{\"type\":\"object\",\"name\":\"Selection\",\"id\":\"7b294afd-b978-4635-ab5b-843d22ce9a07\",\"attributes\":{\"indices\":[],\"line_indices\":[]}},\"selection_policy\":{\"type\":\"object\",\"name\":\"UnionRenderers\",\"id\":\"f7084527-6c8c-499f-ad64-4024baefd1fe\"},\"data\":{\"type\":\"map\",\"entries\":[[\"AGE\",{\"type\":\"ndarray\",\"array\":{\"type\":\"bytes\",\"data\":\"AAAAAAAAHEA=\"},\"shape\":[1],\"dtype\":\"float64\",\"order\":\"little\"}],[\"len\",{\"type\":\"ndarray\",\"array\":{\"type\":\"bytes\",\"data\":\"O40AAA==\"},\"shape\":[1],\"dtype\":\"uint32\",\"order\":\"little\"}],[\"ILOSTAT\",[9]]]}}},\"view\":{\"type\":\"object\",\"name\":\"CDSView\",\"id\":\"3c6aed2a-79ef-4411-9557-b277110f25c1\",\"attributes\":{\"filter\":{\"type\":\"object\",\"name\":\"AllIndices\",\"id\":\"b485535b-1bbb-4be8-acd3-d50161e5ba60\"}}},\"glyph\":{\"type\":\"object\",\"name\":\"Scatter\",\"id\":\"71c1ff7b-972e-469c-9ac7-a9fe015e41e0\",\"attributes\":{\"tags\":[\"apply_ranges\"],\"x\":{\"type\":\"field\",\"field\":\"AGE\"},\"y\":{\"type\":\"field\",\"field\":\"len\"},\"size\":{\"type\":\"value\",\"value\":5.477225575051661},\"line_color\":{\"type\":\"value\",\"value\":\"#30a2da\"},\"fill_color\":{\"type\":\"value\",\"value\":\"#30a2da\"},\"hatch_color\":{\"type\":\"value\",\"value\":\"#30a2da\"}}},\"selection_glyph\":{\"type\":\"object\",\"name\":\"Scatter\",\"id\":\"e35f2365-bc16-4d30-b5de-0b42e9fd16b8\",\"attributes\":{\"tags\":[\"apply_ranges\"],\"x\":{\"type\":\"field\",\"field\":\"AGE\"},\"y\":{\"type\":\"field\",\"field\":\"len\"},\"size\":{\"type\":\"value\",\"value\":5.477225575051661},\"angle\":{\"type\":\"value\",\"value\":0.0},\"line_color\":{\"type\":\"value\",\"value\":\"#30a2da\"},\"line_alpha\":{\"type\":\"value\",\"value\":1.0},\"line_width\":{\"type\":\"value\",\"value\":1},\"line_join\":{\"type\":\"value\",\"value\":\"bevel\"},\"line_cap\":{\"type\":\"value\",\"value\":\"butt\"},\"line_dash\":{\"type\":\"value\",\"value\":[]},\"line_dash_offset\":{\"type\":\"value\",\"value\":0},\"fill_color\":{\"type\":\"value\",\"value\":\"#30a2da\"},\"fill_alpha\":{\"type\":\"value\",\"value\":1.0},\"hatch_color\":{\"type\":\"value\",\"value\":\"#30a2da\"},\"hatch_alpha\":{\"type\":\"value\",\"value\":1.0},\"hatch_scale\":{\"type\":\"value\",\"value\":12.0},\"hatch_pattern\":{\"type\":\"value\",\"value\":null},\"hatch_weight\":{\"type\":\"value\",\"value\":1.0},\"marker\":{\"type\":\"value\",\"value\":\"circle\"}}},\"nonselection_glyph\":{\"type\":\"object\",\"name\":\"Scatter\",\"id\":\"78eaf796-bc62-4c8e-860e-b0fe02986af1\",\"attributes\":{\"tags\":[\"apply_ranges\"],\"x\":{\"type\":\"field\",\"field\":\"AGE\"},\"y\":{\"type\":\"field\",\"field\":\"len\"},\"size\":{\"type\":\"value\",\"value\":5.477225575051661},\"line_color\":{\"type\":\"value\",\"value\":\"#30a2da\"},\"line_alpha\":{\"type\":\"value\",\"value\":0.1},\"fill_color\":{\"type\":\"value\",\"value\":\"#30a2da\"},\"fill_alpha\":{\"type\":\"value\",\"value\":0.1},\"hatch_color\":{\"type\":\"value\",\"value\":\"#30a2da\"},\"hatch_alpha\":{\"type\":\"value\",\"value\":0.1}}},\"muted_glyph\":{\"type\":\"object\",\"name\":\"Scatter\",\"id\":\"8b0a631d-e04a-4c17-9c20-c3fab5c7ebbd\",\"attributes\":{\"tags\":[\"apply_ranges\"],\"x\":{\"type\":\"field\",\"field\":\"AGE\"},\"y\":{\"type\":\"field\",\"field\":\"len\"},\"size\":{\"type\":\"value\",\"value\":5.477225575051661},\"line_color\":{\"type\":\"value\",\"value\":\"#30a2da\"},\"line_alpha\":{\"type\":\"value\",\"value\":0.2},\"fill_color\":{\"type\":\"value\",\"value\":\"#30a2da\"},\"fill_alpha\":{\"type\":\"value\",\"value\":0.2},\"hatch_color\":{\"type\":\"value\",\"value\":\"#30a2da\"},\"hatch_alpha\":{\"type\":\"value\",\"value\":0.2}}}}},{\"type\":\"object\",\"name\":\"GlyphRenderer\",\"id\":\"33955553-c12c-49ac-aecc-5e97a9e0fcc5\",\"attributes\":{\"name\":\"1\",\"data_source\":{\"type\":\"object\",\"name\":\"ColumnDataSource\",\"id\":\"0a2238e5-06f0-48e0-b2bf-55ccca4834eb\",\"attributes\":{\"selected\":{\"type\":\"object\",\"name\":\"Selection\",\"id\":\"d39b5379-d2a0-4da1-836e-e4434a72c0c8\",\"attributes\":{\"indices\":[],\"line_indices\":[]}},\"selection_policy\":{\"type\":\"object\",\"name\":\"UnionRenderers\",\"id\":\"2a95892b-20f6-4155-b532-85255863d200\"},\"data\":{\"type\":\"map\",\"entries\":[[\"AGE\",{\"type\":\"ndarray\",\"array\":{\"type\":\"bytes\",\"data\":\"AAAAAAAANEAAAAAAAABAQAAAAAAAgEdAAAAAAABAUEA=\"},\"shape\":[4],\"dtype\":\"float64\",\"order\":\"little\"}],[\"len\",{\"type\":\"ndarray\",\"array\":{\"type\":\"bytes\",\"data\":\"xBsAAI5tAADPhAAAoCkAAA==\"},\"shape\":[4],\"dtype\":\"uint32\",\"order\":\"little\"}],[\"ILOSTAT\",[1,1,1,1]]]}}},\"view\":{\"type\":\"object\",\"name\":\"CDSView\",\"id\":\"3a27646d-9b5a-4036-bdff-39c204acf5ef\",\"attributes\":{\"filter\":{\"type\":\"object\",\"name\":\"AllIndices\",\"id\":\"b7f70606-0226-48fd-82cb-25ae733e70cd\"}}},\"glyph\":{\"type\":\"object\",\"name\":\"Scatter\",\"id\":\"4d8144ec-ad27-4b71-9ee9-8a2c548e4fdc\",\"attributes\":{\"tags\":[\"apply_ranges\"],\"x\":{\"type\":\"field\",\"field\":\"AGE\"},\"y\":{\"type\":\"field\",\"field\":\"len\"},\"size\":{\"type\":\"value\",\"value\":5.477225575051661},\"line_color\":{\"type\":\"value\",\"value\":\"#fc4f30\"},\"fill_color\":{\"type\":\"value\",\"value\":\"#fc4f30\"},\"hatch_color\":{\"type\":\"value\",\"value\":\"#fc4f30\"}}},\"selection_glyph\":{\"type\":\"object\",\"name\":\"Scatter\",\"id\":\"12a539da-e5f7-4f9b-a0cc-16c8c4fb5528\",\"attributes\":{\"tags\":[\"apply_ranges\"],\"x\":{\"type\":\"field\",\"field\":\"AGE\"},\"y\":{\"type\":\"field\",\"field\":\"len\"},\"size\":{\"type\":\"value\",\"value\":5.477225575051661},\"angle\":{\"type\":\"value\",\"value\":0.0},\"line_color\":{\"type\":\"value\",\"value\":\"#fc4f30\"},\"line_alpha\":{\"type\":\"value\",\"value\":1.0},\"line_width\":{\"type\":\"value\",\"value\":1},\"line_join\":{\"type\":\"value\",\"value\":\"bevel\"},\"line_cap\":{\"type\":\"value\",\"value\":\"butt\"},\"line_dash\":{\"type\":\"value\",\"value\":[]},\"line_dash_offset\":{\"type\":\"value\",\"value\":0},\"fill_color\":{\"type\":\"value\",\"value\":\"#fc4f30\"},\"fill_alpha\":{\"type\":\"value\",\"value\":1.0},\"hatch_color\":{\"type\":\"value\",\"value\":\"#fc4f30\"},\"hatch_alpha\":{\"type\":\"value\",\"value\":1.0},\"hatch_scale\":{\"type\":\"value\",\"value\":12.0},\"hatch_pattern\":{\"type\":\"value\",\"value\":null},\"hatch_weight\":{\"type\":\"value\",\"value\":1.0},\"marker\":{\"type\":\"value\",\"value\":\"circle\"}}},\"nonselection_glyph\":{\"type\":\"object\",\"name\":\"Scatter\",\"id\":\"f3732e10-a3cc-4367-bb0f-873c618e4e46\",\"attributes\":{\"tags\":[\"apply_ranges\"],\"x\":{\"type\":\"field\",\"field\":\"AGE\"},\"y\":{\"type\":\"field\",\"field\":\"len\"},\"size\":{\"type\":\"value\",\"value\":5.477225575051661},\"line_color\":{\"type\":\"value\",\"value\":\"#fc4f30\"},\"line_alpha\":{\"type\":\"value\",\"value\":0.1},\"fill_color\":{\"type\":\"value\",\"value\":\"#fc4f30\"},\"fill_alpha\":{\"type\":\"value\",\"value\":0.1},\"hatch_color\":{\"type\":\"value\",\"value\":\"#fc4f30\"},\"hatch_alpha\":{\"type\":\"value\",\"value\":0.1}}},\"muted_glyph\":{\"type\":\"object\",\"name\":\"Scatter\",\"id\":\"5f8ad5ec-d122-484e-8d26-a063d9b6148e\",\"attributes\":{\"tags\":[\"apply_ranges\"],\"x\":{\"type\":\"field\",\"field\":\"AGE\"},\"y\":{\"type\":\"field\",\"field\":\"len\"},\"size\":{\"type\":\"value\",\"value\":5.477225575051661},\"line_color\":{\"type\":\"value\",\"value\":\"#fc4f30\"},\"line_alpha\":{\"type\":\"value\",\"value\":0.2},\"fill_color\":{\"type\":\"value\",\"value\":\"#fc4f30\"},\"fill_alpha\":{\"type\":\"value\",\"value\":0.2},\"hatch_color\":{\"type\":\"value\",\"value\":\"#fc4f30\"},\"hatch_alpha\":{\"type\":\"value\",\"value\":0.2}}}}},{\"type\":\"object\",\"name\":\"GlyphRenderer\",\"id\":\"849cd42f-7235-4987-8465-9bd0a3b6ac9f\",\"attributes\":{\"name\":\"3\",\"data_source\":{\"type\":\"object\",\"name\":\"ColumnDataSource\",\"id\":\"5d1c1fda-a671-4286-9701-990f35231864\",\"attributes\":{\"selected\":{\"type\":\"object\",\"name\":\"Selection\",\"id\":\"fe7ccf36-91b3-4861-a29c-4c6a301cde23\",\"attributes\":{\"indices\":[],\"line_indices\":[]}},\"selection_policy\":{\"type\":\"object\",\"name\":\"UnionRenderers\",\"id\":\"3240dfe7-8da0-4987-9046-d874331388eb\"},\"data\":{\"type\":\"map\",\"entries\":[[\"AGE\",{\"type\":\"ndarray\",\"array\":{\"type\":\"bytes\",\"data\":\"AAAAAAAANEAAAAAAAABAQAAAAAAAgEdAAAAAAABAUEAAAAAAAMBSQA==\"},\"shape\":[5],\"dtype\":\"float64\",\"order\":\"little\"}],[\"len\",{\"type\":\"ndarray\",\"array\":{\"type\":\"bytes\",\"data\":\"0j0AACYRAAClEwAAd30AAM9FAAA=\"},\"shape\":[5],\"dtype\":\"uint32\",\"order\":\"little\"}],[\"ILOSTAT\",[3,3,3,3,3]]]}}},\"view\":{\"type\":\"object\",\"name\":\"CDSView\",\"id\":\"a6709925-5e7c-4ef8-b10c-9855d5d7d3d4\",\"attributes\":{\"filter\":{\"type\":\"object\",\"name\":\"AllIndices\",\"id\":\"cc6126ea-ba42-4c8e-b5b3-d71a2a677bb8\"}}},\"glyph\":{\"type\":\"object\",\"name\":\"Scatter\",\"id\":\"01c20402-1083-4bba-8040-396f1f87dbad\",\"attributes\":{\"tags\":[\"apply_ranges\"],\"x\":{\"type\":\"field\",\"field\":\"AGE\"},\"y\":{\"type\":\"field\",\"field\":\"len\"},\"size\":{\"type\":\"value\",\"value\":5.477225575051661},\"line_color\":{\"type\":\"value\",\"value\":\"#e5ae38\"},\"fill_color\":{\"type\":\"value\",\"value\":\"#e5ae38\"},\"hatch_color\":{\"type\":\"value\",\"value\":\"#e5ae38\"}}},\"selection_glyph\":{\"type\":\"object\",\"name\":\"Scatter\",\"id\":\"0821b586-032c-4b2c-b982-e93f62397937\",\"attributes\":{\"tags\":[\"apply_ranges\"],\"x\":{\"type\":\"field\",\"field\":\"AGE\"},\"y\":{\"type\":\"field\",\"field\":\"len\"},\"size\":{\"type\":\"value\",\"value\":5.477225575051661},\"angle\":{\"type\":\"value\",\"value\":0.0},\"line_color\":{\"type\":\"value\",\"value\":\"#e5ae38\"},\"line_alpha\":{\"type\":\"value\",\"value\":1.0},\"line_width\":{\"type\":\"value\",\"value\":1},\"line_join\":{\"type\":\"value\",\"value\":\"bevel\"},\"line_cap\":{\"type\":\"value\",\"value\":\"butt\"},\"line_dash\":{\"type\":\"value\",\"value\":[]},\"line_dash_offset\":{\"type\":\"value\",\"value\":0},\"fill_color\":{\"type\":\"value\",\"value\":\"#e5ae38\"},\"fill_alpha\":{\"type\":\"value\",\"value\":1.0},\"hatch_color\":{\"type\":\"value\",\"value\":\"#e5ae38\"},\"hatch_alpha\":{\"type\":\"value\",\"value\":1.0},\"hatch_scale\":{\"type\":\"value\",\"value\":12.0},\"hatch_pattern\":{\"type\":\"value\",\"value\":null},\"hatch_weight\":{\"type\":\"value\",\"value\":1.0},\"marker\":{\"type\":\"value\",\"value\":\"circle\"}}},\"nonselection_glyph\":{\"type\":\"object\",\"name\":\"Scatter\",\"id\":\"aecc53e1-7c19-487c-a8fb-6ca4d3a583ff\",\"attributes\":{\"tags\":[\"apply_ranges\"],\"x\":{\"type\":\"field\",\"field\":\"AGE\"},\"y\":{\"type\":\"field\",\"field\":\"len\"},\"size\":{\"type\":\"value\",\"value\":5.477225575051661},\"line_color\":{\"type\":\"value\",\"value\":\"#e5ae38\"},\"line_alpha\":{\"type\":\"value\",\"value\":0.1},\"fill_color\":{\"type\":\"value\",\"value\":\"#e5ae38\"},\"fill_alpha\":{\"type\":\"value\",\"value\":0.1},\"hatch_color\":{\"type\":\"value\",\"value\":\"#e5ae38\"},\"hatch_alpha\":{\"type\":\"value\",\"value\":0.1}}},\"muted_glyph\":{\"type\":\"object\",\"name\":\"Scatter\",\"id\":\"4f0c8946-cd8f-4175-a25d-9e96a5e1c8f0\",\"attributes\":{\"tags\":[\"apply_ranges\"],\"x\":{\"type\":\"field\",\"field\":\"AGE\"},\"y\":{\"type\":\"field\",\"field\":\"len\"},\"size\":{\"type\":\"value\",\"value\":5.477225575051661},\"line_color\":{\"type\":\"value\",\"value\":\"#e5ae38\"},\"line_alpha\":{\"type\":\"value\",\"value\":0.2},\"fill_color\":{\"type\":\"value\",\"value\":\"#e5ae38\"},\"fill_alpha\":{\"type\":\"value\",\"value\":0.2},\"hatch_color\":{\"type\":\"value\",\"value\":\"#e5ae38\"},\"hatch_alpha\":{\"type\":\"value\",\"value\":0.2}}}}},{\"type\":\"object\",\"name\":\"GlyphRenderer\",\"id\":\"93cc387b-b566-4f31-ae54-665d2d508acd\",\"attributes\":{\"name\":\"2\",\"data_source\":{\"type\":\"object\",\"name\":\"ColumnDataSource\",\"id\":\"3c9cb7b8-3f11-4425-b2e6-a9901caefedd\",\"attributes\":{\"selected\":{\"type\":\"object\",\"name\":\"Selection\",\"id\":\"6647aa68-4fb9-45d0-89ae-35bf552d5c34\",\"attributes\":{\"indices\":[],\"line_indices\":[]}},\"selection_policy\":{\"type\":\"object\",\"name\":\"UnionRenderers\",\"id\":\"393667a9-244a-4173-8cce-b978b4b53eff\"},\"data\":{\"type\":\"map\",\"entries\":[[\"AGE\",{\"type\":\"ndarray\",\"array\":{\"type\":\"bytes\",\"data\":\"AAAAAAAAQEA=\"},\"shape\":[1],\"dtype\":\"float64\",\"order\":\"little\"}],[\"len\",{\"type\":\"ndarray\",\"array\":{\"type\":\"bytes\",\"data\":\"GgwAAA==\"},\"shape\":[1],\"dtype\":\"uint32\",\"order\":\"little\"}],[\"ILOSTAT\",[2]]]}}},\"view\":{\"type\":\"object\",\"name\":\"CDSView\",\"id\":\"449958c3-fb9a-492d-8011-0bff124960b8\",\"attributes\":{\"filter\":{\"type\":\"object\",\"name\":\"AllIndices\",\"id\":\"dbbe53b4-18eb-4af6-a98b-9fa69fd27c8a\"}}},\"glyph\":{\"type\":\"object\",\"name\":\"Scatter\",\"id\":\"e08257be-08c3-46ee-97af-2f50277df729\",\"attributes\":{\"tags\":[\"apply_ranges\"],\"x\":{\"type\":\"field\",\"field\":\"AGE\"},\"y\":{\"type\":\"field\",\"field\":\"len\"},\"size\":{\"type\":\"value\",\"value\":5.477225575051661},\"line_color\":{\"type\":\"value\",\"value\":\"#6d904f\"},\"fill_color\":{\"type\":\"value\",\"value\":\"#6d904f\"},\"hatch_color\":{\"type\":\"value\",\"value\":\"#6d904f\"}}},\"selection_glyph\":{\"type\":\"object\",\"name\":\"Scatter\",\"id\":\"85c8cbea-0084-46eb-9d43-642adab0ff29\",\"attributes\":{\"tags\":[\"apply_ranges\"],\"x\":{\"type\":\"field\",\"field\":\"AGE\"},\"y\":{\"type\":\"field\",\"field\":\"len\"},\"size\":{\"type\":\"value\",\"value\":5.477225575051661},\"angle\":{\"type\":\"value\",\"value\":0.0},\"line_color\":{\"type\":\"value\",\"value\":\"#6d904f\"},\"line_alpha\":{\"type\":\"value\",\"value\":1.0},\"line_width\":{\"type\":\"value\",\"value\":1},\"line_join\":{\"type\":\"value\",\"value\":\"bevel\"},\"line_cap\":{\"type\":\"value\",\"value\":\"butt\"},\"line_dash\":{\"type\":\"value\",\"value\":[]},\"line_dash_offset\":{\"type\":\"value\",\"value\":0},\"fill_color\":{\"type\":\"value\",\"value\":\"#6d904f\"},\"fill_alpha\":{\"type\":\"value\",\"value\":1.0},\"hatch_color\":{\"type\":\"value\",\"value\":\"#6d904f\"},\"hatch_alpha\":{\"type\":\"value\",\"value\":1.0},\"hatch_scale\":{\"type\":\"value\",\"value\":12.0},\"hatch_pattern\":{\"type\":\"value\",\"value\":null},\"hatch_weight\":{\"type\":\"value\",\"value\":1.0},\"marker\":{\"type\":\"value\",\"value\":\"circle\"}}},\"nonselection_glyph\":{\"type\":\"object\",\"name\":\"Scatter\",\"id\":\"75e00508-1baf-47b9-9f80-8c9203671068\",\"attributes\":{\"tags\":[\"apply_ranges\"],\"x\":{\"type\":\"field\",\"field\":\"AGE\"},\"y\":{\"type\":\"field\",\"field\":\"len\"},\"size\":{\"type\":\"value\",\"value\":5.477225575051661},\"line_color\":{\"type\":\"value\",\"value\":\"#6d904f\"},\"line_alpha\":{\"type\":\"value\",\"value\":0.1},\"fill_color\":{\"type\":\"value\",\"value\":\"#6d904f\"},\"fill_alpha\":{\"type\":\"value\",\"value\":0.1},\"hatch_color\":{\"type\":\"value\",\"value\":\"#6d904f\"},\"hatch_alpha\":{\"type\":\"value\",\"value\":0.1}}},\"muted_glyph\":{\"type\":\"object\",\"name\":\"Scatter\",\"id\":\"ba8de9b3-2656-41b2-bfb3-bd0b06769af9\",\"attributes\":{\"tags\":[\"apply_ranges\"],\"x\":{\"type\":\"field\",\"field\":\"AGE\"},\"y\":{\"type\":\"field\",\"field\":\"len\"},\"size\":{\"type\":\"value\",\"value\":5.477225575051661},\"line_color\":{\"type\":\"value\",\"value\":\"#6d904f\"},\"line_alpha\":{\"type\":\"value\",\"value\":0.2},\"fill_color\":{\"type\":\"value\",\"value\":\"#6d904f\"},\"fill_alpha\":{\"type\":\"value\",\"value\":0.2},\"hatch_color\":{\"type\":\"value\",\"value\":\"#6d904f\"},\"hatch_alpha\":{\"type\":\"value\",\"value\":0.2}}}}}],\"toolbar\":{\"type\":\"object\",\"name\":\"Toolbar\",\"id\":\"5032a9b4-54a0-44f1-b1ad-fa2dc2ece7b8\",\"attributes\":{\"tools\":[{\"type\":\"object\",\"name\":\"WheelZoomTool\",\"id\":\"7a113dd8-c980-4286-a1f6-8b6589b0e260\",\"attributes\":{\"tags\":[\"hv_created\"],\"renderers\":\"auto\",\"zoom_together\":\"none\"}},{\"type\":\"object\",\"name\":\"HoverTool\",\"id\":\"dffc813f-f81b-4092-ab3b-256cf438d152\",\"attributes\":{\"tags\":[\"hv_created\"],\"renderers\":[{\"id\":\"0f776552-d735-4c00-8fe3-b2adef22781f\"},{\"id\":\"cd7833c7-4171-467b-9859-6ccd93c1e31b\"},{\"id\":\"987217ae-baa8-469b-a749-e6bbf7ab48e6\"},{\"id\":\"7c420979-f577-4e2a-8e43-a17c0e3907db\"},{\"id\":\"dafa978d-25d0-4877-81a1-0bcbc2b095f4\"},{\"id\":\"33955553-c12c-49ac-aecc-5e97a9e0fcc5\"},{\"id\":\"849cd42f-7235-4987-8465-9bd0a3b6ac9f\"},{\"id\":\"93cc387b-b566-4f31-ae54-665d2d508acd\"}],\"tooltips\":[[\"ILOSTAT\",\"@{ILOSTAT}\"],[\"AGE\",\"@{AGE}\"],[\"len\",\"@{len}\"]]}},{\"type\":\"object\",\"name\":\"SaveTool\",\"id\":\"45a8f348-7918-4489-8ec4-f5a0ef8e5bb1\"},{\"type\":\"object\",\"name\":\"PanTool\",\"id\":\"f4225a3e-9482-4f7e-807e-7706f55a324c\"},{\"type\":\"object\",\"name\":\"BoxZoomTool\",\"id\":\"71dd2817-1c99-4716-a8c5-fc283a925554\",\"attributes\":{\"dimensions\":\"both\",\"overlay\":{\"type\":\"object\",\"name\":\"BoxAnnotation\",\"id\":\"8a0c3013-c024-4f73-b5d7-c4d8e3070e7b\",\"attributes\":{\"syncable\":false,\"line_color\":\"black\",\"line_alpha\":1.0,\"line_width\":2,\"line_dash\":[4,4],\"fill_color\":\"lightgrey\",\"fill_alpha\":0.5,\"level\":\"overlay\",\"visible\":false,\"left\":{\"type\":\"number\",\"value\":\"nan\"},\"right\":{\"type\":\"number\",\"value\":\"nan\"},\"top\":{\"type\":\"number\",\"value\":\"nan\"},\"bottom\":{\"type\":\"number\",\"value\":\"nan\"},\"left_units\":\"canvas\",\"right_units\":\"canvas\",\"top_units\":\"canvas\",\"bottom_units\":\"canvas\",\"handles\":{\"type\":\"object\",\"name\":\"BoxInteractionHandles\",\"id\":\"e8326e6f-7ebb-43de-8904-84098333ff67\",\"attributes\":{\"all\":{\"type\":\"object\",\"name\":\"AreaVisuals\",\"id\":\"a805bb63-3809-4b64-aec6-47b5f35556e5\",\"attributes\":{\"fill_color\":\"white\",\"hover_fill_color\":\"lightgray\"}}}}}}}},{\"type\":\"object\",\"name\":\"ResetTool\",\"id\":\"da56ba84-7894-4af0-b561-36647301a29a\"}],\"active_drag\":{\"id\":\"f4225a3e-9482-4f7e-807e-7706f55a324c\"},\"active_scroll\":{\"id\":\"7a113dd8-c980-4286-a1f6-8b6589b0e260\"}}},\"left\":[{\"type\":\"object\",\"name\":\"LinearAxis\",\"id\":\"58488e16-abf6-4439-b8cb-563dea6f0f44\",\"attributes\":{\"ticker\":{\"type\":\"object\",\"name\":\"BasicTicker\",\"id\":\"61e067df-477c-48b1-8ded-926d8b3e2b3d\",\"attributes\":{\"mantissas\":[1,2,5]}},\"formatter\":{\"type\":\"object\",\"name\":\"BasicTickFormatter\",\"id\":\"7435594c-577c-4418-924b-5eae94951d5d\"},\"axis_label\":\"len\",\"major_label_policy\":{\"type\":\"object\",\"name\":\"AllLabels\",\"id\":\"824b1ffa-142d-4936-91ed-97b83ae907f3\"}}}],\"right\":[{\"type\":\"object\",\"name\":\"Legend\",\"id\":\"4d9fc8dc-9f9b-4fa8-a83e-d6b91107257b\",\"attributes\":{\"location\":[0,0],\"click_policy\":\"mute\",\"items\":[{\"type\":\"object\",\"name\":\"LegendItem\",\"id\":\"2e74d2c3-cdc3-4658-bb74-9d5c08500179\",\"attributes\":{\"label\":{\"type\":\"value\",\"value\":\"9\"},\"renderers\":[{\"id\":\"0f776552-d735-4c00-8fe3-b2adef22781f\"},{\"id\":\"dafa978d-25d0-4877-81a1-0bcbc2b095f4\"}]}},{\"type\":\"object\",\"name\":\"LegendItem\",\"id\":\"f52096f3-2550-45e3-bd08-fbbd90767b3e\",\"attributes\":{\"label\":{\"type\":\"value\",\"value\":\"1\"},\"renderers\":[{\"id\":\"cd7833c7-4171-467b-9859-6ccd93c1e31b\"},{\"id\":\"33955553-c12c-49ac-aecc-5e97a9e0fcc5\"}]}},{\"type\":\"object\",\"name\":\"LegendItem\",\"id\":\"0c23db8e-e62a-4ee3-b8a1-fd879e17adf4\",\"attributes\":{\"label\":{\"type\":\"value\",\"value\":\"3\"},\"renderers\":[{\"id\":\"987217ae-baa8-469b-a749-e6bbf7ab48e6\"},{\"id\":\"849cd42f-7235-4987-8465-9bd0a3b6ac9f\"}]}},{\"type\":\"object\",\"name\":\"LegendItem\",\"id\":\"8295ee60-8e3b-4085-8383-c37169c08e73\",\"attributes\":{\"label\":{\"type\":\"value\",\"value\":\"2\"},\"renderers\":[{\"id\":\"7c420979-f577-4e2a-8e43-a17c0e3907db\"},{\"id\":\"93cc387b-b566-4f31-ae54-665d2d508acd\"}]}}]}}],\"below\":[{\"type\":\"object\",\"name\":\"LinearAxis\",\"id\":\"bfe95e2b-752b-4025-bf2f-467df4d31fd8\",\"attributes\":{\"ticker\":{\"type\":\"object\",\"name\":\"BasicTicker\",\"id\":\"6a60e49e-dc4b-4318-ba67-6db7e3467149\",\"attributes\":{\"mantissas\":[1,2,5]}},\"formatter\":{\"type\":\"object\",\"name\":\"BasicTickFormatter\",\"id\":\"b21745cf-872a-403f-a57a-b89d46f00c90\"},\"axis_label\":\"AGE\",\"major_label_policy\":{\"type\":\"object\",\"name\":\"AllLabels\",\"id\":\"a074109b-2339-44cf-8c04-473b10739e08\"}}}],\"center\":[{\"type\":\"object\",\"name\":\"Grid\",\"id\":\"abd71659-d681-4c76-ad5c-369bf7034af8\",\"attributes\":{\"axis\":{\"id\":\"bfe95e2b-752b-4025-bf2f-467df4d31fd8\"},\"grid_line_color\":null}},{\"type\":\"object\",\"name\":\"Grid\",\"id\":\"bb06693c-e9c0-4964-949a-17ccd84470bf\",\"attributes\":{\"dimension\":1,\"axis\":{\"id\":\"58488e16-abf6-4439-b8cb-563dea6f0f44\"},\"grid_line_color\":null}}],\"min_border_top\":10,\"min_border_bottom\":10,\"min_border_left\":10,\"min_border_right\":10,\"output_backend\":\"webgl\"}},{\"type\":\"object\",\"name\":\"Spacer\",\"id\":\"4f1adbfb-c11c-463d-a808-24f9b08565ad\",\"attributes\":{\"name\":\"HSpacer00708\",\"stylesheets\":[\"\\n:host(.pn-loading):before, .pn-loading:before {\\n  background-color: #c3c3c3;\\n  mask-size: auto calc(min(50%, 400px));\\n  -webkit-mask-size: auto calc(min(50%, 400px));\\n}\",{\"id\":\"72c3aa1c-3553-4736-9c29-51c4b93e7f83\"},{\"id\":\"653a4f5d-17a9-4312-899f-f728e1eb0d0c\"},{\"id\":\"4cab0b4a-37a2-4da9-b857-fce64924ac44\"}],\"margin\":0,\"sizing_mode\":\"stretch_width\",\"align\":\"start\"}}]}}],\"defs\":[{\"type\":\"model\",\"name\":\"ReactiveHTML1\"},{\"type\":\"model\",\"name\":\"FlexBox1\",\"properties\":[{\"name\":\"align_content\",\"kind\":\"Any\",\"default\":\"flex-start\"},{\"name\":\"align_items\",\"kind\":\"Any\",\"default\":\"flex-start\"},{\"name\":\"flex_direction\",\"kind\":\"Any\",\"default\":\"row\"},{\"name\":\"flex_wrap\",\"kind\":\"Any\",\"default\":\"wrap\"},{\"name\":\"gap\",\"kind\":\"Any\",\"default\":\"\"},{\"name\":\"justify_content\",\"kind\":\"Any\",\"default\":\"flex-start\"}]},{\"type\":\"model\",\"name\":\"FloatPanel1\",\"properties\":[{\"name\":\"config\",\"kind\":\"Any\",\"default\":{\"type\":\"map\"}},{\"name\":\"contained\",\"kind\":\"Any\",\"default\":true},{\"name\":\"position\",\"kind\":\"Any\",\"default\":\"right-top\"},{\"name\":\"offsetx\",\"kind\":\"Any\",\"default\":null},{\"name\":\"offsety\",\"kind\":\"Any\",\"default\":null},{\"name\":\"theme\",\"kind\":\"Any\",\"default\":\"primary\"},{\"name\":\"status\",\"kind\":\"Any\",\"default\":\"normalized\"}]},{\"type\":\"model\",\"name\":\"GridStack1\",\"properties\":[{\"name\":\"ncols\",\"kind\":\"Any\",\"default\":null},{\"name\":\"nrows\",\"kind\":\"Any\",\"default\":null},{\"name\":\"allow_resize\",\"kind\":\"Any\",\"default\":true},{\"name\":\"allow_drag\",\"kind\":\"Any\",\"default\":true},{\"name\":\"state\",\"kind\":\"Any\",\"default\":[]}]},{\"type\":\"model\",\"name\":\"drag1\",\"properties\":[{\"name\":\"slider_width\",\"kind\":\"Any\",\"default\":5},{\"name\":\"slider_color\",\"kind\":\"Any\",\"default\":\"black\"},{\"name\":\"value\",\"kind\":\"Any\",\"default\":50}]},{\"type\":\"model\",\"name\":\"click1\",\"properties\":[{\"name\":\"terminal_output\",\"kind\":\"Any\",\"default\":\"\"},{\"name\":\"debug_name\",\"kind\":\"Any\",\"default\":\"\"},{\"name\":\"clears\",\"kind\":\"Any\",\"default\":0}]},{\"type\":\"model\",\"name\":\"FastWrapper1\",\"properties\":[{\"name\":\"object\",\"kind\":\"Any\",\"default\":null},{\"name\":\"style\",\"kind\":\"Any\",\"default\":null}]},{\"type\":\"model\",\"name\":\"NotificationArea1\",\"properties\":[{\"name\":\"js_events\",\"kind\":\"Any\",\"default\":{\"type\":\"map\"}},{\"name\":\"max_notifications\",\"kind\":\"Any\",\"default\":5},{\"name\":\"notifications\",\"kind\":\"Any\",\"default\":[]},{\"name\":\"position\",\"kind\":\"Any\",\"default\":\"bottom-right\"},{\"name\":\"_clear\",\"kind\":\"Any\",\"default\":0},{\"name\":\"types\",\"kind\":\"Any\",\"default\":[{\"type\":\"map\",\"entries\":[[\"type\",\"warning\"],[\"background\",\"#ffc107\"],[\"icon\",{\"type\":\"map\",\"entries\":[[\"className\",\"fas fa-exclamation-triangle\"],[\"tagName\",\"i\"],[\"color\",\"white\"]]}]]},{\"type\":\"map\",\"entries\":[[\"type\",\"info\"],[\"background\",\"#007bff\"],[\"icon\",{\"type\":\"map\",\"entries\":[[\"className\",\"fas fa-info-circle\"],[\"tagName\",\"i\"],[\"color\",\"white\"]]}]]}]}]},{\"type\":\"model\",\"name\":\"Notification\",\"properties\":[{\"name\":\"background\",\"kind\":\"Any\",\"default\":null},{\"name\":\"duration\",\"kind\":\"Any\",\"default\":3000},{\"name\":\"icon\",\"kind\":\"Any\",\"default\":null},{\"name\":\"message\",\"kind\":\"Any\",\"default\":\"\"},{\"name\":\"notification_type\",\"kind\":\"Any\",\"default\":null},{\"name\":\"_rendered\",\"kind\":\"Any\",\"default\":false},{\"name\":\"_destroyed\",\"kind\":\"Any\",\"default\":false}]},{\"type\":\"model\",\"name\":\"TemplateActions1\",\"properties\":[{\"name\":\"open_modal\",\"kind\":\"Any\",\"default\":0},{\"name\":\"close_modal\",\"kind\":\"Any\",\"default\":0}]},{\"type\":\"model\",\"name\":\"BootstrapTemplateActions1\",\"properties\":[{\"name\":\"open_modal\",\"kind\":\"Any\",\"default\":0},{\"name\":\"close_modal\",\"kind\":\"Any\",\"default\":0}]},{\"type\":\"model\",\"name\":\"TemplateEditor1\",\"properties\":[{\"name\":\"layout\",\"kind\":\"Any\",\"default\":[]}]},{\"type\":\"model\",\"name\":\"MaterialTemplateActions1\",\"properties\":[{\"name\":\"open_modal\",\"kind\":\"Any\",\"default\":0},{\"name\":\"close_modal\",\"kind\":\"Any\",\"default\":0}]},{\"type\":\"model\",\"name\":\"ReactiveESM1\",\"properties\":[{\"name\":\"esm_constants\",\"kind\":\"Any\",\"default\":{\"type\":\"map\"}}]},{\"type\":\"model\",\"name\":\"JSComponent1\",\"properties\":[{\"name\":\"esm_constants\",\"kind\":\"Any\",\"default\":{\"type\":\"map\"}}]},{\"type\":\"model\",\"name\":\"ReactComponent1\",\"properties\":[{\"name\":\"esm_constants\",\"kind\":\"Any\",\"default\":{\"type\":\"map\"}}]},{\"type\":\"model\",\"name\":\"AnyWidgetComponent1\",\"properties\":[{\"name\":\"esm_constants\",\"kind\":\"Any\",\"default\":{\"type\":\"map\"}}]},{\"type\":\"model\",\"name\":\"request_value1\",\"properties\":[{\"name\":\"fill\",\"kind\":\"Any\",\"default\":\"none\"},{\"name\":\"_synced\",\"kind\":\"Any\",\"default\":null},{\"name\":\"_request_sync\",\"kind\":\"Any\",\"default\":0}]}]}};\n",
       "  var render_items = [{\"docid\":\"d264eecf-d6ab-49d6-b645-6851f645c16a\",\"roots\":{\"8d2b769e-22de-4fda-b4b4-844a3cd84f40\":\"bb3267a4-3cbd-4ca5-8c54-2583178a5800\"},\"root_ids\":[\"8d2b769e-22de-4fda-b4b4-844a3cd84f40\"]}];\n",
       "  var docs = Object.values(docs_json)\n",
       "  if (!docs) {\n",
       "    return\n",
       "  }\n",
       "  const py_version = docs[0].version.replace('rc', '-rc.').replace('.dev', '-dev.')\n",
       "  async function embed_document(root) {\n",
       "    var Bokeh = get_bokeh(root)\n",
       "    await Bokeh.embed.embed_items_notebook(docs_json, render_items);\n",
       "    for (const render_item of render_items) {\n",
       "      for (const root_id of render_item.root_ids) {\n",
       "\tconst id_el = document.getElementById(root_id)\n",
       "\tif (id_el.children.length && id_el.children[0].hasAttribute('data-root-id')) {\n",
       "\t  const root_el = id_el.children[0]\n",
       "\t  root_el.id = root_el.id + '-rendered'\n",
       "\t  for (const child of root_el.children) {\n",
       "            // Ensure JupyterLab does not capture keyboard shortcuts\n",
       "            // see: https://jupyterlab.readthedocs.io/en/4.1.x/extension/notebook.html#keyboard-interaction-model\n",
       "\t    child.setAttribute('data-lm-suppress-shortcuts', 'true')\n",
       "\t  }\n",
       "\t}\n",
       "      }\n",
       "    }\n",
       "  }\n",
       "  function get_bokeh(root) {\n",
       "    if (root.Bokeh === undefined) {\n",
       "      return null\n",
       "    } else if (root.Bokeh.version !== py_version) {\n",
       "      if (root.Bokeh.versions === undefined || !root.Bokeh.versions.has(py_version)) {\n",
       "\treturn null\n",
       "      }\n",
       "      return root.Bokeh.versions.get(py_version);\n",
       "    } else if (root.Bokeh.version === py_version) {\n",
       "      return root.Bokeh\n",
       "    }\n",
       "    return null\n",
       "  }\n",
       "  function is_loaded(root) {\n",
       "    var Bokeh = get_bokeh(root)\n",
       "    return (Bokeh != null && Bokeh.Panel !== undefined)\n",
       "  }\n",
       "  if (is_loaded(root)) {\n",
       "    embed_document(root);\n",
       "  } else {\n",
       "    var attempts = 0;\n",
       "    var timer = setInterval(function(root) {\n",
       "      if (is_loaded(root)) {\n",
       "        clearInterval(timer);\n",
       "        embed_document(root);\n",
       "      } else if (document.readyState == \"complete\") {\n",
       "        attempts++;\n",
       "        if (attempts > 200) {\n",
       "          clearInterval(timer);\n",
       "\t  var Bokeh = get_bokeh(root)\n",
       "\t  if (Bokeh == null || Bokeh.Panel == null) {\n",
       "            console.warn(\"Panel: ERROR: Unable to run Panel code because Bokeh or Panel library is missing\");\n",
       "\t  } else {\n",
       "\t    console.warn(\"Panel: WARNING: Attempting to render but not all required libraries could be resolved.\")\n",
       "\t    embed_document(root)\n",
       "\t  }\n",
       "        }\n",
       "      }\n",
       "    }, 25, root)\n",
       "  }\n",
       "})(window);</script>"
      ],
      "text/plain": [
       ":Overlay\n",
       "   .NdOverlay.I  :NdOverlay   [ILOSTAT]\n",
       "      :Curve   [AGE]   (len)\n",
       "   .NdOverlay.II :NdOverlay   [ILOSTAT]\n",
       "      :Scatter   [AGE]   (len)"
      ]
     },
     "execution_count": 38,
     "metadata": {
      "application/vnd.holoviews_exec.v0+json": {
       "id": "8d2b769e-22de-4fda-b4b4-844a3cd84f40"
      }
     },
     "output_type": "execute_result"
    }
   ],
   "source": [
    "import hvplot.pandas  # active hvplot sur pandas\n",
    "\n",
    "# Récupération et conversion à Pandas directement\n",
    "df = query_age_ilostat.release().collect().to_pandas()\n",
    "\n",
    "# Ensuite, tu peux faire ton plotting\n",
    "line = df.sort_values(\"AGE\").hvplot.line(x=\"AGE\", y=\"len\", by=\"ILOSTAT\")\n",
    "scatter = df.sort_values(\"AGE\").hvplot.scatter(x=\"AGE\", y=\"len\", by=\"ILOSTAT\")\n",
    "line * scatter"
   ]
  },
  {
   "cell_type": "markdown",
   "id": "2859db7a",
   "metadata": {},
   "source": [
    "### Si on connait les classes, on peut éviter d'utiliser du delta"
   ]
  },
  {
   "cell_type": "code",
   "execution_count": 46,
   "id": "fea9efb2",
   "metadata": {},
   "outputs": [
    {
     "ename": "KeyboardInterrupt",
     "evalue": "",
     "output_type": "error",
     "traceback": [
      "\u001b[31m---------------------------------------------------------------------------\u001b[39m",
      "\u001b[31mKeyboardInterrupt\u001b[39m                         Traceback (most recent call last)",
      "\u001b[36mCell\u001b[39m\u001b[36m \u001b[39m\u001b[32mIn[46]\u001b[39m\u001b[32m, line 29\u001b[39m\n\u001b[32m     20\u001b[39m query_age_ilostat.summarize()\n\u001b[32m     22\u001b[39m query_age_ilostat = (\n\u001b[32m     23\u001b[39m     context.query()\n\u001b[32m     24\u001b[39m     .group_by(\u001b[33m\"\u001b[39m\u001b[33mAGE\u001b[39m\u001b[33m\"\u001b[39m, \u001b[33m\"\u001b[39m\u001b[33mILOSTAT\u001b[39m\u001b[33m\"\u001b[39m)\n\u001b[32m     25\u001b[39m     .agg(dp.len())\n\u001b[32m     26\u001b[39m     .join(df[\u001b[33m\"\u001b[39m\u001b[33mAGE\u001b[39m\u001b[33m\"\u001b[39m, \u001b[33m\"\u001b[39m\u001b[33mILOSTAT\u001b[39m\u001b[33m\"\u001b[39m].lazy(), how=\u001b[33m\"\u001b[39m\u001b[33mright\u001b[39m\u001b[33m\"\u001b[39m, on=[\u001b[33m\"\u001b[39m\u001b[33mAGE\u001b[39m\u001b[33m\"\u001b[39m, \u001b[33m\"\u001b[39m\u001b[33mILOSTAT\u001b[39m\u001b[33m\"\u001b[39m])\n\u001b[32m     27\u001b[39m )\n\u001b[32m---> \u001b[39m\u001b[32m29\u001b[39m \u001b[43mquery_age_ilostat\u001b[49m\u001b[43m.\u001b[49m\u001b[43msummarize\u001b[49m\u001b[43m(\u001b[49m\u001b[43m)\u001b[49m\n",
      "\u001b[36mFile \u001b[39m\u001b[32m/usr/local/lib/python3.12/site-packages/opendp/extras/polars/__init__.py:959\u001b[39m, in \u001b[36mLazyFrameQuery.summarize\u001b[39m\u001b[34m(self, alpha)\u001b[39m\n\u001b[32m    906\u001b[39m \u001b[38;5;250m\u001b[39m\u001b[33;03m\"\"\"Summarize the statistics released by this query.\u001b[39;00m\n\u001b[32m    907\u001b[39m \n\u001b[32m    908\u001b[39m \u001b[33;03mIf ``alpha`` is passed, the resulting data frame includes an ``accuracy`` column.\u001b[39;00m\n\u001b[32m   (...)\u001b[39m\u001b[32m    955\u001b[39m \u001b[33;03m>>> interpret_accuracy(\"Integer Laplace\", 2.0, 6.429605, alpha=.05) # doctest:+SKIP\u001b[39;00m\n\u001b[32m    956\u001b[39m \u001b[33;03m\"\"\"\u001b[39;00m\n\u001b[32m    957\u001b[39m \u001b[38;5;28;01mfrom\u001b[39;00m\u001b[38;5;250m \u001b[39m\u001b[34;01mopendp\u001b[39;00m\u001b[34;01m.\u001b[39;00m\u001b[34;01maccuracy\u001b[39;00m\u001b[38;5;250m \u001b[39m\u001b[38;5;28;01mimport\u001b[39;00m summarize_polars_measurement\n\u001b[32m--> \u001b[39m\u001b[32m959\u001b[39m \u001b[38;5;28;01mreturn\u001b[39;00m summarize_polars_measurement(\u001b[38;5;28;43mself\u001b[39;49m\u001b[43m.\u001b[49m\u001b[43mresolve\u001b[49m\u001b[43m(\u001b[49m\u001b[43m)\u001b[49m, alpha)\n",
      "\u001b[36mFile \u001b[39m\u001b[32m/usr/local/lib/python3.12/site-packages/opendp/extras/polars/__init__.py:897\u001b[39m, in \u001b[36mLazyFrameQuery.resolve\u001b[39m\u001b[34m(self)\u001b[39m\n\u001b[32m    893\u001b[39m     \u001b[38;5;28;01mreturn\u001b[39;00m _make(scale, threshold)\n\u001b[32m    895\u001b[39m \u001b[38;5;66;03m# when no delta parameter is involved,\u001b[39;00m\n\u001b[32m    896\u001b[39m \u001b[38;5;66;03m# finding a suitable measurement just comes down to finding scale\u001b[39;00m\n\u001b[32m--> \u001b[39m\u001b[32m897\u001b[39m \u001b[38;5;28;01mreturn\u001b[39;00m \u001b[43mbinary_search_chain\u001b[49m\u001b[43m(\u001b[49m\u001b[43m_make\u001b[49m\u001b[43m,\u001b[49m\u001b[43m \u001b[49m\u001b[43md_in\u001b[49m\u001b[43m,\u001b[49m\u001b[43m \u001b[49m\u001b[43md_out\u001b[49m\u001b[43m,\u001b[49m\u001b[43m \u001b[49m\u001b[43mT\u001b[49m\u001b[43m=\u001b[49m\u001b[38;5;28;43mfloat\u001b[39;49m\u001b[43m)\u001b[49m\n",
      "\u001b[36mFile \u001b[39m\u001b[32m/usr/local/lib/python3.12/site-packages/opendp/mod.py:1075\u001b[39m, in \u001b[36mbinary_search_chain\u001b[39m\u001b[34m(make_chain, d_in, d_out, bounds, T)\u001b[39m\n\u001b[32m   1013\u001b[39m \u001b[38;5;28;01mdef\u001b[39;00m\u001b[38;5;250m \u001b[39m\u001b[34mbinary_search_chain\u001b[39m(\n\u001b[32m   1014\u001b[39m         make_chain: Callable[[\u001b[38;5;28mfloat\u001b[39m], M],\n\u001b[32m   1015\u001b[39m         d_in: Any, d_out: Any,\n\u001b[32m   1016\u001b[39m         bounds: \u001b[38;5;28mtuple\u001b[39m[\u001b[38;5;28mfloat\u001b[39m, \u001b[38;5;28mfloat\u001b[39m] | \u001b[38;5;28;01mNone\u001b[39;00m = \u001b[38;5;28;01mNone\u001b[39;00m,\n\u001b[32m   1017\u001b[39m         T=\u001b[38;5;28;01mNone\u001b[39;00m) -> M:\n\u001b[32m   1018\u001b[39m \u001b[38;5;250m    \u001b[39m\u001b[33;03m\"\"\"Find the highest-utility (`d_in`, `d_out`)-close Transformation or Measurement.\u001b[39;00m\n\u001b[32m   1019\u001b[39m \u001b[33;03m    \u001b[39;00m\n\u001b[32m   1020\u001b[39m \u001b[33;03m    Searches for the numeric parameter to `make_chain` that results in a computation\u001b[39;00m\n\u001b[32m   (...)\u001b[39m\u001b[32m   1073\u001b[39m \u001b[33;03m    >>> # If you want the discovered clamping bound, use `binary_search_param` instead.\u001b[39;00m\n\u001b[32m   1074\u001b[39m \u001b[33;03m    \"\"\"\u001b[39;00m\n\u001b[32m-> \u001b[39m\u001b[32m1075\u001b[39m     \u001b[38;5;28;01mreturn\u001b[39;00m make_chain(\u001b[43mbinary_search_param\u001b[49m\u001b[43m(\u001b[49m\u001b[43mmake_chain\u001b[49m\u001b[43m,\u001b[49m\u001b[43m \u001b[49m\u001b[43md_in\u001b[49m\u001b[43m,\u001b[49m\u001b[43m \u001b[49m\u001b[43md_out\u001b[49m\u001b[43m,\u001b[49m\u001b[43m \u001b[49m\u001b[43mbounds\u001b[49m\u001b[43m,\u001b[49m\u001b[43m \u001b[49m\u001b[43mT\u001b[49m\u001b[43m)\u001b[49m)\n",
      "\u001b[36mFile \u001b[39m\u001b[32m/usr/local/lib/python3.12/site-packages/opendp/mod.py:1143\u001b[39m, in \u001b[36mbinary_search_param\u001b[39m\u001b[34m(make_chain, d_in, d_out, bounds, T)\u001b[39m\n\u001b[32m   1083\u001b[39m \u001b[38;5;250m\u001b[39m\u001b[33;03m\"\"\"Solve for the ideal constructor argument to `make_chain`.\u001b[39;00m\n\u001b[32m   1084\u001b[39m \u001b[33;03m\u001b[39;00m\n\u001b[32m   1085\u001b[39m \u001b[33;03mOptimizes a parameterized chain `make_chain` within float or integer `bounds`,\u001b[39;00m\n\u001b[32m   (...)\u001b[39m\u001b[32m   1136\u001b[39m \u001b[33;03m1498\u001b[39;00m\n\u001b[32m   1137\u001b[39m \u001b[33;03m\"\"\"\u001b[39;00m\n\u001b[32m   1139\u001b[39m \u001b[38;5;66;03m# one might think running scipy.optimize.brent* would be better, but \u001b[39;00m\n\u001b[32m   1140\u001b[39m \u001b[38;5;66;03m# 1. benchmarking showed no difference or minor regressions\u001b[39;00m\n\u001b[32m   1141\u001b[39m \u001b[38;5;66;03m# 2. brentq is more complicated\u001b[39;00m\n\u001b[32m-> \u001b[39m\u001b[32m1143\u001b[39m \u001b[38;5;28;01mreturn\u001b[39;00m \u001b[43mbinary_search\u001b[49m\u001b[43m(\u001b[49m\u001b[38;5;28;43;01mlambda\u001b[39;49;00m\u001b[43m \u001b[49m\u001b[43mparam\u001b[49m\u001b[43m:\u001b[49m\u001b[43m \u001b[49m\u001b[43mmake_chain\u001b[49m\u001b[43m(\u001b[49m\u001b[43mparam\u001b[49m\u001b[43m)\u001b[49m\u001b[43m.\u001b[49m\u001b[43mcheck\u001b[49m\u001b[43m(\u001b[49m\u001b[43md_in\u001b[49m\u001b[43m,\u001b[49m\u001b[43m \u001b[49m\u001b[43md_out\u001b[49m\u001b[43m)\u001b[49m\u001b[43m,\u001b[49m\u001b[43m \u001b[49m\u001b[43mbounds\u001b[49m\u001b[43m,\u001b[49m\u001b[43m \u001b[49m\u001b[43mT\u001b[49m\u001b[43m)\u001b[49m\n",
      "\u001b[36mFile \u001b[39m\u001b[32m/usr/local/lib/python3.12/site-packages/opendp/mod.py:1232\u001b[39m, in \u001b[36mbinary_search\u001b[39m\u001b[34m(predicate, bounds, T, return_sign)\u001b[39m\n\u001b[32m   1180\u001b[39m \u001b[38;5;250m\u001b[39m\u001b[33;03m\"\"\"Find the closest passing value to the decision boundary of `predicate`.\u001b[39;00m\n\u001b[32m   1181\u001b[39m \n\u001b[32m   1182\u001b[39m \u001b[33;03mIf bounds are not passed, conducts an exponential search.\u001b[39;00m\n\u001b[32m   (...)\u001b[39m\u001b[32m   1229\u001b[39m \u001b[33;03m3\u001b[39;00m\n\u001b[32m   1230\u001b[39m \u001b[33;03m\"\"\"\u001b[39;00m\n\u001b[32m   1231\u001b[39m \u001b[38;5;28;01mif\u001b[39;00m bounds \u001b[38;5;129;01mis\u001b[39;00m \u001b[38;5;28;01mNone\u001b[39;00m:\n\u001b[32m-> \u001b[39m\u001b[32m1232\u001b[39m     bounds = \u001b[43mexponential_bounds_search\u001b[49m\u001b[43m(\u001b[49m\u001b[43mpredicate\u001b[49m\u001b[43m,\u001b[49m\u001b[43m \u001b[49m\u001b[43mT\u001b[49m\u001b[43m)\u001b[49m \u001b[38;5;66;03m# type: ignore\u001b[39;00m\n\u001b[32m   1234\u001b[39m \u001b[38;5;28;01mif\u001b[39;00m bounds \u001b[38;5;129;01mis\u001b[39;00m \u001b[38;5;28;01mNone\u001b[39;00m:\n\u001b[32m   1235\u001b[39m     \u001b[38;5;28;01mraise\u001b[39;00m \u001b[38;5;167;01mValueError\u001b[39;00m(\u001b[33m\"\u001b[39m\u001b[33munable to infer bounds\u001b[39m\u001b[33m\"\u001b[39m)  \u001b[38;5;66;03m# pragma: no cover\u001b[39;00m\n",
      "\u001b[36mFile \u001b[39m\u001b[32m/usr/local/lib/python3.12/site-packages/opendp/mod.py:1359\u001b[39m, in \u001b[36mexponential_bounds_search\u001b[39m\u001b[34m(predicate, T)\u001b[39m\n\u001b[32m   1355\u001b[39m             e.add_note(\u001b[33mf\u001b[39m\u001b[33m\"\u001b[39m\u001b[33mPredicate in binary search always raises an exception. This exception is raised when the predicate is evaluated at \u001b[39m\u001b[38;5;132;01m{\u001b[39;00mcenter\u001b[38;5;132;01m}\u001b[39;00m\u001b[33m.\u001b[39m\u001b[33m\"\u001b[39m)\n\u001b[32m   1356\u001b[39m         \u001b[38;5;28;01mraise\u001b[39;00m\n\u001b[32m-> \u001b[39m\u001b[32m1359\u001b[39m center, sign = \u001b[43mbinary_search\u001b[49m\u001b[43m(\u001b[49m\u001b[43m_exception_predicate\u001b[49m\u001b[43m,\u001b[49m\u001b[43m \u001b[49m\u001b[43mbounds\u001b[49m\u001b[43m=\u001b[49m\u001b[43mexception_bounds\u001b[49m\u001b[43m,\u001b[49m\u001b[43m \u001b[49m\u001b[43mT\u001b[49m\u001b[43m=\u001b[49m\u001b[43mT\u001b[49m\u001b[43m,\u001b[49m\u001b[43m \u001b[49m\u001b[43mreturn_sign\u001b[49m\u001b[43m=\u001b[49m\u001b[38;5;28;43;01mTrue\u001b[39;49;00m\u001b[43m)\u001b[49m\n\u001b[32m   1360\u001b[39m at_center = predicate(center)\n\u001b[32m   1361\u001b[39m \u001b[38;5;28;01mreturn\u001b[39;00m signed_band_search(center, at_center, sign)\n",
      "\u001b[36mFile \u001b[39m\u001b[32m/usr/local/lib/python3.12/site-packages/opendp/mod.py:1264\u001b[39m, in \u001b[36mbinary_search\u001b[39m\u001b[34m(predicate, bounds, T, return_sign)\u001b[39m\n\u001b[32m   1261\u001b[39m     \u001b[38;5;28;01mbreak\u001b[39;00m\n\u001b[32m   1263\u001b[39m mid = new_mid\n\u001b[32m-> \u001b[39m\u001b[32m1264\u001b[39m \u001b[38;5;28;01mif\u001b[39;00m \u001b[43mpredicate\u001b[49m\u001b[43m(\u001b[49m\u001b[43mmid\u001b[49m\u001b[43m)\u001b[49m == minimize:\n\u001b[32m   1265\u001b[39m     upper = mid\n\u001b[32m   1266\u001b[39m \u001b[38;5;28;01melse\u001b[39;00m:\n",
      "\u001b[36mFile \u001b[39m\u001b[32m/usr/local/lib/python3.12/site-packages/opendp/mod.py:1344\u001b[39m, in \u001b[36mexponential_bounds_search.<locals>._exception_predicate\u001b[39m\u001b[34m(v)\u001b[39m\n\u001b[32m   1342\u001b[39m \u001b[38;5;28;01mdef\u001b[39;00m\u001b[38;5;250m \u001b[39m\u001b[34m_exception_predicate\u001b[39m(v):\n\u001b[32m   1343\u001b[39m     \u001b[38;5;28;01mtry\u001b[39;00m:\n\u001b[32m-> \u001b[39m\u001b[32m1344\u001b[39m         \u001b[43mpredicate\u001b[49m\u001b[43m(\u001b[49m\u001b[43mv\u001b[49m\u001b[43m)\u001b[49m\n\u001b[32m   1345\u001b[39m         \u001b[38;5;28;01mreturn\u001b[39;00m \u001b[38;5;28;01mTrue\u001b[39;00m\n\u001b[32m   1346\u001b[39m     \u001b[38;5;28;01mexcept\u001b[39;00m \u001b[38;5;167;01mException\u001b[39;00m:\n",
      "\u001b[36mFile \u001b[39m\u001b[32m/usr/local/lib/python3.12/site-packages/opendp/mod.py:1143\u001b[39m, in \u001b[36mbinary_search_param.<locals>.<lambda>\u001b[39m\u001b[34m(param)\u001b[39m\n\u001b[32m   1083\u001b[39m \u001b[38;5;250m\u001b[39m\u001b[33;03m\"\"\"Solve for the ideal constructor argument to `make_chain`.\u001b[39;00m\n\u001b[32m   1084\u001b[39m \u001b[33;03m\u001b[39;00m\n\u001b[32m   1085\u001b[39m \u001b[33;03mOptimizes a parameterized chain `make_chain` within float or integer `bounds`,\u001b[39;00m\n\u001b[32m   (...)\u001b[39m\u001b[32m   1136\u001b[39m \u001b[33;03m1498\u001b[39;00m\n\u001b[32m   1137\u001b[39m \u001b[33;03m\"\"\"\u001b[39;00m\n\u001b[32m   1139\u001b[39m \u001b[38;5;66;03m# one might think running scipy.optimize.brent* would be better, but \u001b[39;00m\n\u001b[32m   1140\u001b[39m \u001b[38;5;66;03m# 1. benchmarking showed no difference or minor regressions\u001b[39;00m\n\u001b[32m   1141\u001b[39m \u001b[38;5;66;03m# 2. brentq is more complicated\u001b[39;00m\n\u001b[32m-> \u001b[39m\u001b[32m1143\u001b[39m \u001b[38;5;28;01mreturn\u001b[39;00m binary_search(\u001b[38;5;28;01mlambda\u001b[39;00m param: \u001b[43mmake_chain\u001b[49m\u001b[43m(\u001b[49m\u001b[43mparam\u001b[49m\u001b[43m)\u001b[49m.check(d_in, d_out), bounds, T)\n",
      "\u001b[36mFile \u001b[39m\u001b[32m/usr/local/lib/python3.12/site-packages/opendp/extras/polars/__init__.py:861\u001b[39m, in \u001b[36mLazyFrameQuery.resolve.<locals>._make\u001b[39m\u001b[34m(scale, threshold)\u001b[39m\n\u001b[32m    860\u001b[39m \u001b[38;5;28;01mdef\u001b[39;00m\u001b[38;5;250m \u001b[39m\u001b[34m_make\u001b[39m(scale, threshold=\u001b[38;5;28;01mNone\u001b[39;00m):\n\u001b[32m--> \u001b[39m\u001b[32m861\u001b[39m     \u001b[38;5;28;01mreturn\u001b[39;00m \u001b[43mmake_private_lazyframe\u001b[49m\u001b[43m(\u001b[49m\n\u001b[32m    862\u001b[39m \u001b[43m        \u001b[49m\u001b[43minput_domain\u001b[49m\u001b[43m=\u001b[49m\u001b[43minput_domain\u001b[49m\u001b[43m,\u001b[49m\n\u001b[32m    863\u001b[39m \u001b[43m        \u001b[49m\u001b[43minput_metric\u001b[49m\u001b[43m=\u001b[49m\u001b[43minput_metric\u001b[49m\u001b[43m,\u001b[49m\n\u001b[32m    864\u001b[39m \u001b[43m        \u001b[49m\u001b[43moutput_measure\u001b[49m\u001b[43m=\u001b[49m\u001b[43mquery\u001b[49m\u001b[43m.\u001b[49m\u001b[43m_output_measure\u001b[49m\u001b[43m,\u001b[49m\n\u001b[32m    865\u001b[39m \u001b[43m        \u001b[49m\u001b[43mlazyframe\u001b[49m\u001b[43m=\u001b[49m\u001b[43mpolars_plan\u001b[49m\u001b[43m,\u001b[49m\n\u001b[32m    866\u001b[39m \u001b[43m        \u001b[49m\u001b[43mglobal_scale\u001b[49m\u001b[43m=\u001b[49m\u001b[43mscale\u001b[49m\u001b[43m,\u001b[49m\n\u001b[32m    867\u001b[39m \u001b[43m        \u001b[49m\u001b[43mthreshold\u001b[49m\u001b[43m=\u001b[49m\u001b[43mthreshold\u001b[49m\u001b[43m,\u001b[49m\n\u001b[32m    868\u001b[39m \u001b[43m    \u001b[49m\u001b[43m)\u001b[49m\n",
      "\u001b[36mFile \u001b[39m\u001b[32m/usr/local/lib/python3.12/site-packages/opendp/measurements.py:922\u001b[39m, in \u001b[36mmake_private_lazyframe\u001b[39m\u001b[34m(input_domain, input_metric, output_measure, lazyframe, global_scale, threshold)\u001b[39m\n\u001b[32m    920\u001b[39m c_input_metric = py_to_c(input_metric, c_type=Metric, type_name=\u001b[38;5;28;01mNone\u001b[39;00m)\n\u001b[32m    921\u001b[39m c_output_measure = py_to_c(output_measure, c_type=Measure, type_name=\u001b[38;5;28;01mNone\u001b[39;00m)\n\u001b[32m--> \u001b[39m\u001b[32m922\u001b[39m c_lazyframe = \u001b[43mpy_to_c\u001b[49m\u001b[43m(\u001b[49m\u001b[43mlazyframe\u001b[49m\u001b[43m,\u001b[49m\u001b[43m \u001b[49m\u001b[43mc_type\u001b[49m\u001b[43m=\u001b[49m\u001b[43mAnyObjectPtr\u001b[49m\u001b[43m,\u001b[49m\u001b[43m \u001b[49m\u001b[43mtype_name\u001b[49m\u001b[43m=\u001b[49m\u001b[33;43m\"\u001b[39;49m\u001b[33;43mLazyFrame\u001b[39;49m\u001b[33;43m\"\u001b[39;49m\u001b[43m)\u001b[49m\n\u001b[32m    923\u001b[39m c_global_scale = py_to_c(global_scale, c_type=AnyObjectPtr, type_name=RuntimeType(origin=\u001b[33m'\u001b[39m\u001b[33mOption\u001b[39m\u001b[33m'\u001b[39m, args=[\u001b[33m\"\u001b[39m\u001b[33mf64\u001b[39m\u001b[33m\"\u001b[39m]))\n\u001b[32m    924\u001b[39m c_threshold = py_to_c(threshold, c_type=AnyObjectPtr, type_name=RuntimeType(origin=\u001b[33m'\u001b[39m\u001b[33mOption\u001b[39m\u001b[33m'\u001b[39m, args=[\u001b[33m\"\u001b[39m\u001b[33mu32\u001b[39m\u001b[33m\"\u001b[39m]))\n",
      "\u001b[36mFile \u001b[39m\u001b[32m/usr/local/lib/python3.12/site-packages/opendp/_convert.py:133\u001b[39m, in \u001b[36mpy_to_c\u001b[39m\u001b[34m(value, c_type, type_name)\u001b[39m\n\u001b[32m    131\u001b[39m \u001b[38;5;28;01mif\u001b[39;00m c_type == AnyObjectPtr:\n\u001b[32m    132\u001b[39m     \u001b[38;5;28;01mfrom\u001b[39;00m\u001b[38;5;250m \u001b[39m\u001b[34;01mopendp\u001b[39;00m\u001b[34;01m.\u001b[39;00m\u001b[34;01m_data\u001b[39;00m\u001b[38;5;250m \u001b[39m\u001b[38;5;28;01mimport\u001b[39;00m slice_as_object\n\u001b[32m--> \u001b[39m\u001b[32m133\u001b[39m     \u001b[38;5;28;01mreturn\u001b[39;00m \u001b[43mslice_as_object\u001b[49m\u001b[43m(\u001b[49m\u001b[43mvalue\u001b[49m\u001b[43m,\u001b[49m\u001b[43m \u001b[49m\u001b[43mtype_name\u001b[49m\u001b[43m)\u001b[49m \u001b[38;5;66;03m# type: ignore[arg-type]\u001b[39;00m\n\u001b[32m    135\u001b[39m \u001b[38;5;28;01mif\u001b[39;00m c_type == FfiSlicePtr:\n\u001b[32m    136\u001b[39m     \u001b[38;5;28;01mif\u001b[39;00m type_name \u001b[38;5;129;01mis\u001b[39;00m \u001b[38;5;28;01mNone\u001b[39;00m:\n",
      "\u001b[36mFile \u001b[39m\u001b[32m/usr/local/lib/python3.12/site-packages/opendp/_data.py:565\u001b[39m, in \u001b[36mslice_as_object\u001b[39m\u001b[34m(raw, T)\u001b[39m\n\u001b[32m    562\u001b[39m lib_function.argtypes = [FfiSlicePtr, ctypes.c_char_p]\n\u001b[32m    563\u001b[39m lib_function.restype = FfiResult\n\u001b[32m--> \u001b[39m\u001b[32m565\u001b[39m output = unwrap(\u001b[43mlib_function\u001b[49m\u001b[43m(\u001b[49m\u001b[43mc_raw\u001b[49m\u001b[43m,\u001b[49m\u001b[43m \u001b[49m\u001b[43mc_T\u001b[49m\u001b[43m)\u001b[49m, AnyObjectPtr)\n\u001b[32m    566\u001b[39m \u001b[38;5;28;01mtry\u001b[39;00m:\n\u001b[32m    567\u001b[39m     output.__opendp_dict__ = {\n\u001b[32m    568\u001b[39m         \u001b[33m'\u001b[39m\u001b[33m__function__\u001b[39m\u001b[33m'\u001b[39m: \u001b[33m'\u001b[39m\u001b[33mslice_as_object\u001b[39m\u001b[33m'\u001b[39m,\n\u001b[32m    569\u001b[39m         \u001b[33m'\u001b[39m\u001b[33m__module__\u001b[39m\u001b[33m'\u001b[39m: \u001b[33m'\u001b[39m\u001b[33mdata\u001b[39m\u001b[33m'\u001b[39m,\n\u001b[32m   (...)\u001b[39m\u001b[32m    572\u001b[39m         },\n\u001b[32m    573\u001b[39m     }\n",
      "\u001b[31mKeyboardInterrupt\u001b[39m: "
     ]
    }
   ],
   "source": [
    "context = dp.Context.compositor(\n",
    "    # Many columns contain mixtures of strings and numbers and cannot be parsed as floats,\n",
    "    # so we'll set `ignore_errors` to true to avoid conversion errors.\n",
    "    data=pl.scan_csv(dp.examples.get_france_lfs_path(), ignore_errors=True),\n",
    "    privacy_unit=dp.unit_of(contributions=36),\n",
    "    privacy_loss=dp.loss_of(epsilon=1.0 / 4),\n",
    "    # allow for one query\n",
    "    split_evenly_over=1,\n",
    ")\n",
    "\n",
    "df = pl.scan_csv(dp.examples.get_france_lfs_path(), ignore_errors=True).collect()\n",
    "\n",
    "query_age_ilostat = (\n",
    "    context.query()\n",
    "    .group_by(\"AGE\", \"ILOSTAT\")\n",
    "    .agg(dp.len())\n",
    "    .with_keys(df[\"AGE\", \"ILOSTAT\"])\n",
    ")\n",
    "\n",
    "query_age_ilostat.summarize()\n",
    "\n",
    "query_age_ilostat = (\n",
    "    context.query()\n",
    "    .group_by(\"AGE\", \"ILOSTAT\")\n",
    "    .agg(dp.len())\n",
    "    .join(df[\"AGE\", \"ILOSTAT\"].lazy(), how=\"right\", on=[\"AGE\", \"ILOSTAT\"])\n",
    ")\n",
    "\n",
    "query_age_ilostat.summarize()"
   ]
  },
  {
   "cell_type": "markdown",
   "id": "03a1bfcf",
   "metadata": {},
   "source": [
    "### Autre manière (j'ai l'impression)"
   ]
  },
  {
   "cell_type": "code",
   "execution_count": 22,
   "id": "4df14dc2",
   "metadata": {},
   "outputs": [
    {
     "name": "stdout",
     "output_type": "stream",
     "text": [
      "shape: (40, 3)\n",
      "┌──────┬─────────┬──────┐\n",
      "│ YEAR ┆ QUARTER ┆ len  │\n",
      "│ ---  ┆ ---     ┆ ---  │\n",
      "│ i64  ┆ i64     ┆ u32  │\n",
      "╞══════╪═════════╪══════╡\n",
      "│ 2010 ┆ 1       ┆ 5488 │\n",
      "│ 2007 ┆ 2       ┆ 4029 │\n",
      "│ 2006 ┆ 2       ┆ 3965 │\n",
      "│ 2009 ┆ 3       ┆ 4753 │\n",
      "│ 2004 ┆ 4       ┆ 4044 │\n",
      "│ …    ┆ …       ┆ …    │\n",
      "│ 2006 ┆ 4       ┆ 4062 │\n",
      "│ 2013 ┆ 4       ┆ 5443 │\n",
      "│ 2011 ┆ 1       ┆ 6159 │\n",
      "│ 2009 ┆ 4       ┆ 5068 │\n",
      "│ 2013 ┆ 2       ┆ 5014 │\n",
      "└──────┴─────────┴──────┘\n"
     ]
    },
    {
     "data": {
      "text/html": [
       "<div><style>\n",
       ".dataframe > thead > tr,\n",
       ".dataframe > tbody > tr {\n",
       "  text-align: right;\n",
       "  white-space: pre-wrap;\n",
       "}\n",
       "</style>\n",
       "<small>shape: (1, 5)</small><table border=\"1\" class=\"dataframe\"><thead><tr><th>column</th><th>aggregate</th><th>distribution</th><th>scale</th><th>accuracy</th></tr><tr><td>str</td><td>str</td><td>str</td><td>f64</td><td>f64</td></tr></thead><tbody><tr><td>&quot;len&quot;</td><td>&quot;Frame Length&quot;</td><td>&quot;Integer Laplace&quot;</td><td>288.0</td><td>863.270461</td></tr></tbody></table></div>"
      ],
      "text/plain": [
       "shape: (1, 5)\n",
       "┌────────┬──────────────┬─────────────────┬───────┬────────────┐\n",
       "│ column ┆ aggregate    ┆ distribution    ┆ scale ┆ accuracy   │\n",
       "│ ---    ┆ ---          ┆ ---             ┆ ---   ┆ ---        │\n",
       "│ str    ┆ str          ┆ str             ┆ f64   ┆ f64        │\n",
       "╞════════╪══════════════╪═════════════════╪═══════╪════════════╡\n",
       "│ len    ┆ Frame Length ┆ Integer Laplace ┆ 288.0 ┆ 863.270461 │\n",
       "└────────┴──────────────┴─────────────────┴───────┴────────────┘"
      ]
     },
     "execution_count": 22,
     "metadata": {},
     "output_type": "execute_result"
    }
   ],
   "source": [
    "context = dp.Context.compositor(\n",
    "    data=pl.scan_csv(dp.examples.get_france_lfs_path(), ignore_errors=True),\n",
    "    privacy_unit=dp.unit_of(contributions=36),\n",
    "    privacy_loss=dp.loss_of(epsilon=1.0 / 4),\n",
    "    split_evenly_over=2,\n",
    "    margins=[\n",
    "        # partition keys when grouped by \"YEAR\" and \"QUARTER\" are invariant\n",
    "        dp.polars.Margin(by=[\"YEAR\", \"QUARTER\"], public_info=\"keys\")\n",
    "    ],\n",
    ")\n",
    "\n",
    "query_quarterly_counts = (\n",
    "    context.query()\n",
    "    .group_by(\"YEAR\", \"QUARTER\")\n",
    "    .agg(dp.len())\n",
    ")\n",
    "\n",
    "print(query_quarterly_counts.release().collect())\n",
    "query_quarterly_counts.summarize(alpha=.05)"
   ]
  },
  {
   "cell_type": "code",
   "execution_count": 15,
   "id": "ec54ef51",
   "metadata": {},
   "outputs": [
    {
     "data": {
      "text/html": [
       "<script type=\"esms-options\">{\"shimMode\": true}</script><style>*[data-root-id],\n",
       "*[data-root-id] > * {\n",
       "  box-sizing: border-box;\n",
       "  font-family: var(--jp-ui-font-family);\n",
       "  font-size: var(--jp-ui-font-size1);\n",
       "  color: var(--vscode-editor-foreground, var(--jp-ui-font-color1));\n",
       "}\n",
       "\n",
       "/* Override VSCode background color */\n",
       ".cell-output-ipywidget-background:has(\n",
       "    > .cell-output-ipywidget-background > .lm-Widget > *[data-root-id]\n",
       "  ),\n",
       ".cell-output-ipywidget-background:has(> .lm-Widget > *[data-root-id]) {\n",
       "  background-color: transparent !important;\n",
       "}\n",
       "</style>"
      ]
     },
     "metadata": {},
     "output_type": "display_data"
    },
    {
     "data": {
      "application/javascript": "(function(root) {\n  function now() {\n    return new Date();\n  }\n\n  const force = true;\n  const py_version = '3.7.2'.replace('rc', '-rc.').replace('.dev', '-dev.');\n  const reloading = false;\n  const Bokeh = root.Bokeh;\n\n  // Set a timeout for this load but only if we are not already initializing\n  if (typeof (root._bokeh_timeout) === \"undefined\" || (force || !root._bokeh_is_initializing)) {\n    root._bokeh_timeout = Date.now() + 5000;\n    root._bokeh_failed_load = false;\n  }\n\n  function run_callbacks() {\n    try {\n      root._bokeh_onload_callbacks.forEach(function(callback) {\n        if (callback != null)\n          callback();\n      });\n    } finally {\n      delete root._bokeh_onload_callbacks;\n    }\n    console.debug(\"Bokeh: all callbacks have finished\");\n  }\n\n  function load_libs(css_urls, js_urls, js_modules, js_exports, callback) {\n    if (css_urls == null) css_urls = [];\n    if (js_urls == null) js_urls = [];\n    if (js_modules == null) js_modules = [];\n    if (js_exports == null) js_exports = {};\n\n    root._bokeh_onload_callbacks.push(callback);\n\n    if (root._bokeh_is_loading > 0) {\n      // Don't load bokeh if it is still initializing\n      console.debug(\"Bokeh: BokehJS is being loaded, scheduling callback at\", now());\n      return null;\n    } else if (js_urls.length === 0 && js_modules.length === 0 && Object.keys(js_exports).length === 0) {\n      // There is nothing to load\n      run_callbacks();\n      return null;\n    }\n\n    function on_load() {\n      root._bokeh_is_loading--;\n      if (root._bokeh_is_loading === 0) {\n        console.debug(\"Bokeh: all BokehJS libraries/stylesheets loaded\");\n        run_callbacks()\n      }\n    }\n    window._bokeh_on_load = on_load\n\n    function on_error(e) {\n      const src_el = e.srcElement\n      console.error(\"failed to load \" + (src_el.href || src_el.src));\n    }\n\n    const skip = [];\n    if (window.requirejs) {\n      window.requirejs.config({'packages': {}, 'paths': {}, 'shim': {}});\n      root._bokeh_is_loading = css_urls.length + 0;\n    } else {\n      root._bokeh_is_loading = css_urls.length + js_urls.length + js_modules.length + Object.keys(js_exports).length;\n    }\n\n    const existing_stylesheets = []\n    const links = document.getElementsByTagName('link')\n    for (let i = 0; i < links.length; i++) {\n      const link = links[i]\n      if (link.href != null) {\n        existing_stylesheets.push(link.href)\n      }\n    }\n    for (let i = 0; i < css_urls.length; i++) {\n      const url = css_urls[i];\n      const escaped = encodeURI(url)\n      if (existing_stylesheets.indexOf(escaped) !== -1) {\n        on_load()\n        continue;\n      }\n      const element = document.createElement(\"link\");\n      element.onload = on_load;\n      element.onerror = on_error;\n      element.rel = \"stylesheet\";\n      element.type = \"text/css\";\n      element.href = url;\n      console.debug(\"Bokeh: injecting link tag for BokehJS stylesheet: \", url);\n      document.body.appendChild(element);\n    }    var existing_scripts = []\n    const scripts = document.getElementsByTagName('script')\n    for (let i = 0; i < scripts.length; i++) {\n      var script = scripts[i]\n      if (script.src != null) {\n        existing_scripts.push(script.src)\n      }\n    }\n    for (let i = 0; i < js_urls.length; i++) {\n      const url = js_urls[i];\n      const escaped = encodeURI(url)\n      if (skip.indexOf(escaped) !== -1 || existing_scripts.indexOf(escaped) !== -1) {\n        if (!window.requirejs) {\n          on_load();\n        }\n        continue;\n      }\n      const element = document.createElement('script');\n      element.onload = on_load;\n      element.onerror = on_error;\n      element.async = false;\n      element.src = url;\n      console.debug(\"Bokeh: injecting script tag for BokehJS library: \", url);\n      document.head.appendChild(element);\n    }\n    for (let i = 0; i < js_modules.length; i++) {\n      const url = js_modules[i];\n      const escaped = encodeURI(url)\n      if (skip.indexOf(escaped) !== -1 || existing_scripts.indexOf(escaped) !== -1) {\n        if (!window.requirejs) {\n          on_load();\n        }\n        continue;\n      }\n      var element = document.createElement('script');\n      element.onload = on_load;\n      element.onerror = on_error;\n      element.async = false;\n      element.src = url;\n      element.type = \"module\";\n      console.debug(\"Bokeh: injecting script tag for BokehJS library: \", url);\n      document.head.appendChild(element);\n    }\n    for (const name in js_exports) {\n      const url = js_exports[name];\n      const escaped = encodeURI(url)\n      if (skip.indexOf(escaped) >= 0 || root[name] != null) {\n        if (!window.requirejs) {\n          on_load();\n        }\n        continue;\n      }\n      var element = document.createElement('script');\n      element.onerror = on_error;\n      element.async = false;\n      element.type = \"module\";\n      console.debug(\"Bokeh: injecting script tag for BokehJS library: \", url);\n      element.textContent = `\n      import ${name} from \"${url}\"\n      window.${name} = ${name}\n      window._bokeh_on_load()\n      `\n      document.head.appendChild(element);\n    }\n    if (!js_urls.length && !js_modules.length) {\n      on_load()\n    }\n  };\n\n  function inject_raw_css(css) {\n    const element = document.createElement(\"style\");\n    element.appendChild(document.createTextNode(css));\n    document.body.appendChild(element);\n  }\n\n  const js_urls = [\"https://cdn.holoviz.org/panel/1.6.3/dist/bundled/reactiveesm/es-module-shims@^1.10.0/dist/es-module-shims.min.js\", \"https://cdn.bokeh.org/bokeh/release/bokeh-3.7.2.min.js\", \"https://cdn.bokeh.org/bokeh/release/bokeh-gl-3.7.2.min.js\", \"https://cdn.bokeh.org/bokeh/release/bokeh-widgets-3.7.2.min.js\", \"https://cdn.bokeh.org/bokeh/release/bokeh-tables-3.7.2.min.js\", \"https://cdn.holoviz.org/panel/1.6.3/dist/panel.min.js\"];\n  const js_modules = [];\n  const js_exports = {};\n  const css_urls = [];\n  const inline_js = [    function(Bokeh) {\n      Bokeh.set_log_level(\"info\");\n    },\nfunction(Bokeh) {} // ensure no trailing comma for IE\n  ];\n\n  function run_inline_js() {\n    if ((root.Bokeh !== undefined) || (force === true)) {\n      for (let i = 0; i < inline_js.length; i++) {\n        try {\n          inline_js[i].call(root, root.Bokeh);\n        } catch(e) {\n          if (!reloading) {\n            throw e;\n          }\n        }\n      }\n      // Cache old bokeh versions\n      if (Bokeh != undefined && !reloading) {\n        var NewBokeh = root.Bokeh;\n        if (Bokeh.versions === undefined) {\n          Bokeh.versions = new Map();\n        }\n        if (NewBokeh.version !== Bokeh.version) {\n          Bokeh.versions.set(NewBokeh.version, NewBokeh)\n        }\n        root.Bokeh = Bokeh;\n      }\n    } else if (Date.now() < root._bokeh_timeout) {\n      setTimeout(run_inline_js, 100);\n    } else if (!root._bokeh_failed_load) {\n      console.log(\"Bokeh: BokehJS failed to load within specified timeout.\");\n      root._bokeh_failed_load = true;\n    }\n    root._bokeh_is_initializing = false\n  }\n\n  function load_or_wait() {\n    // Implement a backoff loop that tries to ensure we do not load multiple\n    // versions of Bokeh and its dependencies at the same time.\n    // In recent versions we use the root._bokeh_is_initializing flag\n    // to determine whether there is an ongoing attempt to initialize\n    // bokeh, however for backward compatibility we also try to ensure\n    // that we do not start loading a newer (Panel>=1.0 and Bokeh>3) version\n    // before older versions are fully initialized.\n    if (root._bokeh_is_initializing && Date.now() > root._bokeh_timeout) {\n      // If the timeout and bokeh was not successfully loaded we reset\n      // everything and try loading again\n      root._bokeh_timeout = Date.now() + 5000;\n      root._bokeh_is_initializing = false;\n      root._bokeh_onload_callbacks = undefined;\n      root._bokeh_is_loading = 0\n      console.log(\"Bokeh: BokehJS was loaded multiple times but one version failed to initialize.\");\n      load_or_wait();\n    } else if (root._bokeh_is_initializing || (typeof root._bokeh_is_initializing === \"undefined\" && root._bokeh_onload_callbacks !== undefined)) {\n      setTimeout(load_or_wait, 100);\n    } else {\n      root._bokeh_is_initializing = true\n      root._bokeh_onload_callbacks = []\n      const bokeh_loaded = root.Bokeh != null && (root.Bokeh.version === py_version || (root.Bokeh.versions !== undefined && root.Bokeh.versions.has(py_version)));\n      if (!reloading && !bokeh_loaded) {\n        if (root.Bokeh) {\n          root.Bokeh = undefined;\n        }\n        console.debug(\"Bokeh: BokehJS not loaded, scheduling load and callback at\", now());\n      }\n      load_libs(css_urls, js_urls, js_modules, js_exports, function() {\n        console.debug(\"Bokeh: BokehJS plotting callback run at\", now());\n        run_inline_js();\n      });\n    }\n  }\n  // Give older versions of the autoload script a head-start to ensure\n  // they initialize before we start loading newer version.\n  setTimeout(load_or_wait, 100)\n}(window));",
      "application/vnd.holoviews_load.v0+json": ""
     },
     "metadata": {},
     "output_type": "display_data"
    },
    {
     "data": {
      "application/javascript": "\nif ((window.PyViz === undefined) || (window.PyViz instanceof HTMLElement)) {\n  window.PyViz = {comms: {}, comm_status:{}, kernels:{}, receivers: {}, plot_index: []}\n}\n\n\n    function JupyterCommManager() {\n    }\n\n    JupyterCommManager.prototype.register_target = function(plot_id, comm_id, msg_handler) {\n      if (window.comm_manager || ((window.Jupyter !== undefined) && (Jupyter.notebook.kernel != null))) {\n        var comm_manager = window.comm_manager || Jupyter.notebook.kernel.comm_manager;\n        comm_manager.register_target(comm_id, function(comm) {\n          comm.on_msg(msg_handler);\n        });\n      } else if ((plot_id in window.PyViz.kernels) && (window.PyViz.kernels[plot_id])) {\n        window.PyViz.kernels[plot_id].registerCommTarget(comm_id, function(comm) {\n          comm.onMsg = msg_handler;\n        });\n      } else if (typeof google != 'undefined' && google.colab.kernel != null) {\n        google.colab.kernel.comms.registerTarget(comm_id, (comm) => {\n          var messages = comm.messages[Symbol.asyncIterator]();\n          function processIteratorResult(result) {\n            var message = result.value;\n            console.log(message)\n            var content = {data: message.data, comm_id};\n            var buffers = []\n            for (var buffer of message.buffers || []) {\n              buffers.push(new DataView(buffer))\n            }\n            var metadata = message.metadata || {};\n            var msg = {content, buffers, metadata}\n            msg_handler(msg);\n            return messages.next().then(processIteratorResult);\n          }\n          return messages.next().then(processIteratorResult);\n        })\n      }\n    }\n\n    JupyterCommManager.prototype.get_client_comm = function(plot_id, comm_id, msg_handler) {\n      if (comm_id in window.PyViz.comms) {\n        return window.PyViz.comms[comm_id];\n      } else if (window.comm_manager || ((window.Jupyter !== undefined) && (Jupyter.notebook.kernel != null))) {\n        var comm_manager = window.comm_manager || Jupyter.notebook.kernel.comm_manager;\n        var comm = comm_manager.new_comm(comm_id, {}, {}, {}, comm_id);\n        if (msg_handler) {\n          comm.on_msg(msg_handler);\n        }\n      } else if ((plot_id in window.PyViz.kernels) && (window.PyViz.kernels[plot_id])) {\n        var comm = window.PyViz.kernels[plot_id].connectToComm(comm_id);\n        comm.open();\n        if (msg_handler) {\n          comm.onMsg = msg_handler;\n        }\n      } else if (typeof google != 'undefined' && google.colab.kernel != null) {\n        var comm_promise = google.colab.kernel.comms.open(comm_id)\n        comm_promise.then((comm) => {\n          window.PyViz.comms[comm_id] = comm;\n          if (msg_handler) {\n            var messages = comm.messages[Symbol.asyncIterator]();\n            function processIteratorResult(result) {\n              var message = result.value;\n              var content = {data: message.data};\n              var metadata = message.metadata || {comm_id};\n              var msg = {content, metadata}\n              msg_handler(msg);\n              return messages.next().then(processIteratorResult);\n            }\n            return messages.next().then(processIteratorResult);\n          }\n        })\n        var sendClosure = (data, metadata, buffers, disposeOnDone) => {\n          return comm_promise.then((comm) => {\n            comm.send(data, metadata, buffers, disposeOnDone);\n          });\n        };\n        var comm = {\n          send: sendClosure\n        };\n      }\n      window.PyViz.comms[comm_id] = comm;\n      return comm;\n    }\n    window.PyViz.comm_manager = new JupyterCommManager();\n    \n\n\nvar JS_MIME_TYPE = 'application/javascript';\nvar HTML_MIME_TYPE = 'text/html';\nvar EXEC_MIME_TYPE = 'application/vnd.holoviews_exec.v0+json';\nvar CLASS_NAME = 'output';\n\n/**\n * Render data to the DOM node\n */\nfunction render(props, node) {\n  var div = document.createElement(\"div\");\n  var script = document.createElement(\"script\");\n  node.appendChild(div);\n  node.appendChild(script);\n}\n\n/**\n * Handle when a new output is added\n */\nfunction handle_add_output(event, handle) {\n  var output_area = handle.output_area;\n  var output = handle.output;\n  if ((output.data == undefined) || (!output.data.hasOwnProperty(EXEC_MIME_TYPE))) {\n    return\n  }\n  var id = output.metadata[EXEC_MIME_TYPE][\"id\"];\n  var toinsert = output_area.element.find(\".\" + CLASS_NAME.split(' ')[0]);\n  if (id !== undefined) {\n    var nchildren = toinsert.length;\n    var html_node = toinsert[nchildren-1].children[0];\n    html_node.innerHTML = output.data[HTML_MIME_TYPE];\n    var scripts = [];\n    var nodelist = html_node.querySelectorAll(\"script\");\n    for (var i in nodelist) {\n      if (nodelist.hasOwnProperty(i)) {\n        scripts.push(nodelist[i])\n      }\n    }\n\n    scripts.forEach( function (oldScript) {\n      var newScript = document.createElement(\"script\");\n      var attrs = [];\n      var nodemap = oldScript.attributes;\n      for (var j in nodemap) {\n        if (nodemap.hasOwnProperty(j)) {\n          attrs.push(nodemap[j])\n        }\n      }\n      attrs.forEach(function(attr) { newScript.setAttribute(attr.name, attr.value) });\n      newScript.appendChild(document.createTextNode(oldScript.innerHTML));\n      oldScript.parentNode.replaceChild(newScript, oldScript);\n    });\n    if (JS_MIME_TYPE in output.data) {\n      toinsert[nchildren-1].children[1].textContent = output.data[JS_MIME_TYPE];\n    }\n    output_area._hv_plot_id = id;\n    if ((window.Bokeh !== undefined) && (id in Bokeh.index)) {\n      window.PyViz.plot_index[id] = Bokeh.index[id];\n    } else {\n      window.PyViz.plot_index[id] = null;\n    }\n  } else if (output.metadata[EXEC_MIME_TYPE][\"server_id\"] !== undefined) {\n    var bk_div = document.createElement(\"div\");\n    bk_div.innerHTML = output.data[HTML_MIME_TYPE];\n    var script_attrs = bk_div.children[0].attributes;\n    for (var i = 0; i < script_attrs.length; i++) {\n      toinsert[toinsert.length - 1].childNodes[1].setAttribute(script_attrs[i].name, script_attrs[i].value);\n    }\n    // store reference to server id on output_area\n    output_area._bokeh_server_id = output.metadata[EXEC_MIME_TYPE][\"server_id\"];\n  }\n}\n\n/**\n * Handle when an output is cleared or removed\n */\nfunction handle_clear_output(event, handle) {\n  var id = handle.cell.output_area._hv_plot_id;\n  var server_id = handle.cell.output_area._bokeh_server_id;\n  if (((id === undefined) || !(id in PyViz.plot_index)) && (server_id !== undefined)) { return; }\n  var comm = window.PyViz.comm_manager.get_client_comm(\"hv-extension-comm\", \"hv-extension-comm\", function () {});\n  if (server_id !== null) {\n    comm.send({event_type: 'server_delete', 'id': server_id});\n    return;\n  } else if (comm !== null) {\n    comm.send({event_type: 'delete', 'id': id});\n  }\n  delete PyViz.plot_index[id];\n  if ((window.Bokeh !== undefined) & (id in window.Bokeh.index)) {\n    var doc = window.Bokeh.index[id].model.document\n    doc.clear();\n    const i = window.Bokeh.documents.indexOf(doc);\n    if (i > -1) {\n      window.Bokeh.documents.splice(i, 1);\n    }\n  }\n}\n\n/**\n * Handle kernel restart event\n */\nfunction handle_kernel_cleanup(event, handle) {\n  delete PyViz.comms[\"hv-extension-comm\"];\n  window.PyViz.plot_index = {}\n}\n\n/**\n * Handle update_display_data messages\n */\nfunction handle_update_output(event, handle) {\n  handle_clear_output(event, {cell: {output_area: handle.output_area}})\n  handle_add_output(event, handle)\n}\n\nfunction register_renderer(events, OutputArea) {\n  function append_mime(data, metadata, element) {\n    // create a DOM node to render to\n    var toinsert = this.create_output_subarea(\n    metadata,\n    CLASS_NAME,\n    EXEC_MIME_TYPE\n    );\n    this.keyboard_manager.register_events(toinsert);\n    // Render to node\n    var props = {data: data, metadata: metadata[EXEC_MIME_TYPE]};\n    render(props, toinsert[0]);\n    element.append(toinsert);\n    return toinsert\n  }\n\n  events.on('output_added.OutputArea', handle_add_output);\n  events.on('output_updated.OutputArea', handle_update_output);\n  events.on('clear_output.CodeCell', handle_clear_output);\n  events.on('delete.Cell', handle_clear_output);\n  events.on('kernel_ready.Kernel', handle_kernel_cleanup);\n\n  OutputArea.prototype.register_mime_type(EXEC_MIME_TYPE, append_mime, {\n    safe: true,\n    index: 0\n  });\n}\n\nif (window.Jupyter !== undefined) {\n  try {\n    var events = require('base/js/events');\n    var OutputArea = require('notebook/js/outputarea').OutputArea;\n    if (OutputArea.prototype.mime_types().indexOf(EXEC_MIME_TYPE) == -1) {\n      register_renderer(events, OutputArea);\n    }\n  } catch(err) {\n  }\n}\n",
      "application/vnd.holoviews_load.v0+json": ""
     },
     "metadata": {},
     "output_type": "display_data"
    },
    {
     "data": {
      "application/vnd.holoviews_exec.v0+json": "",
      "text/html": [
       "<div id='39b1a265-9b0d-4967-98bf-a9381b60b08e'>\n",
       "  <div id=\"a91b937e-2d5f-4798-97eb-e64f25abba6b\" data-root-id=\"39b1a265-9b0d-4967-98bf-a9381b60b08e\" style=\"display: contents;\"></div>\n",
       "</div>\n",
       "<script type=\"application/javascript\">(function(root) {\n",
       "  var docs_json = {\"d87226a0-f146-42b1-9d88-6a2624991e14\":{\"version\":\"3.7.2\",\"title\":\"Bokeh Application\",\"roots\":[{\"type\":\"object\",\"name\":\"panel.models.browser.BrowserInfo\",\"id\":\"39b1a265-9b0d-4967-98bf-a9381b60b08e\"},{\"type\":\"object\",\"name\":\"panel.models.comm_manager.CommManager\",\"id\":\"23606225-9ce9-416d-a7f0-3486806c4843\",\"attributes\":{\"plot_id\":\"39b1a265-9b0d-4967-98bf-a9381b60b08e\",\"comm_id\":\"70bc36f62bef428a8708bf8ef9d2f360\",\"client_comm_id\":\"d3439a921e054711b2d0a4e34dacab44\"}}],\"defs\":[{\"type\":\"model\",\"name\":\"ReactiveHTML1\"},{\"type\":\"model\",\"name\":\"FlexBox1\",\"properties\":[{\"name\":\"align_content\",\"kind\":\"Any\",\"default\":\"flex-start\"},{\"name\":\"align_items\",\"kind\":\"Any\",\"default\":\"flex-start\"},{\"name\":\"flex_direction\",\"kind\":\"Any\",\"default\":\"row\"},{\"name\":\"flex_wrap\",\"kind\":\"Any\",\"default\":\"wrap\"},{\"name\":\"gap\",\"kind\":\"Any\",\"default\":\"\"},{\"name\":\"justify_content\",\"kind\":\"Any\",\"default\":\"flex-start\"}]},{\"type\":\"model\",\"name\":\"FloatPanel1\",\"properties\":[{\"name\":\"config\",\"kind\":\"Any\",\"default\":{\"type\":\"map\"}},{\"name\":\"contained\",\"kind\":\"Any\",\"default\":true},{\"name\":\"position\",\"kind\":\"Any\",\"default\":\"right-top\"},{\"name\":\"offsetx\",\"kind\":\"Any\",\"default\":null},{\"name\":\"offsety\",\"kind\":\"Any\",\"default\":null},{\"name\":\"theme\",\"kind\":\"Any\",\"default\":\"primary\"},{\"name\":\"status\",\"kind\":\"Any\",\"default\":\"normalized\"}]},{\"type\":\"model\",\"name\":\"GridStack1\",\"properties\":[{\"name\":\"ncols\",\"kind\":\"Any\",\"default\":null},{\"name\":\"nrows\",\"kind\":\"Any\",\"default\":null},{\"name\":\"allow_resize\",\"kind\":\"Any\",\"default\":true},{\"name\":\"allow_drag\",\"kind\":\"Any\",\"default\":true},{\"name\":\"state\",\"kind\":\"Any\",\"default\":[]}]},{\"type\":\"model\",\"name\":\"drag1\",\"properties\":[{\"name\":\"slider_width\",\"kind\":\"Any\",\"default\":5},{\"name\":\"slider_color\",\"kind\":\"Any\",\"default\":\"black\"},{\"name\":\"value\",\"kind\":\"Any\",\"default\":50}]},{\"type\":\"model\",\"name\":\"click1\",\"properties\":[{\"name\":\"terminal_output\",\"kind\":\"Any\",\"default\":\"\"},{\"name\":\"debug_name\",\"kind\":\"Any\",\"default\":\"\"},{\"name\":\"clears\",\"kind\":\"Any\",\"default\":0}]},{\"type\":\"model\",\"name\":\"FastWrapper1\",\"properties\":[{\"name\":\"object\",\"kind\":\"Any\",\"default\":null},{\"name\":\"style\",\"kind\":\"Any\",\"default\":null}]},{\"type\":\"model\",\"name\":\"NotificationArea1\",\"properties\":[{\"name\":\"js_events\",\"kind\":\"Any\",\"default\":{\"type\":\"map\"}},{\"name\":\"max_notifications\",\"kind\":\"Any\",\"default\":5},{\"name\":\"notifications\",\"kind\":\"Any\",\"default\":[]},{\"name\":\"position\",\"kind\":\"Any\",\"default\":\"bottom-right\"},{\"name\":\"_clear\",\"kind\":\"Any\",\"default\":0},{\"name\":\"types\",\"kind\":\"Any\",\"default\":[{\"type\":\"map\",\"entries\":[[\"type\",\"warning\"],[\"background\",\"#ffc107\"],[\"icon\",{\"type\":\"map\",\"entries\":[[\"className\",\"fas fa-exclamation-triangle\"],[\"tagName\",\"i\"],[\"color\",\"white\"]]}]]},{\"type\":\"map\",\"entries\":[[\"type\",\"info\"],[\"background\",\"#007bff\"],[\"icon\",{\"type\":\"map\",\"entries\":[[\"className\",\"fas fa-info-circle\"],[\"tagName\",\"i\"],[\"color\",\"white\"]]}]]}]}]},{\"type\":\"model\",\"name\":\"Notification\",\"properties\":[{\"name\":\"background\",\"kind\":\"Any\",\"default\":null},{\"name\":\"duration\",\"kind\":\"Any\",\"default\":3000},{\"name\":\"icon\",\"kind\":\"Any\",\"default\":null},{\"name\":\"message\",\"kind\":\"Any\",\"default\":\"\"},{\"name\":\"notification_type\",\"kind\":\"Any\",\"default\":null},{\"name\":\"_rendered\",\"kind\":\"Any\",\"default\":false},{\"name\":\"_destroyed\",\"kind\":\"Any\",\"default\":false}]},{\"type\":\"model\",\"name\":\"TemplateActions1\",\"properties\":[{\"name\":\"open_modal\",\"kind\":\"Any\",\"default\":0},{\"name\":\"close_modal\",\"kind\":\"Any\",\"default\":0}]},{\"type\":\"model\",\"name\":\"BootstrapTemplateActions1\",\"properties\":[{\"name\":\"open_modal\",\"kind\":\"Any\",\"default\":0},{\"name\":\"close_modal\",\"kind\":\"Any\",\"default\":0}]},{\"type\":\"model\",\"name\":\"TemplateEditor1\",\"properties\":[{\"name\":\"layout\",\"kind\":\"Any\",\"default\":[]}]},{\"type\":\"model\",\"name\":\"MaterialTemplateActions1\",\"properties\":[{\"name\":\"open_modal\",\"kind\":\"Any\",\"default\":0},{\"name\":\"close_modal\",\"kind\":\"Any\",\"default\":0}]},{\"type\":\"model\",\"name\":\"ReactiveESM1\",\"properties\":[{\"name\":\"esm_constants\",\"kind\":\"Any\",\"default\":{\"type\":\"map\"}}]},{\"type\":\"model\",\"name\":\"JSComponent1\",\"properties\":[{\"name\":\"esm_constants\",\"kind\":\"Any\",\"default\":{\"type\":\"map\"}}]},{\"type\":\"model\",\"name\":\"ReactComponent1\",\"properties\":[{\"name\":\"esm_constants\",\"kind\":\"Any\",\"default\":{\"type\":\"map\"}}]},{\"type\":\"model\",\"name\":\"AnyWidgetComponent1\",\"properties\":[{\"name\":\"esm_constants\",\"kind\":\"Any\",\"default\":{\"type\":\"map\"}}]},{\"type\":\"model\",\"name\":\"request_value1\",\"properties\":[{\"name\":\"fill\",\"kind\":\"Any\",\"default\":\"none\"},{\"name\":\"_synced\",\"kind\":\"Any\",\"default\":null},{\"name\":\"_request_sync\",\"kind\":\"Any\",\"default\":0}]}]}};\n",
       "  var render_items = [{\"docid\":\"d87226a0-f146-42b1-9d88-6a2624991e14\",\"roots\":{\"39b1a265-9b0d-4967-98bf-a9381b60b08e\":\"a91b937e-2d5f-4798-97eb-e64f25abba6b\"},\"root_ids\":[\"39b1a265-9b0d-4967-98bf-a9381b60b08e\"]}];\n",
       "  var docs = Object.values(docs_json)\n",
       "  if (!docs) {\n",
       "    return\n",
       "  }\n",
       "  const py_version = docs[0].version.replace('rc', '-rc.').replace('.dev', '-dev.')\n",
       "  async function embed_document(root) {\n",
       "    var Bokeh = get_bokeh(root)\n",
       "    await Bokeh.embed.embed_items_notebook(docs_json, render_items);\n",
       "    for (const render_item of render_items) {\n",
       "      for (const root_id of render_item.root_ids) {\n",
       "\tconst id_el = document.getElementById(root_id)\n",
       "\tif (id_el.children.length && id_el.children[0].hasAttribute('data-root-id')) {\n",
       "\t  const root_el = id_el.children[0]\n",
       "\t  root_el.id = root_el.id + '-rendered'\n",
       "\t  for (const child of root_el.children) {\n",
       "            // Ensure JupyterLab does not capture keyboard shortcuts\n",
       "            // see: https://jupyterlab.readthedocs.io/en/4.1.x/extension/notebook.html#keyboard-interaction-model\n",
       "\t    child.setAttribute('data-lm-suppress-shortcuts', 'true')\n",
       "\t  }\n",
       "\t}\n",
       "      }\n",
       "    }\n",
       "  }\n",
       "  function get_bokeh(root) {\n",
       "    if (root.Bokeh === undefined) {\n",
       "      return null\n",
       "    } else if (root.Bokeh.version !== py_version) {\n",
       "      if (root.Bokeh.versions === undefined || !root.Bokeh.versions.has(py_version)) {\n",
       "\treturn null\n",
       "      }\n",
       "      return root.Bokeh.versions.get(py_version);\n",
       "    } else if (root.Bokeh.version === py_version) {\n",
       "      return root.Bokeh\n",
       "    }\n",
       "    return null\n",
       "  }\n",
       "  function is_loaded(root) {\n",
       "    var Bokeh = get_bokeh(root)\n",
       "    return (Bokeh != null && Bokeh.Panel !== undefined)\n",
       "  }\n",
       "  if (is_loaded(root)) {\n",
       "    embed_document(root);\n",
       "  } else {\n",
       "    var attempts = 0;\n",
       "    var timer = setInterval(function(root) {\n",
       "      if (is_loaded(root)) {\n",
       "        clearInterval(timer);\n",
       "        embed_document(root);\n",
       "      } else if (document.readyState == \"complete\") {\n",
       "        attempts++;\n",
       "        if (attempts > 200) {\n",
       "          clearInterval(timer);\n",
       "\t  var Bokeh = get_bokeh(root)\n",
       "\t  if (Bokeh == null || Bokeh.Panel == null) {\n",
       "            console.warn(\"Panel: ERROR: Unable to run Panel code because Bokeh or Panel library is missing\");\n",
       "\t  } else {\n",
       "\t    console.warn(\"Panel: WARNING: Attempting to render but not all required libraries could be resolved.\")\n",
       "\t    embed_document(root)\n",
       "\t  }\n",
       "        }\n",
       "      }\n",
       "    }, 25, root)\n",
       "  }\n",
       "})(window);</script>"
      ]
     },
     "metadata": {
      "application/vnd.holoviews_exec.v0+json": {
       "id": "39b1a265-9b0d-4967-98bf-a9381b60b08e"
      }
     },
     "output_type": "display_data"
    },
    {
     "data": {},
     "metadata": {},
     "output_type": "display_data"
    },
    {
     "data": {
      "application/vnd.holoviews_exec.v0+json": "",
      "text/html": [
       "<div id='9d884383-c439-48a2-ae55-07dc17b50830'>\n",
       "  <div id=\"a7c5edd8-c397-4361-a68e-c183a450d845\" data-root-id=\"9d884383-c439-48a2-ae55-07dc17b50830\" style=\"display: contents;\"></div>\n",
       "</div>\n",
       "<script type=\"application/javascript\">(function(root) {\n",
       "  var docs_json = {\"8725feac-e0d2-406d-8622-0c7181ff3eae\":{\"version\":\"3.7.2\",\"title\":\"Bokeh Application\",\"roots\":[{\"type\":\"object\",\"name\":\"Row\",\"id\":\"9d884383-c439-48a2-ae55-07dc17b50830\",\"attributes\":{\"name\":\"Row00544\",\"tags\":[\"embedded\"],\"stylesheets\":[\"\\n:host(.pn-loading):before, .pn-loading:before {\\n  background-color: #c3c3c3;\\n  mask-size: auto calc(min(50%, 400px));\\n  -webkit-mask-size: auto calc(min(50%, 400px));\\n}\",{\"type\":\"object\",\"name\":\"ImportedStyleSheet\",\"id\":\"35d6312e-f9be-4346-adda-0b9c38e9adea\",\"attributes\":{\"url\":\"https://cdn.holoviz.org/panel/1.6.3/dist/css/loading.css\"}},{\"type\":\"object\",\"name\":\"ImportedStyleSheet\",\"id\":\"04c2aff0-3c78-4fe2-a373-151e4675b8c7\",\"attributes\":{\"url\":\"https://cdn.holoviz.org/panel/1.6.3/dist/css/listpanel.css\"}},{\"type\":\"object\",\"name\":\"ImportedStyleSheet\",\"id\":\"e5f43645-093c-407a-9b1e-1a93407d3254\",\"attributes\":{\"url\":\"https://cdn.holoviz.org/panel/1.6.3/dist/bundled/theme/default.css\"}},{\"type\":\"object\",\"name\":\"ImportedStyleSheet\",\"id\":\"e6c799e7-0406-4997-b9f4-97b438557725\",\"attributes\":{\"url\":\"https://cdn.holoviz.org/panel/1.6.3/dist/bundled/theme/native.css\"}}],\"min_width\":700,\"margin\":0,\"sizing_mode\":\"stretch_width\",\"align\":\"start\",\"children\":[{\"type\":\"object\",\"name\":\"Spacer\",\"id\":\"0736482f-4bff-4c67-b7fd-5e65bdc5c11f\",\"attributes\":{\"name\":\"HSpacer00548\",\"stylesheets\":[\"\\n:host(.pn-loading):before, .pn-loading:before {\\n  background-color: #c3c3c3;\\n  mask-size: auto calc(min(50%, 400px));\\n  -webkit-mask-size: auto calc(min(50%, 400px));\\n}\",{\"id\":\"35d6312e-f9be-4346-adda-0b9c38e9adea\"},{\"id\":\"e5f43645-093c-407a-9b1e-1a93407d3254\"},{\"id\":\"e6c799e7-0406-4997-b9f4-97b438557725\"}],\"margin\":0,\"sizing_mode\":\"stretch_width\",\"align\":\"start\"}},{\"type\":\"object\",\"name\":\"Figure\",\"id\":\"c73777b1-7d88-4478-b379-a74f3479b2d1\",\"attributes\":{\"width\":700,\"height\":300,\"margin\":[5,10],\"sizing_mode\":\"fixed\",\"align\":\"start\",\"x_range\":{\"type\":\"object\",\"name\":\"Range1d\",\"id\":\"900ff2dd-3a31-4f73-9a8e-f189d6d7436e\",\"attributes\":{\"name\":\"date\",\"tags\":[[[\"date\",null]],[]],\"start\":1080777600000.0,\"end\":1385856000000.0,\"reset_start\":1080777600000.0,\"reset_end\":1385856000000.0}},\"y_range\":{\"type\":\"object\",\"name\":\"Range1d\",\"id\":\"89d64e88-62d9-4ffd-a2e6-1b8d7e7b8142\",\"attributes\":{\"name\":\"len\",\"tags\":[[[\"len\",null]],{\"type\":\"map\",\"entries\":[[\"invert_yaxis\",false],[\"autorange\",false]]}],\"start\":2114.0754470928123,\"end\":8517.924552907189,\"reset_start\":2114.0754470928123,\"reset_end\":8517.924552907189}},\"x_scale\":{\"type\":\"object\",\"name\":\"LinearScale\",\"id\":\"d34dd3ce-4674-4008-b239-573c29bf601e\"},\"y_scale\":{\"type\":\"object\",\"name\":\"LinearScale\",\"id\":\"143cd9c0-bb5e-4d4c-a776-6630024aebc9\"},\"title\":{\"type\":\"object\",\"name\":\"Title\",\"id\":\"afdecee4-566e-4064-bf3b-8948f7f1c41c\",\"attributes\":{\"text_color\":\"black\",\"text_font_size\":\"12pt\"}},\"renderers\":[{\"type\":\"object\",\"name\":\"GlyphRenderer\",\"id\":\"c044feb0-873e-4ef1-950f-becdcb3a0c9b\",\"attributes\":{\"data_source\":{\"type\":\"object\",\"name\":\"ColumnDataSource\",\"id\":\"9aa5e1ef-5100-4907-8a94-5193b64b8b10\",\"attributes\":{\"selected\":{\"type\":\"object\",\"name\":\"Selection\",\"id\":\"1d32d5d0-ab48-4b6c-b998-07c2b9b614ba\",\"attributes\":{\"indices\":[],\"line_indices\":[]}},\"selection_policy\":{\"type\":\"object\",\"name\":\"UnionRenderers\",\"id\":\"c950baa6-e1ab-4e06-a1fa-83451771f1d1\"},\"data\":{\"type\":\"map\",\"entries\":[[\"date\",{\"type\":\"ndarray\",\"array\":{\"type\":\"bytes\",\"data\":\"AACArWt0b0IAAICo9MJvQgAAwNG+CHBCAACA6bAvcEIAAABn9VZwQgAAgOQ5fnBCAABA/CulcEIAAMB5cMxwQgAAQPe083BCAAAAD6cacUIAAICM60FxQgAAAAowaXFCAACAh3SQcUIAAAAFubdxQgAAgIL93nFCAABAmu8FckIAAMAXNC1yQgAAQJV4VHJCAAAArWp7ckIAAIAqr6JyQgAAAKjzyXJCAADAv+XwckIAAEA9KhhzQgAAwLpuP3NCAABAOLNmc0IAAMC1941zQgAAQDM8tXNCAAAASy7cc0IAAIDIcgN0QgAAAEa3KnRCAAAAAAAA+H8AAAAAAAD4fwAAAAAAAPh/AAAAAAAA+H8AAAAAAAD4fwAAAAAAAPh/AAAAAAAA+H8AAAAAAAD4fwAAAAAAAPh/AAAAAAAA+H8=\"},\"shape\":[40],\"dtype\":\"float64\",\"order\":\"little\"}],[\"len\",{\"type\":\"ndarray\",\"array\":{\"type\":\"bytes\",\"data\":\"WxAAAHcPAABmEAAAUg8AAH8TAAC6DwAA3w8AAPMPAADyDgAAZRIAAGMQAACrDwAAsg8AAA4QAAAhDwAAKBEAANsTAAAeEwAAXBgAAE4YAABHGQAAqRgAABEYAAB5GgAAaBgAAL0XAADSGQAAtRkAAKEVAACHFAAArxgAAC4YAABeEQAA5RMAAAMRAABdDgAA1w4AANEbAAAmEwAAtw0AAA==\"},\"shape\":[40],\"dtype\":\"uint32\",\"order\":\"little\"}]]}}},\"view\":{\"type\":\"object\",\"name\":\"CDSView\",\"id\":\"f0e83396-1443-4e89-a460-660322daabc4\",\"attributes\":{\"filter\":{\"type\":\"object\",\"name\":\"AllIndices\",\"id\":\"8a95b01e-7db6-42db-86f9-4626295c36fc\"}}},\"glyph\":{\"type\":\"object\",\"name\":\"Line\",\"id\":\"24db3580-2bee-4664-ae9f-b174b8da26ec\",\"attributes\":{\"tags\":[\"apply_ranges\"],\"x\":{\"type\":\"field\",\"field\":\"date\"},\"y\":{\"type\":\"field\",\"field\":\"len\"},\"line_color\":\"#30a2da\",\"line_width\":2}},\"selection_glyph\":{\"type\":\"object\",\"name\":\"Line\",\"id\":\"b7a22b76-184d-4e28-a5c2-f6a6336b72cb\",\"attributes\":{\"tags\":[\"apply_ranges\"],\"x\":{\"type\":\"field\",\"field\":\"date\"},\"y\":{\"type\":\"field\",\"field\":\"len\"},\"line_color\":\"#30a2da\",\"line_width\":2}},\"nonselection_glyph\":{\"type\":\"object\",\"name\":\"Line\",\"id\":\"5fb55c0a-9c07-4dc5-a79d-5f835256c896\",\"attributes\":{\"tags\":[\"apply_ranges\"],\"x\":{\"type\":\"field\",\"field\":\"date\"},\"y\":{\"type\":\"field\",\"field\":\"len\"},\"line_color\":\"#30a2da\",\"line_alpha\":0.1,\"line_width\":2}},\"muted_glyph\":{\"type\":\"object\",\"name\":\"Line\",\"id\":\"b1533034-9b73-4e98-8c8b-4f2eda3d3281\",\"attributes\":{\"tags\":[\"apply_ranges\"],\"x\":{\"type\":\"field\",\"field\":\"date\"},\"y\":{\"type\":\"field\",\"field\":\"len\"},\"line_color\":\"#30a2da\",\"line_alpha\":0.2,\"line_width\":2}}}}],\"toolbar\":{\"type\":\"object\",\"name\":\"Toolbar\",\"id\":\"b4e9d4d0-a1d1-498a-bca8-8f0e46eed619\",\"attributes\":{\"tools\":[{\"type\":\"object\",\"name\":\"WheelZoomTool\",\"id\":\"1eadc4c4-37ed-4b16-b3af-7631e7bbf71f\",\"attributes\":{\"tags\":[\"hv_created\"],\"renderers\":\"auto\",\"zoom_together\":\"none\"}},{\"type\":\"object\",\"name\":\"HoverTool\",\"id\":\"8f253c41-54f7-40b7-9fa1-f3ab3e5c9bde\",\"attributes\":{\"tags\":[\"hv_created\"],\"renderers\":[{\"id\":\"c044feb0-873e-4ef1-950f-becdcb3a0c9b\"}],\"tooltips\":[[\"date\",\"@{date}{%F %T}\"],[\"len\",\"@{len}\"]],\"formatters\":{\"type\":\"map\",\"entries\":[[\"@{date}\",\"datetime\"]]}}},{\"type\":\"object\",\"name\":\"SaveTool\",\"id\":\"ee008f5c-9753-44f2-8c2a-993bc10cad05\"},{\"type\":\"object\",\"name\":\"PanTool\",\"id\":\"45960949-b726-42d1-b7f3-d00589080245\"},{\"type\":\"object\",\"name\":\"BoxZoomTool\",\"id\":\"a4ac2b74-5bca-41f1-aa65-2fb118a5af12\",\"attributes\":{\"dimensions\":\"both\",\"overlay\":{\"type\":\"object\",\"name\":\"BoxAnnotation\",\"id\":\"4b29836a-4d8e-4808-b6a6-af1ee722d87b\",\"attributes\":{\"syncable\":false,\"line_color\":\"black\",\"line_alpha\":1.0,\"line_width\":2,\"line_dash\":[4,4],\"fill_color\":\"lightgrey\",\"fill_alpha\":0.5,\"level\":\"overlay\",\"visible\":false,\"left\":{\"type\":\"number\",\"value\":\"nan\"},\"right\":{\"type\":\"number\",\"value\":\"nan\"},\"top\":{\"type\":\"number\",\"value\":\"nan\"},\"bottom\":{\"type\":\"number\",\"value\":\"nan\"},\"left_units\":\"canvas\",\"right_units\":\"canvas\",\"top_units\":\"canvas\",\"bottom_units\":\"canvas\",\"handles\":{\"type\":\"object\",\"name\":\"BoxInteractionHandles\",\"id\":\"8bab86ce-0cd3-448f-9886-113cd079b794\",\"attributes\":{\"all\":{\"type\":\"object\",\"name\":\"AreaVisuals\",\"id\":\"79fad245-1c74-4f8b-97c6-f50ad4a01c46\",\"attributes\":{\"fill_color\":\"white\",\"hover_fill_color\":\"lightgray\"}}}}}}}},{\"type\":\"object\",\"name\":\"ResetTool\",\"id\":\"d2cdbfa9-82ab-44b6-bf5d-5283e8424c42\"}],\"active_drag\":{\"id\":\"45960949-b726-42d1-b7f3-d00589080245\"},\"active_scroll\":{\"id\":\"1eadc4c4-37ed-4b16-b3af-7631e7bbf71f\"}}},\"left\":[{\"type\":\"object\",\"name\":\"LinearAxis\",\"id\":\"06a2bf85-ec9f-419c-8ace-62c174fceeaf\",\"attributes\":{\"ticker\":{\"type\":\"object\",\"name\":\"BasicTicker\",\"id\":\"11158062-d02c-4fa3-b0bd-f0e69ff17511\",\"attributes\":{\"mantissas\":[1,2,5]}},\"formatter\":{\"type\":\"object\",\"name\":\"BasicTickFormatter\",\"id\":\"c6854332-8b5b-4d61-9e66-ec21b5426ccc\"},\"axis_label\":\"len\",\"major_label_policy\":{\"type\":\"object\",\"name\":\"AllLabels\",\"id\":\"5c50c37f-373f-445d-ac77-1961d3880de9\"}}}],\"below\":[{\"type\":\"object\",\"name\":\"DatetimeAxis\",\"id\":\"ac399d12-325e-4dea-921d-676442972ddd\",\"attributes\":{\"ticker\":{\"type\":\"object\",\"name\":\"DatetimeTicker\",\"id\":\"bf2ae61c-2a2d-4979-b003-884d81b8444b\",\"attributes\":{\"num_minor_ticks\":5,\"tickers\":[{\"type\":\"object\",\"name\":\"AdaptiveTicker\",\"id\":\"852ec380-ce6d-4d23-8347-6669b980eacb\",\"attributes\":{\"num_minor_ticks\":0,\"mantissas\":[1,2,5],\"max_interval\":500.0}},{\"type\":\"object\",\"name\":\"AdaptiveTicker\",\"id\":\"15498bab-2437-4fb6-807d-7cfce43d44a0\",\"attributes\":{\"num_minor_ticks\":0,\"base\":60,\"mantissas\":[1,2,5,10,15,20,30],\"min_interval\":1000.0,\"max_interval\":1800000.0}},{\"type\":\"object\",\"name\":\"AdaptiveTicker\",\"id\":\"0cd778da-2415-4262-899f-40950ae7b189\",\"attributes\":{\"num_minor_ticks\":0,\"base\":24,\"mantissas\":[1,2,4,6,8,12],\"min_interval\":3600000.0,\"max_interval\":43200000.0}},{\"type\":\"object\",\"name\":\"DaysTicker\",\"id\":\"b1d54c55-a78c-42a3-aab9-d88464ad3abe\",\"attributes\":{\"days\":[1,2,3,4,5,6,7,8,9,10,11,12,13,14,15,16,17,18,19,20,21,22,23,24,25,26,27,28,29,30,31]}},{\"type\":\"object\",\"name\":\"DaysTicker\",\"id\":\"c390d13c-6fd0-42a9-be66-74ac41dcee7c\",\"attributes\":{\"days\":[1,4,7,10,13,16,19,22,25,28]}},{\"type\":\"object\",\"name\":\"DaysTicker\",\"id\":\"14eda794-466b-4313-9e3c-3e7d7aa81e80\",\"attributes\":{\"days\":[1,8,15,22]}},{\"type\":\"object\",\"name\":\"DaysTicker\",\"id\":\"7c12f078-c1e6-4223-bdc8-78b057ce2e8e\",\"attributes\":{\"days\":[1,15]}},{\"type\":\"object\",\"name\":\"MonthsTicker\",\"id\":\"bea2d5aa-99eb-403d-ba58-a6fa2a56ce7b\",\"attributes\":{\"months\":[0,1,2,3,4,5,6,7,8,9,10,11]}},{\"type\":\"object\",\"name\":\"MonthsTicker\",\"id\":\"677c1617-f106-426d-89fc-80be75b75159\",\"attributes\":{\"months\":[0,2,4,6,8,10]}},{\"type\":\"object\",\"name\":\"MonthsTicker\",\"id\":\"a1fb4dc2-57c0-430a-aec3-14ffe91167d2\",\"attributes\":{\"months\":[0,4,8]}},{\"type\":\"object\",\"name\":\"MonthsTicker\",\"id\":\"50c4e7f1-23f8-45a1-a7c5-d06c4a471906\",\"attributes\":{\"months\":[0,6]}},{\"type\":\"object\",\"name\":\"YearsTicker\",\"id\":\"4a0bca3d-77ba-4a10-bd70-bf741fff22c0\"}]}},\"formatter\":{\"type\":\"object\",\"name\":\"DatetimeTickFormatter\",\"id\":\"5164e5d0-27a3-4227-a0d2-dfa113472e83\",\"attributes\":{\"seconds\":\"%T\",\"minsec\":\"%T\",\"minutes\":\"%H:%M\",\"hours\":\"%H:%M\",\"days\":\"%b %d\",\"months\":\"%b %Y\",\"strip_leading_zeros\":[\"microseconds\",\"milliseconds\",\"seconds\"],\"boundary_scaling\":false,\"context\":{\"type\":\"object\",\"name\":\"DatetimeTickFormatter\",\"id\":\"aed4a8bf-2e1e-4a50-be95-d64a623f7094\",\"attributes\":{\"microseconds\":\"%T\",\"milliseconds\":\"%T\",\"seconds\":\"%b %d, %Y\",\"minsec\":\"%b %d, %Y\",\"minutes\":\"%b %d, %Y\",\"hourmin\":\"%b %d, %Y\",\"hours\":\"%b %d, %Y\",\"days\":\"%Y\",\"months\":\"\",\"years\":\"\",\"boundary_scaling\":false,\"hide_repeats\":true,\"context\":{\"type\":\"object\",\"name\":\"DatetimeTickFormatter\",\"id\":\"0d14471d-8024-4044-a2a8-25ecbbf8a6eb\",\"attributes\":{\"microseconds\":\"%b %d, %Y\",\"milliseconds\":\"%b %d, %Y\",\"seconds\":\"\",\"minsec\":\"\",\"minutes\":\"\",\"hourmin\":\"\",\"hours\":\"\",\"days\":\"\",\"months\":\"\",\"years\":\"\",\"boundary_scaling\":false,\"hide_repeats\":true}},\"context_which\":\"all\"}},\"context_which\":\"all\"}},\"axis_label\":\"date\",\"major_label_policy\":{\"type\":\"object\",\"name\":\"AllLabels\",\"id\":\"46f713fd-a2a6-400e-a015-692e4134fb75\"}}}],\"center\":[{\"type\":\"object\",\"name\":\"Grid\",\"id\":\"39961774-8e68-4aad-b65c-698c4b91cd2b\",\"attributes\":{\"axis\":{\"id\":\"ac399d12-325e-4dea-921d-676442972ddd\"},\"grid_line_color\":null}},{\"type\":\"object\",\"name\":\"Grid\",\"id\":\"89e1f843-931b-4b1c-a99c-0500b20faedb\",\"attributes\":{\"dimension\":1,\"axis\":{\"id\":\"06a2bf85-ec9f-419c-8ace-62c174fceeaf\"},\"grid_line_color\":null}},{\"type\":\"object\",\"name\":\"Whisker\",\"id\":\"c6140a91-f870-45cf-ad29-b890a2f31cab\",\"attributes\":{\"source\":{\"type\":\"object\",\"name\":\"ColumnDataSource\",\"id\":\"e9eeb15d-4ecc-4a90-bd48-17a0e8d6eb5e\",\"attributes\":{\"selected\":{\"type\":\"object\",\"name\":\"Selection\",\"id\":\"1315de2b-d72d-4fcf-ac88-5ae7ca0a2c2a\",\"attributes\":{\"indices\":[],\"line_indices\":[]}},\"selection_policy\":{\"type\":\"object\",\"name\":\"UnionRenderers\",\"id\":\"9dd1d0db-e39a-484f-a1c8-d1b0694d13b3\"},\"data\":{\"type\":\"map\",\"entries\":[[\"base\",{\"type\":\"ndarray\",\"array\":{\"type\":\"bytes\",\"data\":\"AACArWt0b0IAAICo9MJvQgAAwNG+CHBCAACA6bAvcEIAAABn9VZwQgAAgOQ5fnBCAABA/CulcEIAAMB5cMxwQgAAQPe083BCAAAAD6cacUIAAICM60FxQgAAAAowaXFCAACAh3SQcUIAAAAFubdxQgAAgIL93nFCAABAmu8FckIAAMAXNC1yQgAAQJV4VHJCAAAArWp7ckIAAIAqr6JyQgAAAKjzyXJCAADAv+XwckIAAEA9KhhzQgAAwLpuP3NCAABAOLNmc0IAAMC1941zQgAAQDM8tXNCAAAASy7cc0IAAIDIcgN0QgAAAEa3KnRCAAAAAAAA+H8AAAAAAAD4fwAAAAAAAPh/AAAAAAAA+H8AAAAAAAD4fwAAAAAAAPh/AAAAAAAA+H8AAAAAAAD4fwAAAAAAAPh/AAAAAAAA+H8=\"},\"shape\":[40],\"dtype\":\"float64\",\"order\":\"little\"}],[\"lower\",{\"type\":\"ndarray\",\"array\":{\"type\":\"bytes\",\"data\":\"WPQqhnX3qUBY9CqGdS+oQFj0KoZ1DapAWPQqhnXlp0AsehXDuh+wQFj0KoZ1tahAWPQqhnX/qEBY9CqGdSepQFj0KoZ1JadAWPQqhnULrkBY9CqGdQeqQFj0KoZ1l6hAWPQqhnWlqEBY9CqGdV2pQFj0KoZ1g6dAWPQqhnWRq0AsehXDunuwQFj0KoZ1fa9ALHoVw7r8tEAsehXDuu60QCx6FcO657VALHoVw7pJtUAsehXDurG0QCx6FcO6GbdALHoVw7oItUAsehXDul20QCx6FcO6crZALHoVw7pVtkAsehXDukGyQCx6FcO6J7FALHoVw7pPtUAsehXDus60QFj0KoZ1/atALHoVw7qFsEBY9CqGdUerQFj0KoZ1+6VAWPQqhnXvpkAsehXDunG4QFj0KoZ1ja9AWPQqhnWvpEA=\"},\"shape\":[40],\"dtype\":\"float64\",\"order\":\"little\"}],[\"upper\",{\"type\":\"ndarray\",\"array\":{\"type\":\"bytes\",\"data\":\"1IXqPEW6s0DUheo8RdayQNSF6jxFxbNA1IXqPEWxskDUheo8Rd62QNSF6jxFGbNA1IXqPEU+s0DUheo8RVKzQNSF6jxFUbJA1IXqPEXEtUDUheo8RcKzQNSF6jxFCrNA1IXqPEURs0DUheo8RW2zQNSF6jxFgLJA1IXqPEWHtEDUheo8RTq3QNSF6jxFfbZA1IXqPEW7u0DUheo8Ra27QNSF6jxFprxA1IXqPEUIvEDUheo8RXC7QNSF6jxF2L1A1IXqPEXHu0DUheo8RRy7QNSF6jxFMb1A1IXqPEUUvUDUheo8RQC5QNSF6jxF5rdA1IXqPEUOvEDUheo8RY27QNSF6jxFvbRA1IXqPEVEt0DUheo8RWK0QNSF6jxFvLFA1IXqPEU2skDUheo8RTC/QNSF6jxFhbZA1IXqPEUWsUA=\"},\"shape\":[40],\"dtype\":\"float64\",\"order\":\"little\"}]]}}},\"lower\":{\"type\":\"field\",\"field\":\"lower\"},\"lower_head\":{\"type\":\"object\",\"name\":\"TeeHead\",\"id\":\"e22dddc7-f988-46cd-b8cd-c755d2362ebe\",\"attributes\":{\"size\":{\"type\":\"value\",\"value\":10}}},\"upper\":{\"type\":\"field\",\"field\":\"upper\"},\"upper_head\":{\"type\":\"object\",\"name\":\"TeeHead\",\"id\":\"59143541-9964-4cf6-9118-3adebfe63ff6\",\"attributes\":{\"size\":{\"type\":\"value\",\"value\":10}}},\"base\":{\"type\":\"field\",\"field\":\"base\"}}}],\"min_border_top\":10,\"min_border_bottom\":10,\"min_border_left\":10,\"min_border_right\":10,\"output_backend\":\"webgl\"}},{\"type\":\"object\",\"name\":\"Spacer\",\"id\":\"e88afefc-4772-490e-bc42-271ec240c1e0\",\"attributes\":{\"name\":\"HSpacer00549\",\"stylesheets\":[\"\\n:host(.pn-loading):before, .pn-loading:before {\\n  background-color: #c3c3c3;\\n  mask-size: auto calc(min(50%, 400px));\\n  -webkit-mask-size: auto calc(min(50%, 400px));\\n}\",{\"id\":\"35d6312e-f9be-4346-adda-0b9c38e9adea\"},{\"id\":\"e5f43645-093c-407a-9b1e-1a93407d3254\"},{\"id\":\"e6c799e7-0406-4997-b9f4-97b438557725\"}],\"margin\":0,\"sizing_mode\":\"stretch_width\",\"align\":\"start\"}}]}}],\"defs\":[{\"type\":\"model\",\"name\":\"ReactiveHTML1\"},{\"type\":\"model\",\"name\":\"FlexBox1\",\"properties\":[{\"name\":\"align_content\",\"kind\":\"Any\",\"default\":\"flex-start\"},{\"name\":\"align_items\",\"kind\":\"Any\",\"default\":\"flex-start\"},{\"name\":\"flex_direction\",\"kind\":\"Any\",\"default\":\"row\"},{\"name\":\"flex_wrap\",\"kind\":\"Any\",\"default\":\"wrap\"},{\"name\":\"gap\",\"kind\":\"Any\",\"default\":\"\"},{\"name\":\"justify_content\",\"kind\":\"Any\",\"default\":\"flex-start\"}]},{\"type\":\"model\",\"name\":\"FloatPanel1\",\"properties\":[{\"name\":\"config\",\"kind\":\"Any\",\"default\":{\"type\":\"map\"}},{\"name\":\"contained\",\"kind\":\"Any\",\"default\":true},{\"name\":\"position\",\"kind\":\"Any\",\"default\":\"right-top\"},{\"name\":\"offsetx\",\"kind\":\"Any\",\"default\":null},{\"name\":\"offsety\",\"kind\":\"Any\",\"default\":null},{\"name\":\"theme\",\"kind\":\"Any\",\"default\":\"primary\"},{\"name\":\"status\",\"kind\":\"Any\",\"default\":\"normalized\"}]},{\"type\":\"model\",\"name\":\"GridStack1\",\"properties\":[{\"name\":\"ncols\",\"kind\":\"Any\",\"default\":null},{\"name\":\"nrows\",\"kind\":\"Any\",\"default\":null},{\"name\":\"allow_resize\",\"kind\":\"Any\",\"default\":true},{\"name\":\"allow_drag\",\"kind\":\"Any\",\"default\":true},{\"name\":\"state\",\"kind\":\"Any\",\"default\":[]}]},{\"type\":\"model\",\"name\":\"drag1\",\"properties\":[{\"name\":\"slider_width\",\"kind\":\"Any\",\"default\":5},{\"name\":\"slider_color\",\"kind\":\"Any\",\"default\":\"black\"},{\"name\":\"value\",\"kind\":\"Any\",\"default\":50}]},{\"type\":\"model\",\"name\":\"click1\",\"properties\":[{\"name\":\"terminal_output\",\"kind\":\"Any\",\"default\":\"\"},{\"name\":\"debug_name\",\"kind\":\"Any\",\"default\":\"\"},{\"name\":\"clears\",\"kind\":\"Any\",\"default\":0}]},{\"type\":\"model\",\"name\":\"FastWrapper1\",\"properties\":[{\"name\":\"object\",\"kind\":\"Any\",\"default\":null},{\"name\":\"style\",\"kind\":\"Any\",\"default\":null}]},{\"type\":\"model\",\"name\":\"NotificationArea1\",\"properties\":[{\"name\":\"js_events\",\"kind\":\"Any\",\"default\":{\"type\":\"map\"}},{\"name\":\"max_notifications\",\"kind\":\"Any\",\"default\":5},{\"name\":\"notifications\",\"kind\":\"Any\",\"default\":[]},{\"name\":\"position\",\"kind\":\"Any\",\"default\":\"bottom-right\"},{\"name\":\"_clear\",\"kind\":\"Any\",\"default\":0},{\"name\":\"types\",\"kind\":\"Any\",\"default\":[{\"type\":\"map\",\"entries\":[[\"type\",\"warning\"],[\"background\",\"#ffc107\"],[\"icon\",{\"type\":\"map\",\"entries\":[[\"className\",\"fas fa-exclamation-triangle\"],[\"tagName\",\"i\"],[\"color\",\"white\"]]}]]},{\"type\":\"map\",\"entries\":[[\"type\",\"info\"],[\"background\",\"#007bff\"],[\"icon\",{\"type\":\"map\",\"entries\":[[\"className\",\"fas fa-info-circle\"],[\"tagName\",\"i\"],[\"color\",\"white\"]]}]]}]}]},{\"type\":\"model\",\"name\":\"Notification\",\"properties\":[{\"name\":\"background\",\"kind\":\"Any\",\"default\":null},{\"name\":\"duration\",\"kind\":\"Any\",\"default\":3000},{\"name\":\"icon\",\"kind\":\"Any\",\"default\":null},{\"name\":\"message\",\"kind\":\"Any\",\"default\":\"\"},{\"name\":\"notification_type\",\"kind\":\"Any\",\"default\":null},{\"name\":\"_rendered\",\"kind\":\"Any\",\"default\":false},{\"name\":\"_destroyed\",\"kind\":\"Any\",\"default\":false}]},{\"type\":\"model\",\"name\":\"TemplateActions1\",\"properties\":[{\"name\":\"open_modal\",\"kind\":\"Any\",\"default\":0},{\"name\":\"close_modal\",\"kind\":\"Any\",\"default\":0}]},{\"type\":\"model\",\"name\":\"BootstrapTemplateActions1\",\"properties\":[{\"name\":\"open_modal\",\"kind\":\"Any\",\"default\":0},{\"name\":\"close_modal\",\"kind\":\"Any\",\"default\":0}]},{\"type\":\"model\",\"name\":\"TemplateEditor1\",\"properties\":[{\"name\":\"layout\",\"kind\":\"Any\",\"default\":[]}]},{\"type\":\"model\",\"name\":\"MaterialTemplateActions1\",\"properties\":[{\"name\":\"open_modal\",\"kind\":\"Any\",\"default\":0},{\"name\":\"close_modal\",\"kind\":\"Any\",\"default\":0}]},{\"type\":\"model\",\"name\":\"ReactiveESM1\",\"properties\":[{\"name\":\"esm_constants\",\"kind\":\"Any\",\"default\":{\"type\":\"map\"}}]},{\"type\":\"model\",\"name\":\"JSComponent1\",\"properties\":[{\"name\":\"esm_constants\",\"kind\":\"Any\",\"default\":{\"type\":\"map\"}}]},{\"type\":\"model\",\"name\":\"ReactComponent1\",\"properties\":[{\"name\":\"esm_constants\",\"kind\":\"Any\",\"default\":{\"type\":\"map\"}}]},{\"type\":\"model\",\"name\":\"AnyWidgetComponent1\",\"properties\":[{\"name\":\"esm_constants\",\"kind\":\"Any\",\"default\":{\"type\":\"map\"}}]},{\"type\":\"model\",\"name\":\"request_value1\",\"properties\":[{\"name\":\"fill\",\"kind\":\"Any\",\"default\":\"none\"},{\"name\":\"_synced\",\"kind\":\"Any\",\"default\":null},{\"name\":\"_request_sync\",\"kind\":\"Any\",\"default\":0}]}]}};\n",
       "  var render_items = [{\"docid\":\"8725feac-e0d2-406d-8622-0c7181ff3eae\",\"roots\":{\"9d884383-c439-48a2-ae55-07dc17b50830\":\"a7c5edd8-c397-4361-a68e-c183a450d845\"},\"root_ids\":[\"9d884383-c439-48a2-ae55-07dc17b50830\"]}];\n",
       "  var docs = Object.values(docs_json)\n",
       "  if (!docs) {\n",
       "    return\n",
       "  }\n",
       "  const py_version = docs[0].version.replace('rc', '-rc.').replace('.dev', '-dev.')\n",
       "  async function embed_document(root) {\n",
       "    var Bokeh = get_bokeh(root)\n",
       "    await Bokeh.embed.embed_items_notebook(docs_json, render_items);\n",
       "    for (const render_item of render_items) {\n",
       "      for (const root_id of render_item.root_ids) {\n",
       "\tconst id_el = document.getElementById(root_id)\n",
       "\tif (id_el.children.length && id_el.children[0].hasAttribute('data-root-id')) {\n",
       "\t  const root_el = id_el.children[0]\n",
       "\t  root_el.id = root_el.id + '-rendered'\n",
       "\t  for (const child of root_el.children) {\n",
       "            // Ensure JupyterLab does not capture keyboard shortcuts\n",
       "            // see: https://jupyterlab.readthedocs.io/en/4.1.x/extension/notebook.html#keyboard-interaction-model\n",
       "\t    child.setAttribute('data-lm-suppress-shortcuts', 'true')\n",
       "\t  }\n",
       "\t}\n",
       "      }\n",
       "    }\n",
       "  }\n",
       "  function get_bokeh(root) {\n",
       "    if (root.Bokeh === undefined) {\n",
       "      return null\n",
       "    } else if (root.Bokeh.version !== py_version) {\n",
       "      if (root.Bokeh.versions === undefined || !root.Bokeh.versions.has(py_version)) {\n",
       "\treturn null\n",
       "      }\n",
       "      return root.Bokeh.versions.get(py_version);\n",
       "    } else if (root.Bokeh.version === py_version) {\n",
       "      return root.Bokeh\n",
       "    }\n",
       "    return null\n",
       "  }\n",
       "  function is_loaded(root) {\n",
       "    var Bokeh = get_bokeh(root)\n",
       "    return (Bokeh != null && Bokeh.Panel !== undefined)\n",
       "  }\n",
       "  if (is_loaded(root)) {\n",
       "    embed_document(root);\n",
       "  } else {\n",
       "    var attempts = 0;\n",
       "    var timer = setInterval(function(root) {\n",
       "      if (is_loaded(root)) {\n",
       "        clearInterval(timer);\n",
       "        embed_document(root);\n",
       "      } else if (document.readyState == \"complete\") {\n",
       "        attempts++;\n",
       "        if (attempts > 200) {\n",
       "          clearInterval(timer);\n",
       "\t  var Bokeh = get_bokeh(root)\n",
       "\t  if (Bokeh == null || Bokeh.Panel == null) {\n",
       "            console.warn(\"Panel: ERROR: Unable to run Panel code because Bokeh or Panel library is missing\");\n",
       "\t  } else {\n",
       "\t    console.warn(\"Panel: WARNING: Attempting to render but not all required libraries could be resolved.\")\n",
       "\t    embed_document(root)\n",
       "\t  }\n",
       "        }\n",
       "      }\n",
       "    }, 25, root)\n",
       "  }\n",
       "})(window);</script>"
      ],
      "text/plain": [
       ":Overlay\n",
       "   .Curve.I     :Curve   [date]   (len)\n",
       "   .ErrorBars.I :ErrorBars   [date]   (len,accuracy)"
      ]
     },
     "execution_count": 15,
     "metadata": {
      "application/vnd.holoviews_exec.v0+json": {
       "id": "9d884383-c439-48a2-ae55-07dc17b50830"
      }
     },
     "output_type": "execute_result"
    }
   ],
   "source": [
    "df = query_quarterly_counts.release().collect()\n",
    "\n",
    "# build a date column\n",
    "df = df.with_columns(pl.date(pl.col(\"YEAR\"), pl.col(\"QUARTER\") * 4, 1))\n",
    "\n",
    "import hvplot.pandas  # Nécessaire pour activer .hvplot sur pandas\n",
    "\n",
    "# df est toujours un polars.DataFrame ici\n",
    "line = df.to_pandas().hvplot.line(x=\"date\", y=\"len\")\n",
    "\n",
    "# Création du DataFrame avec la colonne \"accuracy\"\n",
    "df_with_accuracy = df.with_columns(\n",
    "    accuracy=query_quarterly_counts.summarize(alpha=.05)[\"accuracy\"][0]\n",
    ")\n",
    "\n",
    "# Ensuite CONVERSION en pandas avant hvplot\n",
    "errorbars = df_with_accuracy.to_pandas().hvplot.errorbars(\n",
    "    x=\"date\", y=\"len\", yerr1=\"accuracy\"\n",
    ")\n",
    "\n",
    "# Combinaison des deux tracés\n",
    "(line * errorbars)\n"
   ]
  },
  {
   "cell_type": "markdown",
   "id": "57bd24a2",
   "metadata": {},
   "source": [
    "### L'information portant sur les des tailles des partitions est connu"
   ]
  },
  {
   "cell_type": "code",
   "execution_count": 19,
   "id": "2a65ff6b",
   "metadata": {},
   "outputs": [
    {
     "name": "stdout",
     "output_type": "stream",
     "text": [
      "shape: (2, 3)\n",
      "┌─────┬─────────┬───────────┐\n",
      "│ SEX ┆ SEX_STR ┆ HWUSUAL   │\n",
      "│ --- ┆ ---     ┆ ---       │\n",
      "│ i64 ┆ str     ┆ f64       │\n",
      "╞═════╪═════════╪═══════════╡\n",
      "│ 1   ┆ male    ┆ 40.85994  │\n",
      "│ 2   ┆ female  ┆ 34.173409 │\n",
      "└─────┴─────────┴───────────┘\n"
     ]
    },
    {
     "data": {
      "text/html": [
       "<div><style>\n",
       ".dataframe > thead > tr,\n",
       ".dataframe > tbody > tr {\n",
       "  text-align: right;\n",
       "  white-space: pre-wrap;\n",
       "}\n",
       "</style>\n",
       "<small>shape: (2, 5)</small><table border=\"1\" class=\"dataframe\"><thead><tr><th>column</th><th>aggregate</th><th>distribution</th><th>scale</th><th>accuracy</th></tr><tr><td>str</td><td>str</td><td>str</td><td>f64</td><td>f64</td></tr></thead><tbody><tr><td>&quot;HWUSUAL&quot;</td><td>&quot;Sum&quot;</td><td>&quot;Integer Laplace&quot;</td><td>1764.0</td><td>5284.97166</td></tr><tr><td>&quot;HWUSUAL&quot;</td><td>&quot;Length&quot;</td><td>&quot;Integer Laplace&quot;</td><td>0.0</td><td>NaN</td></tr></tbody></table></div>"
      ],
      "text/plain": [
       "shape: (2, 5)\n",
       "┌─────────┬───────────┬─────────────────┬────────┬────────────┐\n",
       "│ column  ┆ aggregate ┆ distribution    ┆ scale  ┆ accuracy   │\n",
       "│ ---     ┆ ---       ┆ ---             ┆ ---    ┆ ---        │\n",
       "│ str     ┆ str       ┆ str             ┆ f64    ┆ f64        │\n",
       "╞═════════╪═══════════╪═════════════════╪════════╪════════════╡\n",
       "│ HWUSUAL ┆ Sum       ┆ Integer Laplace ┆ 1764.0 ┆ 5284.97166 │\n",
       "│ HWUSUAL ┆ Length    ┆ Integer Laplace ┆ 0.0    ┆ NaN        │\n",
       "└─────────┴───────────┴─────────────────┴────────┴────────────┘"
      ]
     },
     "execution_count": 19,
     "metadata": {},
     "output_type": "execute_result"
    }
   ],
   "source": [
    "lf_preprocessed = pl.scan_csv(dp.examples.get_france_lfs_path(), ignore_errors=True) \\\n",
    "    .filter(pl.col(\"HWUSUAL\") < 99)\n",
    "\n",
    "context = dp.Context.compositor(\n",
    "    data=lf_preprocessed,\n",
    "    privacy_unit=dp.unit_of(contributions=36),\n",
    "    privacy_loss=dp.loss_of(epsilon=1.0, delta=1e-7),\n",
    "    split_evenly_over=1,\n",
    "    margins=[\n",
    "        # total number of responses when grouped by \"SEX\" is public information\n",
    "        dp.polars.Margin(\n",
    "            by=[\"SEX\"],\n",
    "            public_info=\"lengths\",\n",
    "            max_partition_length=60_000_000, # population of France\n",
    "            max_num_partitions=2,\n",
    "        )\n",
    "    ],\n",
    ")\n",
    "\n",
    "# This margin provides an upper bound on how large any partition can be (max_partition_length). \n",
    "# An adversary could very reasonably surmise that there are no more responses in each quarter than the population of France. \n",
    "# The population of France was about 60 million in 2004 so we’ll use that as our maximum partition length. \n",
    "# By giving up this relatively inconsequential fact about the data to a potential adversary, the library is able to ensure\n",
    "# that overflow and/or numerical instability won’t undermine privacy guarantees.\n",
    "\n",
    "query_work_hours = (\n",
    "    context.query()\n",
    "    .group_by(\"SEX\")\n",
    "    .agg(\n",
    "        pl.col.HWUSUAL\n",
    "        .cast(int)\n",
    "        .fill_null(0)\n",
    "        .dp.mean((0, 98))\n",
    "    )\n",
    ")\n",
    "\n",
    "df = query_work_hours.release().collect()\n",
    "\n",
    "# released dataframes from the OpenDP Library are shuffled to conceal the ordering of rows in the original dataset\n",
    "# therefore, to ensure proper alignment, we use join instead of hstack to add labels\n",
    "df = pl.DataFrame({\"SEX\": [1, 2], \"SEX_STR\": [\"male\", \"female\"]}).join(df, on=\"SEX\")\n",
    "print(df)\n",
    "query_work_hours.summarize(alpha=.05)"
   ]
  },
  {
   "cell_type": "markdown",
   "id": "7cbe8a44",
   "metadata": {},
   "source": [
    "## Processing"
   ]
  },
  {
   "cell_type": "code",
   "execution_count": 91,
   "id": "5b4973b8",
   "metadata": {},
   "outputs": [
    {
     "data": {
      "text/html": [
       "<div><style>\n",
       ".dataframe > thead > tr,\n",
       ".dataframe > tbody > tr {\n",
       "  text-align: right;\n",
       "  white-space: pre-wrap;\n",
       "}\n",
       "</style>\n",
       "<small>shape: (5, 77)</small><table border=\"1\" class=\"dataframe\"><thead><tr><th>COEFF</th><th>QUARTER</th><th>REFYEAR</th><th>REFWEEK</th><th>INTWEEK</th><th>COUNTRY</th><th>DEGURBA</th><th>HHINST</th><th>INTWAVE</th><th>INTQUEST</th><th>REM</th><th>YEAR</th><th>HHPRIV</th><th>SEX</th><th>AGE</th><th>NATIONAL</th><th>YEARESID</th><th>COUNTRYB</th><th>PROXY</th><th>NOWKREAS</th><th>STAPRO</th><th>SIGNISAL</th><th>COUNTRYW</th><th>YSTARTWK</th><th>MSTARTWK</th><th>FTPT</th><th>TEMP</th><th>TEMPDUR</th><th>HWUSUAL</th><th>HWACTUAL</th><th>HWOVERP</th><th>HWOVERPU</th><th>HOURREAS</th><th>WISHMORE</th><th>HWWISH</th><th>LOOKOJ</th><th>EXIST2J</th><th>&hellip;</th><th>YEARPR</th><th>MONTHPR</th><th>STAPROPR</th><th>SEEKWORK</th><th>SEEKTYPE</th><th>SEEKDUR</th><th>METHODA</th><th>METHODB</th><th>METHODC</th><th>METHODD</th><th>METHODE</th><th>METHODF</th><th>METHODG</th><th>METHODH</th><th>METHODI</th><th>METHODJ</th><th>METHODK</th><th>METHODL</th><th>METHODM</th><th>WANTWORK</th><th>AVAILBLE</th><th>EDUCSTAT</th><th>EDUCLEVL</th><th>COURATT</th><th>COURLEN</th><th>ILOSTAT</th><th>ISCO1D</th><th>ISCOPR1D</th><th>DURUNE</th><th>EDUC4WN</th><th>HATLEV1D</th><th>STARTIME</th><th>LEAVCLAS</th><th>NACE1D</th><th>NACE2J1D</th><th>NACEPR1D</th><th>HHTYPE</th></tr><tr><td>f64</td><td>i64</td><td>i64</td><td>i64</td><td>f64</td><td>str</td><td>f64</td><td>f64</td><td>i64</td><td>i64</td><td>i64</td><td>i64</td><td>i64</td><td>i64</td><td>f64</td><td>str</td><td>f64</td><td>str</td><td>f64</td><td>i64</td><td>f64</td><td>i64</td><td>str</td><td>f64</td><td>f64</td><td>f64</td><td>f64</td><td>f64</td><td>f64</td><td>f64</td><td>f64</td><td>f64</td><td>f64</td><td>f64</td><td>f64</td><td>i64</td><td>f64</td><td>&hellip;</td><td>f64</td><td>f64</td><td>f64</td><td>i64</td><td>f64</td><td>f64</td><td>i64</td><td>i64</td><td>i64</td><td>i64</td><td>i64</td><td>i64</td><td>i64</td><td>i64</td><td>i64</td><td>i64</td><td>i64</td><td>i64</td><td>i64</td><td>f64</td><td>i64</td><td>f64</td><td>f64</td><td>f64</td><td>f64</td><td>i64</td><td>f64</td><td>f64</td><td>f64</td><td>f64</td><td>str</td><td>f64</td><td>f64</td><td>str</td><td>f64</td><td>str</td><td>i64</td></tr></thead><tbody><tr><td>0.579834</td><td>1</td><td>2005</td><td>5</td><td>7.0</td><td>&quot;FR&quot;</td><td>0.0</td><td>9.0</td><td>1</td><td>2</td><td>2</td><td>2005</td><td>1</td><td>1</td><td>47.0</td><td>&quot;000-OWN COUNTRY&quot;</td><td>0.0</td><td>&quot;000-OWN COUNTRY&quot;</td><td>2.0</td><td>99</td><td>0.0</td><td>9</td><td>&quot;000-OWN COUNTRY&quot;</td><td>2003.0</td><td>3.0</td><td>1.0</td><td>9.0</td><td>9.0</td><td>60.0</td><td>60.0</td><td>99.0</td><td>99.0</td><td>97.0</td><td>null</td><td>60.0</td><td>0</td><td>1.0</td><td>&hellip;</td><td>9999.0</td><td>99.0</td><td>9.0</td><td>9</td><td>9.0</td><td>9.0</td><td>9</td><td>9</td><td>9</td><td>9</td><td>9</td><td>9</td><td>9</td><td>9</td><td>9</td><td>9</td><td>9</td><td>9</td><td>9</td><td>9.0</td><td>9</td><td>2.0</td><td>9.0</td><td>2.0</td><td>999.0</td><td>1</td><td>null</td><td>null</td><td>9.0</td><td>0.0</td><td>&quot;H&quot;</td><td>23.0</td><td>null</td><td>null</td><td>9.0</td><td>&quot;9.0&quot;</td><td>1</td></tr><tr><td>0.375213</td><td>2</td><td>2013</td><td>21</td><td>22.0</td><td>&quot;FR&quot;</td><td>0.0</td><td>9.0</td><td>2</td><td>2</td><td>5</td><td>2013</td><td>1</td><td>2</td><td>65.0</td><td>&quot;000-OWN COUNTRY&quot;</td><td>0.0</td><td>&quot;000-OWN COUNTRY&quot;</td><td>2.0</td><td>99</td><td>5.0</td><td>9</td><td>&quot;000-OWN COUNTRY&quot;</td><td>1998.0</td><td>99.0</td><td>1.0</td><td>1.0</td><td>9.0</td><td>35.0</td><td>28.0</td><td>0.0</td><td>0.0</td><td>12.0</td><td>0.0</td><td>35.0</td><td>0</td><td>1.0</td><td>&hellip;</td><td>9999.0</td><td>99.0</td><td>9.0</td><td>9</td><td>9.0</td><td>9.0</td><td>9</td><td>9</td><td>9</td><td>9</td><td>9</td><td>9</td><td>9</td><td>9</td><td>9</td><td>9</td><td>9</td><td>9</td><td>9</td><td>9.0</td><td>9</td><td>2.0</td><td>9.0</td><td>2.0</td><td>999.0</td><td>1</td><td>200.0</td><td>999.0</td><td>9.0</td><td>0.0</td><td>&quot;H&quot;</td><td>180.0</td><td>null</td><td>&quot;H&quot;</td><td>9.0</td><td>&quot;9&quot;</td><td>1</td></tr><tr><td>0.602517</td><td>4</td><td>2004</td><td>40</td><td>41.0</td><td>&quot;FR&quot;</td><td>0.0</td><td>9.0</td><td>4</td><td>2</td><td>9</td><td>2004</td><td>1</td><td>1</td><td>47.0</td><td>&quot;NO ANSWER&quot;</td><td>null</td><td>&quot;NO ANSWER&quot;</td><td>2.0</td><td>99</td><td>5.0</td><td>9</td><td>&quot;000-OWN COUNTRY&quot;</td><td>2002.0</td><td>4.0</td><td>1.0</td><td>1.0</td><td>9.0</td><td>35.0</td><td>35.0</td><td>null</td><td>null</td><td>97.0</td><td>0.0</td><td>35.0</td><td>0</td><td>1.0</td><td>&hellip;</td><td>9999.0</td><td>99.0</td><td>9.0</td><td>9</td><td>9.0</td><td>9.0</td><td>9</td><td>9</td><td>9</td><td>9</td><td>9</td><td>9</td><td>9</td><td>9</td><td>9</td><td>9</td><td>9</td><td>9</td><td>9</td><td>9.0</td><td>9</td><td>2.0</td><td>9.0</td><td>2.0</td><td>999.0</td><td>1</td><td>null</td><td>null</td><td>9.0</td><td>0.0</td><td>&quot;L&quot;</td><td>29.0</td><td>null</td><td>null</td><td>9.0</td><td>&quot;9.0&quot;</td><td>1</td></tr><tr><td>0.638932</td><td>1</td><td>2005</td><td>4</td><td>5.0</td><td>&quot;FR&quot;</td><td>0.0</td><td>9.0</td><td>2</td><td>2</td><td>1</td><td>2005</td><td>1</td><td>1</td><td>20.0</td><td>&quot;000-OWN COUNTRY&quot;</td><td>0.0</td><td>&quot;000-OWN COUNTRY&quot;</td><td>2.0</td><td>99</td><td>5.0</td><td>9</td><td>&quot;000-OWN COUNTRY&quot;</td><td>2003.0</td><td>8.0</td><td>1.0</td><td>1.0</td><td>9.0</td><td>35.0</td><td>35.0</td><td>null</td><td>null</td><td>97.0</td><td>0.0</td><td>35.0</td><td>0</td><td>1.0</td><td>&hellip;</td><td>9999.0</td><td>99.0</td><td>9.0</td><td>9</td><td>9.0</td><td>9.0</td><td>9</td><td>9</td><td>9</td><td>9</td><td>9</td><td>9</td><td>9</td><td>9</td><td>9</td><td>9</td><td>9</td><td>9</td><td>9</td><td>9.0</td><td>9</td><td>2.0</td><td>9.0</td><td>2.0</td><td>999.0</td><td>1</td><td>null</td><td>null</td><td>9.0</td><td>0.0</td><td>&quot;L&quot;</td><td>17.0</td><td>null</td><td>null</td><td>9.0</td><td>&quot;9.0&quot;</td><td>1</td></tr><tr><td>1.140249</td><td>4</td><td>2009</td><td>46</td><td>48.0</td><td>&quot;FR&quot;</td><td>3.0</td><td>9.0</td><td>4</td><td>2</td><td>11</td><td>2009</td><td>1</td><td>1</td><td>7.0</td><td>&quot;000-OWN COUNTRY&quot;</td><td>0.0</td><td>&quot;000-OWN COUNTRY&quot;</td><td>9.0</td><td>99</td><td>9.0</td><td>9</td><td>&quot;NO ANSWER&quot;</td><td>9999.0</td><td>99.0</td><td>9.0</td><td>9.0</td><td>9.0</td><td>99.0</td><td>99.0</td><td>99.0</td><td>99.0</td><td>99.0</td><td>9.0</td><td>99.0</td><td>9</td><td>9.0</td><td>&hellip;</td><td>9999.0</td><td>99.0</td><td>9.0</td><td>9</td><td>9.0</td><td>9.0</td><td>9</td><td>9</td><td>9</td><td>9</td><td>9</td><td>9</td><td>9</td><td>9</td><td>9</td><td>9</td><td>9</td><td>9</td><td>9</td><td>9.0</td><td>9</td><td>9.0</td><td>9.0</td><td>9.0</td><td>999.0</td><td>9</td><td>null</td><td>null</td><td>9.0</td><td>9.0</td><td>&quot;9&quot;</td><td>999.0</td><td>null</td><td>&quot;9&quot;</td><td>9.0</td><td>&quot;9&quot;</td><td>1</td></tr></tbody></table></div>"
      ],
      "text/plain": [
       "shape: (5, 77)\n",
       "┌──────────┬─────────┬─────────┬─────────┬───┬────────┬──────────┬──────────┬────────┐\n",
       "│ COEFF    ┆ QUARTER ┆ REFYEAR ┆ REFWEEK ┆ … ┆ NACE1D ┆ NACE2J1D ┆ NACEPR1D ┆ HHTYPE │\n",
       "│ ---      ┆ ---     ┆ ---     ┆ ---     ┆   ┆ ---    ┆ ---      ┆ ---      ┆ ---    │\n",
       "│ f64      ┆ i64     ┆ i64     ┆ i64     ┆   ┆ str    ┆ f64      ┆ str      ┆ i64    │\n",
       "╞══════════╪═════════╪═════════╪═════════╪═══╪════════╪══════════╪══════════╪════════╡\n",
       "│ 0.579834 ┆ 1       ┆ 2005    ┆ 5       ┆ … ┆ null   ┆ 9.0      ┆ 9.0      ┆ 1      │\n",
       "│ 0.375213 ┆ 2       ┆ 2013    ┆ 21      ┆ … ┆ H      ┆ 9.0      ┆ 9        ┆ 1      │\n",
       "│ 0.602517 ┆ 4       ┆ 2004    ┆ 40      ┆ … ┆ null   ┆ 9.0      ┆ 9.0      ┆ 1      │\n",
       "│ 0.638932 ┆ 1       ┆ 2005    ┆ 4       ┆ … ┆ null   ┆ 9.0      ┆ 9.0      ┆ 1      │\n",
       "│ 1.140249 ┆ 4       ┆ 2009    ┆ 46      ┆ … ┆ 9      ┆ 9.0      ┆ 9        ┆ 1      │\n",
       "└──────────┴─────────┴─────────┴─────────┴───┴────────┴──────────┴──────────┴────────┘"
      ]
     },
     "execution_count": 91,
     "metadata": {},
     "output_type": "execute_result"
    }
   ],
   "source": [
    "pl.scan_csv(dp.examples.get_france_lfs_path(), ignore_errors=True).collect().head(5)"
   ]
  },
  {
   "cell_type": "markdown",
   "id": "d7691356",
   "metadata": {},
   "source": [
    "### Créer / Modifier une colonne"
   ]
  },
  {
   "cell_type": "code",
   "execution_count": 92,
   "id": "a5660352",
   "metadata": {},
   "outputs": [
    {
     "data": {
      "text/html": [
       "<div><style>\n",
       ".dataframe > thead > tr,\n",
       ".dataframe > tbody > tr {\n",
       "  text-align: right;\n",
       "  white-space: pre-wrap;\n",
       "}\n",
       "</style>\n",
       "<small>shape: (4, 2)</small><table border=\"1\" class=\"dataframe\"><thead><tr><th>HWUSUAL</th><th>len</th></tr><tr><td>cat</td><td>u32</td></tr></thead><tbody><tr><td>&quot;(0, 20]&quot;</td><td>5893</td></tr><tr><td>&quot;(20, 40]&quot;</td><td>54169</td></tr><tr><td>&quot;(40, 60]&quot;</td><td>16073</td></tr><tr><td>&quot;(98, inf]&quot;</td><td>120194</td></tr></tbody></table></div>"
      ],
      "text/plain": [
       "shape: (4, 2)\n",
       "┌───────────┬────────┐\n",
       "│ HWUSUAL   ┆ len    │\n",
       "│ ---       ┆ ---    │\n",
       "│ cat       ┆ u32    │\n",
       "╞═══════════╪════════╡\n",
       "│ (0, 20]   ┆ 5893   │\n",
       "│ (20, 40]  ┆ 54169  │\n",
       "│ (40, 60]  ┆ 16073  │\n",
       "│ (98, inf] ┆ 120194 │\n",
       "└───────────┴────────┘"
      ]
     },
     "execution_count": 92,
     "metadata": {},
     "output_type": "execute_result"
    }
   ],
   "source": [
    "import polars as pl\n",
    "import opendp.prelude as dp\n",
    "dp.enable_features(\"contrib\")\n",
    "\n",
    "# Attention pas de margin possible pour la nouvelle colonne\n",
    "\n",
    "context = dp.Context.compositor(\n",
    "    # Many columns contain mixtures of strings and numbers and cannot be parsed as floats,\n",
    "    # so we'll set `ignore_errors` to true to avoid conversion errors.\n",
    "    data=pl.scan_csv(dp.examples.get_france_lfs_path(), ignore_errors=True),\n",
    "    privacy_unit=dp.unit_of(contributions=36),\n",
    "    privacy_loss=dp.loss_of(epsilon=1.0, delta=1e-7),\n",
    "    split_evenly_over=4,\n",
    "    margins=[dp.polars.Margin(max_partition_length=60_000_000 * 36)]\n",
    ")\n",
    "\n",
    "query_hwusual_binned = (\n",
    "    context.query()\n",
    "    # shadows the usual work hours \"HWUSUAL\" column with binned data\n",
    "    .with_columns(pl.col.HWUSUAL.cut(breaks=[0, 20, 40, 60, 80, 98]))\n",
    "    .group_by(pl.col.HWUSUAL)\n",
    "    .agg(dp.len())\n",
    ")\n",
    "query_hwusual_binned.release().collect().sort(\"HWUSUAL\")"
   ]
  },
  {
   "cell_type": "markdown",
   "id": "0fb93542",
   "metadata": {},
   "source": [
    "### Filter"
   ]
  },
  {
   "cell_type": "code",
   "execution_count": 93,
   "id": "8d9a19ff",
   "metadata": {},
   "outputs": [
    {
     "data": {
      "text/html": [
       "<div><style>\n",
       ".dataframe > thead > tr,\n",
       ".dataframe > tbody > tr {\n",
       "  text-align: right;\n",
       "  white-space: pre-wrap;\n",
       "}\n",
       "</style>\n",
       "<small>shape: (1, 1)</small><table border=\"1\" class=\"dataframe\"><thead><tr><th>HWUSUAL</th></tr><tr><td>i64</td></tr></thead><tbody><tr><td>12554983</td></tr></tbody></table></div>"
      ],
      "text/plain": [
       "shape: (1, 1)\n",
       "┌──────────┐\n",
       "│ HWUSUAL  │\n",
       "│ ---      │\n",
       "│ i64      │\n",
       "╞══════════╡\n",
       "│ 12554983 │\n",
       "└──────────┘"
      ]
     },
     "execution_count": 93,
     "metadata": {},
     "output_type": "execute_result"
    }
   ],
   "source": [
    "# Attention discard all public_info dans les marges\n",
    "\n",
    "query_total_hours_worked = (\n",
    "    context.query()\n",
    "    .with_columns(pl.col.HWUSUAL.cast(int).fill_null(0))\n",
    "    .filter(pl.col.HWUSUAL > 0)\n",
    "    .select(pl.col.HWUSUAL.dp.sum((0, 80)))\n",
    ")\n",
    "query_total_hours_worked.release().collect()"
   ]
  },
  {
   "cell_type": "markdown",
   "id": "e8bf1c94",
   "metadata": {},
   "source": [
    "# Points supplémentaires"
   ]
  },
  {
   "cell_type": "markdown",
   "id": "bb5d7777",
   "metadata": {},
   "source": [
    "## Changer de Laplacien à gaussien"
   ]
  },
  {
   "cell_type": "code",
   "execution_count": 124,
   "id": "f7e21cae",
   "metadata": {},
   "outputs": [
    {
     "name": "stderr",
     "output_type": "stream",
     "text": [
      "rho should be less than or equal to 0.5, and is typically less than or equal to 0.25\n"
     ]
    },
    {
     "data": {
      "text/html": [
       "<div><style>\n",
       ".dataframe > thead > tr,\n",
       ".dataframe > tbody > tr {\n",
       "  text-align: right;\n",
       "  white-space: pre-wrap;\n",
       "}\n",
       "</style>\n",
       "<small>shape: (1, 5)</small><table border=\"1\" class=\"dataframe\"><thead><tr><th>column</th><th>aggregate</th><th>distribution</th><th>scale</th><th>accuracy</th></tr><tr><td>str</td><td>str</td><td>str</td><td>f64</td><td>f64</td></tr></thead><tbody><tr><td>&quot;len&quot;</td><td>&quot;Frame Length&quot;</td><td>&quot;Integer Gaussian&quot;</td><td>180.0</td><td>354.0</td></tr></tbody></table></div>"
      ],
      "text/plain": [
       "shape: (1, 5)\n",
       "┌────────┬──────────────┬──────────────────┬───────┬──────────┐\n",
       "│ column ┆ aggregate    ┆ distribution     ┆ scale ┆ accuracy │\n",
       "│ ---    ┆ ---          ┆ ---              ┆ ---   ┆ ---      │\n",
       "│ str    ┆ str          ┆ str              ┆ f64   ┆ f64      │\n",
       "╞════════╪══════════════╪══════════════════╪═══════╪══════════╡\n",
       "│ len    ┆ Frame Length ┆ Integer Gaussian ┆ 180.0 ┆ 354.0    │\n",
       "└────────┴──────────────┴──────────────────┴───────┴──────────┘"
      ]
     },
     "execution_count": 124,
     "metadata": {},
     "output_type": "execute_result"
    }
   ],
   "source": [
    "import polars as pl\n",
    "import opendp.prelude as dp\n",
    "\n",
    "dp.enable_features(\"contrib\")\n",
    "\n",
    "dp.loss_of(epsilon=1.0)\n",
    "# (MaxDivergence, 1.0)\n",
    "\n",
    "dp.loss_of(epsilon=1.0, delta=1e-9)\n",
    "# (Approximate(MaxDivergence), (1.0, 1e-09))\n",
    "\n",
    "dp.loss_of(rho=1.0)\n",
    "# (ZeroConcentratedDivergence, 1.0)\n",
    "\n",
    "context = dp.Context.compositor(\n",
    "    data=pl.scan_csv(dp.examples.get_france_lfs_path(), ignore_errors=True),\n",
    "    privacy_unit=dp.unit_of(contributions=36),\n",
    "    privacy_loss=dp.loss_of(rho=0.1), # Changer la loss\n",
    "    split_evenly_over=5,\n",
    ")\n",
    "\n",
    "query_num_responses = context.query().select(dp.len())\n",
    "query_num_responses.summarize(alpha=0.05)"
   ]
  },
  {
   "cell_type": "markdown",
   "id": "2f26c553",
   "metadata": {},
   "source": [
    "## Petite différence pour le comptage mais pas très importante"
   ]
  },
  {
   "cell_type": "code",
   "execution_count": 113,
   "id": "d171233f",
   "metadata": {},
   "outputs": [
    {
     "name": "stderr",
     "output_type": "stream",
     "text": [
      "epsilon should be less than or equal to 5, and is typically less than or equal to 1\n"
     ]
    },
    {
     "data": {
      "text/html": [
       "<div><style>\n",
       ".dataframe > thead > tr,\n",
       ".dataframe > tbody > tr {\n",
       "  text-align: right;\n",
       "  white-space: pre-wrap;\n",
       "}\n",
       "</style>\n",
       "<small>shape: (2, 3)</small><table border=\"1\" class=\"dataframe\"><thead><tr><th>SEX</th><th>len</th><th>HWUSUAL</th></tr><tr><td>i64</td><td>u32</td><td>u32</td></tr></thead><tbody><tr><td>2</td><td>104332</td><td>0</td></tr><tr><td>1</td><td>95669</td><td>0</td></tr></tbody></table></div>"
      ],
      "text/plain": [
       "shape: (2, 3)\n",
       "┌─────┬────────┬─────────┐\n",
       "│ SEX ┆ len    ┆ HWUSUAL │\n",
       "│ --- ┆ ---    ┆ ---     │\n",
       "│ i64 ┆ u32    ┆ u32     │\n",
       "╞═════╪════════╪═════════╡\n",
       "│ 2   ┆ 104332 ┆ 0       │\n",
       "│ 1   ┆ 95669  ┆ 0       │\n",
       "└─────┴────────┴─────────┘"
      ]
     },
     "execution_count": 113,
     "metadata": {},
     "output_type": "execute_result"
    }
   ],
   "source": [
    "context = dp.Context.compositor(\n",
    "    data=pl.scan_csv(dp.examples.get_france_lfs_path(), ignore_errors=True),\n",
    "    privacy_unit=dp.unit_of(contributions=36),\n",
    "    privacy_loss=dp.loss_of(epsilon=100.0),\n",
    "    split_evenly_over=5,\n",
    ")\n",
    "\n",
    "query_len_variations = (\n",
    "    context.query()\n",
    "    .group_by(\"SEX\")\n",
    "    .agg([\n",
    "        # total number of rows in the frame, including nulls\n",
    "        dp.len(),\n",
    "        # total number of rows in the HWUSUAL column (including nulls)\n",
    "        pl.col.HWUSUAL.filter(pl.col.HWUSUAL > 100).dp.len(),\n",
    "    ])\n",
    "    # explicitly specifying keys makes the query satisfy pure-DP\n",
    "    .with_keys(pl.LazyFrame({\"SEX\": [1, 2]}))\n",
    ")\n",
    "query_len_variations.summarize()\n",
    "\n",
    "query_len_variations.release().collect()"
   ]
  },
  {
   "cell_type": "markdown",
   "id": "e6bd3d5b",
   "metadata": {},
   "source": [
    "## Faire ses propres mécanismes ?"
   ]
  },
  {
   "cell_type": "code",
   "execution_count": 119,
   "id": "8f864e6f",
   "metadata": {},
   "outputs": [
    {
     "ename": "ValueError",
     "evalue": "'constant' is already registered in the Context API. Please choose a different name.",
     "output_type": "error",
     "traceback": [
      "\u001b[31m---------------------------------------------------------------------------\u001b[39m",
      "\u001b[31mValueError\u001b[39m                                Traceback (most recent call last)",
      "\u001b[36mCell\u001b[39m\u001b[36m \u001b[39m\u001b[32mIn[119]\u001b[39m\u001b[32m, line 13\u001b[39m\n\u001b[32m      3\u001b[39m \u001b[38;5;28;01mdef\u001b[39;00m\u001b[38;5;250m \u001b[39m\u001b[34mmake_constant\u001b[39m(input_domain, input_metric, constant):\n\u001b[32m      4\u001b[39m     \u001b[38;5;28;01mreturn\u001b[39;00m dp.m.make_user_measurement(\n\u001b[32m      5\u001b[39m         input_domain=input_domain,\n\u001b[32m      6\u001b[39m         input_metric=input_metric,\n\u001b[32m   (...)\u001b[39m\u001b[32m      9\u001b[39m         privacy_map=\u001b[38;5;28;01mlambda\u001b[39;00m _: \u001b[32m0.0\u001b[39m,\n\u001b[32m     10\u001b[39m     )\n\u001b[32m---> \u001b[39m\u001b[32m13\u001b[39m \u001b[43mdp\u001b[49m\u001b[43m.\u001b[49m\u001b[43mregister\u001b[49m\u001b[43m(\u001b[49m\u001b[43mmake_constant\u001b[49m\u001b[43m)\u001b[49m\n",
      "\u001b[36mFile \u001b[39m\u001b[32m/usr/local/lib/python3.12/site-packages/opendp/context.py:120\u001b[39m, in \u001b[36mregister\u001b[39m\u001b[34m(constructor, name)\u001b[39m\n\u001b[32m    117\u001b[39m     name = constructor.\u001b[34m__name__\u001b[39m[\u001b[32m5\u001b[39m:]\n\u001b[32m    119\u001b[39m \u001b[38;5;28;01mif\u001b[39;00m name \u001b[38;5;129;01min\u001b[39;00m constructors:\n\u001b[32m--> \u001b[39m\u001b[32m120\u001b[39m     \u001b[38;5;28;01mraise\u001b[39;00m \u001b[38;5;167;01mValueError\u001b[39;00m(\n\u001b[32m    121\u001b[39m         \u001b[33mf\u001b[39m\u001b[33m\"\u001b[39m\u001b[33m'\u001b[39m\u001b[38;5;132;01m{\u001b[39;00mname\u001b[38;5;132;01m}\u001b[39;00m\u001b[33m'\u001b[39m\u001b[33m is already registered in the Context API. Please choose a different name.\u001b[39m\u001b[33m\"\u001b[39m\n\u001b[32m    122\u001b[39m     )\n\u001b[32m    124\u001b[39m \u001b[38;5;28;01mif\u001b[39;00m supports_partial(constructor):\n\u001b[32m    125\u001b[39m     constructors[name] = to_then(constructor), \u001b[38;5;28;01mTrue\u001b[39;00m\n",
      "\u001b[31mValueError\u001b[39m: 'constant' is already registered in the Context API. Please choose a different name."
     ]
    }
   ],
   "source": [
    "dp.enable_features(\"honest-but-curious\")\n",
    "\n",
    "def make_constant(input_domain, input_metric, constant):\n",
    "    return dp.m.make_user_measurement(\n",
    "        input_domain=input_domain,\n",
    "        input_metric=input_metric,\n",
    "        output_measure=dp.max_divergence(),\n",
    "        function=lambda _: constant,\n",
    "        privacy_map=lambda _: 0.0,\n",
    "    )\n",
    "\n",
    "\n",
    "dp.register(make_constant)"
   ]
  },
  {
   "cell_type": "code",
   "execution_count": 125,
   "id": "99886cf6",
   "metadata": {},
   "outputs": [
    {
     "ename": "AttributeError",
     "evalue": "'DPExpr' object has no attribute 'constant'",
     "output_type": "error",
     "traceback": [
      "\u001b[31m---------------------------------------------------------------------------\u001b[39m",
      "\u001b[31mAttributeError\u001b[39m                            Traceback (most recent call last)",
      "\u001b[36mCell\u001b[39m\u001b[36m \u001b[39m\u001b[32mIn[125]\u001b[39m\u001b[32m, line 25\u001b[39m\n\u001b[32m      8\u001b[39m context.query().constant(\u001b[33m\"\u001b[39m\u001b[33mdenied\u001b[39m\u001b[33m\"\u001b[39m).release()\n\u001b[32m     10\u001b[39m context = dp.Context.compositor(\n\u001b[32m     11\u001b[39m     data=pl.scan_csv(dp.examples.get_france_lfs_path(), ignore_errors=\u001b[38;5;28;01mTrue\u001b[39;00m),\n\u001b[32m     12\u001b[39m     privacy_unit=dp.unit_of(contributions=\u001b[32m36\u001b[39m),\n\u001b[32m     13\u001b[39m     privacy_loss=dp.loss_of(epsilon=\u001b[32m1.0\u001b[39m),\n\u001b[32m     14\u001b[39m     split_evenly_over=\u001b[32m5\u001b[39m,\n\u001b[32m     15\u001b[39m )\n\u001b[32m     17\u001b[39m query_len_variations = (\n\u001b[32m     18\u001b[39m     context.query()\n\u001b[32m     19\u001b[39m     .group_by(\u001b[33m\"\u001b[39m\u001b[33mSEX\u001b[39m\u001b[33m\"\u001b[39m)\n\u001b[32m     20\u001b[39m     .agg([\n\u001b[32m     21\u001b[39m         \u001b[38;5;66;03m# total number of rows in the frame, including nulls\u001b[39;00m\n\u001b[32m     22\u001b[39m         dp.len(),\n\u001b[32m     23\u001b[39m         \u001b[38;5;66;03m# total number of rows in the HWUSUAL column (including nulls)\u001b[39;00m\n\u001b[32m     24\u001b[39m         pl.col.HWUSUAL.filter(pl.col.HWUSUAL > \u001b[32m100\u001b[39m).dp.len(),\n\u001b[32m---> \u001b[39m\u001b[32m25\u001b[39m         \u001b[43mpl\u001b[49m\u001b[43m.\u001b[49m\u001b[43mcol\u001b[49m\u001b[43m.\u001b[49m\u001b[43mHWUSUAL\u001b[49m\u001b[43m.\u001b[49m\u001b[43mfilter\u001b[49m\u001b[43m(\u001b[49m\u001b[43mpl\u001b[49m\u001b[43m.\u001b[49m\u001b[43mcol\u001b[49m\u001b[43m.\u001b[49m\u001b[43mHWUSUAL\u001b[49m\u001b[43m \u001b[49m\u001b[43m>\u001b[49m\u001b[43m \u001b[49m\u001b[32;43m100\u001b[39;49m\u001b[43m)\u001b[49m\u001b[43m.\u001b[49m\u001b[43mdp\u001b[49m\u001b[43m.\u001b[49m\u001b[43mconstant\u001b[49m(\u001b[33m\"\u001b[39m\u001b[33mdenied\u001b[39m\u001b[33m\"\u001b[39m)\n\u001b[32m     26\u001b[39m     ])\n\u001b[32m     27\u001b[39m     \u001b[38;5;66;03m# explicitly specifying keys makes the query satisfy pure-DP\u001b[39;00m\n\u001b[32m     28\u001b[39m     .with_keys(pl.LazyFrame({\u001b[33m\"\u001b[39m\u001b[33mSEX\u001b[39m\u001b[33m\"\u001b[39m: [\u001b[32m1\u001b[39m, \u001b[32m2\u001b[39m]}))\n\u001b[32m     29\u001b[39m )\n\u001b[32m     30\u001b[39m query_len_variations.summarize()\n\u001b[32m     32\u001b[39m query_len_variations.release().collect()\n",
      "\u001b[31mAttributeError\u001b[39m: 'DPExpr' object has no attribute 'constant'"
     ]
    }
   ],
   "source": [
    "context = dp.Context.compositor(\n",
    "    data=[1, 2, 3],\n",
    "    privacy_unit=dp.unit_of(contributions=36),\n",
    "    privacy_loss=dp.loss_of(epsilon=1.0),\n",
    "    split_evenly_over=2,\n",
    ")\n",
    "\n",
    "context.query().constant(\"denied\").release()\n",
    "\n",
    "context = dp.Context.compositor(\n",
    "    data=pl.scan_csv(dp.examples.get_france_lfs_path(), ignore_errors=True),\n",
    "    privacy_unit=dp.unit_of(contributions=36),\n",
    "    privacy_loss=dp.loss_of(epsilon=1.0),\n",
    "    split_evenly_over=5,\n",
    ")\n",
    "\n",
    "query_len_variations = (\n",
    "    context.query()\n",
    "    .group_by(\"SEX\")\n",
    "    .agg([\n",
    "        # total number of rows in the frame, including nulls\n",
    "        dp.len(),\n",
    "        # total number of rows in the HWUSUAL column (including nulls)\n",
    "        pl.col.HWUSUAL.filter(pl.col.HWUSUAL > 100).dp.len(),\n",
    "        pl.col.HWUSUAL.filter(pl.col.HWUSUAL > 100).dp.constant(\"denied\")\n",
    "    ])\n",
    "    # explicitly specifying keys makes the query satisfy pure-DP\n",
    "    .with_keys(pl.LazyFrame({\"SEX\": [1, 2]}))\n",
    ")\n",
    "query_len_variations.summarize()\n",
    "\n",
    "query_len_variations.release().collect()"
   ]
  },
  {
   "cell_type": "markdown",
   "id": "097e5512",
   "metadata": {},
   "source": [
    "## Les Marges"
   ]
  },
  {
   "cell_type": "markdown",
   "id": "978acd7c",
   "metadata": {},
   "source": [
    "The Margin class is used to describe what information is known publicly about a grouped dataset: like the values you might expect to find in the margins of a table.\n",
    "\n",
    "Be aware that aspects of your data marked as “public information” are not subject to privacy protections, so it is important that public descriptors about the margin should be set conservatively, or not set at all."
   ]
  },
  {
   "cell_type": "markdown",
   "id": "d9b72616",
   "metadata": {},
   "source": [
    "\n",
    "Parameters:\n",
    "\n",
    "        by (Sequence | None) –\n",
    "\n",
    "        public_info (Literal['keys'] | ~typing.Literal['lengths'] | None) –\n",
    "\n",
    "        max_partition_length (int | None) –\n",
    "\n",
    "        max_num_partitions (int | None) –\n",
    "\n",
    "        max_partition_contributions (int | None) –\n",
    "\n",
    "        max_influenced_partitions (int | None) –\n",
    "\n",
    "by: Sequence | None = None\n",
    "\n",
    "    Polars expressions describing the grouping columns.\n",
    "\n",
    "max_influenced_partitions: int | None = None\n",
    "\n",
    "    The greatest number of partitions any one individual can contribute to.\n",
    "\n",
    "max_num_partitions: int | None = None\n",
    "\n",
    "    An upper bound on the number of distinct partitions.\n",
    "\n",
    "max_partition_contributions: int | None = None\n",
    "\n",
    "    The greatest number of records an individual may contribute to any one partition.\n",
    "\n",
    "    This can significantly reduce the sensitivity of grouped queries under zero-Concentrated DP.\n",
    "\n",
    "max_partition_length: int | None = None\n",
    "\n",
    "    An upper bound on the number of records in any one partition.\n",
    "\n",
    "    If you don’t know how many records are in the data, you can specify a very loose upper bound, for example, the size of the total population you are sampling from.\n",
    "\n",
    "    This is used to resolve issues raised in the paper Widespread Underestimation of Sensitivity in Differentially Private Libraries and How to Fix It.\n",
    "\n",
    "public_info: Literal['keys'] | Literal['lengths'] | None = None\n",
    "\n",
    "    Identifies properties of grouped data that are considered public information.\n",
    "\n",
    "        \"keys\" designates that keys are not protected\n",
    "\n",
    "        \"lengths\" designates that both keys and partition lengths are not protected\n",
    "\n"
   ]
  }
 ],
 "metadata": {
  "kernelspec": {
   "display_name": "Python 3",
   "language": "python",
   "name": "python3"
  },
  "language_info": {
   "codemirror_mode": {
    "name": "ipython",
    "version": 3
   },
   "file_extension": ".py",
   "mimetype": "text/x-python",
   "name": "python",
   "nbconvert_exporter": "python",
   "pygments_lexer": "ipython3",
   "version": "3.12.9"
  }
 },
 "nbformat": 4,
 "nbformat_minor": 5
}
