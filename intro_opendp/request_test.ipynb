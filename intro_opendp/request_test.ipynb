{
 "cells": [
  {
   "cell_type": "code",
   "execution_count": 1,
   "id": "fc3c84cc",
   "metadata": {},
   "outputs": [
    {
     "name": "stdout",
     "output_type": "stream",
     "text": [
      "Collecting opendp\n",
      "  Downloading opendp-0.13.0-cp39-abi3-manylinux_2_17_x86_64.manylinux2014_x86_64.whl.metadata (6.1 kB)\n",
      "Requirement already satisfied: deprecated in /usr/local/lib/python3.12/site-packages (from opendp) (1.2.18)\n",
      "Requirement already satisfied: wrapt<2,>=1.10 in /usr/local/lib/python3.12/site-packages (from deprecated->opendp) (1.17.2)\n",
      "Downloading opendp-0.13.0-cp39-abi3-manylinux_2_17_x86_64.manylinux2014_x86_64.whl (25.7 MB)\n",
      "\u001b[2K   \u001b[90m━━━━━━━━━━━━━━━━━━━━━━━━━━━━━━━━━━━━━━━━\u001b[0m \u001b[32m25.7/25.7 MB\u001b[0m \u001b[31m8.6 MB/s\u001b[0m eta \u001b[36m0:00:00\u001b[0ma \u001b[36m0:00:01\u001b[0m\n",
      "\u001b[?25hInstalling collected packages: opendp\n",
      "Successfully installed opendp-0.13.0\n",
      "Note: you may need to restart the kernel to use updated packages.\n",
      "Requirement already satisfied: opendp[polars] in /usr/local/lib/python3.12/site-packages (0.13.0)\n",
      "Requirement already satisfied: deprecated in /usr/local/lib/python3.12/site-packages (from opendp[polars]) (1.2.18)\n",
      "Collecting polars==1.12.0 (from opendp[polars])\n",
      "  Downloading polars-1.12.0-cp39-abi3-manylinux_2_17_x86_64.manylinux2014_x86_64.whl.metadata (14 kB)\n",
      "Requirement already satisfied: pyarrow in /usr/local/lib/python3.12/site-packages (from opendp[polars]) (19.0.1)\n",
      "Requirement already satisfied: scikit-learn in /usr/local/lib/python3.12/site-packages (from opendp[polars]) (1.6.1)\n",
      "Requirement already satisfied: numpy in /usr/local/lib/python3.12/site-packages (from opendp[polars]) (2.2.6)\n",
      "Collecting randomgen>=2.0.0 (from opendp[polars])\n",
      "  Downloading randomgen-2.1.1-cp312-cp312-manylinux_2_17_x86_64.manylinux2014_x86_64.whl.metadata (8.0 kB)\n",
      "Requirement already satisfied: wrapt<2,>=1.10 in /usr/local/lib/python3.12/site-packages (from deprecated->opendp[polars]) (1.17.2)\n",
      "Requirement already satisfied: scipy>=1.6.0 in /usr/local/lib/python3.12/site-packages (from scikit-learn->opendp[polars]) (1.15.3)\n",
      "Requirement already satisfied: joblib>=1.2.0 in /usr/local/lib/python3.12/site-packages (from scikit-learn->opendp[polars]) (1.5.0)\n",
      "Requirement already satisfied: threadpoolctl>=3.1.0 in /usr/local/lib/python3.12/site-packages (from scikit-learn->opendp[polars]) (3.6.0)\n",
      "Downloading polars-1.12.0-cp39-abi3-manylinux_2_17_x86_64.manylinux2014_x86_64.whl (34.1 MB)\n",
      "\u001b[2K   \u001b[90m━━━━━━━━━━━━━━━━━━━━━━━━━━━━━━━━━━━━━━━━\u001b[0m \u001b[32m34.1/34.1 MB\u001b[0m \u001b[31m93.2 MB/s\u001b[0m eta \u001b[36m0:00:00\u001b[0mta \u001b[36m0:00:01\u001b[0m\n",
      "\u001b[?25hDownloading randomgen-2.1.1-cp312-cp312-manylinux_2_17_x86_64.manylinux2014_x86_64.whl (3.7 MB)\n",
      "\u001b[2K   \u001b[90m━━━━━━━━━━━━━━━━━━━━━━━━━━━━━━━━━━━━━━━━\u001b[0m \u001b[32m3.7/3.7 MB\u001b[0m \u001b[31m10.8 MB/s\u001b[0m eta \u001b[36m0:00:00\u001b[0m \u001b[36m0:00:01\u001b[0m\n",
      "\u001b[?25hInstalling collected packages: randomgen, polars\n",
      "\u001b[2K  Attempting uninstall: polars━━━━━━━━━━━━━━━━━━\u001b[0m \u001b[32m0/2\u001b[0m [randomgen]\n",
      "\u001b[2K    Found existing installation: polars 1.29.00m \u001b[32m0/2\u001b[0m [randomgen]\n",
      "\u001b[2K    Uninstalling polars-1.29.0:━━━━━━━━━━━━━\u001b[0m \u001b[32m0/2\u001b[0m [randomgen]\n",
      "\u001b[2K      Successfully uninstalled polars-1.29.090m━━━━━━━━━━━━━━━━━━━\u001b[0m \u001b[32m1/2\u001b[0m [polars]\n",
      "\u001b[2K   \u001b[90m━━━━━━━━━━━━━━━━━━━━━━━━━━━━━━━━━━━━━━━━\u001b[0m \u001b[32m2/2\u001b[0m [polars]2m1/2\u001b[0m [polars]\n",
      "\u001b[1A\u001b[2KSuccessfully installed polars-1.12.0 randomgen-2.1.1\n",
      "Note: you may need to restart the kernel to use updated packages.\n"
     ]
    }
   ],
   "source": [
    "%pip install opendp\n",
    "%pip install 'opendp[polars]'"
   ]
  },
  {
   "cell_type": "code",
   "execution_count": 238,
   "id": "a1ebfc34",
   "metadata": {},
   "outputs": [],
   "source": [
    "import opendp.prelude as dp\n",
    "import numpy as np\n",
    "import polars as pl\n",
    "\n",
    "dp.enable_features('contrib')\n",
    "\n",
    "np.random.seed(42)\n",
    "\n",
    "N = 1000\n",
    "regions_fr = [\n",
    "    \"Île-de-France\", \"Auvergne-Rhône-Alpes\", \"Nouvelle-Aquitaine\", \"Occitanie\",\n",
    "    \"Provence-Alpes-Côte d'Azur\", \"Grand Est\", \"Hauts-de-France\", \"Bretagne\",\n",
    "    \"Normandie\", \"Centre-Val de Loire\", \"Pays de la Loire\", \"Bourgogne-Franche-Comté\",\n",
    "    \"Corse\"\n",
    "]\n",
    "\n",
    "DF_POLARS = pl.DataFrame({\n",
    "    \"sexe\": np.random.choice([\"H\", \"F\"], size=N),\n",
    "    \"region\": np.random.choice(regions_fr, size=N),\n",
    "    \"revenu_annuel\": np.random.randint(10000, 80000, size=N),\n",
    "    \"profession\": np.random.choice([\"ingénieur\", \"médecin\", \"avocat\"], size=N),\n",
    "    \"note_satisfaction\": np.random.randint(0, 20, size=N) + 0.5 * np.random.randint(0, 2, size=N),\n",
    "    \"heures_travaillees\": np.random.randint(20, 60, size=N),\n",
    "    \"secteur d'activité\": np.random.choice([\"public\", \"privé\", \"associatif\"], size=N)\n",
    "})\n",
    "\n",
    "# Clés valides pour les filtres\n",
    "KEY_VALUES = {\n",
    "    \"sexe\": [\"H\", \"F\"],\n",
    "    \"region\": regions_fr,\n",
    "    \"profession\": [\"ingénieur\", \"médecin\", \"avocat\"],\n",
    "    \"secteur d'activité\": [\"public\", \"privé\", \"associatif\"]\n",
    "}\n",
    "\n",
    "# Contexte DP, construit une seule fois\n",
    "CONTEXT_PARAM = {\n",
    "    \"data\": DF_POLARS.lazy(),\n",
    "    \"privacy_unit\": dp.unit_of(contributions=2),\n",
    "    \"margins\": [\n",
    "        dp.polars.Margin(max_partition_length=1000),\n",
    "        dp.polars.Margin(\n",
    "            by=[\"region\"],\n",
    "            public_info=\"lengths\"\n",
    "        ),\n",
    "        dp.polars.Margin(\n",
    "            by=[\"secteur d'activité\", \"region\", \"sexe\", \"profession\"],\n",
    "            public_info=\"keys\",\n",
    "            max_partition_length=1000\n",
    "        ),\n",
    "    ],\n",
    "}\n"
   ]
  },
  {
   "cell_type": "code",
   "execution_count": 583,
   "id": "7a66f481",
   "metadata": {},
   "outputs": [],
   "source": [
    "expr = (\n",
    "    dp.len()\n",
    ")\n",
    "\n",
    "\n",
    "expr = (\n",
    "    pl.col(\"note_satisfaction\")\n",
    "    .fill_nan(0)\n",
    "    .fill_null(0)\n",
    "    .dp.sum(bounds=(10, 20))\n",
    ")\n",
    "\n",
    "expr = (\n",
    "    pl.col(\"heures_travaillees\")\n",
    "    .fill_null(0)\n",
    "    .dp.sum(bounds=(10, 20))\n",
    ")\n",
    "\n",
    "\n",
    "expr = (\n",
    "    pl.col(\"heures_travaillees\")\n",
    "    .fill_null(0)\n",
    "    .dp.mean(bounds=(10, 20))\n",
    ")\n",
    "\n",
    "expr = (\n",
    "    pl.col(\"note_satisfaction\")\n",
    "    .fill_nan(0)\n",
    "    .fill_null(0)\n",
    "    .dp.mean(bounds=(10, 20))\n",
    ")\n",
    "\n",
    "expr = (\n",
    "    pl.col(\"note_satisfaction\")\n",
    "    .fill_nan(0)\n",
    "    .fill_null(0)\n",
    "    .dp.quantile(0.5, [1,2,3,4,5])\n",
    ")\n",
    "\n",
    "expr = (\n",
    "    pl.col(\"heures_travaillees\")\n",
    "    .fill_null(0)\n",
    "    .dp.quantile(0.25, list(range(20, 60)))\n",
    ")\n",
    "\n",
    "expr = (\n",
    "    dp.len()\n",
    ")"
   ]
  },
  {
   "cell_type": "code",
   "execution_count": 590,
   "id": "cd2a14c0",
   "metadata": {},
   "outputs": [
    {
     "name": "stdout",
     "output_type": "stream",
     "text": [
      "shape: (3, 2)\n",
      "┌────────────┬─────┐\n",
      "│ profession ┆ len │\n",
      "│ ---        ┆ --- │\n",
      "│ str        ┆ u32 │\n",
      "╞════════════╪═════╡\n",
      "│ avocat     ┆ 351 │\n",
      "│ ingénieur  ┆ 348 │\n",
      "│ médecin    ┆ 311 │\n",
      "└────────────┴─────┘\n",
      "shape: (1, 4)\n",
      "┌────────┬──────────────┬──────────────────┬───────┐\n",
      "│ column ┆ aggregate    ┆ distribution     ┆ scale │\n",
      "│ ---    ┆ ---          ┆ ---              ┆ ---   │\n",
      "│ str    ┆ str          ┆ str              ┆ f64   │\n",
      "╞════════╪══════════════╪══════════════════╪═══════╡\n",
      "│ len    ┆ Frame Length ┆ Integer Gaussian ┆ 10.0  │\n",
      "└────────┴──────────────┴──────────────────┴───────┘\n"
     ]
    }
   ],
   "source": [
    "# Contexte DP, construit une seule fois\n",
    "CONTEXT_PARAM = {\n",
    "    \"data\": DF_POLARS.lazy(),\n",
    "    \"privacy_unit\": dp.unit_of(contributions=2),\n",
    "    \"margins\": [\n",
    "        dp.polars.Margin(max_partition_length=1000,\n",
    "            public_info=\"lengths\"\n",
    "        ),\n",
    "        dp.polars.Margin(\n",
    "            by=[\"secteur d'activité\", \"region\", \"sexe\", \"profession\"],\n",
    "            public_info=\"keys\",\n",
    "            max_partition_length=1000\n",
    "        ),\n",
    "    ],\n",
    "}\n",
    "\n",
    "context = dp.Context.compositor(\n",
    "            **CONTEXT_PARAM,\n",
    "            privacy_loss=dp.loss_of(rho=0.02),\n",
    "            split_evenly_over=1\n",
    "        )\n",
    "\n",
    "query = (\n",
    "    context.query()\n",
    "    #.filter(pl.col.sexe != \"H\")\n",
    "    # release both the sum and length in one query\n",
    "    .group_by(pl.col(\"profession\"))\n",
    "    .agg(\n",
    "        expr\n",
    "    )\n",
    "    #.join(pl.DataFrame({\"region\":[\"ingénieur\", \"médecin\", \"avocat\", \"test\"]}).lazy(), on=\"region\", how=\"right\")\n",
    ")\n",
    "\n",
    "print(query.release().collect())\n",
    "print(query.summarize())"
   ]
  },
  {
   "cell_type": "code",
   "execution_count": 570,
   "id": "957cf9ec",
   "metadata": {},
   "outputs": [
    {
     "data": {
      "text/html": [
       "<div><style>\n",
       ".dataframe > thead > tr,\n",
       ".dataframe > tbody > tr {\n",
       "  text-align: right;\n",
       "  white-space: pre-wrap;\n",
       "}\n",
       "</style>\n",
       "<small>shape: (100, 4)</small><table border=\"1\" class=\"dataframe\"><thead><tr><th>column</th><th>aggregate</th><th>distribution</th><th>scale</th></tr><tr><td>str</td><td>str</td><td>str</td><td>f64</td></tr></thead><tbody><tr><td>&quot;0.0-Quantile&quot;</td><td>&quot;0-Quantile&quot;</td><td>&quot;GumbelMin&quot;</td><td>2.0</td></tr><tr><td>&quot;0.5-Quantile&quot;</td><td>&quot;0.5-Quantile&quot;</td><td>&quot;GumbelMin&quot;</td><td>2.0</td></tr><tr><td>&quot;0.25-Quantile&quot;</td><td>&quot;0.25-Quantile&quot;</td><td>&quot;GumbelMin&quot;</td><td>6.0</td></tr><tr><td>&quot;0.75-Quantile&quot;</td><td>&quot;0.75-Quantile&quot;</td><td>&quot;GumbelMin&quot;</td><td>6.0</td></tr><tr><td>&quot;0.8300000000000001-Quantile&quot;</td><td>&quot;0.8300000000000001-Quantile&quot;</td><td>&quot;GumbelMin&quot;</td><td>9.3450e14</td></tr><tr><td>&hellip;</td><td>&hellip;</td><td>&hellip;</td><td>&hellip;</td></tr><tr><td>&quot;0.05-Quantile&quot;</td><td>&quot;0.04999999999999997-Quantile&quot;</td><td>&quot;GumbelMin&quot;</td><td>3.5049e16</td></tr><tr><td>&quot;0.04-Quantile&quot;</td><td>&quot;0.039999999999999994-Quantile&quot;</td><td>&quot;GumbelMin&quot;</td><td>3.5418e16</td></tr><tr><td>&quot;0.03-Quantile&quot;</td><td>&quot;0.02999999999999997-Quantile&quot;</td><td>&quot;GumbelMin&quot;</td><td>3.5787e16</td></tr><tr><td>&quot;0.02-Quantile&quot;</td><td>&quot;0.019999999999999997-Quantile&quot;</td><td>&quot;GumbelMin&quot;</td><td>3.6156e16</td></tr><tr><td>&quot;0.01-Quantile&quot;</td><td>&quot;0.009999999999999972-Quantile&quot;</td><td>&quot;GumbelMin&quot;</td><td>3.6525e16</td></tr></tbody></table></div>"
      ],
      "text/plain": [
       "shape: (100, 4)\n",
       "┌─────────────────────────────┬───────────────────────────────┬──────────────┬───────────┐\n",
       "│ column                      ┆ aggregate                     ┆ distribution ┆ scale     │\n",
       "│ ---                         ┆ ---                           ┆ ---          ┆ ---       │\n",
       "│ str                         ┆ str                           ┆ str          ┆ f64       │\n",
       "╞═════════════════════════════╪═══════════════════════════════╪══════════════╪═══════════╡\n",
       "│ 0.0-Quantile                ┆ 0-Quantile                    ┆ GumbelMin    ┆ 2.0       │\n",
       "│ 0.5-Quantile                ┆ 0.5-Quantile                  ┆ GumbelMin    ┆ 2.0       │\n",
       "│ 0.25-Quantile               ┆ 0.25-Quantile                 ┆ GumbelMin    ┆ 6.0       │\n",
       "│ 0.75-Quantile               ┆ 0.75-Quantile                 ┆ GumbelMin    ┆ 6.0       │\n",
       "│ 0.8300000000000001-Quantile ┆ 0.8300000000000001-Quantile   ┆ GumbelMin    ┆ 9.3450e14 │\n",
       "│ …                           ┆ …                             ┆ …            ┆ …         │\n",
       "│ 0.05-Quantile               ┆ 0.04999999999999997-Quantile  ┆ GumbelMin    ┆ 3.5049e16 │\n",
       "│ 0.04-Quantile               ┆ 0.039999999999999994-Quantile ┆ GumbelMin    ┆ 3.5418e16 │\n",
       "│ 0.03-Quantile               ┆ 0.02999999999999997-Quantile  ┆ GumbelMin    ┆ 3.5787e16 │\n",
       "│ 0.02-Quantile               ┆ 0.019999999999999997-Quantile ┆ GumbelMin    ┆ 3.6156e16 │\n",
       "│ 0.01-Quantile               ┆ 0.009999999999999972-Quantile ┆ GumbelMin    ┆ 3.6525e16 │\n",
       "└─────────────────────────────┴───────────────────────────────┴──────────────┴───────────┘"
      ]
     },
     "execution_count": 570,
     "metadata": {},
     "output_type": "execute_result"
    }
   ],
   "source": [
    "df.sort(pl.col.scale)"
   ]
  },
  {
   "cell_type": "code",
   "execution_count": 605,
   "id": "4c49f9a3",
   "metadata": {},
   "outputs": [
    {
     "data": {
      "text/plain": [
       "np.float64(3.872983346207417)"
      ]
     },
     "execution_count": 605,
     "metadata": {},
     "output_type": "execute_result"
    }
   ],
   "source": [
    "np.sqrt(1/(2*0.1/3))"
   ]
  },
  {
   "cell_type": "code",
   "execution_count": 376,
   "id": "dc72929e",
   "metadata": {},
   "outputs": [
    {
     "data": {
      "text/plain": [
       "np.float64(7.071067811865475)"
      ]
     },
     "execution_count": 376,
     "metadata": {},
     "output_type": "execute_result"
    }
   ],
   "source": [
    "10/np.sqrt(2*1)"
   ]
  },
  {
   "cell_type": "code",
   "execution_count": 606,
   "id": "970dfded",
   "metadata": {},
   "outputs": [
    {
     "name": "stdout",
     "output_type": "stream",
     "text": [
      "Empirical Var(Z₀)   = 362.0885\n",
      "Theoretical Var(Z₀) = 440.0000\n"
     ]
    },
    {
     "data": {
      "image/png": "[encoded data removed]",
      "text/plain": [
       "<Figure size 640x480 with 1 Axes>"
      ]
     },
     "metadata": {},
     "output_type": "display_data"
    }
   ],
   "source": [
    "import numpy as np\n",
    "import matplotlib.pyplot as plt\n",
    "\n",
    "# Paramètres de base\n",
    "mu = 10           # moyenne des X_i\n",
    "sigma = 2         # écart-type des X_i\n",
    "L = 10            # nombre de composantes\n",
    "N = 1000          # somme cible\n",
    "n_trials = 100000 # nombre de répétitions pour estimer la variance\n",
    "\n",
    "# Simulation des X_i ~ N(mu, sigma^2)\n",
    "X = np.random.normal(loc=mu, scale=sigma, size=(n_trials, L))\n",
    "\n",
    "# Calcul des Z_i = N * X_i / sum(X)\n",
    "S = X.sum(axis=1, keepdims=True)    # somme de chaque ligne\n",
    "Z = N * X / S                       # normalisation\n",
    "\n",
    "# Empirical variance of Z_0 (toutes sont symétriques ici)\n",
    "Z0 = Z[:, 0]\n",
    "empirical_var = np.var(Z0)\n",
    "\n",
    "# Théorie : Var(Z_i) ≈ (N^2 * σ^2 / (L^2 * μ^2)) * (1 + 1/L)\n",
    "theoretical_var = (N**2 * sigma**2 / (L**2 * mu**2)) * (1 + 1 / L)\n",
    "\n",
    "# Affichage des résultats\n",
    "print(f\"Empirical Var(Z₀)   = {empirical_var:.4f}\")\n",
    "print(f\"Theoretical Var(Z₀) = {theoretical_var:.4f}\")\n",
    "\n",
    "# Histogramme\n",
    "plt.hist(Z0, bins=100, density=True, alpha=0.7, color='steelblue')\n",
    "plt.axvline(Z0.mean(), color='red', linestyle='--', label='Moyenne')\n",
    "plt.title(f\"Distribution de Z₀ (L={L}, N={N}, μ={mu}, σ={sigma})\")\n",
    "plt.xlabel(\"Z₀\")\n",
    "plt.ylabel(\"Densité\")\n",
    "plt.legend()\n",
    "plt.grid(True)\n",
    "plt.show()\n"
   ]
  },
  {
   "cell_type": "code",
   "execution_count": 6,
   "id": "70616943",
   "metadata": {},
   "outputs": [
    {
     "data": {
      "text/html": [
       "<div><style>\n",
       ".dataframe > thead > tr,\n",
       ".dataframe > tbody > tr {\n",
       "  text-align: right;\n",
       "  white-space: pre-wrap;\n",
       "}\n",
       "</style>\n",
       "<small>shape: (3, 2)</small><table border=\"1\" class=\"dataframe\"><thead><tr><th>profession</th><th>somme_satisfaction</th></tr><tr><td>str</td><td>i64</td></tr></thead><tbody><tr><td>&quot;ingénieur&quot;</td><td>3376</td></tr><tr><td>&quot;médecin&quot;</td><td>3061</td></tr><tr><td>&quot;avocat&quot;</td><td>3266</td></tr></tbody></table></div>"
      ],
      "text/plain": [
       "shape: (3, 2)\n",
       "┌────────────┬────────────────────┐\n",
       "│ profession ┆ somme_satisfaction │\n",
       "│ ---        ┆ ---                │\n",
       "│ str        ┆ i64                │\n",
       "╞════════════╪════════════════════╡\n",
       "│ ingénieur  ┆ 3376               │\n",
       "│ médecin    ┆ 3061               │\n",
       "│ avocat     ┆ 3266               │\n",
       "└────────────┴────────────────────┘"
      ]
     },
     "execution_count": 6,
     "metadata": {},
     "output_type": "execute_result"
    }
   ],
   "source": [
    "DF_POLARS.group_by(\"profession\").agg(\n",
    "    pl.col(\"note_satisfaction\").sum().alias(\"somme_satisfaction\")\n",
    ")"
   ]
  },
  {
   "cell_type": "code",
   "execution_count": 108,
   "id": "d828b300",
   "metadata": {},
   "outputs": [
    {
     "name": "stdout",
     "output_type": "stream",
     "text": [
      "shape: (1, 4)\n",
      "┌───────────────────┬───────────┬──────────────────┬───────┐\n",
      "│ column            ┆ aggregate ┆ distribution     ┆ scale │\n",
      "│ ---               ┆ ---       ┆ ---              ┆ ---   │\n",
      "│ str               ┆ str       ┆ str              ┆ f64   │\n",
      "╞═══════════════════╪═══════════╪══════════════════╪═══════╡\n",
      "│ note_satisfaction ┆ Sum       ┆ Integer Gaussian ┆ 100.0 │\n",
      "└───────────────────┴───────────┴──────────────────┴───────┘\n",
      "shape: (4, 2)\n",
      "┌───────────────────┬────────────┐\n",
      "│ note_satisfaction ┆ profession │\n",
      "│ ---               ┆ ---        │\n",
      "│ i64               ┆ str        │\n",
      "╞═══════════════════╪════════════╡\n",
      "│ 3154              ┆ ingénieur  │\n",
      "│ 196               ┆ test       │\n",
      "│ 3005              ┆ médecin    │\n",
      "│ 3296              ┆ avocat     │\n",
      "└───────────────────┴────────────┘\n",
      "196\n"
     ]
    }
   ],
   "source": [
    "import opendp.prelude as dp\n",
    "import numpy as np\n",
    "import polars as pl\n",
    "\n",
    "dp.enable_features('contrib')\n",
    "\n",
    "np.random.seed(42)\n",
    "\n",
    "N = 1000\n",
    "regions_fr = [\n",
    "    \"Île-de-France\", \"Auvergne-Rhône-Alpes\", \"Nouvelle-Aquitaine\", \"Occitanie\",\n",
    "    \"Provence-Alpes-Côte d'Azur\", \"Grand Est\", \"Hauts-de-France\", \"Bretagne\",\n",
    "    \"Normandie\", \"Centre-Val de Loire\", \"Pays de la Loire\", \"Bourgogne-Franche-Comté\",\n",
    "    \"Corse\"\n",
    "]\n",
    "\n",
    "DF_POLARS = pl.DataFrame({\n",
    "    \"sexe\": np.random.choice([\"H\", \"F\"], size=N),\n",
    "    \"region\": np.random.choice(regions_fr, size=N),\n",
    "    \"revenu_annuel\": np.random.randint(10000, 80000, size=N),\n",
    "    \"profession\": np.random.choice([\"ingénieur\", \"médecin\", \"avocat\"], size=N),\n",
    "    \"note_satisfaction\": np.random.randint(0, 20, size=N),\n",
    "    \"heures_travaillees\": np.random.randint(20, 60, size=N),\n",
    "    \"secteur d'activité\": np.random.choice([\"public\", \"privé\", \"associatif\"], size=N)\n",
    "})\n",
    "\n",
    "# Clés valides pour les filtres\n",
    "KEY_VALUES = {\n",
    "    \"sexe\": [\"H\", \"F\"],\n",
    "    \"region\": regions_fr,\n",
    "    \"profession\": [\"ingénieur\", \"médecin\", \"avocat\"],\n",
    "    \"secteur d'activité\": [\"public\", \"privé\", \"associatif\"]\n",
    "}\n",
    "\n",
    "# Contexte DP, construit une seule fois\n",
    "CONTEXT_PARAM = {\n",
    "    \"data\": DF_POLARS.lazy(),\n",
    "    \"privacy_unit\": dp.unit_of(contributions=1),\n",
    "    \"margins\": [\n",
    "        dp.polars.Margin(max_partition_length=1000),\n",
    "        dp.polars.Margin(\n",
    "            by=[\"secteur d'activité\", \"region\", \"sexe\", \"profession\"],\n",
    "            public_info=\"keys\",\n",
    "            max_partition_length=1000\n",
    "        ),\n",
    "    ],\n",
    "}\n",
    "\n",
    "\n",
    "context = dp.Context.compositor(\n",
    "            **CONTEXT_PARAM,\n",
    "            privacy_loss=dp.loss_of(rho=0.02),\n",
    "            split_evenly_over=1\n",
    "        )\n",
    "\n",
    "query = (\n",
    "    context.query()\n",
    "    #.filter(pl.col.sexe != \"A\")\n",
    "    # release both the sum and length in one query\n",
    "    .group_by(pl.col(\"profession\"))\n",
    "    .agg(\n",
    "        pl.col.note_satisfaction\n",
    "        .cast(int)\n",
    "        .fill_null(35)\n",
    "        .dp.sum(bounds=(0, 20))\n",
    "    )\n",
    "    .join(pl.DataFrame({\"profession\":[\"ingénieur\", \"médecin\", \"avocat\", \"test\"]}).lazy(), on=\"profession\", how=\"right\")\n",
    ")\n",
    "\n",
    "print(query.summarize())\n",
    "\n",
    "df = query.release().collect()\n",
    "print(df)\n",
    "valeur_test = df.filter(pl.col(\"profession\") == \"test\")[\"note_satisfaction\"][0]\n",
    "print(valeur_test)"
   ]
  },
  {
   "cell_type": "code",
   "execution_count": 113,
   "id": "a41c2ae5",
   "metadata": {},
   "outputs": [
    {
     "name": "stdout",
     "output_type": "stream",
     "text": [
      "[64, 149, -154, -1, 69, 101, 121, -96, 38, 169, -81, -22, -116, 95, -45, -42, -27, 116, 46, -93, 120, 123, -48, -86, 9, 48, -32, -40, 28, -67, -29, -85, 253, -36, 99, 81, -48, 53, -5, -61, 99, 33, -163, 48, -29, -2, 140, -180, -63, -131, -13, -79, 5, -115, 178, 90, -13, -152, 14, 124, -114, 34, 77, 159, 39, -34, -186, 5, 69, -42, 29, -8, 91, -216, -145, -68, -30, 31, -100, -77, 78, -53, -127, -43, 21, 62, -60, 120, 121, 26, -9, -78, -84, 43, -185, -88, -18, 18, -102, 71, -150, -129, 79, 174, -90, 84, 164, 36, 99, -27, -8, 116, 73, 98, -60, 54, -89, 64, 107, 20, -108, -75, 13, -108, -32, -44, 56, 101, 11, 29, -54, -97, -43, -9, -192, -195, -18, -23, 94, -74, -225, 2, -65, -27, 9, -4, 151, 17, -45, 48, 120, -63, -89, 5, 49, -105, -164, 16, 7, 40, -74, -93, -100, 11, 53, 103, 49, -46, -11, -7, 82, -61, 174, 79, -50, 57, -135, 45, 43, 60, 104, 53, -77, -56, 1, -204, 93, -60, 29, 115, 51, 45, -56, -118, -91, -84, -35, 72, -202, 85, -225, 143, -74, 165, -87, 1, 73, 75, 71, -126, -144, 161, 23, -200, 50, 3, -160, 117, 128, 41, 42, 105, 5, -228, 164, -6, 57, -9, 80, -9, 15, 116, 35, -63, -7, 122, 69, 55, -110, -67, -19, 41, 89, -47, -34, 91, -103, -67, 21, 19, 43, -61, -7, -111, 28, -150, -145, -18, 44, 31, 52, 146, 137, -77, 70, -19, 132, -29, -83, -49, -17, -48, 68, 172, 101, 127, 176, -80, 115, 212, 46, -7, 55, 4, 150, 164, 217, 104, 63, 190, 83, 66, -55, -41, -128, 38, 133, 14, -197, 176, 45, -93, -105, -13, 6, 11, -164, -2, 99, -8, 2, 148, -47, 43, -37, -16, 119, 163, 185, 129, -75, -87, -66, -23, -145, 32, -212, 170, 10, 123, 7, -58, -2, 47, -119, -83, -5, 91, 75, -17, 14, 40, 27, -179, 56, -138, 153, 67, -56, 45, -184, 116, -80, -158, -59, 216, -143, -122, 17, 177, -24, 86, 41, 86, 171, 89, 14, -122, -152, 160, 31, 93, 16, -86, 70, 6, -7, -40, -30, 30, 114, 100, -95, -13, 84, -48, 85, 24, -24, -64, -78, -73, -32, -59, -147, 102, 42, -144, 23, 10, 118, 13, -25, -81, 19, 47, -98, 16, -118, 73, 22, 135, 114, 114, -89, 67, -1, -6, -159, -18, 172, -85, -105, -88, 27, 79, -116, -165, 58, 5, -61, -23, 91, -167, 177, 17, -11, 42, -33, -51, 90, -132, 34, -131, 67, 53, -64, 5, 11, 63, 132, -133, -146, 13, -6, -8, 99, -11, -195, 154, -44, 83, -29, 75, -10, -52, 84, 228, -88, 9, -81, -20, -78, -23, 88, 170, 29, 68, -53, 6, -171, -57, 25, 10, -22, -6, -24, -17, -92, 206, -24, -89, -150, 81, -139, -82, 106, -203, -55, -76]\n"
     ]
    }
   ],
   "source": [
    "np.random.seed(42)\n",
    "\n",
    "list_valeur = []\n",
    "\n",
    "for i in range(500):\n",
    "    context = dp.Context.compositor(\n",
    "            **CONTEXT_PARAM,\n",
    "            privacy_loss=dp.loss_of(rho=0.02),\n",
    "            split_evenly_over=1\n",
    "        )\n",
    "\n",
    "    query = (\n",
    "        context.query()\n",
    "        #.filter(pl.col.sexe != \"A\")\n",
    "        # release both the sum and length in one query\n",
    "        .group_by(pl.col(\"profession\"))\n",
    "        .agg(\n",
    "            pl.col.note_satisfaction\n",
    "            .cast(int)\n",
    "            .fill_null(35)\n",
    "            .dp.sum(bounds=(0, 20))\n",
    "        )\n",
    "        .join(pl.DataFrame({\"profession\":[\"ingénieur\", \"médecin\", \"avocat\", \"test\"]}).lazy(), on=\"profession\", how=\"right\")\n",
    "    )\n",
    "\n",
    "    df = query.release().collect()\n",
    "    valeur_test = df.filter(pl.col(\"profession\") == \"test\")[\"note_satisfaction\"][0]\n",
    "    \n",
    "    list_valeur.append(valeur_test)\n",
    "\n",
    "print(list_valeur)"
   ]
  },
  {
   "cell_type": "code",
   "execution_count": 115,
   "id": "1a163fdc",
   "metadata": {},
   "outputs": [
    {
     "data": {
      "image/png": "[encoded data removed]",
      "text/plain": [
       "<Figure size 1000x600 with 1 Axes>"
      ]
     },
     "metadata": {},
     "output_type": "display_data"
    }
   ],
   "source": [
    "import numpy as np\n",
    "import matplotlib.pyplot as plt\n",
    "import seaborn as sns\n",
    "from scipy.stats import norm\n",
    "\n",
    "# Exemple de données simulées\n",
    "\n",
    "# Paramètres pour la loi normale de comparaison\n",
    "mu = 0\n",
    "sigma = 100\n",
    "\n",
    "# Bins entiers couvrant toutes les valeurs observées\n",
    "min_val = min(list_valeur)\n",
    "max_val = max(list_valeur)\n",
    "\n",
    "# Abscisse pour la courbe de densité théorique\n",
    "x = np.linspace(min_val - 3, max_val + 3, 1000)\n",
    "densite_normale = norm.pdf(x, loc=mu, scale=sigma)\n",
    "\n",
    "# Affichage\n",
    "plt.figure(figsize=(10, 6))\n",
    "sns.histplot(list_valeur, bins=15, stat=\"density\", color=\"skyblue\", label=\"Distribution empirique\")\n",
    "\n",
    "# Ajout de la densité normale théorique\n",
    "plt.plot(x, densite_normale, color=\"red\", label=r\"$\\mathcal{N}(0, 100)$\")\n",
    "\n",
    "plt.title(\"Distribution de valeur_test comparée à une loi normale\")\n",
    "plt.xlabel(\"valeur_test (entiers)\")\n",
    "plt.ylabel(\"Densité\")\n",
    "plt.legend()\n",
    "plt.grid(True)\n",
    "plt.show()\n"
   ]
  },
  {
   "cell_type": "code",
   "execution_count": 128,
   "id": "fd515c14",
   "metadata": {},
   "outputs": [
    {
     "name": "stdout",
     "output_type": "stream",
     "text": [
      "0.038806604728851224\n"
     ]
    }
   ],
   "source": [
    "from scipy.stats import norm\n",
    "\n",
    "# Loi normale centrée réduite (mu = 0, sigma = 1)\n",
    "proba = norm.cdf(200 - 20/0.85, loc=0, scale=100)\n",
    "print(1-proba)"
   ]
  }
 ],
 "metadata": {
  "kernelspec": {
   "display_name": "Python 3",
   "language": "python",
   "name": "python3"
  },
  "language_info": {
   "codemirror_mode": {
    "name": "ipython",
    "version": 3
   },
   "file_extension": ".py",
   "mimetype": "text/x-python",
   "name": "python",
   "nbconvert_exporter": "python",
   "pygments_lexer": "ipython3",
   "version": "3.12.9"
  }
 },
 "nbformat": 4,
 "nbformat_minor": 5
}
