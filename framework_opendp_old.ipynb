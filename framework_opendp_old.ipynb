{
 "cells": [
  {
   "cell_type": "code",
   "execution_count": 1,
   "metadata": {},
   "outputs": [
    {
     "name": "stdout",
     "output_type": "stream",
     "text": [
      "Requirement already satisfied: opendp in /opt/conda/lib/python3.12/site-packages (0.10.0)\n",
      "Note: you may need to restart the kernel to use updated packages.\n"
     ]
    }
   ],
   "source": [
    "%pip install opendp\n",
    "import opendp.prelude as dp\n",
    "dp.enable_features(\"contrib\")"
   ]
  },
  {
   "cell_type": "markdown",
   "metadata": {},
   "source": [
    "# Début début\n"
   ]
  },
  {
   "cell_type": "markdown",
   "metadata": {},
   "source": [
    "## Pour un simple float"
   ]
  },
  {
   "cell_type": "code",
   "execution_count": 2,
   "metadata": {},
   "outputs": [
    {
     "name": "stdout",
     "output_type": "stream",
     "text": [
      "input domain:   AtomDomain(T=f64)\n",
      "input metric:   AbsoluteDistance(f64)\n",
      "output measure: MaxDivergence(f64)\n",
      "noisy aggregate: 2.3433163220941946\n",
      "epsilon: 2.0\n"
     ]
    }
   ],
   "source": [
    "# call the constructor to produce the measurement `base_lap`\n",
    "base_lap = dp.m.make_laplace(\n",
    "    dp.atom_domain(T=float),\n",
    "    dp.absolute_distance(T=float),\n",
    "    scale=5.\n",
    ")\n",
    "\n",
    "print(\"input domain:  \", base_lap.input_domain)\n",
    "print(\"input metric:  \", base_lap.input_metric)\n",
    "print(\"output measure:\", base_lap.output_measure)\n",
    "\n",
    "aggregate = 0.\n",
    "print(\"noisy aggregate:\", base_lap(aggregate))\n",
    "\n",
    "absolute_distance = 10.\n",
    "print(\"epsilon:\", base_lap.map(d_in=absolute_distance))"
   ]
  },
  {
   "cell_type": "markdown",
   "metadata": {},
   "source": [
    "## Pour un vecteur de float"
   ]
  },
  {
   "cell_type": "code",
   "execution_count": null,
   "metadata": {},
   "outputs": [
    {
     "name": "stdout",
     "output_type": "stream",
     "text": [
      "The exact sum is : 10.1\n"
     ]
    },
    {
     "data": {
      "text/plain": [
       "10.000000046566134"
      ]
     },
     "execution_count": 3,
     "metadata": {},
     "output_type": "execute_result"
    }
   ],
   "source": [
    "# call the constructor to produce the transformation `bounded_sum`\n",
    "# notice that `make_sum` expects an input domain consisting of bounded data:\n",
    "\n",
    "input_domain = dp.vector_domain(dp.atom_domain(bounds=(0., 5.)))\n",
    "bounded_sum = dp.t.make_sum(input_domain, dp.symmetric_distance())\n",
    "\n",
    "# under the condition that the input data is a member of the input domain...\n",
    "bounded_mock_dataset = [1.3, 3.8, 0., 5.]\n",
    "print(\"The exact sum is :\",bounded_sum(bounded_mock_dataset))\n",
    "\n",
    "# under the condition that one individual may contribute up to 2 records to `bounded_mock_dataset`...\n",
    "max_contributions = 2\n",
    "\n",
    "# ...then the sensitivity, expressed in terms of the absolute distance, is:\n",
    "bounded_sum.map(d_in=max_contributions)"
   ]
  },
  {
   "cell_type": "code",
   "execution_count": 4,
   "metadata": {},
   "outputs": [
    {
     "name": "stdout",
     "output_type": "stream",
     "text": [
      "DP sum: 0.7429862245692711\n",
      "epsilon: 2.000000009313227\n"
     ]
    }
   ],
   "source": [
    "input_domain = dp.vector_domain(dp.atom_domain(T=float))\n",
    "input_metric = dp.symmetric_distance()\n",
    "\n",
    "# call the constructor to produce the transformation `clamp`\n",
    "clamp = dp.t.make_clamp(input_domain, input_metric, bounds=(0., 5.))\n",
    "\n",
    "# `clamp` expects vectors of non-null, unbounded elements\n",
    "mock_dataset = [1.3, 7.8, -2.5, 7.0]\n",
    "\n",
    "# `clamp` emits data that is suitable for `bounded_sum`\n",
    "clamp(mock_dataset)\n",
    "\n",
    "dp_sum = clamp >> bounded_sum >> base_lap\n",
    "\n",
    "# compute the DP sum of a dataset of bounded elements\n",
    "print(\"DP sum:\", dp_sum(mock_dataset))\n",
    "\n",
    "# evaluate the privacy loss of the dp_sum, when an individual can contribute at most 2 records\n",
    "print(\"epsilon:\", dp_sum.map(d_in=max_contributions))"
   ]
  },
  {
   "cell_type": "markdown",
   "metadata": {},
   "source": [
    "## De manière plus compacte"
   ]
  },
  {
   "cell_type": "code",
   "execution_count": 5,
   "metadata": {},
   "outputs": [
    {
     "name": "stdout",
     "output_type": "stream",
     "text": [
      "epsilon: 2.000000009313227\n",
      "DP sum release: 1.362964970783503\n"
     ]
    }
   ],
   "source": [
    "# establish public info\n",
    "max_contributions = 2\n",
    "bounds = (0., 5.)\n",
    "\n",
    "# construct the measurement\n",
    "\n",
    "input_domain = dp.vector_domain(dp.atom_domain(T=float))\n",
    "input_metric = dp.symmetric_distance()\n",
    "\n",
    "dp_sum = (\n",
    "    dp.t.make_clamp(input_domain, input_metric, bounds) >>\n",
    "    dp.t.make_sum(dp.vector_domain(dp.atom_domain(bounds=bounds)), input_metric) >>\n",
    "    dp.m.make_laplace(dp.atom_domain(T=float), dp.absolute_distance(T=float), 5.)\n",
    ")\n",
    "# Ou\n",
    "dp_sum = (\n",
    "    (input_domain, input_metric) >>\n",
    "    dp.t.then_clamp(bounds) >>\n",
    "    dp.t.then_sum() >>\n",
    "    dp.m.then_laplace(5.)\n",
    ")\n",
    "\n",
    "# evaluate the privacy expenditure and make a DP release\n",
    "mock_dataset = [0.7, -0.3, 1., -1.]\n",
    "\n",
    "print(\"epsilon:\", dp_sum.map(max_contributions))\n",
    "print(\"DP sum release:\", dp_sum(mock_dataset))"
   ]
  },
  {
   "cell_type": "markdown",
   "metadata": {},
   "source": [
    "Cas d'une moyenne"
   ]
  },
  {
   "cell_type": "code",
   "execution_count": 6,
   "metadata": {},
   "outputs": [
    {
     "name": "stdout",
     "output_type": "stream",
     "text": [
      "epsilon: 0.2500000000000011\n",
      "DP mean release: 3.238619515671338\n"
     ]
    }
   ],
   "source": [
    "# establish public info\n",
    "max_contributions = 2\n",
    "bounds = (0., 5.)\n",
    "\n",
    "# construct the measurement\n",
    "\n",
    "input_domain = dp.vector_domain(dp.atom_domain(T=float), size=4) # Taille dataset connu\n",
    "input_metric = dp.symmetric_distance()\n",
    "\n",
    "dp_mean = (\n",
    "    (input_domain, input_metric) >>\n",
    "    dp.t.then_clamp(bounds) >>\n",
    "    dp.t.then_mean() >>\n",
    "    dp.m.then_laplace(5.)\n",
    ")\n",
    "\n",
    "# evaluate the privacy expenditure and make a DP release\n",
    "mock_dataset = [0.7, -0.3, 1., -1.]\n",
    "\n",
    "print(\"epsilon:\", dp_mean.map(max_contributions))\n",
    "print(\"DP mean release:\", dp_mean(mock_dataset))"
   ]
  },
  {
   "cell_type": "markdown",
   "metadata": {},
   "source": [
    "# Quickstart"
   ]
  },
  {
   "cell_type": "markdown",
   "metadata": {},
   "source": [
    "## A savoir quand on utilise OpenDP sans Polars\n",
    "\n",
    "Il faut définir l'espace dans lequel on travaille : float, integers, ect mais aussi le type de distance utilisée (absolute_distance si on travaille sur un float sinon symmetric_distance pour le cas d'un vecteur).\n",
    "\n",
    "Il est recommandé d'utiliser un objet de type context\n",
    "\n",
    "Après avoir défini l'espace on peut choisir la \"transformation\" qu'on souhaite utiliser : Sum, mean, quantile.\n",
    "Mais aussi bien d'autres comme casting, imputation, \n",
    "\n",
    "Ensuite on ajoute la \"measurements\" qui est un bruit ou randomized response.\n",
    "\n",
    "On peut également préciser d'autres fonctions comme le clamp (=clipping) ect"
   ]
  },
  {
   "cell_type": "markdown",
   "metadata": {},
   "source": [
    "## Typical Workflow"
   ]
  },
  {
   "cell_type": "markdown",
   "metadata": {},
   "source": [
    "1. Identify the Unit of Privacy"
   ]
  },
  {
   "cell_type": "code",
   "execution_count": null,
   "metadata": {},
   "outputs": [
    {
     "name": "stdout",
     "output_type": "stream",
     "text": [
      "(SymmetricDistance(), 1)\n"
     ]
    }
   ],
   "source": [
    "d_in = 1 # neighboring data set distance is at most d_in...\n",
    "input_metric = dp.symmetric_distance() # ...in terms of additions/removals\n",
    "input_domain = dp.vector_domain(dp.atom_domain(T=float))"
   ]
  },
  {
   "cell_type": "markdown",
   "metadata": {},
   "source": [
    "2. Set Privacy Loss Parameters"
   ]
  },
  {
   "cell_type": "code",
   "execution_count": null,
   "metadata": {},
   "outputs": [
    {
     "name": "stdout",
     "output_type": "stream",
     "text": [
      "(MaxDivergence(f64), 1.0)\n"
     ]
    }
   ],
   "source": [
    "d_out = 1. # output distributions have distance at most d_out (ε)...\n",
    "privacy_measure = dp.max_divergence(T=\"f64\") # ...in terms of pure-DP"
   ]
  },
  {
   "cell_type": "markdown",
   "metadata": {},
   "source": [
    "3. Collect Public Information"
   ]
  },
  {
   "cell_type": "code",
   "execution_count": 10,
   "metadata": {},
   "outputs": [],
   "source": [
    "bounds = (0.0, 100.0)\n",
    "imputed_value = 50.0"
   ]
  },
  {
   "cell_type": "markdown",
   "metadata": {},
   "source": [
    "4. Mediate Access to Data"
   ]
  },
  {
   "cell_type": "code",
   "execution_count": null,
   "metadata": {},
   "outputs": [],
   "source": [
    "from random import randint\n",
    "\n",
    "data = [float(randint(-100, 100)) for _ in range(100)]\n",
    "\n",
    "m_sc = dp.c.make_sequential_composition(\n",
    "    input_domain=input_domain,\n",
    "    input_metric=input_metric,\n",
    "    output_measure=privacy_measure,\n",
    "    d_in=d_in,\n",
    "    d_mids=[d_out / 3] * 3,\n",
    ")\n",
    "\n",
    "# Call measurement with data to create a queryable:\n",
    "queryable = m_sc(data)"
   ]
  },
  {
   "cell_type": "markdown",
   "metadata": {},
   "source": [
    "5. Submit DP Queries"
   ]
  },
  {
   "cell_type": "markdown",
   "metadata": {},
   "source": [
    "Count (= len(data))"
   ]
  },
  {
   "cell_type": "code",
   "execution_count": null,
   "metadata": {},
   "outputs": [
    {
     "name": "stdout",
     "output_type": "stream",
     "text": [
      "3.0000000000000004\n",
      "9.445721638273584\n",
      "1\n",
      "(-8.445721638273584, 10.445721638273584)\n"
     ]
    }
   ],
   "source": [
    "count_transformation = (\n",
    "    dp.t.make_count(input_domain, input_metric)\n",
    ")\n",
    "\n",
    "count_sensitivity = count_transformation.map(d_in)\n",
    "count_sensitivity\n",
    "\n",
    "count_measurement = dp.binary_search_chain(\n",
    "    lambda scale: count_transformation >> dp.m.then_laplace(scale),\n",
    "    d_in,\n",
    "    d_out / 3\n",
    ")\n",
    "\n",
    "dp_count = queryable(count_measurement)"
   ]
  },
  {
   "cell_type": "markdown",
   "metadata": {},
   "source": [
    "Mean"
   ]
  },
  {
   "cell_type": "code",
   "execution_count": null,
   "metadata": {},
   "outputs": [
    {
     "name": "stdout",
     "output_type": "stream",
     "text": [
      "-18.29622028217176\n"
     ]
    }
   ],
   "source": [
    "mean_transformation = (\n",
    "    dp.t.make_clamp(input_domain, input_metric, bounds) >>\n",
    "    dp.t.then_resize(size=dp_count, constant=imputed_value) >>\n",
    "    dp.t.then_mean()\n",
    ")\n",
    "\n",
    "mean_measurement = dp.binary_search_chain(\n",
    "    lambda scale: mean_transformation >> dp.m.then_laplace(scale), d_in, d_out / 3\n",
    ")\n",
    "\n",
    "dp_mean = queryable(mean_measurement)"
   ]
  },
  {
   "cell_type": "code",
   "execution_count": null,
   "metadata": {},
   "outputs": [],
   "source": [
    "from functools import lru_cache\n",
    "\n",
    "input_space = dp.vector_domain(dp.atom_domain(T=float)), input_metric\n",
    "\n",
    "@lru_cache(maxsize=None)\n",
    "def make_count_with(*, epsilon):\n",
    "    counter = input_space >> dp.t.then_count()\n",
    "    return dp.binary_search_chain(\n",
    "        lambda s: counter >> dp.m.then_laplace(scale=s),\n",
    "        d_in=1, d_out=epsilon,\n",
    "        bounds=(0., 10000.))\n",
    "\n",
    "@lru_cache(maxsize=None)\n",
    "def make_mean_with(*, target_size, epsilon):\n",
    "    mean_chain = (\n",
    "        input_space >>\n",
    "        # Resize the dataset to length `target_size`.\n",
    "        #     If there are fewer than `target_size` rows in the data, fill with a constant.\n",
    "        #     If there are more than `target_size` rows in the data, only keep `data_size` rows\n",
    "        dp.t.then_resize(size=target_size, constant=age_prior) >>\n",
    "        # Clamp age values\n",
    "        dp.t.then_clamp(bounds=age_bounds) >>\n",
    "        # Compute the mean\n",
    "        dp.t.then_mean()\n",
    "    )\n",
    "    return dp.binary_search_chain(\n",
    "        lambda s: mean_chain >> dp.m.then_laplace(scale=s),\n",
    "        d_in=1, d_out=epsilon,\n",
    "        bounds=(0., 10.))\n",
    "\n",
    "@lru_cache(maxsize=None)\n",
    "def make_sum_with(*, epsilon):\n",
    "    bounded_age_sum = (\n",
    "        input_space >>\n",
    "        # Clamp income values\n",
    "        dp.t.then_clamp(bounds=age_bounds) >>\n",
    "        dp.t.then_sum()\n",
    "    )\n",
    "    return dp.binary_search_chain(\n",
    "        lambda s: bounded_age_sum >> dp.m.then_laplace(scale=s),\n",
    "        d_in=1, d_out=epsilon,\n",
    "        bounds=(0., 1000.))"
   ]
  },
  {
   "cell_type": "code",
   "execution_count": null,
   "metadata": {},
   "outputs": [],
   "source": [
    "# Define parameters up-front\n",
    "# Each parameter is either a guess, a DP release, or public information\n",
    "var_names = [\"age\", \"sex\", \"educ\", \"race\", \"income\", \"married\"] # public information\n",
    "age_bounds = (0., 120.) # an educated guess\n",
    "age_prior = 38. # average age for entire US population (public information)\n",
    "size = 1000 # records in dataset, public information\n",
    "\n",
    "# Load data\n",
    "import opendp.prelude as dp\n",
    "import numpy as np\n",
    "age = np.genfromtxt(dp.examples.get_california_pums_path(), delimiter=',', names=var_names)[:]['age'].tolist() # type: ignor"
   ]
  },
  {
   "cell_type": "code",
   "execution_count": 54,
   "metadata": {},
   "outputs": [
    {
     "data": {
      "text/plain": [
       "10"
      ]
     },
     "execution_count": 54,
     "metadata": {},
     "output_type": "execute_result"
    }
   ],
   "source": [
    "import numpy as np\n",
    "dp.enable_features(\"honest-but-curious\")\n",
    "\n",
    "def make_sum(bounds):\n",
    "    L, U = bounds\n",
    "    return dp.t.make_user_transformation(\n",
    "        input_domain = dp.vector_domain(dp.atom_domain(bounds=bounds)),\n",
    "        input_metric = dp.symmetric_distance(),\n",
    "        output_domain = dp.atom_domain(T=int),\n",
    "        output_metric= dp.absolute_distance(T=int),\n",
    "        function=sum,\n",
    "        stability_map= lambda d_in: d_in * max(abs(L), U)\n",
    "    )\n",
    "\n",
    "def make_laplace(scale):\n",
    "    L, U = bounds\n",
    "    return dp.m.make_user_measurement(\n",
    "        input_domain = dp.atom_domain(T=int),\n",
    "        input_metric = dp.absolute_distance(T=int),\n",
    "        output_measure = dp.max_divergence(T=int),\n",
    "        function=lambda x: np.random.laplace(loc=x, scale=scale),\n",
    "        privacy_map= lambda d_in: d_in / scale\n",
    "    )\n",
    "\n",
    "m_sum = make_sum((0, 1))\n",
    "\n",
    "m_lap = make_laplace(scale=1.)\n",
    "m_lap(10)\n",
    "m_sum([1,4,5])"
   ]
  }
 ],
 "metadata": {
  "kernelspec": {
   "display_name": "base",
   "language": "python",
   "name": "python3"
  },
  "language_info": {
   "codemirror_mode": {
    "name": "ipython",
    "version": 3
   },
   "file_extension": ".py",
   "mimetype": "text/x-python",
   "name": "python",
   "nbconvert_exporter": "python",
   "pygments_lexer": "ipython3",
   "version": "3.12.9"
  }
 },
 "nbformat": 4,
 "nbformat_minor": 2
}
