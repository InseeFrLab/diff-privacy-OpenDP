{
 "cells": [
  {
   "cell_type": "code",
   "execution_count": null,
   "id": "9133caef",
   "metadata": {},
   "outputs": [
    {
     "name": "stdout",
     "output_type": "stream",
     "text": [
      "Requirement already satisfied: opendp==0.10.0 in /usr/local/lib/python3.12/site-packages (0.10.0)\n",
      "\n",
      "\u001b[1m[\u001b[0m\u001b[34;49mnotice\u001b[0m\u001b[1;39;49m]\u001b[0m\u001b[39;49m A new release of pip is available: \u001b[0m\u001b[31;49m25.0.1\u001b[0m\u001b[39;49m -> \u001b[0m\u001b[32;49m25.1\u001b[0m\n",
      "\u001b[1m[\u001b[0m\u001b[34;49mnotice\u001b[0m\u001b[1;39;49m]\u001b[0m\u001b[39;49m To update, run: \u001b[0m\u001b[32;49mpip install --upgrade pip\u001b[0m\n",
      "Note: you may need to restart the kernel to use updated packages.\n"
     ]
    }
   ],
   "source": [
    "%pip install opendp"
   ]
  },
  {
   "cell_type": "code",
   "execution_count": 9,
   "id": "064823f5",
   "metadata": {},
   "outputs": [
    {
     "name": "stdout",
     "output_type": "stream",
     "text": [
      "122.3862807534365\n"
     ]
    }
   ],
   "source": [
    "import opendp.prelude as dp\n",
    "dp.enable_features('contrib')\n",
    "\n",
    "laplace_mechanism = dp.space_of(float) >> dp.m.then_laplace(scale=1.)\n",
    "dp_value = laplace_mechanism(123.0)\n",
    "print(dp_value)"
   ]
  },
  {
   "cell_type": "code",
   "execution_count": 10,
   "id": "b8fb2339",
   "metadata": {},
   "outputs": [
    {
     "name": "stdout",
     "output_type": "stream",
     "text": [
      "input domain:   AtomDomain(T=f64)\n",
      "input metric:   AbsoluteDistance(f64)\n",
      "output measure: MaxDivergence(f64)\n",
      "noisy aggregate: -2.0223231575697973\n",
      "epsilon: 2.0\n",
      "DP sum: 15.177472779957522\n",
      "epsilon: 2.000000009313227\n"
     ]
    }
   ],
   "source": [
    "# call the constructor to produce the measurement `base_lap`\n",
    "base_lap = dp.m.make_laplace(\n",
    "    dp.atom_domain(T=float),\n",
    "    dp.absolute_distance(T=float),\n",
    "    scale=5.\n",
    ")\n",
    "\n",
    "print(\"input domain:  \", base_lap.input_domain)\n",
    "print(\"input metric:  \", base_lap.input_metric)\n",
    "print(\"output measure:\", base_lap.output_measure)\n",
    "\n",
    "aggregate = 0.\n",
    "print(\"noisy aggregate:\", base_lap(aggregate))\n",
    "\n",
    "absolute_distance = 10.\n",
    "print(\"epsilon:\", base_lap.map(d_in=absolute_distance))\n",
    "\n",
    "# call the constructor to produce the transformation `bounded_sum`\n",
    "# notice that `make_sum` expects an input domain consisting of bounded data:\n",
    "input_domain = dp.vector_domain(dp.atom_domain(bounds=(0., 5.)))\n",
    "bounded_sum = dp.t.make_sum(input_domain, dp.symmetric_distance())\n",
    "\n",
    "# under the condition that the input data is a member of the input domain...\n",
    "bounded_mock_dataset = [1.3, 3.8, 0., 5.]\n",
    "# ...the exact sum is:\n",
    "bounded_sum(bounded_mock_dataset)\n",
    "\n",
    "# under the condition that one individual may contribute up to 2 records to `bounded_mock_dataset`...\n",
    "max_contributions = 2\n",
    "# ...then the sensitivity, expressed in terms of the absolute distance, is:\n",
    "bounded_sum.map(d_in=max_contributions)\n",
    "\n",
    "input_domain = dp.vector_domain(dp.atom_domain(T=float))\n",
    "input_metric = dp.symmetric_distance()\n",
    "\n",
    "# call the constructor to produce the transformation `clamp`\n",
    "clamp = dp.t.make_clamp(input_domain, input_metric, bounds=(0., 5.))\n",
    "\n",
    "# `clamp` expects vectors of non-null, unbounded elements\n",
    "mock_dataset = [1.3, 7.8, -2.5, 7.0]\n",
    "# `clamp` emits data that is suitable for `bounded_sum`\n",
    "clamp(mock_dataset)\n",
    "\n",
    "# dataset distance in... dataset distance out\n",
    "clamp.map(max_contributions)\n",
    "\n",
    "dp_sum = clamp >> bounded_sum >> base_lap\n",
    "\n",
    "# compute the DP sum of a dataset of bounded elements\n",
    "print(\"DP sum:\", dp_sum(mock_dataset))\n",
    "\n",
    "# evaluate the privacy loss of the dp_sum, when an individual can contribute at most 2 records\n",
    "print(\"epsilon:\", dp_sum.map(d_in=max_contributions))"
   ]
  },
  {
   "cell_type": "code",
   "execution_count": 11,
   "id": "57125163",
   "metadata": {},
   "outputs": [
    {
     "name": "stdout",
     "output_type": "stream",
     "text": [
      "epsilon: 2.000000009313227\n",
      "DP sum release: 4.020013870648528\n"
     ]
    }
   ],
   "source": [
    "# establish public info\n",
    "max_contributions = 2\n",
    "bounds = (0., 5.)\n",
    "\n",
    "# construct the measurement\n",
    "dp_sum = (\n",
    "    dp.t.make_clamp(dp.vector_domain(dp.atom_domain(T=float)), dp.symmetric_distance(), bounds) >>\n",
    "    dp.t.make_sum(dp.vector_domain(dp.atom_domain(bounds=bounds)), dp.symmetric_distance()) >>\n",
    "    dp.m.make_laplace(dp.atom_domain(T=float), dp.absolute_distance(T=float), 5.)\n",
    ")\n",
    "\n",
    "# evaluate the privacy expenditure and make a DP release\n",
    "mock_dataset = [0.7, -0.3, 1., -1.]\n",
    "print(\"epsilon:\", dp_sum.map(max_contributions))\n",
    "print(\"DP sum release:\", dp_sum(mock_dataset))\n",
    "\n",
    "dp_sum = (\n",
    "    (input_domain, input_metric) >>\n",
    "    dp.t.then_clamp((0., 5.)) >>\n",
    "    dp.t.then_sum() >>\n",
    "    dp.m.then_laplace(5.)\n",
    ")"
   ]
  },
  {
   "cell_type": "markdown",
   "id": "5c98c854",
   "metadata": {},
   "source": [
    "# Typical Workflow !!"
   ]
  },
  {
   "cell_type": "markdown",
   "id": "22524c77",
   "metadata": {},
   "source": [
    "## Context"
   ]
  },
  {
   "cell_type": "code",
   "execution_count": 1,
   "id": "a88016bd",
   "metadata": {},
   "outputs": [
    {
     "name": "stdout",
     "output_type": "stream",
     "text": [
      "3.0000000000000004\n",
      "9.445721638273584\n"
     ]
    },
    {
     "ename": "OpenDPException",
     "evalue": "\n  FailedFunction(\"Domain contains nan\")",
     "output_type": "error",
     "traceback": [
      "\u001b[31m---------------------------------------------------------------------------\u001b[39m",
      "\u001b[31mOpenDPException\u001b[39m                           Traceback (most recent call last)",
      "\u001b[36mCell\u001b[39m\u001b[36m \u001b[39m\u001b[32mIn[1]\u001b[39m\u001b[32m, line 58\u001b[39m\n\u001b[32m     50\u001b[39m interval = (dp_count - accuracy, dp_count + accuracy)\n\u001b[32m     52\u001b[39m \u001b[38;5;66;03m## Mean\u001b[39;00m\n\u001b[32m     53\u001b[39m mean_query = (\n\u001b[32m     54\u001b[39m     \u001b[43mcontext\u001b[49m\u001b[43m.\u001b[49m\u001b[43mquery\u001b[49m\u001b[43m(\u001b[49m\u001b[43m)\u001b[49m\n\u001b[32m     55\u001b[39m \u001b[43m    \u001b[49m\u001b[43m.\u001b[49m\u001b[43msplit_dataframe\u001b[49m\u001b[43m(\u001b[49m\u001b[33;43m\"\u001b[39;49m\u001b[33;43m,\u001b[39;49m\u001b[33;43m\"\u001b[39;49m\u001b[43m,\u001b[49m\u001b[43m \u001b[49m\u001b[43mcol_names\u001b[49m\u001b[43m=\u001b[49m\u001b[43mcol_names\u001b[49m\u001b[43m)\u001b[49m\n\u001b[32m     56\u001b[39m \u001b[43m    \u001b[49m\u001b[43m.\u001b[49m\u001b[43mselect_column\u001b[49m\u001b[43m(\u001b[49m\u001b[33;43m\"\u001b[39;49m\u001b[33;43mage\u001b[39;49m\u001b[33;43m\"\u001b[39;49m\u001b[43m,\u001b[49m\u001b[43m \u001b[49m\u001b[38;5;28;43mstr\u001b[39;49m\u001b[43m)\u001b[49m\n\u001b[32m     57\u001b[39m \u001b[43m    \u001b[49m\u001b[43m.\u001b[49m\u001b[43mcast_default\u001b[49m\u001b[43m(\u001b[49m\u001b[38;5;28;43mfloat\u001b[39;49m\u001b[43m)\u001b[49m\n\u001b[32m---> \u001b[39m\u001b[32m58\u001b[39m \u001b[43m    \u001b[49m\u001b[43m.\u001b[49m\u001b[43mclamp\u001b[49m\u001b[43m(\u001b[49m\u001b[43m(\u001b[49m\u001b[32;43m18.0\u001b[39;49m\u001b[43m,\u001b[49m\u001b[43m \u001b[49m\u001b[32;43m70.0\u001b[39;49m\u001b[43m)\u001b[49m\u001b[43m)\u001b[49m  \u001b[38;5;66;03m# a best-guess based on public information\u001b[39;00m\n\u001b[32m     59\u001b[39m     \u001b[38;5;66;03m# Explanation for `constant=42`:\u001b[39;00m\n\u001b[32m     60\u001b[39m     \u001b[38;5;66;03m#    since dp_count may be larger than the true size, \u001b[39;00m\n\u001b[32m     61\u001b[39m     \u001b[38;5;66;03m#    imputed rows will be given an age of 42.0 \u001b[39;00m\n\u001b[32m     62\u001b[39m     \u001b[38;5;66;03m#    (also a best guess based on public information)\u001b[39;00m\n\u001b[32m     63\u001b[39m     .resize(size=dp_count, constant=\u001b[32m42.0\u001b[39m)\n\u001b[32m     64\u001b[39m     .mean()\n\u001b[32m     65\u001b[39m     .laplace()\n\u001b[32m     66\u001b[39m )\n\u001b[32m     68\u001b[39m dp_mean = mean_query.release()\n",
      "\u001b[36mFile \u001b[39m\u001b[32m/usr/local/lib/python3.12/site-packages/opendp/context.py:657\u001b[39m, in \u001b[36mQuery.__getattr__.<locals>.make\u001b[39m\u001b[34m(*args, **kwargs)\u001b[39m\n\u001b[32m    655\u001b[39m new_chain = constructor(*args, **kwargs)\n\u001b[32m    656\u001b[39m \u001b[38;5;28;01mif\u001b[39;00m is_partial \u001b[38;5;129;01mor\u001b[39;00m \u001b[38;5;129;01mnot\u001b[39;00m \u001b[38;5;28misinstance\u001b[39m(\u001b[38;5;28mself\u001b[39m._chain, \u001b[38;5;28mtuple\u001b[39m):\n\u001b[32m--> \u001b[39m\u001b[32m657\u001b[39m     new_chain = \u001b[38;5;28;43mself\u001b[39;49m\u001b[43m.\u001b[49m\u001b[43m_chain\u001b[49m\u001b[43m \u001b[49m\u001b[43m>>\u001b[49m\u001b[43m \u001b[49m\u001b[43mnew_chain\u001b[49m\n\u001b[32m    659\u001b[39m \u001b[38;5;28;01mreturn\u001b[39;00m \u001b[38;5;28mself\u001b[39m.new_with(chain=new_chain)\n",
      "\u001b[36mFile \u001b[39m\u001b[32m/usr/local/lib/python3.12/site-packages/opendp/mod.py:379\u001b[39m, in \u001b[36mTransformation.__rshift__\u001b[39m\u001b[34m(self, other)\u001b[39m\n\u001b[32m    376\u001b[39m     \u001b[38;5;28;01mreturn\u001b[39;00m make_chain_tt(other, \u001b[38;5;28mself\u001b[39m)\n\u001b[32m    378\u001b[39m \u001b[38;5;28;01mif\u001b[39;00m \u001b[38;5;28misinstance\u001b[39m(other, _PartialConstructor):\n\u001b[32m--> \u001b[39m\u001b[32m379\u001b[39m     \u001b[38;5;28;01mreturn\u001b[39;00m \u001b[38;5;28mself\u001b[39m >> \u001b[43mother\u001b[49m\u001b[43m(\u001b[49m\u001b[38;5;28;43mself\u001b[39;49m\u001b[43m.\u001b[49m\u001b[43moutput_domain\u001b[49m\u001b[43m,\u001b[49m\u001b[43m \u001b[49m\u001b[38;5;28;43mself\u001b[39;49m\u001b[43m.\u001b[49m\u001b[43moutput_metric\u001b[49m\u001b[43m)\u001b[49m \u001b[38;5;66;03m# type: ignore[call-arg]\u001b[39;00m\n\u001b[32m    381\u001b[39m \u001b[38;5;28;01mfrom\u001b[39;00m\u001b[38;5;250m \u001b[39m\u001b[34;01mopendp\u001b[39;00m\u001b[34;01m.\u001b[39;00m\u001b[34;01mcontext\u001b[39;00m\u001b[38;5;250m \u001b[39m\u001b[38;5;28;01mimport\u001b[39;00m PartialChain\n\u001b[32m    382\u001b[39m \u001b[38;5;28;01mif\u001b[39;00m \u001b[38;5;28misinstance\u001b[39m(other, PartialChain):\n",
      "\u001b[36mFile \u001b[39m\u001b[32m/usr/local/lib/python3.12/site-packages/opendp/mod.py:903\u001b[39m, in \u001b[36m_PartialConstructor.__call__\u001b[39m\u001b[34m(self, input_domain, input_metric)\u001b[39m\n\u001b[32m    902\u001b[39m \u001b[38;5;28;01mdef\u001b[39;00m\u001b[38;5;250m \u001b[39m\u001b[34m__call__\u001b[39m(\u001b[38;5;28mself\u001b[39m, input_domain: Domain, input_metric: Metric):\n\u001b[32m--> \u001b[39m\u001b[32m903\u001b[39m     \u001b[38;5;28;01mreturn\u001b[39;00m \u001b[38;5;28;43mself\u001b[39;49m\u001b[43m.\u001b[49m\u001b[43mconstructor\u001b[49m\u001b[43m(\u001b[49m\u001b[43minput_domain\u001b[49m\u001b[43m,\u001b[49m\u001b[43m \u001b[49m\u001b[43minput_metric\u001b[49m\u001b[43m)\u001b[49m\n",
      "\u001b[36mFile \u001b[39m\u001b[32m/usr/local/lib/python3.12/site-packages/opendp/transformations.py:984\u001b[39m, in \u001b[36mthen_clamp.<locals>.<lambda>\u001b[39m\u001b[34m(input_domain, input_metric)\u001b[39m\n\u001b[32m    973\u001b[39m \u001b[38;5;28;01mdef\u001b[39;00m\u001b[38;5;250m \u001b[39m\u001b[34mthen_clamp\u001b[39m(\n\u001b[32m    974\u001b[39m     bounds: \u001b[38;5;28mtuple\u001b[39m[Any, Any]\n\u001b[32m    975\u001b[39m ):  \n\u001b[32m    976\u001b[39m \u001b[38;5;250m    \u001b[39m\u001b[33mr\u001b[39m\u001b[33;03m\"\"\"partial constructor of make_clamp\u001b[39;00m\n\u001b[32m    977\u001b[39m \n\u001b[32m    978\u001b[39m \u001b[33;03m    .. seealso:: \u001b[39;00m\n\u001b[32m   (...)\u001b[39m\u001b[32m    982\u001b[39m \u001b[33;03m    :type bounds: tuple[Any, Any]\u001b[39;00m\n\u001b[32m    983\u001b[39m \u001b[33;03m    \"\"\"\u001b[39;00m\n\u001b[32m--> \u001b[39m\u001b[32m984\u001b[39m     output = _PartialConstructor(\u001b[38;5;28;01mlambda\u001b[39;00m input_domain, input_metric: \u001b[43mmake_clamp\u001b[49m\u001b[43m(\u001b[49m\n\u001b[32m    985\u001b[39m \u001b[43m        \u001b[49m\u001b[43minput_domain\u001b[49m\u001b[43m=\u001b[49m\u001b[43minput_domain\u001b[49m\u001b[43m,\u001b[49m\n\u001b[32m    986\u001b[39m \u001b[43m        \u001b[49m\u001b[43minput_metric\u001b[49m\u001b[43m=\u001b[49m\u001b[43minput_metric\u001b[49m\u001b[43m,\u001b[49m\n\u001b[32m    987\u001b[39m \u001b[43m        \u001b[49m\u001b[43mbounds\u001b[49m\u001b[43m=\u001b[49m\u001b[43mbounds\u001b[49m\u001b[43m)\u001b[49m)\n\u001b[32m    988\u001b[39m     output.__opendp_dict__ = {\n\u001b[32m    989\u001b[39m             \u001b[33m'\u001b[39m\u001b[33m__function__\u001b[39m\u001b[33m'\u001b[39m: \u001b[33m'\u001b[39m\u001b[33mthen_clamp\u001b[39m\u001b[33m'\u001b[39m,\n\u001b[32m    990\u001b[39m             \u001b[33m'\u001b[39m\u001b[33m__module__\u001b[39m\u001b[33m'\u001b[39m: \u001b[33m'\u001b[39m\u001b[33mtransformations\u001b[39m\u001b[33m'\u001b[39m,\n\u001b[32m   (...)\u001b[39m\u001b[32m    993\u001b[39m             },\n\u001b[32m    994\u001b[39m         }\n\u001b[32m    995\u001b[39m     \u001b[38;5;28;01mreturn\u001b[39;00m output\n",
      "\u001b[36mFile \u001b[39m\u001b[32m/usr/local/lib/python3.12/site-packages/opendp/transformations.py:960\u001b[39m, in \u001b[36mmake_clamp\u001b[39m\u001b[34m(input_domain, input_metric, bounds)\u001b[39m\n\u001b[32m    957\u001b[39m lib_function.argtypes = [Domain, Metric, AnyObjectPtr]\n\u001b[32m    958\u001b[39m lib_function.restype = FfiResult\n\u001b[32m--> \u001b[39m\u001b[32m960\u001b[39m output = c_to_py(\u001b[43munwrap\u001b[49m\u001b[43m(\u001b[49m\u001b[43mlib_function\u001b[49m\u001b[43m(\u001b[49m\u001b[43mc_input_domain\u001b[49m\u001b[43m,\u001b[49m\u001b[43m \u001b[49m\u001b[43mc_input_metric\u001b[49m\u001b[43m,\u001b[49m\u001b[43m \u001b[49m\u001b[43mc_bounds\u001b[49m\u001b[43m)\u001b[49m\u001b[43m,\u001b[49m\u001b[43m \u001b[49m\u001b[43mTransformation\u001b[49m\u001b[43m)\u001b[49m)\n\u001b[32m    961\u001b[39m \u001b[38;5;28;01mtry\u001b[39;00m:\n\u001b[32m    962\u001b[39m     output.__opendp_dict__ = {\n\u001b[32m    963\u001b[39m         \u001b[33m'\u001b[39m\u001b[33m__function__\u001b[39m\u001b[33m'\u001b[39m: \u001b[33m'\u001b[39m\u001b[33mmake_clamp\u001b[39m\u001b[33m'\u001b[39m,\n\u001b[32m    964\u001b[39m         \u001b[33m'\u001b[39m\u001b[33m__module__\u001b[39m\u001b[33m'\u001b[39m: \u001b[33m'\u001b[39m\u001b[33mtransformations\u001b[39m\u001b[33m'\u001b[39m,\n\u001b[32m   (...)\u001b[39m\u001b[32m    967\u001b[39m         },\n\u001b[32m    968\u001b[39m     }\n",
      "\u001b[36mFile \u001b[39m\u001b[32m/usr/local/lib/python3.12/site-packages/opendp/_lib.py:282\u001b[39m, in \u001b[36munwrap\u001b[39m\u001b[34m(result, type_)\u001b[39m\n\u001b[32m    280\u001b[39m     \u001b[38;5;28;01mif\u001b[39;00m \u001b[33m'\u001b[39m\u001b[33mpolars\u001b[39m\u001b[33m'\u001b[39m \u001b[38;5;129;01min\u001b[39;00m \u001b[38;5;28mstr\u001b[39m(message).lower() \u001b[38;5;129;01mand\u001b[39;00m pl.__version__ != _EXPECTED_POLARS_VERSION:\n\u001b[32m    281\u001b[39m         message = \u001b[33mf\u001b[39m\u001b[33m'\u001b[39m\u001b[33mInstalled python polars version (\u001b[39m\u001b[38;5;132;01m{\u001b[39;00mpl.__version__\u001b[38;5;132;01m}\u001b[39;00m\u001b[33m) != expected version (\u001b[39m\u001b[38;5;132;01m{\u001b[39;00m_EXPECTED_POLARS_VERSION\u001b[38;5;132;01m}\u001b[39;00m\u001b[33m). \u001b[39m\u001b[38;5;132;01m{\u001b[39;00mmessage\u001b[38;5;132;01m}\u001b[39;00m\u001b[33m'\u001b[39m \u001b[38;5;66;03m# pragma: no cover\u001b[39;00m\n\u001b[32m--> \u001b[39m\u001b[32m282\u001b[39m \u001b[38;5;28;01mraise\u001b[39;00m OpenDPException(variant, message, backtrace)\n",
      "\u001b[31mOpenDPException\u001b[39m: \n  FailedFunction(\"Domain contains nan\")"
     ]
    }
   ],
   "source": [
    "import opendp.prelude as dp\n",
    "dp.enable_features(\"contrib\")\n",
    "\n",
    "# Identify the Unit of Privacy\n",
    "privacy_unit = dp.unit_of(contributions=1)\n",
    "# input_metric, d_in = privacy_unit\n",
    "\n",
    "# Set Privacy Loss Parameters\n",
    "privacy_loss = dp.loss_of(epsilon=1.)\n",
    "# privacy_measure, d_out = privacy_loss\n",
    "\n",
    "# Collect Public Information\n",
    "col_names = [\n",
    "   \"name\", \"sex\", \"age\", \"maritalStatus\", \"hasChildren\", \"highestEducationLevel\", \n",
    "   \"sourceOfStress\", \"smoker\", \"optimism\", \"lifeSatisfaction\", \"selfEsteem\"\n",
    "]\n",
    "\n",
    "# Mediate Access to Data\n",
    "import urllib.request\n",
    "\n",
    "data_url = \"https://raw.githubusercontent.com/opendp/opendp/sydney/teacher_survey.csv\"\n",
    "with urllib.request.urlopen(data_url) as data_req:\n",
    "    data = data_req.read().decode('utf-8')\n",
    "\n",
    "context = dp.Context.compositor(\n",
    "    data=data,\n",
    "    privacy_unit=privacy_unit,\n",
    "    privacy_loss=privacy_loss,\n",
    "    split_evenly_over=3\n",
    ")\n",
    "\n",
    "# Submit DP Queries\n",
    "\n",
    "## Count\n",
    "count_query = (\n",
    "    context.query()\n",
    "    .split_dataframe(\",\", col_names=col_names)\n",
    "    .select_column(\"age\", str) # temporary until OpenDP 0.10 (Polars dataframe)\n",
    "    .count()\n",
    "    .laplace()\n",
    ")\n",
    "\n",
    "scale = count_query.param()\n",
    "print(scale)\n",
    "\n",
    "accuracy = dp.discrete_laplacian_scale_to_accuracy(scale=scale, alpha=0.05)\n",
    "print(accuracy)\n",
    "\n",
    "dp_count = count_query.release()\n",
    "interval = (dp_count - accuracy, dp_count + accuracy)\n",
    "\n",
    "## Mean\n",
    "mean_query = (\n",
    "    context.query()\n",
    "    .split_dataframe(\",\", col_names=col_names)\n",
    "    .select_column(\"age\", str)\n",
    "    .cast_default(float)\n",
    "    .clamp((18.0, 70.0))  # a best-guess based on public information\n",
    "    # Explanation for `constant=42`:\n",
    "    #    since dp_count may be larger than the true size, \n",
    "    #    imputed rows will be given an age of 42.0 \n",
    "    #    (also a best guess based on public information)\n",
    "    .resize(size=dp_count, constant=42.0)\n",
    "    .mean()\n",
    "    .laplace()\n",
    ")\n",
    "\n",
    "dp_mean = mean_query.release()"
   ]
  },
  {
   "cell_type": "markdown",
   "id": "87c91992",
   "metadata": {},
   "source": [
    "## Framework API !"
   ]
  },
  {
   "cell_type": "code",
   "execution_count": 13,
   "id": "d4896f15",
   "metadata": {},
   "outputs": [],
   "source": [
    "import opendp.prelude as dp\n",
    "dp.enable_features(\"contrib\")\n",
    "\n",
    "# Identify the Unit of Privacy\n",
    "d_in = 1 # neighboring data set distance is at most d_in...\n",
    "input_metric = dp.symmetric_distance() # ...in terms of additions/removals\n",
    "\n",
    "# Set Privacy Loss Parameters\n",
    "d_out = 1. # output distributions have distance at most d_out (ε)...\n",
    "privacy_measure = dp.max_divergence(T=float) # ...in terms of pure-DP\n",
    "\n",
    "# Collect Public Information\n",
    "col_names = [\n",
    "   \"name\", \"sex\", \"age\", \"maritalStatus\", \"hasChildren\", \"highestEducationLevel\", \n",
    "   \"sourceOfStress\", \"smoker\", \"optimism\", \"lifeSatisfaction\", \"selfEsteem\"\n",
    "]\n",
    "\n",
    "# Mediate Access to Data\n",
    "import urllib.request\n",
    "\n",
    "data_url = \"https://raw.githubusercontent.com/opendp/opendp/sydney/teacher_survey.csv\"\n",
    "with urllib.request.urlopen(data_url) as data_req:\n",
    "    data = data_req.read().decode('utf-8')\n",
    "\n",
    "m_sc = dp.c.make_sequential_composition(\n",
    "    # data set is a single string, with rows separated by linebreaks\n",
    "    input_domain=dp.atom_domain(T=str),\n",
    "    input_metric=input_metric,\n",
    "    output_measure=privacy_measure,\n",
    "    d_in=d_in,\n",
    "    d_mids=[d_out / 3] * 3,\n",
    ")\n",
    "\n",
    "# Call measurement with data to create a queryable:\n",
    "qbl_sc = m_sc(data)\n",
    "\n",
    "count_transformation = (\n",
    "    dp.t.make_split_dataframe(\",\", col_names=col_names)\n",
    "    >> dp.t.make_select_column(\"age\", str)\n",
    "    >> dp.t.then_count()\n",
    ")\n",
    "\n",
    "count_sensitivity = count_transformation.map(d_in)\n",
    "count_sensitivity\n",
    "\n",
    "count_measurement = dp.binary_search_chain(\n",
    "    lambda scale: count_transformation >> dp.m.then_laplace(scale), \n",
    "    d_in, d_out / 3\n",
    ")\n",
    "\n",
    "dp_count = qbl_sc(count_measurement)\n",
    "\n",
    "mean_transformation = (\n",
    "    dp.t.make_split_dataframe(\",\", col_names=col_names) >>\n",
    "    dp.t.make_select_column(\"age\", str) >>\n",
    "    dp.t.then_cast_default(float) >>\n",
    "    dp.t.then_clamp((18.0, 70.0)) >>  # a best-guess based on public information\n",
    "    dp.t.then_resize(size=dp_count, constant=42.0) >>\n",
    "    dp.t.then_mean()\n",
    ")\n",
    "\n",
    "mean_measurement = dp.binary_search_chain(\n",
    "    lambda scale: mean_transformation >> dp.m.then_laplace(scale), \n",
    "    d_in, d_out / 3\n",
    ")\n",
    "\n",
    "dp_mean = qbl_sc(mean_measurement)"
   ]
  },
  {
   "cell_type": "markdown",
   "id": "665e7c30",
   "metadata": {},
   "source": [
    "# More examples"
   ]
  },
  {
   "cell_type": "markdown",
   "id": "f9804368",
   "metadata": {},
   "source": [
    "## Data analysis"
   ]
  },
  {
   "cell_type": "markdown",
   "id": "77966a17",
   "metadata": {},
   "source": [
    "### Framework"
   ]
  },
  {
   "cell_type": "code",
   "execution_count": 14,
   "id": "53934800",
   "metadata": {},
   "outputs": [
    {
     "name": "stdout",
     "output_type": "stream",
     "text": [
      "59,1,9,1,0,1\n",
      "31,0,1,3,17000,0\n",
      "36,1,11,1,0,1\n",
      "54,1,11,1,9100,1\n",
      "39,0,5,3,37000,0\n",
      "34,0,9,1,0,1\n",
      "<class 'list'>\n",
      "['0', '17000', '0', '9100', '37000', '0']\n"
     ]
    }
   ],
   "source": [
    "import opendp.prelude as dp\n",
    "dp.enable_features('contrib')\n",
    "\n",
    "# the greatest number of records that any one individual can influence in the dataset\n",
    "max_influence = 1\n",
    "\n",
    "# establish public information\n",
    "col_names = [\"age\", \"sex\", \"educ\", \"race\", \"income\", \"married\"]\n",
    "# we can also reasonably intuit that age and income will be numeric,\n",
    "#     as well as bounds for them, without looking at the data\n",
    "age_bounds = (0, 100)\n",
    "income_bounds = (0, 150_000)\n",
    "\n",
    "# Working with CSV data\n",
    "income_preprocessor = (\n",
    "    # Convert data into a dataframe where columns are of type Vec<str>\n",
    "    dp.t.make_split_dataframe(separator=\",\", col_names=col_names) >>\n",
    "    # Selects a column of df, Vec<str>\n",
    "    dp.t.make_select_column(key=\"income\", TOA=str)\n",
    ")\n",
    "\n",
    "![ -e data.csv ] || wget https://raw.githubusercontent.com/opendp/opendp/main/docs/source/data/PUMS_california_demographics_1000/data.csv\n",
    "\n",
    "with open('data.csv') as input_file:\n",
    "    data = input_file.read()\n",
    "\n",
    "# As we can see from the first few rows, it is intentional that there are no column names in the data. \n",
    "# If your data has column names, you will want to strip them out before passing data into your function\n",
    "print('\\n'.join(data.split('\\n')[:6]))\n",
    "\n",
    "transformed = income_preprocessor(data)\n",
    "print(type(transformed))\n",
    "print(transformed[:6])"
   ]
  },
  {
   "cell_type": "code",
   "execution_count": 15,
   "id": "d1c23e47",
   "metadata": {},
   "outputs": [
    {
     "name": "stdout",
     "output_type": "stream",
     "text": [
      "[0, 17000, 0, 9100, 37000, 0]\n"
     ]
    },
    {
     "data": {
      "text/plain": [
       "[0, 0, 2]"
      ]
     },
     "execution_count": 15,
     "metadata": {},
     "output_type": "execute_result"
    }
   ],
   "source": [
    "# Casting\n",
    "# make a transformation that casts from a vector of strings to a vector of ints\n",
    "cast_str_int = (\n",
    "    # start with the output space of the income_preprocessor\n",
    "    income_preprocessor.output_space >>\n",
    "    # cast Vec<str> to Vec<Option<int>>\n",
    "    dp.t.then_cast(TOA=int) >>\n",
    "    # Replace any elements that failed to parse with 0, emitting a Vec<int>\n",
    "    dp.t.then_impute_constant(0)\n",
    ")\n",
    "\n",
    "# replace the previous preprocessor: extend it with the caster\n",
    "income_preprocessor = income_preprocessor >> cast_str_int\n",
    "print(income_preprocessor(data)[:6])\n",
    "\n",
    "cast_str_int([\"null\", \"1.\", \"2\"])"
   ]
  },
  {
   "cell_type": "code",
   "execution_count": 16,
   "id": "8d2e6d22",
   "metadata": {},
   "outputs": [
    {
     "name": "stdout",
     "output_type": "stream",
     "text": [
      "DP count budget: 1.0\n",
      "DP count: 999\n"
     ]
    }
   ],
   "source": [
    "# Private Count\n",
    "dp_count = (\n",
    "    income_preprocessor >> \n",
    "    dp.t.then_count() >> \n",
    "    dp.m.then_laplace(scale=1.) # Ici on fixe un scale à 1 et on estime le budget auquel ça revient\n",
    ")\n",
    "\n",
    "# estimate the budget...\n",
    "epsilon = dp.binary_search(\n",
    "    lambda eps: dp_count.check(d_in=max_influence, d_out=eps),\n",
    "    bounds=(0., 100.))\n",
    "print(\"DP count budget:\", epsilon)\n",
    "\n",
    "# ...and then release\n",
    "count_release = dp_count(data)\n",
    "print(\"DP count:\", count_release)"
   ]
  },
  {
   "cell_type": "code",
   "execution_count": 17,
   "id": "8e72f339",
   "metadata": {},
   "outputs": [
    {
     "name": "stdout",
     "output_type": "stream",
     "text": [
      "DP sum: 30205198\n"
     ]
    }
   ],
   "source": [
    "# Private Sum\n",
    "bounded_income_sum = (\n",
    "    income_preprocessor >>\n",
    "    # clamp income values.\n",
    "    # \"then_*\" means it uses the output domain and output metric from the previous transformation\n",
    "    dp.t.then_clamp(bounds=income_bounds) >>\n",
    "    # similarly, here we use \"then_sum\" to avoid needing to specify the input space.\n",
    "    # the sum constructor gets told that the input consists of bounded data\n",
    "    dp.t.then_sum()\n",
    ")\n",
    "\n",
    "discovered_scale = dp.binary_search_param(\n",
    "    lambda s: bounded_income_sum >> dp.m.then_laplace(scale=s),\n",
    "    d_in=max_influence,\n",
    "    d_out=1.) # Ici on cherche le scale de sorte que ca soit 1-DP\n",
    "\n",
    "dp_sum = bounded_income_sum >> dp.m.then_laplace(scale=discovered_scale)\n",
    "\n",
    "# OU de manière raccourci\n",
    "\n",
    "dp_sum = dp.binary_search_chain(\n",
    "    lambda s: bounded_income_sum >> dp.m.then_laplace(scale=s),\n",
    "    d_in=max_influence,\n",
    "    d_out=1.)\n",
    "\n",
    "# ...and make our 1-epsilon DP release\n",
    "print(\"DP sum:\", dp_sum(data))"
   ]
  },
  {
   "cell_type": "code",
   "execution_count": 18,
   "id": "19fb9783",
   "metadata": {},
   "outputs": [
    {
     "name": "stdout",
     "output_type": "stream",
     "text": [
      "inferred type is i32, expected f64. See https://github.com/opendp/opendp/discussions/298\n",
      "DP mean: 43.130802357489145\n"
     ]
    }
   ],
   "source": [
    "# Private Mean\n",
    "try:\n",
    "    mean_age_preprocessor = (\n",
    "        # Convert data into a dataframe of string columns\n",
    "        dp.t.make_split_dataframe(separator=\",\", col_names=col_names) >>\n",
    "        # Selects a column of df, Vec<str>\n",
    "        dp.t.make_select_column(key=\"age\", TOA=str) >>\n",
    "        # Cast the column as Vec<float>, and fill nulls with the default value, 0.\n",
    "        dp.t.then_cast_default(TOA=float) >>\n",
    "        # Clamp age values\n",
    "        dp.t.then_clamp(bounds=age_bounds)\n",
    "    )\n",
    "except TypeError as err:\n",
    "    assert str(err).startswith(\"inferred type is\") # type: ignore\n",
    "    print(err)\n",
    "\n",
    "float_age_bounds = tuple(map(float, age_bounds))\n",
    "\n",
    "dp_mean = (\n",
    "    # Convert data into a dataframe of string columns\n",
    "    dp.t.make_split_dataframe(separator=\",\", col_names=col_names) >>\n",
    "    # Selects a column of df, Vec<str>\n",
    "    dp.t.make_select_column(key=\"age\", TOA=str) >>\n",
    "    # Cast the column as Vec<float>, and fill nulls with the default value, 0.\n",
    "    dp.t.then_cast_default(TOA=float) >>\n",
    "    # Clamp age values\n",
    "    dp.t.then_clamp(bounds=float_age_bounds) >>\n",
    "    # Resize the dataset to length `count_release`.\n",
    "    #     If there are fewer than `count_release` rows in the data, fill with a constant of 20.\n",
    "    #     If there are more than `count_release` rows in the data, only keep `count_release` rows\n",
    "    dp.t.then_resize(size=count_release, constant=20.) >>\n",
    "    # Compute the mean\n",
    "    dp.t.then_mean() >>\n",
    "    # add laplace noise\n",
    "    dp.m.then_laplace(scale=1.0)\n",
    ")\n",
    "\n",
    "mean_release = dp_mean(data)\n",
    "print(\"DP mean:\", mean_release)"
   ]
  },
  {
   "cell_type": "code",
   "execution_count": 19,
   "id": "0687ce55",
   "metadata": {},
   "outputs": [
    {
     "name": "stdout",
     "output_type": "stream",
     "text": [
      "DP variance: 302.84364514100344\n"
     ]
    }
   ],
   "source": [
    "# Zero-Concentrated Differential Privacy\n",
    "variance = (\n",
    "    # Convert data into a dataframe of string columns\n",
    "    dp.t.make_split_dataframe(separator=\",\", col_names=col_names) >>\n",
    "    # Selects a column of df, Vec<str>\n",
    "    dp.t.make_select_column(key=\"age\", TOA=str) >>\n",
    "    # Cast the column as Vec<float>, and fill nulls with the default value, 0.\n",
    "    dp.t.then_cast_default(TOA=float) >>\n",
    "    # Clamp age values\n",
    "    dp.t.then_clamp(bounds=float_age_bounds) >>\n",
    "    # Resize the dataset to length `count_release`.\n",
    "    dp.t.then_resize(size=count_release, constant=20.) >>\n",
    "    # Compute the variance\n",
    "    dp.t.then_variance()\n",
    ")\n",
    "\n",
    "dp_variance = dp.binary_search_chain(\n",
    "    lambda s: variance >> dp.m.then_gaussian(scale=s),\n",
    "    d_in=max_influence, d_out=.05) # Il comprend qu'on est en zCDP\n",
    "\n",
    "print(\"DP variance:\", dp_variance(data))"
   ]
  },
  {
   "cell_type": "code",
   "execution_count": 20,
   "id": "203169f2",
   "metadata": {},
   "outputs": [
    {
     "name": "stdout",
     "output_type": "stream",
     "text": [
      "1.6194085342284823\n",
      "(1.6194085342284823, 1e-07)\n"
     ]
    }
   ],
   "source": [
    "# Measure Casting\n",
    "app_dp_variance = dp.c.make_zCDP_to_approxDP(dp_variance)\n",
    "# evaluate the privacy map to get a curve\n",
    "curve = app_dp_variance.map(max_influence)\n",
    "# solve for epsilon when delta is fixed\n",
    "print(curve.epsilon(delta=1e-7))\n",
    "\n",
    "# OUdpdddezzz\n",
    "fixed_app_dp_variance = dp.c.make_fix_delta(app_dp_variance, delta=1e-7)\n",
    "print(fixed_app_dp_variance.map(max_influence))\n",
    "\n",
    "# Si on veut directement trouver le scale selon le (epsilon, delta) budget\n",
    "budget = (1., 1e-7)\n",
    "def make_dp_variance(scale):\n",
    "    dp_var = variance >> dp.m.then_gaussian(scale)\n",
    "    return dp.c.make_fix_delta(dp.c.make_zCDP_to_approxDP(dp_var), delta=budget[1])\n",
    "\n",
    "dp_variance_lte_budget = dp.binary_search_chain(\n",
    "    make_dp_variance,\n",
    "    d_in=max_influence, d_out=budget)\n",
    "\n",
    "# we know this measurement is calibrated to be lte budget\n",
    "assert dp_variance_lte_budget.check(max_influence, budget)"
   ]
  },
  {
   "cell_type": "code",
   "execution_count": 21,
   "id": "aa6ca2a2",
   "metadata": {},
   "outputs": [
    {
     "name": "stdout",
     "output_type": "stream",
     "text": [
      "[30267564, 44.52130367120331]\n",
      "Budget used : 1.100100100100557\n"
     ]
    }
   ],
   "source": [
    "# Composition\n",
    "composed = dp.c.make_basic_composition([dp_sum, dp_mean])\n",
    "print(composed(data))\n",
    "\n",
    "print(\"Budget used :\", composed.map(max_influence))"
   ]
  },
  {
   "cell_type": "markdown",
   "id": "21066fe5",
   "metadata": {},
   "source": [
    "## Unknown dataset sizes"
   ]
  },
  {
   "cell_type": "markdown",
   "id": "b89c73cd",
   "metadata": {},
   "source": [
    "### Framework"
   ]
  },
  {
   "cell_type": "code",
   "execution_count": 22,
   "id": "f2c9341c",
   "metadata": {},
   "outputs": [],
   "source": [
    "![ -e data.csv ] || wget https://raw.githubusercontent.com/opendp/opendp/main/docs/source/data/PUMS_california_demographics_1000/data.csv\n",
    "\n",
    "# Define parameters up-front\n",
    "# Each parameter is either a guess, a DP release, or public information\n",
    "var_names = [\"age\", \"sex\", \"educ\", \"race\", \"income\", \"married\"] # public information\n",
    "age_bounds = (0., 120.) # an educated guess\n",
    "age_prior = 38. # average age for entire US population (public information)\n",
    "size = 1000 # records in dataset, public information\n",
    "\n",
    "# Load data\n",
    "import numpy as np\n",
    "age = np.genfromtxt('data.csv', delimiter=',', names=var_names)[:]['age'].tolist() # type: ignore"
   ]
  },
  {
   "cell_type": "code",
   "execution_count": 23,
   "id": "ec4dba7a",
   "metadata": {},
   "outputs": [
    {
     "name": "stdout",
     "output_type": "stream",
     "text": [
      "DP mean: 44.40523101765272\n"
     ]
    }
   ],
   "source": [
    "# Dataset size known\n",
    "dp.enable_features(\"contrib\", \"floating-point\")\n",
    "\n",
    "input_domain = dp.vector_domain(dp.atom_domain(T=float), size=1000)\n",
    "input_metric = dp.symmetric_distance()\n",
    "\n",
    "dp_mean = (\n",
    "    (input_domain, input_metric) >>\n",
    "    # Clamp age values\n",
    "    dp.t.then_clamp(bounds=age_bounds) >>\n",
    "    # Aggregate\n",
    "    dp.t.then_mean() >>\n",
    "    # Noise\n",
    "    dp.m.then_laplace(scale=1.)\n",
    ")\n",
    "\n",
    "print(\"DP mean:\", dp_mean(age))"
   ]
  },
  {
   "cell_type": "code",
   "execution_count": 24,
   "id": "9d0c6f9f",
   "metadata": {},
   "outputs": [
    {
     "name": "stdout",
     "output_type": "stream",
     "text": [
      "DP count: 1000\n"
     ]
    }
   ],
   "source": [
    "# If unknown\n",
    "# First, estimate the number of records in the dataset.\n",
    "dp_count = (input_domain, input_metric) >> dp.t.then_count() >> dp.m.then_laplace(scale=1.)\n",
    "dp_count_release = dp_count(age)\n",
    "print(\"DP count: {0}\".format(dp_count_release))"
   ]
  },
  {
   "cell_type": "code",
   "execution_count": 25,
   "id": "d0846965",
   "metadata": {},
   "outputs": [
    {
     "name": "stdout",
     "output_type": "stream",
     "text": [
      "DP mean: 44.57672031211483\n"
     ]
    }
   ],
   "source": [
    "def make_mean_measurement(target_size):\n",
    "    \"\"\"a convenience constructor for building a mean measurement that resizes to `target_size`\"\"\"\n",
    "    return ((dp.vector_domain(dp.atom_domain(T=float)), dp.symmetric_distance()) >>\n",
    "            dp.t.then_resize(size=target_size, constant=age_prior) >>\n",
    "            dp.t.then_clamp(age_bounds) >>\n",
    "            dp.t.then_mean() >>\n",
    "            dp.m.then_laplace(scale=1.0))\n",
    "\n",
    "\n",
    "dp_mean = make_mean_measurement(dp_count_release)\n",
    "dp_mean_release = dp_mean(age)\n",
    "print(\"DP mean: {0}\".format(dp_mean_release))"
   ]
  },
  {
   "cell_type": "code",
   "execution_count": 26,
   "id": "24de596f",
   "metadata": {},
   "outputs": [
    {
     "name": "stdout",
     "output_type": "stream",
     "text": [
      "DP mean (n=200):  44.995705072194625\n",
      "DP mean (n=1000): 46.296429137511126\n",
      "DP mean (n=2000): 42.873263899394516\n"
     ]
    }
   ],
   "source": [
    "lower_n = make_mean_measurement(target_size=200)(age)\n",
    "real_n = make_mean_measurement(target_size=1000)(age)\n",
    "higher_n = make_mean_measurement(target_size=2000)(age)\n",
    "\n",
    "print(\"DP mean (n=200):  {0}\".format(lower_n))\n",
    "print(\"DP mean (n=1000): {0}\".format(real_n))\n",
    "print(\"DP mean (n=2000): {0}\".format(higher_n))"
   ]
  },
  {
   "cell_type": "code",
   "execution_count": 27,
   "id": "0699592e",
   "metadata": {},
   "outputs": [],
   "source": [
    "from functools import lru_cache\n",
    "\n",
    "input_space = dp.vector_domain(dp.atom_domain(T=float)), input_metric\n",
    "\n",
    "@lru_cache(maxsize=None)\n",
    "def make_count_with(*, epsilon):\n",
    "    counter = input_space >> dp.t.then_count()\n",
    "    return dp.binary_search_chain(\n",
    "        lambda s: counter >> dp.m.then_laplace(scale=s),\n",
    "        d_in=1, d_out=epsilon,\n",
    "        bounds=(0., 10000.))\n",
    "\n",
    "@lru_cache(maxsize=None)\n",
    "def make_mean_with(*, target_size, epsilon):\n",
    "    mean_chain = (\n",
    "        input_space >>\n",
    "        # Resize the dataset to length `target_size`.\n",
    "        #     If there are fewer than `target_size` rows in the data, fill with a constant.\n",
    "        #     If there are more than `target_size` rows in the data, only keep `data_size` rows\n",
    "        dp.t.then_resize(size=target_size, constant=age_prior) >>\n",
    "        # Clamp age values\n",
    "        dp.t.then_clamp(bounds=age_bounds) >>\n",
    "        # Compute the mean\n",
    "        dp.t.then_mean()\n",
    "    )\n",
    "    return dp.binary_search_chain(\n",
    "        lambda s: mean_chain >> dp.m.then_laplace(scale=s),\n",
    "        d_in=1, d_out=epsilon,\n",
    "        bounds=(0., 10.))\n",
    "\n",
    "@lru_cache(maxsize=None)\n",
    "def make_sum_with(*, epsilon):\n",
    "    bounded_age_sum = (\n",
    "        input_space >>\n",
    "        # Clamp income values\n",
    "        dp.t.then_clamp(bounds=age_bounds) >>\n",
    "        dp.t.then_sum()\n",
    "    )\n",
    "    return dp.binary_search_chain(\n",
    "        lambda s: bounded_age_sum >> dp.m.then_laplace(scale=s),\n",
    "        d_in=1, d_out=epsilon,\n",
    "        bounds=(0., 1000.))"
   ]
  },
  {
   "cell_type": "code",
   "execution_count": 28,
   "id": "14903d36",
   "metadata": {},
   "outputs": [
    {
     "name": "stdout",
     "output_type": "stream",
     "text": [
      "Status:\n",
      "0% 10% 20% 30% 40% 50% 60% 70% 80% 90% 100%\n"
     ]
    }
   ],
   "source": [
    "n_simulations = 1000\n",
    "\n",
    "history_count = []\n",
    "history_mean = []\n",
    "\n",
    "print(\"Status:\")\n",
    "for i in range(n_simulations):\n",
    "    if i % 100 == 0:\n",
    "        print(f\"{i / n_simulations:.0%} \", end=\"\")\n",
    "\n",
    "    count_chain = make_count_with(epsilon=0.05)\n",
    "    history_count.append(count_chain(age))\n",
    "\n",
    "    mean_chain = make_mean_with(target_size=history_count[-1], epsilon=1.)\n",
    "    history_mean.append(mean_chain(age))\n",
    "\n",
    "print(\"100%\")"
   ]
  },
  {
   "cell_type": "code",
   "execution_count": 29,
   "id": "e723c437",
   "metadata": {},
   "outputs": [
    {
     "data": {
      "image/png": "[encoded data removed]",
      "text/plain": [
       "<Figure size 640x480 with 1 Axes>"
      ]
     },
     "metadata": {},
     "output_type": "display_data"
    }
   ],
   "source": [
    "import matplotlib.pyplot as plt\n",
    "import statistics\n",
    "\n",
    "true_mean_age = statistics.mean(age)\n",
    "\n",
    "# The light blue circles are DP means\n",
    "plt.plot(history_count, history_mean, 'o', fillstyle='none', color = 'cornflowerblue')\n",
    "\n",
    "def compute_expected_mean(count):\n",
    "    count = max(count, size)\n",
    "    return ((true_mean_age * size) + (count - size) * age_prior) / count\n",
    "\n",
    "expected_count = list(range(min(history_count), max(history_count)))\n",
    "expected_mean = list(map(compute_expected_mean, expected_count))\n",
    "\n",
    "# The dark blue dots are the average DP mean per dataset size\n",
    "for count in expected_count:\n",
    "    sims = [m for c, m in zip(history_count, history_mean) if c == count]\n",
    "    if len(sims) > 6:\n",
    "        plt.plot(count, statistics.mean(sims), 'o', color = 'indigo')\n",
    "\n",
    "# The red line is the expected value by dp release of dataset size\n",
    "plt.plot(expected_count, expected_mean, linestyle='--', color = 'tomato')\n",
    "plt.ylabel('DP Release of Age')\n",
    "plt.xlabel('DP estimate of row count')\n",
    "plt.show()"
   ]
  },
  {
   "cell_type": "code",
   "execution_count": 30,
   "id": "023cf51c",
   "metadata": {},
   "outputs": [
    {
     "data": {
      "image/png": "[encoded data removed]",
      "text/plain": [
       "<Figure size 640x480 with 1 Axes>"
      ]
     },
     "metadata": {},
     "output_type": "display_data"
    }
   ],
   "source": [
    "import pandas as pd\n",
    "import seaborn as sns\n",
    "\n",
    "releases = []\n",
    "# X axis ticks\n",
    "n_range = range(100, 2001, 200)\n",
    "# Number of samples per boxplot\n",
    "n_simulations = 50\n",
    "\n",
    "for n in n_range:\n",
    "    mean_chain = make_mean_with(target_size=n, epsilon=1.)\n",
    "    for index in range(n_simulations):\n",
    "\n",
    "        # get mean of age at the given n\n",
    "        releases.append((n, mean_chain(age)))\n",
    "\n",
    "# get released values\n",
    "df = pd.DataFrame.from_records(releases, columns=['resize to row count', 'DP mean'])\n",
    "\n",
    "# The boxplots show the distribution of releases per n\n",
    "plot = sns.boxplot(x = 'resize to row count', y = 'DP mean', data = df)\n",
    "# The blue line is the true mean\n",
    "plot.axhline(true_mean_age)\n",
    "plt.show()"
   ]
  },
  {
   "cell_type": "code",
   "execution_count": 31,
   "id": "425c29a3",
   "metadata": {},
   "outputs": [
    {
     "name": "stdout",
     "output_type": "stream",
     "text": [
      "Status:\n",
      "0% 10% 20% 30% 40% 50% 60% 70% 80% 90% 100%\n"
     ]
    }
   ],
   "source": [
    "n_simulations = 1_000\n",
    "history_plugin = []\n",
    "history_resize = []\n",
    "\n",
    "# sized estimators are more robust to noisy counts, so epsilon is small\n",
    "# the less epsilon provided to this count, the more the result will be biased towards the prior\n",
    "resize_count = make_count_with(epsilon=0.2)\n",
    "\n",
    "# plugin estimators want a much more accurate count\n",
    "plugin_count = make_count_with(epsilon=0.5)\n",
    "plugin_sum = make_sum_with(epsilon=0.5)\n",
    "\n",
    "print(\"Status:\")\n",
    "for i in range(n_simulations):\n",
    "    if i % 100 == 0:\n",
    "        print(f\"{i / n_simulations:.0%} \", end=\"\")\n",
    "\n",
    "    history_plugin.append(plugin_sum(age) / plugin_count(age))\n",
    "\n",
    "    resize_mean = make_mean_with(target_size=resize_count(age), epsilon=.8)\n",
    "    history_resize.append(resize_mean(age))\n",
    "\n",
    "print('100%')"
   ]
  },
  {
   "cell_type": "code",
   "execution_count": 32,
   "id": "cd73d81d",
   "metadata": {},
   "outputs": [
    {
     "data": {
      "image/png": "[encoded data removed]",
      "text/plain": [
       "<Figure size 640x480 with 1 Axes>"
      ]
     },
     "metadata": {},
     "output_type": "display_data"
    }
   ],
   "source": [
    "fig, ax = plt.subplots()\n",
    "sns.kdeplot(history_resize, fill=True, linewidth=3,\n",
    "                 label = 'Resize Mean')\n",
    "sns.kdeplot(history_plugin, fill=True, linewidth=3,\n",
    "                 label = 'Plug-in Mean')\n",
    "\n",
    "ax.plot([true_mean_age,true_mean_age], [0,2], linestyle='--', color = 'forestgreen')\n",
    "plt.xlabel('DP Release of Age')\n",
    "leg = ax.legend()"
   ]
  },
  {
   "cell_type": "markdown",
   "id": "d8d0620b",
   "metadata": {},
   "source": [
    "# Privatizing histograms"
   ]
  },
  {
   "cell_type": "code",
   "execution_count": 33,
   "id": "191e6fb1",
   "metadata": {},
   "outputs": [],
   "source": [
    "![ -e data.csv ] || wget https://raw.githubusercontent.com/opendp/opendp/main/docs/source/data/PUMS_california_demographics_1000/data.csv\n",
    "\n",
    "import opendp.prelude as dp\n",
    "dp.enable_features(\"contrib\", \"floating-point\")\n",
    "max_influence = 1\n",
    "budget = (1., 1e-8)\n",
    "\n",
    "# public information\n",
    "col_names = [\"age\", \"sex\", \"educ\", \"race\", \"income\", \"married\"]\n",
    "size = 1000\n",
    "\n",
    "with open('data.csv') as input_data:\n",
    "    data = input_data.read()\n",
    "\n",
    "def plot_histogram(sensitive_counts, released_counts):\n",
    "    \"\"\"Plot a histogram that compares true data against released data\"\"\"\n",
    "    import matplotlib.pyplot as plt\n",
    "    import matplotlib.ticker as ticker\n",
    "\n",
    "    fig = plt.figure()\n",
    "    ax = fig.add_axes([1,1,1,1])\n",
    "    plt.ylim([0,225])\n",
    "    tick_spacing = 1.\n",
    "    ax.xaxis.set_major_locator(ticker.MultipleLocator(tick_spacing))\n",
    "    plt.xlim(0,15)\n",
    "    width = .4\n",
    "\n",
    "    ax.bar(list([x+width for x in range(0, len(sensitive_counts))]), sensitive_counts, width=width, label='True Value')\n",
    "    ax.bar(list([x+2*width for x in range(0, len(released_counts))]), released_counts, width=width, label='DP Value')\n",
    "    ax.legend()\n",
    "    plt.title('Histogram of Education Level')\n",
    "    plt.xlabel('Years of Education')\n",
    "    plt.ylabel('Count')\n",
    "    plt.show()"
   ]
  },
  {
   "cell_type": "code",
   "execution_count": 34,
   "id": "f068b45c",
   "metadata": {},
   "outputs": [
    {
     "name": "stdout",
     "output_type": "stream",
     "text": [
      "Educational level counts:\n",
      " [33, 14, 38, 17, 24, 21, 31, 51, 201, 60, 165, 76, 178, 54, 24, 13, 0, 0, 0]\n",
      "DP Educational level counts:\n",
      " [35, 13, 36, 18, 23, 21, 30, 51, 201, 60, 166, 80, 178, 55, 22, 14, 0, 0, 0]\n",
      "DP estimate for the number of records that were not a member of the category set: 0\n"
     ]
    },
    {
     "data": {
      "image/png": "[encoded data removed]",
      "text/plain": [
       "<Figure size 640x480 with 1 Axes>"
      ]
     },
     "metadata": {},
     "output_type": "display_data"
    }
   ],
   "source": [
    "# public information\n",
    "categories = list(map(str, range(1, 20)))\n",
    "\n",
    "histogram = (\n",
    "    dp.t.make_split_dataframe(separator=\",\", col_names=col_names) >>\n",
    "    dp.t.make_select_column(key=\"educ\", TOA=str) >>\n",
    "    # Compute counts for each of the categories and null\n",
    "    dp.t.then_count_by_categories(categories=categories)\n",
    ")\n",
    "\n",
    "noisy_histogram = dp.binary_search_chain(\n",
    "    lambda s: histogram >> dp.m.then_laplace(scale=s),\n",
    "    d_in=max_influence, d_out=budget[0])\n",
    "\n",
    "sensitive_counts = histogram(data)\n",
    "released_counts = noisy_histogram(data)\n",
    "\n",
    "print(\"Educational level counts:\\n\", sensitive_counts[:-1])\n",
    "print(\"DP Educational level counts:\\n\", released_counts[:-1])\n",
    "\n",
    "print(\"DP estimate for the number of records that were not a member of the category set:\", released_counts[-1])\n",
    "\n",
    "plot_histogram(sensitive_counts, released_counts)"
   ]
  },
  {
   "cell_type": "code",
   "execution_count": 35,
   "id": "0f0f4fbd",
   "metadata": {},
   "outputs": [],
   "source": [
    "def make_laplace_threshold_budget(\n",
    "    preprocess: dp.Transformation,\n",
    "    d_in, d_out\n",
    ") -> dp.Measurement:\n",
    "    \"\"\"Make a stability histogram that respects a given d_in, d_out.\"\"\"\n",
    "    def privatize(s, t=1e8):\n",
    "        return preprocess >> dp.m.then_laplace_threshold(scale=s, threshold=t)\n",
    "\n",
    "    s = dp.binary_search_param(lambda s: privatize(s=s), d_in, d_out)\n",
    "    t = dp.binary_search_param(lambda t: privatize(s=s, t=t), d_in, d_out)\n",
    "\n",
    "    return privatize(s=s, t=t)"
   ]
  },
  {
   "cell_type": "code",
   "execution_count": 36,
   "id": "f7149b26",
   "metadata": {},
   "outputs": [
    {
     "name": "stdout",
     "output_type": "stream",
     "text": [
      "Educational level counts:\n",
      " [33, 14, 38, 17, 24, 21, 31, 51, 201, 60, 165, 76, 178, 54, 24, 13, 0, 0, 0, 0]\n",
      "DP Educational level counts:\n",
      " {'7': 31, '12': 76, '1': 34, '5': 25, '8': 50, '15': 23, '9': 202, '11': 165, '10': 58, '3': 39, '13': 177, '14': 54, '6': 21}\n"
     ]
    },
    {
     "data": {
      "image/png": "[encoded data removed]",
      "text/plain": [
       "<Figure size 640x480 with 1 Axes>"
      ]
     },
     "metadata": {},
     "output_type": "display_data"
    }
   ],
   "source": [
    "preprocess = (\n",
    "    dp.t.make_split_dataframe(separator=\",\", col_names=col_names) >>\n",
    "    dp.t.make_select_column(key=\"educ\", TOA=str) >>\n",
    "    dp.t.then_count_by(MO=dp.L1Distance[float], TV=float)\n",
    ")\n",
    "\n",
    "noisy_histogram = make_laplace_threshold_budget(\n",
    "    preprocess,\n",
    "    d_in=max_influence, d_out=budget)\n",
    "\n",
    "sensitive_counts = histogram(data)\n",
    "released_counts = noisy_histogram(data)\n",
    "# postprocess to make the results easier to compare\n",
    "postprocessed_counts = {k: round(v) for k, v in released_counts.items()}\n",
    "\n",
    "print(\"Educational level counts:\\n\", sensitive_counts)\n",
    "print(\"DP Educational level counts:\\n\", postprocessed_counts)\n",
    "\n",
    "def as_array(data):\n",
    "    return [data.get(k, 0) for k in categories]\n",
    "\n",
    "plot_histogram(sensitive_counts, as_array(released_counts))"
   ]
  },
  {
   "cell_type": "markdown",
   "id": "347bb388",
   "metadata": {},
   "source": [
    "# Video"
   ]
  },
  {
   "cell_type": "code",
   "execution_count": 37,
   "id": "2812e8a5",
   "metadata": {},
   "outputs": [
    {
     "data": {
      "text/plain": [
       "10"
      ]
     },
     "execution_count": 37,
     "metadata": {},
     "output_type": "execute_result"
    }
   ],
   "source": [
    "import numpy as np\n",
    "dp.enable_features(\"honest-but-curious\")\n",
    "\n",
    "def make_sum(bounds):\n",
    "    L, U = bounds\n",
    "    return dp.t.make_user_transformation(\n",
    "        input_domain = dp.vector_domain(dp.atom_domain(bounds=bounds)),\n",
    "        input_metric = dp.symmetric_distance(),\n",
    "        output_domain = dp.atom_domain(T=int),\n",
    "        output_metric= dp.absolute_distance(T=int),\n",
    "        function=sum,\n",
    "        stability_map= lambda d_in: d_in * max(abs(L), U)\n",
    "    )\n",
    "\n",
    "def make_laplace(scale):\n",
    "    L, U = bounds\n",
    "    return dp.m.make_user_measurement(\n",
    "        input_domain = dp.atom_domain(T=int),\n",
    "        input_metric = dp.absolute_distance(T=int),\n",
    "        output_measure = dp.max_divergence(T=int),\n",
    "        function=lambda x: np.random.laplace(loc=x, scale=scale),\n",
    "        privacy_map= lambda d_in: d_in / scale\n",
    "    )\n",
    "\n",
    "m_sum = make_sum((0, 1))\n",
    "\n",
    "m_lap = make_laplace(scale=1.)\n",
    "m_lap(10)\n",
    "m_sum([1,4,5])"
   ]
  },
  {
   "cell_type": "markdown",
   "id": "9aa5aea4",
   "metadata": {},
   "source": [
    "# Test polars"
   ]
  },
  {
   "cell_type": "code",
   "execution_count": null,
   "id": "3a6e19d5",
   "metadata": {},
   "outputs": [
    {
     "ename": "OpenDPException",
     "evalue": "\n  MakeTransformation(\"keys must be public information\")",
     "output_type": "error",
     "traceback": [
      "\u001b[31m---------------------------------------------------------------------------\u001b[39m",
      "\u001b[31mOpenDPException\u001b[39m                           Traceback (most recent call last)",
      "\u001b[36mCell\u001b[39m\u001b[36m \u001b[39m\u001b[32mIn[50]\u001b[39m\u001b[32m, line 24\u001b[39m\n\u001b[32m     11\u001b[39m lf_domain_with_margin = dp.with_margin(\n\u001b[32m     12\u001b[39m     lf_domain,\n\u001b[32m     13\u001b[39m     by=[\u001b[33m\"\u001b[39m\u001b[33mgrade\u001b[39m\u001b[33m\"\u001b[39m],\n\u001b[32m     14\u001b[39m     public_info=\u001b[33m\"\u001b[39m\u001b[33mkeys\u001b[39m\u001b[33m\"\u001b[39m,\n\u001b[32m     15\u001b[39m     max_partition_length=\u001b[32m50\u001b[39m)\n\u001b[32m     17\u001b[39m plan = (\n\u001b[32m     18\u001b[39m     pl.LazyFrame(schema={\u001b[33m'\u001b[39m\u001b[33mgrade\u001b[39m\u001b[33m'\u001b[39m: pl.Int32, \u001b[33m'\u001b[39m\u001b[33mpet_count\u001b[39m\u001b[33m'\u001b[39m: pl.Int32})\n\u001b[32m     19\u001b[39m     .filter(pl.col(\u001b[33m\"\u001b[39m\u001b[33mgrade\u001b[39m\u001b[33m\"\u001b[39m) != \u001b[32m1\u001b[39m)\n\u001b[32m     20\u001b[39m     .group_by(\u001b[33m\"\u001b[39m\u001b[33mgrade\u001b[39m\u001b[33m\"\u001b[39m)\n\u001b[32m     21\u001b[39m     .agg(pl.col(\u001b[33m\"\u001b[39m\u001b[33mpet_count\u001b[39m\u001b[33m\"\u001b[39m).dp.sum((\u001b[32m0\u001b[39m, \u001b[32m10\u001b[39m), scale=\u001b[32m1.0\u001b[39m))\n\u001b[32m     22\u001b[39m     .sort(\u001b[33m\"\u001b[39m\u001b[33mgrade\u001b[39m\u001b[33m\"\u001b[39m))\n\u001b[32m---> \u001b[39m\u001b[32m24\u001b[39m dp_sum_pets_by_grade = \u001b[43mdp\u001b[49m\u001b[43m.\u001b[49m\u001b[43mm\u001b[49m\u001b[43m.\u001b[49m\u001b[43mmake_private_lazyframe\u001b[49m\u001b[43m(\u001b[49m\n\u001b[32m     25\u001b[39m \u001b[43m    \u001b[49m\u001b[43minput_domain\u001b[49m\u001b[43m=\u001b[49m\u001b[43mlf_domain_with_margin\u001b[49m\u001b[43m,\u001b[49m\n\u001b[32m     26\u001b[39m \u001b[43m    \u001b[49m\u001b[43minput_metric\u001b[49m\u001b[43m=\u001b[49m\u001b[43mdp\u001b[49m\u001b[43m.\u001b[49m\u001b[43msymmetric_distance\u001b[49m\u001b[43m(\u001b[49m\u001b[43m)\u001b[49m\u001b[43m,\u001b[49m\n\u001b[32m     27\u001b[39m \u001b[43m    \u001b[49m\u001b[43moutput_measure\u001b[49m\u001b[43m=\u001b[49m\u001b[43mdp\u001b[49m\u001b[43m.\u001b[49m\u001b[43mmax_divergence\u001b[49m\u001b[43m(\u001b[49m\u001b[43mT\u001b[49m\u001b[43m=\u001b[49m\u001b[38;5;28;43mfloat\u001b[39;49m\u001b[43m)\u001b[49m\u001b[43m,\u001b[49m\n\u001b[32m     28\u001b[39m \u001b[43m    \u001b[49m\u001b[43mlazyframe\u001b[49m\u001b[43m=\u001b[49m\u001b[43mplan\u001b[49m\u001b[43m,\u001b[49m\n\u001b[32m     29\u001b[39m \u001b[43m    \u001b[49m\u001b[43mglobal_scale\u001b[49m\u001b[43m=\u001b[49m\u001b[32;43m1.0\u001b[39;49m\u001b[43m)\u001b[49m\n\u001b[32m     31\u001b[39m df = pl.from_records(\n\u001b[32m     32\u001b[39m     [\n\u001b[32m     33\u001b[39m         [\u001b[32m0\u001b[39m, \u001b[32m0\u001b[39m], \u001b[38;5;66;03m# No kindergarteners with pets.\u001b[39;00m\n\u001b[32m   (...)\u001b[39m\u001b[32m     43\u001b[39m \n\u001b[32m     44\u001b[39m     schema=[\u001b[33m'\u001b[39m\u001b[33mgrade\u001b[39m\u001b[33m'\u001b[39m, \u001b[33m'\u001b[39m\u001b[33mpet_count\u001b[39m\u001b[33m'\u001b[39m])\n\u001b[32m     46\u001b[39m lf = pl.LazyFrame(df)\n",
      "\u001b[36mFile \u001b[39m\u001b[32m/usr/local/lib/python3.12/site-packages/opendp/measurements.py:777\u001b[39m, in \u001b[36mmake_private_lazyframe\u001b[39m\u001b[34m(input_domain, input_metric, output_measure, lazyframe, global_scale)\u001b[39m\n\u001b[32m    774\u001b[39m lib_function.argtypes = [Domain, Metric, Measure, AnyObjectPtr, AnyObjectPtr]\n\u001b[32m    775\u001b[39m lib_function.restype = FfiResult\n\u001b[32m--> \u001b[39m\u001b[32m777\u001b[39m output = c_to_py(\u001b[43munwrap\u001b[49m\u001b[43m(\u001b[49m\u001b[43mlib_function\u001b[49m\u001b[43m(\u001b[49m\u001b[43mc_input_domain\u001b[49m\u001b[43m,\u001b[49m\u001b[43m \u001b[49m\u001b[43mc_input_metric\u001b[49m\u001b[43m,\u001b[49m\u001b[43m \u001b[49m\u001b[43mc_output_measure\u001b[49m\u001b[43m,\u001b[49m\u001b[43m \u001b[49m\u001b[43mc_lazyframe\u001b[49m\u001b[43m,\u001b[49m\u001b[43m \u001b[49m\u001b[43mc_global_scale\u001b[49m\u001b[43m)\u001b[49m\u001b[43m,\u001b[49m\u001b[43m \u001b[49m\u001b[43mMeasurement\u001b[49m\u001b[43m)\u001b[49m)\n\u001b[32m    779\u001b[39m \u001b[38;5;28;01mreturn\u001b[39;00m output\n",
      "\u001b[36mFile \u001b[39m\u001b[32m/usr/local/lib/python3.12/site-packages/opendp/_lib.py:249\u001b[39m, in \u001b[36munwrap\u001b[39m\u001b[34m(result, type_)\u001b[39m\n\u001b[32m    246\u001b[39m     \u001b[38;5;28;01mraise\u001b[39;00m OpenDPException(\u001b[33m\"\u001b[39m\u001b[33mFailed to free error.\u001b[39m\u001b[33m\"\u001b[39m)\n\u001b[32m    248\u001b[39m \u001b[38;5;66;03m# Rust stack traces follow from here:\u001b[39;00m\n\u001b[32m--> \u001b[39m\u001b[32m249\u001b[39m \u001b[38;5;28;01mraise\u001b[39;00m OpenDPException(variant, message, backtrace)\n",
      "\u001b[31mOpenDPException\u001b[39m: \n  MakeTransformation(\"keys must be public information\")"
     ]
    }
   ],
   "source": [
    "import urllib.request\n",
    "import polars as pl\n",
    "import opendp.prelude as dp\n",
    "\n",
    "dp.enable_features(\"contrib\")\n",
    "\n",
    "lf_domain = dp.lazyframe_domain([\n",
    "    dp.series_domain(\"grade\", dp.atom_domain(T=int)),\n",
    "    dp.series_domain(\"pet_count\", dp.atom_domain(T=int))])\n",
    "\n",
    "lf_domain_with_margin = dp.with_margin(\n",
    "    lf_domain,\n",
    "    by=[\"grade\"],\n",
    "    public_info=\"keys\",\n",
    "    max_partition_length=50)\n",
    "\n",
    "plan = (\n",
    "    pl.LazyFrame(schema={'grade': pl.Int32, 'pet_count': pl.Int32})\n",
    "    .group_by(\"grade\")\n",
    "    .agg(pl.col(\"pet_count\").dp.sum((0, 10), scale=1.0))\n",
    "    .sort(\"grade\"))\n",
    "\n",
    "dp_sum_pets_by_grade = dp.m.make_private_lazyframe(\n",
    "    input_domain=lf_domain_with_margin,\n",
    "    input_metric=dp.symmetric_distance(),\n",
    "    output_measure=dp.max_divergence(T=float),\n",
    "    lazyframe=plan,\n",
    "    global_scale=1.0)\n",
    "\n",
    "df = pl.from_records(\n",
    "    [\n",
    "        [0, 0], # No kindergarteners with pets.\n",
    "        [0, 0],\n",
    "        [0, 0],\n",
    "        [1, 1], # Each first grader has 1 pet.\n",
    "        [1, 1],\n",
    "        [1, 1],\n",
    "        [2, 1], # One second grader has chickens!\n",
    "        [2, 1],\n",
    "        [2, 9]\n",
    "    ],\n",
    "\n",
    "    schema=['grade', 'pet_count'])\n",
    "\n",
    "lf = pl.LazyFrame(df)\n",
    "\n",
    "results = dp_sum_pets_by_grade(lf).collect()\n",
    "\n",
    "print(results) "
   ]
  },
  {
   "cell_type": "code",
   "execution_count": null,
   "id": "bc6e1f12",
   "metadata": {},
   "outputs": [],
   "source": [
    "%pip install 'opendp[polars]'"
   ]
  },
  {
   "cell_type": "code",
   "execution_count": null,
   "id": "65a7dce7",
   "metadata": {},
   "outputs": [
    {
     "name": "stdout",
     "output_type": "stream",
     "text": [
      "shape: (3, 2)\n",
      "┌───────┬───────────┐\n",
      "│ grade ┆ pet_count │\n",
      "│ ---   ┆ ---       │\n",
      "│ i64   ┆ i64       │\n",
      "╞═══════╪═══════════╡\n",
      "│ 0     ┆ 1         │\n",
      "│ 1     ┆ 2         │\n",
      "│ 2     ┆ 11        │\n",
      "└───────┴───────────┘\n"
     ]
    }
   ],
   "source": [
    "import urllib.request\n",
    "import polars as pl\n",
    "import opendp.prelude as dp\n",
    "\n",
    "dp.enable_features(\"contrib\")\n",
    "\n",
    "lf_domain = dp.lazyframe_domain([\n",
    "    dp.series_domain(\"grade\", dp.atom_domain(T=int)),\n",
    "    dp.series_domain(\"pet_count\", dp.atom_domain(T=int))])\n",
    "\n",
    "lf_domain_with_margin = dp.with_margin(\n",
    "    lf_domain,\n",
    "    by=[\"grade\"],\n",
    "    public_info=\"keys\",\n",
    "    max_partition_length=50)\n",
    "\n",
    "plan = (\n",
    "    pl.LazyFrame(schema={'grade': pl.Int32, 'pet_count': pl.Int32})\n",
    "    .group_by(\"grade\")\n",
    "    .agg(pl.col(\"pet_count\").dp.sum((0, 10), scale=1.0))\n",
    "    .sort(\"grade\"))\n",
    "\n",
    "dp_sum_pets_by_grade = dp.m.make_private_lazyframe(\n",
    "    input_domain=lf_domain_with_margin,\n",
    "    input_metric=dp.symmetric_distance(),\n",
    "    output_measure=dp.max_divergence(T=float),\n",
    "    lazyframe=plan,\n",
    "    global_scale=1.0)\n",
    "\n",
    "df = pl.from_records(\n",
    "    [\n",
    "        [0, 0], # No kindergarteners with pets.\n",
    "        [0, 0],\n",
    "        [0, 0],\n",
    "        [1, 1], # Each first grader has 1 pet.\n",
    "        [1, 1],\n",
    "        [1, 1],\n",
    "        [2, 1], # One second grader has chickens!\n",
    "        [2, 1],\n",
    "        [2, 9]\n",
    "    ],\n",
    "\n",
    "    schema=['grade', 'pet_count'])\n",
    "\n",
    "lf = pl.LazyFrame(df)\n",
    "\n",
    "results = dp_sum_pets_by_grade(lf).collect()\n",
    "\n",
    "print(results) "
   ]
  },
  {
   "cell_type": "code",
   "execution_count": null,
   "id": "d49ad5a7",
   "metadata": {},
   "outputs": [
    {
     "name": "stderr",
     "output_type": "stream",
     "text": [
      "epsilon should be less than or equal to 5, and is typically less than or equal to 1\n"
     ]
    },
    {
     "data": {
      "text/html": [
       "<div><style>\n",
       ".dataframe > thead > tr,\n",
       ".dataframe > tbody > tr {\n",
       "  text-align: right;\n",
       "  white-space: pre-wrap;\n",
       "}\n",
       "</style>\n",
       "<small>shape: (1, 6)</small><table border=\"1\" class=\"dataframe\"><thead><tr><th>len</th><th>0.25-Quantile</th><th>0.5-Quantile</th><th>0.75-Quantile</th><th>somme</th><th>mean</th></tr><tr><td>u32</td><td>i64</td><td>i64</td><td>i64</td><td>i64</td><td>f64</td></tr></thead><tbody><tr><td>98</td><td>30</td><td>50</td><td>70</td><td>4950</td><td>50.510204</td></tr></tbody></table></div>"
      ],
      "text/plain": [
       "shape: (1, 6)\n",
       "┌─────┬───────────────┬──────────────┬───────────────┬───────┬───────────┐\n",
       "│ len ┆ 0.25-Quantile ┆ 0.5-Quantile ┆ 0.75-Quantile ┆ somme ┆ mean      │\n",
       "│ --- ┆ ---           ┆ ---          ┆ ---           ┆ ---   ┆ ---       │\n",
       "│ u32 ┆ i64           ┆ i64          ┆ i64           ┆ i64   ┆ f64       │\n",
       "╞═════╪═══════════════╪══════════════╪═══════════════╪═══════╪═══════════╡\n",
       "│ 98  ┆ 30            ┆ 50           ┆ 70            ┆ 4950  ┆ 50.510204 │\n",
       "└─────┴───────────────┴──────────────┴───────────────┴───────┴───────────┘"
      ]
     },
     "execution_count": 127,
     "metadata": {},
     "output_type": "execute_result"
    }
   ],
   "source": [
    "import urllib.request\n",
    "import polars as pl\n",
    "import opendp.prelude as dp\n",
    "\n",
    "dp.enable_features(\"contrib\")\n",
    "\n",
    "context = dp.Context.compositor(\n",
    "    data=pl.LazyFrame({\"age\": list(range(100))}),\n",
    "    privacy_unit=dp.unit_of(contributions=1),\n",
    "    privacy_loss=dp.loss_of(epsilon=100.),\n",
    "    split_evenly_over=3,\n",
    "    margins={(): dp.Margin(max_partition_length=100),\n",
    "    (\"age\"): dp.Margin(max_partition_length=100)}\n",
    ")\n",
    "\n",
    "candidates = [0, 10, 20, 30, 40, 50, 60, 70, 80, 90]\n",
    "\n",
    "query = context.query().select(\n",
    "    pl.len().dp.laplace(),\n",
    "    *[pl.col(\"age\").fill_null(0).dp.quantile(a, candidates).alias(f\"{a}-Quantile\") for a in [0.25, 0.5, 0.75]],\n",
    "    pl.col.age.fill_null(35).dp.sum(bounds=(0, 100)).alias(\"somme\")\n",
    ")\n",
    "\n",
    "query.release().collect()\n",
    "query.release().collect().with_columns(mean=pl.col.somme / pl.col.len)\n",
    "#query = context.query().select(pl.col(\"age\").fill_null(0).dp.mean((0, 100)))"
   ]
  }
 ],
 "metadata": {
  "kernelspec": {
   "display_name": "Python 3",
   "language": "python",
   "name": "python3"
  },
  "language_info": {
   "codemirror_mode": {
    "name": "ipython",
    "version": 3
   },
   "file_extension": ".py",
   "mimetype": "text/x-python",
   "name": "python",
   "nbconvert_exporter": "python",
   "pygments_lexer": "ipython3",
   "version": "3.12.9"
  }
 },
 "nbformat": 4,
 "nbformat_minor": 5
}
